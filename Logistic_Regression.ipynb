{
  "nbformat": 4,
  "nbformat_minor": 0,
  "metadata": {
    "colab": {
      "name": "Logistic_Regression.ipynb",
      "provenance": [],
      "include_colab_link": true
    },
    "kernelspec": {
      "name": "python3",
      "display_name": "Python 3"
    }
  },
  "cells": [
    {
      "cell_type": "markdown",
      "metadata": {
        "id": "view-in-github",
        "colab_type": "text"
      },
      "source": [
        "<a href=\"https://colab.research.google.com/github/VeerVikramSingh/ML/blob/master/Logistic_Regression.ipynb\" target=\"_parent\"><img src=\"https://colab.research.google.com/assets/colab-badge.svg\" alt=\"Open In Colab\"/></a>"
      ]
    },
    {
      "cell_type": "markdown",
      "metadata": {
        "id": "Mvxoeddi0sQk",
        "colab_type": "text"
      },
      "source": [
        "1. Problem Statement"
      ]
    },
    {
      "cell_type": "markdown",
      "metadata": {
        "id": "0KPPaLxQ08zT",
        "colab_type": "text"
      },
      "source": [
        "The goal is to predict survival of passengers travelling in RMS Titanic using Logistic regression"
      ]
    },
    {
      "cell_type": "markdown",
      "metadata": {
        "id": "lQqC8mOB1H1E",
        "colab_type": "text"
      },
      "source": [
        "The dataset consists of the information about people boarding the famous RMS Titanic. Various variables present in the dataset includes data of age, sex, fare, ticket etc.\n",
        "The dataset comprises of 891 observations of 12 columns. Below is a table showing names of all the columns and their description."
      ]
    },
    {
      "cell_type": "markdown",
      "metadata": {
        "id": "6cMxPVij1u1z",
        "colab_type": "text"
      },
      "source": [
        "![image.png](data:image/png;base64,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)"
      ]
    },
    {
      "cell_type": "markdown",
      "metadata": {
        "id": "wnnoU5aM1_Cl",
        "colab_type": "text"
      },
      "source": [
        "Importing Packages:"
      ]
    },
    {
      "cell_type": "code",
      "metadata": {
        "id": "9gOBjP6G1JXD",
        "colab_type": "code",
        "colab": {}
      },
      "source": [
        "import numpy as np\n",
        "import pandas as pd\n",
        "import matplotlib.pyplot as plt\n",
        "%matplotlib inline\n",
        "import seaborn as sns\n",
        "sns.set()\n",
        "\n",
        "from subprocess import check_output"
      ],
      "execution_count": 0,
      "outputs": []
    },
    {
      "cell_type": "markdown",
      "metadata": {
        "id": "FSjLu9hr2sgA",
        "colab_type": "text"
      },
      "source": [
        "EDA\n",
        "distributon analysis\n",
        "multi-variable analysis\n",
        "correlation analysis\n",
        "Pre-Model\n",
        "## Feature selection \n",
        "## feature engineering \n",
        "## feature scaling \n",
        "## Featuer balancing \n",
        "## etc. "
      ]
    },
    {
      "cell_type": "markdown",
      "metadata": {
        "id": "XVAUedzx28Mc",
        "colab_type": "text"
      },
      "source": [
        "Post-Model\n",
        "\n",
        "Modle inference\n",
        "\n",
        "model selection\n",
        "\n",
        "model interepretation"
      ]
    },
    {
      "cell_type": "code",
      "metadata": {
        "id": "38KGMoEw2id0",
        "colab_type": "code",
        "colab": {
          "base_uri": "https://localhost:8080/",
          "height": 204
        },
        "outputId": "0d5d532a-76c7-4bf0-f6f8-8cec805bd169"
      },
      "source": [
        "titanic_data=pd.read_csv(\"https://raw.githubusercontent.com/insaid2018/Term-1/master/Data/Casestudy/titanic_train.csv\")\n",
        "titanic_data.head()"
      ],
      "execution_count": 2,
      "outputs": [
        {
          "output_type": "execute_result",
          "data": {
            "text/html": [
              "<div>\n",
              "<style scoped>\n",
              "    .dataframe tbody tr th:only-of-type {\n",
              "        vertical-align: middle;\n",
              "    }\n",
              "\n",
              "    .dataframe tbody tr th {\n",
              "        vertical-align: top;\n",
              "    }\n",
              "\n",
              "    .dataframe thead th {\n",
              "        text-align: right;\n",
              "    }\n",
              "</style>\n",
              "<table border=\"1\" class=\"dataframe\">\n",
              "  <thead>\n",
              "    <tr style=\"text-align: right;\">\n",
              "      <th></th>\n",
              "      <th>PassengerId</th>\n",
              "      <th>Survived</th>\n",
              "      <th>Pclass</th>\n",
              "      <th>Name</th>\n",
              "      <th>Sex</th>\n",
              "      <th>Age</th>\n",
              "      <th>SibSp</th>\n",
              "      <th>Parch</th>\n",
              "      <th>Ticket</th>\n",
              "      <th>Fare</th>\n",
              "      <th>Cabin</th>\n",
              "      <th>Embarked</th>\n",
              "    </tr>\n",
              "  </thead>\n",
              "  <tbody>\n",
              "    <tr>\n",
              "      <th>0</th>\n",
              "      <td>1</td>\n",
              "      <td>0</td>\n",
              "      <td>3</td>\n",
              "      <td>Braund, Mr. Owen Harris</td>\n",
              "      <td>male</td>\n",
              "      <td>22.0</td>\n",
              "      <td>1</td>\n",
              "      <td>0</td>\n",
              "      <td>A/5 21171</td>\n",
              "      <td>7.2500</td>\n",
              "      <td>NaN</td>\n",
              "      <td>S</td>\n",
              "    </tr>\n",
              "    <tr>\n",
              "      <th>1</th>\n",
              "      <td>2</td>\n",
              "      <td>1</td>\n",
              "      <td>1</td>\n",
              "      <td>Cumings, Mrs. John Bradley (Florence Briggs Th...</td>\n",
              "      <td>female</td>\n",
              "      <td>38.0</td>\n",
              "      <td>1</td>\n",
              "      <td>0</td>\n",
              "      <td>PC 17599</td>\n",
              "      <td>71.2833</td>\n",
              "      <td>C85</td>\n",
              "      <td>C</td>\n",
              "    </tr>\n",
              "    <tr>\n",
              "      <th>2</th>\n",
              "      <td>3</td>\n",
              "      <td>1</td>\n",
              "      <td>3</td>\n",
              "      <td>Heikkinen, Miss. Laina</td>\n",
              "      <td>female</td>\n",
              "      <td>26.0</td>\n",
              "      <td>0</td>\n",
              "      <td>0</td>\n",
              "      <td>STON/O2. 3101282</td>\n",
              "      <td>7.9250</td>\n",
              "      <td>NaN</td>\n",
              "      <td>S</td>\n",
              "    </tr>\n",
              "    <tr>\n",
              "      <th>3</th>\n",
              "      <td>4</td>\n",
              "      <td>1</td>\n",
              "      <td>1</td>\n",
              "      <td>Futrelle, Mrs. Jacques Heath (Lily May Peel)</td>\n",
              "      <td>female</td>\n",
              "      <td>35.0</td>\n",
              "      <td>1</td>\n",
              "      <td>0</td>\n",
              "      <td>113803</td>\n",
              "      <td>53.1000</td>\n",
              "      <td>C123</td>\n",
              "      <td>S</td>\n",
              "    </tr>\n",
              "    <tr>\n",
              "      <th>4</th>\n",
              "      <td>5</td>\n",
              "      <td>0</td>\n",
              "      <td>3</td>\n",
              "      <td>Allen, Mr. William Henry</td>\n",
              "      <td>male</td>\n",
              "      <td>35.0</td>\n",
              "      <td>0</td>\n",
              "      <td>0</td>\n",
              "      <td>373450</td>\n",
              "      <td>8.0500</td>\n",
              "      <td>NaN</td>\n",
              "      <td>S</td>\n",
              "    </tr>\n",
              "  </tbody>\n",
              "</table>\n",
              "</div>"
            ],
            "text/plain": [
              "   PassengerId  Survived  Pclass  ...     Fare Cabin  Embarked\n",
              "0            1         0       3  ...   7.2500   NaN         S\n",
              "1            2         1       1  ...  71.2833   C85         C\n",
              "2            3         1       3  ...   7.9250   NaN         S\n",
              "3            4         1       1  ...  53.1000  C123         S\n",
              "4            5         0       3  ...   8.0500   NaN         S\n",
              "\n",
              "[5 rows x 12 columns]"
            ]
          },
          "metadata": {
            "tags": []
          },
          "execution_count": 2
        }
      ]
    },
    {
      "cell_type": "markdown",
      "metadata": {
        "id": "VrNmMo8c3t97",
        "colab_type": "text"
      },
      "source": [
        "Preprocessing the Data:"
      ]
    },
    {
      "cell_type": "markdown",
      "metadata": {
        "id": "gxYCvzqj3yUQ",
        "colab_type": "text"
      },
      "source": [
        "Dealing with missing values\n",
        "\n",
        "Dropping/Replacing missing entries of Embarked.\n",
        "\n",
        "Replacing missing values of Age and Fare with median values.\n",
        "\n",
        "Dropping the column 'Cabin' as it has too many null values."
      ]
    },
    {
      "cell_type": "markdown",
      "metadata": {
        "id": "BvE4oLRc4Aev",
        "colab_type": "text"
      },
      "source": [
        "int64 -> Could be a Numerical Discreate or continus\n",
        "\n",
        "Float -> Numerical Cont\n",
        "\n",
        "Object -> Category\n",
        "\n",
        "The goal is to always have single data_type"
      ]
    },
    {
      "cell_type": "code",
      "metadata": {
        "id": "lYfG20R53mXI",
        "colab_type": "code",
        "colab": {
          "base_uri": "https://localhost:8080/",
          "height": 306
        },
        "outputId": "42ee76a1-e418-46a8-d207-e96fb595484b"
      },
      "source": [
        "titanic_data.info()"
      ],
      "execution_count": 3,
      "outputs": [
        {
          "output_type": "stream",
          "text": [
            "<class 'pandas.core.frame.DataFrame'>\n",
            "RangeIndex: 891 entries, 0 to 890\n",
            "Data columns (total 12 columns):\n",
            "PassengerId    891 non-null int64\n",
            "Survived       891 non-null int64\n",
            "Pclass         891 non-null int64\n",
            "Name           891 non-null object\n",
            "Sex            891 non-null object\n",
            "Age            714 non-null float64\n",
            "SibSp          891 non-null int64\n",
            "Parch          891 non-null int64\n",
            "Ticket         891 non-null object\n",
            "Fare           891 non-null float64\n",
            "Cabin          204 non-null object\n",
            "Embarked       889 non-null object\n",
            "dtypes: float64(2), int64(5), object(5)\n",
            "memory usage: 83.7+ KB\n"
          ],
          "name": "stdout"
        }
      ]
    },
    {
      "cell_type": "markdown",
      "metadata": {
        "id": "9fdT4eV848-X",
        "colab_type": "text"
      },
      "source": [
        "Missing Values problem:"
      ]
    },
    {
      "cell_type": "markdown",
      "metadata": {
        "id": "iIaKD30t5Asm",
        "colab_type": "text"
      },
      "source": [
        "- Drop Cabin (Drop if you have more than 40-60% Null/empty Vallues) \n",
        "-- Impute Age (Numerical Value, Discrete/Numerical) \n",
        "    -- Statistical Measure ; Mean or Median [We normalize the rows] \n",
        "        - Global Statistical View \n",
        "    -- Give empty values -0, -99, ; some nuemrical value not in data range [0.2 - 90], give all missing 200; [This will make your model treat these records differently.]  \n",
        "    -- Model Driven Prediction for Missing Value\n",
        "        - Local Statitical View \n",
        "          -- Linear Regresion \n",
        "          -- KNN\n",
        "          -- Tree Based MEthods\n",
        "    -- Local Median/Mean \n",
        "          - Based on Selected Columns \n",
        "          - Challange is- how many columns to select?\n",
        "          - So, better is to run model and get prediction \n",
        "-- Impute Embarked (Categorical Non Ordinal /Ordinal ) \n",
        "    -- Statistical Measure; Mode ; High Frequent - Global \n",
        "    -- Give emopty values a new category -> \"NA Cat\",\"No Cat\"\n",
        "    -- Model Way ; Run Classification Model to predict empty category \n",
        "    -- Local Mode; Select columns to get most frequent"
      ]
    },
    {
      "cell_type": "code",
      "metadata": {
        "id": "hMibqckR6nZO",
        "colab_type": "code",
        "colab": {
          "base_uri": "https://localhost:8080/",
          "height": 51
        },
        "outputId": "2a348c6c-d21d-4e16-a1f2-50d259644e39"
      },
      "source": [
        "titanic_data[\"Embarked\"].mode()"
      ],
      "execution_count": 4,
      "outputs": [
        {
          "output_type": "execute_result",
          "data": {
            "text/plain": [
              "0    S\n",
              "dtype: object"
            ]
          },
          "metadata": {
            "tags": []
          },
          "execution_count": 4
        }
      ]
    },
    {
      "cell_type": "code",
      "metadata": {
        "id": "C5g1gMeN6xsd",
        "colab_type": "code",
        "colab": {
          "base_uri": "https://localhost:8080/",
          "height": 34
        },
        "outputId": "483e7c4d-479b-41b4-a1a2-d38c0618993f"
      },
      "source": [
        "titanic_data[\"Embarked\"].mode()[0]"
      ],
      "execution_count": 5,
      "outputs": [
        {
          "output_type": "execute_result",
          "data": {
            "text/plain": [
              "'S'"
            ]
          },
          "metadata": {
            "tags": []
          },
          "execution_count": 5
        }
      ]
    },
    {
      "cell_type": "code",
      "metadata": {
        "id": "PvI2jeSn4Or1",
        "colab_type": "code",
        "colab": {}
      },
      "source": [
        "titanic_data[\"Embarked\"]=titanic_data[\"Embarked\"].mode()[0]"
      ],
      "execution_count": 0,
      "outputs": []
    },
    {
      "cell_type": "code",
      "metadata": {
        "id": "SbJl0xZ0667W",
        "colab_type": "code",
        "colab": {}
      },
      "source": [
        "titanic_data[\"Age\"].fillna(titanic_data[\"Age\"].median(),inplace=True)"
      ],
      "execution_count": 0,
      "outputs": []
    },
    {
      "cell_type": "code",
      "metadata": {
        "id": "w6gi18oU7clF",
        "colab_type": "code",
        "colab": {}
      },
      "source": [
        "titanic_data.drop(\"Cabin\",axis=1,inplace=True)"
      ],
      "execution_count": 0,
      "outputs": []
    },
    {
      "cell_type": "code",
      "metadata": {
        "id": "ZUEmi_gJ8Z1u",
        "colab_type": "code",
        "colab": {
          "base_uri": "https://localhost:8080/",
          "height": 289
        },
        "outputId": "5ab6c7c4-2645-48a2-8712-613d50814119"
      },
      "source": [
        "titanic_data.info()"
      ],
      "execution_count": 9,
      "outputs": [
        {
          "output_type": "stream",
          "text": [
            "<class 'pandas.core.frame.DataFrame'>\n",
            "RangeIndex: 891 entries, 0 to 890\n",
            "Data columns (total 11 columns):\n",
            "PassengerId    891 non-null int64\n",
            "Survived       891 non-null int64\n",
            "Pclass         891 non-null int64\n",
            "Name           891 non-null object\n",
            "Sex            891 non-null object\n",
            "Age            891 non-null float64\n",
            "SibSp          891 non-null int64\n",
            "Parch          891 non-null int64\n",
            "Ticket         891 non-null object\n",
            "Fare           891 non-null float64\n",
            "Embarked       891 non-null object\n",
            "dtypes: float64(2), int64(5), object(4)\n",
            "memory usage: 76.7+ KB\n"
          ],
          "name": "stdout"
        }
      ]
    },
    {
      "cell_type": "code",
      "metadata": {
        "id": "cbIYI0br8b2M",
        "colab_type": "code",
        "colab": {
          "base_uri": "https://localhost:8080/",
          "height": 119
        },
        "outputId": "fc988083-26ad-4b85-bbc7-53663332cc7a"
      },
      "source": [
        "titanic_data[\"Embarked\"].tail()"
      ],
      "execution_count": 10,
      "outputs": [
        {
          "output_type": "execute_result",
          "data": {
            "text/plain": [
              "886    S\n",
              "887    S\n",
              "888    S\n",
              "889    S\n",
              "890    S\n",
              "Name: Embarked, dtype: object"
            ]
          },
          "metadata": {
            "tags": []
          },
          "execution_count": 10
        }
      ]
    },
    {
      "cell_type": "code",
      "metadata": {
        "id": "jZlKIr9e8z8L",
        "colab_type": "code",
        "colab": {
          "base_uri": "https://localhost:8080/",
          "height": 204
        },
        "outputId": "d7264d59-b776-4f28-fec7-80378040f62d"
      },
      "source": [
        "titanic_data=pd.read_csv(\"https://raw.githubusercontent.com/insaid2018/Term-1/master/Data/Casestudy/titanic_train.csv\")\n",
        "titanic_data.head()"
      ],
      "execution_count": 11,
      "outputs": [
        {
          "output_type": "execute_result",
          "data": {
            "text/html": [
              "<div>\n",
              "<style scoped>\n",
              "    .dataframe tbody tr th:only-of-type {\n",
              "        vertical-align: middle;\n",
              "    }\n",
              "\n",
              "    .dataframe tbody tr th {\n",
              "        vertical-align: top;\n",
              "    }\n",
              "\n",
              "    .dataframe thead th {\n",
              "        text-align: right;\n",
              "    }\n",
              "</style>\n",
              "<table border=\"1\" class=\"dataframe\">\n",
              "  <thead>\n",
              "    <tr style=\"text-align: right;\">\n",
              "      <th></th>\n",
              "      <th>PassengerId</th>\n",
              "      <th>Survived</th>\n",
              "      <th>Pclass</th>\n",
              "      <th>Name</th>\n",
              "      <th>Sex</th>\n",
              "      <th>Age</th>\n",
              "      <th>SibSp</th>\n",
              "      <th>Parch</th>\n",
              "      <th>Ticket</th>\n",
              "      <th>Fare</th>\n",
              "      <th>Cabin</th>\n",
              "      <th>Embarked</th>\n",
              "    </tr>\n",
              "  </thead>\n",
              "  <tbody>\n",
              "    <tr>\n",
              "      <th>0</th>\n",
              "      <td>1</td>\n",
              "      <td>0</td>\n",
              "      <td>3</td>\n",
              "      <td>Braund, Mr. Owen Harris</td>\n",
              "      <td>male</td>\n",
              "      <td>22.0</td>\n",
              "      <td>1</td>\n",
              "      <td>0</td>\n",
              "      <td>A/5 21171</td>\n",
              "      <td>7.2500</td>\n",
              "      <td>NaN</td>\n",
              "      <td>S</td>\n",
              "    </tr>\n",
              "    <tr>\n",
              "      <th>1</th>\n",
              "      <td>2</td>\n",
              "      <td>1</td>\n",
              "      <td>1</td>\n",
              "      <td>Cumings, Mrs. John Bradley (Florence Briggs Th...</td>\n",
              "      <td>female</td>\n",
              "      <td>38.0</td>\n",
              "      <td>1</td>\n",
              "      <td>0</td>\n",
              "      <td>PC 17599</td>\n",
              "      <td>71.2833</td>\n",
              "      <td>C85</td>\n",
              "      <td>C</td>\n",
              "    </tr>\n",
              "    <tr>\n",
              "      <th>2</th>\n",
              "      <td>3</td>\n",
              "      <td>1</td>\n",
              "      <td>3</td>\n",
              "      <td>Heikkinen, Miss. Laina</td>\n",
              "      <td>female</td>\n",
              "      <td>26.0</td>\n",
              "      <td>0</td>\n",
              "      <td>0</td>\n",
              "      <td>STON/O2. 3101282</td>\n",
              "      <td>7.9250</td>\n",
              "      <td>NaN</td>\n",
              "      <td>S</td>\n",
              "    </tr>\n",
              "    <tr>\n",
              "      <th>3</th>\n",
              "      <td>4</td>\n",
              "      <td>1</td>\n",
              "      <td>1</td>\n",
              "      <td>Futrelle, Mrs. Jacques Heath (Lily May Peel)</td>\n",
              "      <td>female</td>\n",
              "      <td>35.0</td>\n",
              "      <td>1</td>\n",
              "      <td>0</td>\n",
              "      <td>113803</td>\n",
              "      <td>53.1000</td>\n",
              "      <td>C123</td>\n",
              "      <td>S</td>\n",
              "    </tr>\n",
              "    <tr>\n",
              "      <th>4</th>\n",
              "      <td>5</td>\n",
              "      <td>0</td>\n",
              "      <td>3</td>\n",
              "      <td>Allen, Mr. William Henry</td>\n",
              "      <td>male</td>\n",
              "      <td>35.0</td>\n",
              "      <td>0</td>\n",
              "      <td>0</td>\n",
              "      <td>373450</td>\n",
              "      <td>8.0500</td>\n",
              "      <td>NaN</td>\n",
              "      <td>S</td>\n",
              "    </tr>\n",
              "  </tbody>\n",
              "</table>\n",
              "</div>"
            ],
            "text/plain": [
              "   PassengerId  Survived  Pclass  ...     Fare Cabin  Embarked\n",
              "0            1         0       3  ...   7.2500   NaN         S\n",
              "1            2         1       1  ...  71.2833   C85         C\n",
              "2            3         1       3  ...   7.9250   NaN         S\n",
              "3            4         1       1  ...  53.1000  C123         S\n",
              "4            5         0       3  ...   8.0500   NaN         S\n",
              "\n",
              "[5 rows x 12 columns]"
            ]
          },
          "metadata": {
            "tags": []
          },
          "execution_count": 11
        }
      ]
    },
    {
      "cell_type": "code",
      "metadata": {
        "id": "FC594bBb9Bg6",
        "colab_type": "code",
        "colab": {
          "base_uri": "https://localhost:8080/",
          "height": 306
        },
        "outputId": "fe47bfe6-2038-4960-ebb2-7646893d2faf"
      },
      "source": [
        "titanic_data.info()"
      ],
      "execution_count": 12,
      "outputs": [
        {
          "output_type": "stream",
          "text": [
            "<class 'pandas.core.frame.DataFrame'>\n",
            "RangeIndex: 891 entries, 0 to 890\n",
            "Data columns (total 12 columns):\n",
            "PassengerId    891 non-null int64\n",
            "Survived       891 non-null int64\n",
            "Pclass         891 non-null int64\n",
            "Name           891 non-null object\n",
            "Sex            891 non-null object\n",
            "Age            714 non-null float64\n",
            "SibSp          891 non-null int64\n",
            "Parch          891 non-null int64\n",
            "Ticket         891 non-null object\n",
            "Fare           891 non-null float64\n",
            "Cabin          204 non-null object\n",
            "Embarked       889 non-null object\n",
            "dtypes: float64(2), int64(5), object(5)\n",
            "memory usage: 83.7+ KB\n"
          ],
          "name": "stdout"
        }
      ]
    },
    {
      "cell_type": "code",
      "metadata": {
        "id": "j_dRN2Iu9En3",
        "colab_type": "code",
        "colab": {}
      },
      "source": [
        "titanic_data[\"Embarked\"]=titanic_data[\"Embarked\"].fillna(titanic_data[\"Embarked\"].mode()[0])\n",
        "titanic_data[\"Age\"].fillna(titanic_data[\"Age\"].median(),inplace=True)\n",
        "titanic_data.drop(\"Cabin\",axis=1,inplace=True)\n"
      ],
      "execution_count": 0,
      "outputs": []
    },
    {
      "cell_type": "code",
      "metadata": {
        "id": "RKYyqM679lQd",
        "colab_type": "code",
        "colab": {
          "base_uri": "https://localhost:8080/",
          "height": 289
        },
        "outputId": "442ca6df-49ed-49c2-d706-93071b085666"
      },
      "source": [
        "titanic_data.info()"
      ],
      "execution_count": 14,
      "outputs": [
        {
          "output_type": "stream",
          "text": [
            "<class 'pandas.core.frame.DataFrame'>\n",
            "RangeIndex: 891 entries, 0 to 890\n",
            "Data columns (total 11 columns):\n",
            "PassengerId    891 non-null int64\n",
            "Survived       891 non-null int64\n",
            "Pclass         891 non-null int64\n",
            "Name           891 non-null object\n",
            "Sex            891 non-null object\n",
            "Age            891 non-null float64\n",
            "SibSp          891 non-null int64\n",
            "Parch          891 non-null int64\n",
            "Ticket         891 non-null object\n",
            "Fare           891 non-null float64\n",
            "Embarked       891 non-null object\n",
            "dtypes: float64(2), int64(5), object(4)\n",
            "memory usage: 76.7+ KB\n"
          ],
          "name": "stdout"
        }
      ]
    },
    {
      "cell_type": "markdown",
      "metadata": {
        "id": "YRlMTAl7-Jd1",
        "colab_type": "text"
      },
      "source": [
        "Feature Engineering Part:"
      ]
    },
    {
      "cell_type": "code",
      "metadata": {
        "id": "fxhIAqH09nps",
        "colab_type": "code",
        "colab": {}
      },
      "source": [
        "titanic_data[\"Family_Size\"]=titanic_data[\"SibSp\"]+titanic_data[\"Parch\"]+1\n",
        "titanic_data[\"Accompany\"]=titanic_data[\"SibSp\"]+titanic_data[\"Parch\"]"
      ],
      "execution_count": 0,
      "outputs": []
    },
    {
      "cell_type": "code",
      "metadata": {
        "id": "yXANU6Xv_gNv",
        "colab_type": "code",
        "colab": {}
      },
      "source": [
        "titanic_data[\"Gender_Class\"]=titanic_data.apply(lambda x:\"Child\" if x[\"Age\"]<15 else x[\"Sex\"],axis=1)"
      ],
      "execution_count": 0,
      "outputs": []
    },
    {
      "cell_type": "code",
      "metadata": {
        "id": "6q90mDmbAmIT",
        "colab_type": "code",
        "colab": {
          "base_uri": "https://localhost:8080/",
          "height": 221
        },
        "outputId": "7e1336b7-0cca-4f09-f512-bbfc38889a96"
      },
      "source": [
        "titanic_data[titanic_data[\"Age\"]<5].head()"
      ],
      "execution_count": 18,
      "outputs": [
        {
          "output_type": "execute_result",
          "data": {
            "text/html": [
              "<div>\n",
              "<style scoped>\n",
              "    .dataframe tbody tr th:only-of-type {\n",
              "        vertical-align: middle;\n",
              "    }\n",
              "\n",
              "    .dataframe tbody tr th {\n",
              "        vertical-align: top;\n",
              "    }\n",
              "\n",
              "    .dataframe thead th {\n",
              "        text-align: right;\n",
              "    }\n",
              "</style>\n",
              "<table border=\"1\" class=\"dataframe\">\n",
              "  <thead>\n",
              "    <tr style=\"text-align: right;\">\n",
              "      <th></th>\n",
              "      <th>PassengerId</th>\n",
              "      <th>Survived</th>\n",
              "      <th>Pclass</th>\n",
              "      <th>Name</th>\n",
              "      <th>Sex</th>\n",
              "      <th>Age</th>\n",
              "      <th>SibSp</th>\n",
              "      <th>Parch</th>\n",
              "      <th>Ticket</th>\n",
              "      <th>Fare</th>\n",
              "      <th>Embarked</th>\n",
              "      <th>Family_Size</th>\n",
              "      <th>Accompany</th>\n",
              "      <th>Gender_Class</th>\n",
              "    </tr>\n",
              "  </thead>\n",
              "  <tbody>\n",
              "    <tr>\n",
              "      <th>7</th>\n",
              "      <td>8</td>\n",
              "      <td>0</td>\n",
              "      <td>3</td>\n",
              "      <td>Palsson, Master. Gosta Leonard</td>\n",
              "      <td>male</td>\n",
              "      <td>2.0</td>\n",
              "      <td>3</td>\n",
              "      <td>1</td>\n",
              "      <td>349909</td>\n",
              "      <td>21.0750</td>\n",
              "      <td>S</td>\n",
              "      <td>5</td>\n",
              "      <td>4</td>\n",
              "      <td>Child</td>\n",
              "    </tr>\n",
              "    <tr>\n",
              "      <th>10</th>\n",
              "      <td>11</td>\n",
              "      <td>1</td>\n",
              "      <td>3</td>\n",
              "      <td>Sandstrom, Miss. Marguerite Rut</td>\n",
              "      <td>female</td>\n",
              "      <td>4.0</td>\n",
              "      <td>1</td>\n",
              "      <td>1</td>\n",
              "      <td>PP 9549</td>\n",
              "      <td>16.7000</td>\n",
              "      <td>S</td>\n",
              "      <td>3</td>\n",
              "      <td>2</td>\n",
              "      <td>Child</td>\n",
              "    </tr>\n",
              "    <tr>\n",
              "      <th>16</th>\n",
              "      <td>17</td>\n",
              "      <td>0</td>\n",
              "      <td>3</td>\n",
              "      <td>Rice, Master. Eugene</td>\n",
              "      <td>male</td>\n",
              "      <td>2.0</td>\n",
              "      <td>4</td>\n",
              "      <td>1</td>\n",
              "      <td>382652</td>\n",
              "      <td>29.1250</td>\n",
              "      <td>Q</td>\n",
              "      <td>6</td>\n",
              "      <td>5</td>\n",
              "      <td>Child</td>\n",
              "    </tr>\n",
              "    <tr>\n",
              "      <th>43</th>\n",
              "      <td>44</td>\n",
              "      <td>1</td>\n",
              "      <td>2</td>\n",
              "      <td>Laroche, Miss. Simonne Marie Anne Andree</td>\n",
              "      <td>female</td>\n",
              "      <td>3.0</td>\n",
              "      <td>1</td>\n",
              "      <td>2</td>\n",
              "      <td>SC/Paris 2123</td>\n",
              "      <td>41.5792</td>\n",
              "      <td>C</td>\n",
              "      <td>4</td>\n",
              "      <td>3</td>\n",
              "      <td>Child</td>\n",
              "    </tr>\n",
              "    <tr>\n",
              "      <th>63</th>\n",
              "      <td>64</td>\n",
              "      <td>0</td>\n",
              "      <td>3</td>\n",
              "      <td>Skoog, Master. Harald</td>\n",
              "      <td>male</td>\n",
              "      <td>4.0</td>\n",
              "      <td>3</td>\n",
              "      <td>2</td>\n",
              "      <td>347088</td>\n",
              "      <td>27.9000</td>\n",
              "      <td>S</td>\n",
              "      <td>6</td>\n",
              "      <td>5</td>\n",
              "      <td>Child</td>\n",
              "    </tr>\n",
              "  </tbody>\n",
              "</table>\n",
              "</div>"
            ],
            "text/plain": [
              "    PassengerId  Survived  Pclass  ... Family_Size Accompany  Gender_Class\n",
              "7             8         0       3  ...           5         4         Child\n",
              "10           11         1       3  ...           3         2         Child\n",
              "16           17         0       3  ...           6         5         Child\n",
              "43           44         1       2  ...           4         3         Child\n",
              "63           64         0       3  ...           6         5         Child\n",
              "\n",
              "[5 rows x 14 columns]"
            ]
          },
          "metadata": {
            "tags": []
          },
          "execution_count": 18
        }
      ]
    },
    {
      "cell_type": "code",
      "metadata": {
        "id": "A8adiNNHCi5s",
        "colab_type": "code",
        "colab": {
          "base_uri": "https://localhost:8080/",
          "height": 255
        },
        "outputId": "a4eea61f-83c5-48d4-db4b-0c1eab164f18"
      },
      "source": [
        "titanic_data[titanic_data[\"Age\"]>15].head()"
      ],
      "execution_count": 20,
      "outputs": [
        {
          "output_type": "execute_result",
          "data": {
            "text/html": [
              "<div>\n",
              "<style scoped>\n",
              "    .dataframe tbody tr th:only-of-type {\n",
              "        vertical-align: middle;\n",
              "    }\n",
              "\n",
              "    .dataframe tbody tr th {\n",
              "        vertical-align: top;\n",
              "    }\n",
              "\n",
              "    .dataframe thead th {\n",
              "        text-align: right;\n",
              "    }\n",
              "</style>\n",
              "<table border=\"1\" class=\"dataframe\">\n",
              "  <thead>\n",
              "    <tr style=\"text-align: right;\">\n",
              "      <th></th>\n",
              "      <th>PassengerId</th>\n",
              "      <th>Survived</th>\n",
              "      <th>Pclass</th>\n",
              "      <th>Name</th>\n",
              "      <th>Sex</th>\n",
              "      <th>Age</th>\n",
              "      <th>SibSp</th>\n",
              "      <th>Parch</th>\n",
              "      <th>Ticket</th>\n",
              "      <th>Fare</th>\n",
              "      <th>Embarked</th>\n",
              "      <th>Family_Size</th>\n",
              "      <th>Accompany</th>\n",
              "      <th>Gender_Class</th>\n",
              "    </tr>\n",
              "  </thead>\n",
              "  <tbody>\n",
              "    <tr>\n",
              "      <th>0</th>\n",
              "      <td>1</td>\n",
              "      <td>0</td>\n",
              "      <td>3</td>\n",
              "      <td>Braund, Mr. Owen Harris</td>\n",
              "      <td>male</td>\n",
              "      <td>22.0</td>\n",
              "      <td>1</td>\n",
              "      <td>0</td>\n",
              "      <td>A/5 21171</td>\n",
              "      <td>7.2500</td>\n",
              "      <td>S</td>\n",
              "      <td>2</td>\n",
              "      <td>1</td>\n",
              "      <td>male</td>\n",
              "    </tr>\n",
              "    <tr>\n",
              "      <th>1</th>\n",
              "      <td>2</td>\n",
              "      <td>1</td>\n",
              "      <td>1</td>\n",
              "      <td>Cumings, Mrs. John Bradley (Florence Briggs Th...</td>\n",
              "      <td>female</td>\n",
              "      <td>38.0</td>\n",
              "      <td>1</td>\n",
              "      <td>0</td>\n",
              "      <td>PC 17599</td>\n",
              "      <td>71.2833</td>\n",
              "      <td>C</td>\n",
              "      <td>2</td>\n",
              "      <td>1</td>\n",
              "      <td>female</td>\n",
              "    </tr>\n",
              "    <tr>\n",
              "      <th>2</th>\n",
              "      <td>3</td>\n",
              "      <td>1</td>\n",
              "      <td>3</td>\n",
              "      <td>Heikkinen, Miss. Laina</td>\n",
              "      <td>female</td>\n",
              "      <td>26.0</td>\n",
              "      <td>0</td>\n",
              "      <td>0</td>\n",
              "      <td>STON/O2. 3101282</td>\n",
              "      <td>7.9250</td>\n",
              "      <td>S</td>\n",
              "      <td>1</td>\n",
              "      <td>0</td>\n",
              "      <td>female</td>\n",
              "    </tr>\n",
              "    <tr>\n",
              "      <th>3</th>\n",
              "      <td>4</td>\n",
              "      <td>1</td>\n",
              "      <td>1</td>\n",
              "      <td>Futrelle, Mrs. Jacques Heath (Lily May Peel)</td>\n",
              "      <td>female</td>\n",
              "      <td>35.0</td>\n",
              "      <td>1</td>\n",
              "      <td>0</td>\n",
              "      <td>113803</td>\n",
              "      <td>53.1000</td>\n",
              "      <td>S</td>\n",
              "      <td>2</td>\n",
              "      <td>1</td>\n",
              "      <td>female</td>\n",
              "    </tr>\n",
              "    <tr>\n",
              "      <th>4</th>\n",
              "      <td>5</td>\n",
              "      <td>0</td>\n",
              "      <td>3</td>\n",
              "      <td>Allen, Mr. William Henry</td>\n",
              "      <td>male</td>\n",
              "      <td>35.0</td>\n",
              "      <td>0</td>\n",
              "      <td>0</td>\n",
              "      <td>373450</td>\n",
              "      <td>8.0500</td>\n",
              "      <td>S</td>\n",
              "      <td>1</td>\n",
              "      <td>0</td>\n",
              "      <td>male</td>\n",
              "    </tr>\n",
              "  </tbody>\n",
              "</table>\n",
              "</div>"
            ],
            "text/plain": [
              "   PassengerId  Survived  Pclass  ... Family_Size Accompany  Gender_Class\n",
              "0            1         0       3  ...           2         1          male\n",
              "1            2         1       1  ...           2         1        female\n",
              "2            3         1       3  ...           1         0        female\n",
              "3            4         1       1  ...           2         1        female\n",
              "4            5         0       3  ...           1         0          male\n",
              "\n",
              "[5 rows x 14 columns]"
            ]
          },
          "metadata": {
            "tags": []
          },
          "execution_count": 20
        }
      ]
    },
    {
      "cell_type": "code",
      "metadata": {
        "id": "hqJUmfG6ClmF",
        "colab_type": "code",
        "colab": {
          "base_uri": "https://localhost:8080/",
          "height": 419
        },
        "outputId": "982d2ce5-3e02-480f-b146-cc1b9093e9f9"
      },
      "source": [
        "titanic_data.drop([\"PassengerId\",\"Sex\",\"SibSp\",\"Parch\",\"Ticket\"],axis=1)"
      ],
      "execution_count": 21,
      "outputs": [
        {
          "output_type": "execute_result",
          "data": {
            "text/html": [
              "<div>\n",
              "<style scoped>\n",
              "    .dataframe tbody tr th:only-of-type {\n",
              "        vertical-align: middle;\n",
              "    }\n",
              "\n",
              "    .dataframe tbody tr th {\n",
              "        vertical-align: top;\n",
              "    }\n",
              "\n",
              "    .dataframe thead th {\n",
              "        text-align: right;\n",
              "    }\n",
              "</style>\n",
              "<table border=\"1\" class=\"dataframe\">\n",
              "  <thead>\n",
              "    <tr style=\"text-align: right;\">\n",
              "      <th></th>\n",
              "      <th>Survived</th>\n",
              "      <th>Pclass</th>\n",
              "      <th>Name</th>\n",
              "      <th>Age</th>\n",
              "      <th>Fare</th>\n",
              "      <th>Embarked</th>\n",
              "      <th>Family_Size</th>\n",
              "      <th>Accompany</th>\n",
              "      <th>Gender_Class</th>\n",
              "    </tr>\n",
              "  </thead>\n",
              "  <tbody>\n",
              "    <tr>\n",
              "      <th>0</th>\n",
              "      <td>0</td>\n",
              "      <td>3</td>\n",
              "      <td>Braund, Mr. Owen Harris</td>\n",
              "      <td>22.0</td>\n",
              "      <td>7.2500</td>\n",
              "      <td>S</td>\n",
              "      <td>2</td>\n",
              "      <td>1</td>\n",
              "      <td>male</td>\n",
              "    </tr>\n",
              "    <tr>\n",
              "      <th>1</th>\n",
              "      <td>1</td>\n",
              "      <td>1</td>\n",
              "      <td>Cumings, Mrs. John Bradley (Florence Briggs Th...</td>\n",
              "      <td>38.0</td>\n",
              "      <td>71.2833</td>\n",
              "      <td>C</td>\n",
              "      <td>2</td>\n",
              "      <td>1</td>\n",
              "      <td>female</td>\n",
              "    </tr>\n",
              "    <tr>\n",
              "      <th>2</th>\n",
              "      <td>1</td>\n",
              "      <td>3</td>\n",
              "      <td>Heikkinen, Miss. Laina</td>\n",
              "      <td>26.0</td>\n",
              "      <td>7.9250</td>\n",
              "      <td>S</td>\n",
              "      <td>1</td>\n",
              "      <td>0</td>\n",
              "      <td>female</td>\n",
              "    </tr>\n",
              "    <tr>\n",
              "      <th>3</th>\n",
              "      <td>1</td>\n",
              "      <td>1</td>\n",
              "      <td>Futrelle, Mrs. Jacques Heath (Lily May Peel)</td>\n",
              "      <td>35.0</td>\n",
              "      <td>53.1000</td>\n",
              "      <td>S</td>\n",
              "      <td>2</td>\n",
              "      <td>1</td>\n",
              "      <td>female</td>\n",
              "    </tr>\n",
              "    <tr>\n",
              "      <th>4</th>\n",
              "      <td>0</td>\n",
              "      <td>3</td>\n",
              "      <td>Allen, Mr. William Henry</td>\n",
              "      <td>35.0</td>\n",
              "      <td>8.0500</td>\n",
              "      <td>S</td>\n",
              "      <td>1</td>\n",
              "      <td>0</td>\n",
              "      <td>male</td>\n",
              "    </tr>\n",
              "    <tr>\n",
              "      <th>...</th>\n",
              "      <td>...</td>\n",
              "      <td>...</td>\n",
              "      <td>...</td>\n",
              "      <td>...</td>\n",
              "      <td>...</td>\n",
              "      <td>...</td>\n",
              "      <td>...</td>\n",
              "      <td>...</td>\n",
              "      <td>...</td>\n",
              "    </tr>\n",
              "    <tr>\n",
              "      <th>886</th>\n",
              "      <td>0</td>\n",
              "      <td>2</td>\n",
              "      <td>Montvila, Rev. Juozas</td>\n",
              "      <td>27.0</td>\n",
              "      <td>13.0000</td>\n",
              "      <td>S</td>\n",
              "      <td>1</td>\n",
              "      <td>0</td>\n",
              "      <td>male</td>\n",
              "    </tr>\n",
              "    <tr>\n",
              "      <th>887</th>\n",
              "      <td>1</td>\n",
              "      <td>1</td>\n",
              "      <td>Graham, Miss. Margaret Edith</td>\n",
              "      <td>19.0</td>\n",
              "      <td>30.0000</td>\n",
              "      <td>S</td>\n",
              "      <td>1</td>\n",
              "      <td>0</td>\n",
              "      <td>female</td>\n",
              "    </tr>\n",
              "    <tr>\n",
              "      <th>888</th>\n",
              "      <td>0</td>\n",
              "      <td>3</td>\n",
              "      <td>Johnston, Miss. Catherine Helen \"Carrie\"</td>\n",
              "      <td>28.0</td>\n",
              "      <td>23.4500</td>\n",
              "      <td>S</td>\n",
              "      <td>4</td>\n",
              "      <td>3</td>\n",
              "      <td>female</td>\n",
              "    </tr>\n",
              "    <tr>\n",
              "      <th>889</th>\n",
              "      <td>1</td>\n",
              "      <td>1</td>\n",
              "      <td>Behr, Mr. Karl Howell</td>\n",
              "      <td>26.0</td>\n",
              "      <td>30.0000</td>\n",
              "      <td>C</td>\n",
              "      <td>1</td>\n",
              "      <td>0</td>\n",
              "      <td>male</td>\n",
              "    </tr>\n",
              "    <tr>\n",
              "      <th>890</th>\n",
              "      <td>0</td>\n",
              "      <td>3</td>\n",
              "      <td>Dooley, Mr. Patrick</td>\n",
              "      <td>32.0</td>\n",
              "      <td>7.7500</td>\n",
              "      <td>Q</td>\n",
              "      <td>1</td>\n",
              "      <td>0</td>\n",
              "      <td>male</td>\n",
              "    </tr>\n",
              "  </tbody>\n",
              "</table>\n",
              "<p>891 rows × 9 columns</p>\n",
              "</div>"
            ],
            "text/plain": [
              "     Survived  Pclass  ... Accompany  Gender_Class\n",
              "0           0       3  ...         1          male\n",
              "1           1       1  ...         1        female\n",
              "2           1       3  ...         0        female\n",
              "3           1       1  ...         1        female\n",
              "4           0       3  ...         0          male\n",
              "..        ...     ...  ...       ...           ...\n",
              "886         0       2  ...         0          male\n",
              "887         1       1  ...         0        female\n",
              "888         0       3  ...         3        female\n",
              "889         1       1  ...         0          male\n",
              "890         0       3  ...         0          male\n",
              "\n",
              "[891 rows x 9 columns]"
            ]
          },
          "metadata": {
            "tags": []
          },
          "execution_count": 21
        }
      ]
    },
    {
      "cell_type": "code",
      "metadata": {
        "id": "a1OZ0rzBDeSH",
        "colab_type": "code",
        "colab": {}
      },
      "source": [
        "titanic=titanic_data.drop([\"Name\"],axis=1)"
      ],
      "execution_count": 0,
      "outputs": []
    },
    {
      "cell_type": "code",
      "metadata": {
        "id": "aXGgO7OPDv_j",
        "colab_type": "code",
        "colab": {
          "base_uri": "https://localhost:8080/",
          "height": 323
        },
        "outputId": "f0ed944e-6d91-45cc-84c1-7504e8a62a16"
      },
      "source": [
        "titanic.info()"
      ],
      "execution_count": 23,
      "outputs": [
        {
          "output_type": "stream",
          "text": [
            "<class 'pandas.core.frame.DataFrame'>\n",
            "RangeIndex: 891 entries, 0 to 890\n",
            "Data columns (total 13 columns):\n",
            "PassengerId     891 non-null int64\n",
            "Survived        891 non-null int64\n",
            "Pclass          891 non-null int64\n",
            "Sex             891 non-null object\n",
            "Age             891 non-null float64\n",
            "SibSp           891 non-null int64\n",
            "Parch           891 non-null int64\n",
            "Ticket          891 non-null object\n",
            "Fare            891 non-null float64\n",
            "Embarked        891 non-null object\n",
            "Family_Size     891 non-null int64\n",
            "Accompany       891 non-null int64\n",
            "Gender_Class    891 non-null object\n",
            "dtypes: float64(2), int64(7), object(4)\n",
            "memory usage: 90.6+ KB\n"
          ],
          "name": "stdout"
        }
      ]
    },
    {
      "cell_type": "code",
      "metadata": {
        "id": "A4xzHBTDD2Oj",
        "colab_type": "code",
        "colab": {
          "base_uri": "https://localhost:8080/",
          "height": 340
        },
        "outputId": "ab82f95b-0909-4236-f4ed-bcbe2af591b9"
      },
      "source": [
        "titanic_data.info()"
      ],
      "execution_count": 24,
      "outputs": [
        {
          "output_type": "stream",
          "text": [
            "<class 'pandas.core.frame.DataFrame'>\n",
            "RangeIndex: 891 entries, 0 to 890\n",
            "Data columns (total 14 columns):\n",
            "PassengerId     891 non-null int64\n",
            "Survived        891 non-null int64\n",
            "Pclass          891 non-null int64\n",
            "Name            891 non-null object\n",
            "Sex             891 non-null object\n",
            "Age             891 non-null float64\n",
            "SibSp           891 non-null int64\n",
            "Parch           891 non-null int64\n",
            "Ticket          891 non-null object\n",
            "Fare            891 non-null float64\n",
            "Embarked        891 non-null object\n",
            "Family_Size     891 non-null int64\n",
            "Accompany       891 non-null int64\n",
            "Gender_Class    891 non-null object\n",
            "dtypes: float64(2), int64(7), object(5)\n",
            "memory usage: 97.6+ KB\n"
          ],
          "name": "stdout"
        }
      ]
    },
    {
      "cell_type": "code",
      "metadata": {
        "id": "BCqz7St0FcTo",
        "colab_type": "code",
        "colab": {
          "base_uri": "https://localhost:8080/",
          "height": 558
        },
        "outputId": "10e8173b-4d2c-4879-ba6e-124df8bea298"
      },
      "source": [
        "sns.pairplot(data=titanic_data[[\"Fare\",\"Age\",\"Pclass\",\"Survived\"]],vars=[\"Fare\",\"Age\",\"Pclass\"],hue=\"Survived\")"
      ],
      "execution_count": 25,
      "outputs": [
        {
          "output_type": "execute_result",
          "data": {
            "text/plain": [
              "<seaborn.axisgrid.PairGrid at 0x7f4ee6df2198>"
            ]
          },
          "metadata": {
            "tags": []
          },
          "execution_count": 25
        },
        {
          "output_type": "display_data",
          "data": {
            "image/png": "[encoded data removed]",
            "text/plain": [
              "<Figure size 594.05x540 with 12 Axes>"
            ]
          },
          "metadata": {
            "tags": []
          }
        }
      ]
    },
    {
      "cell_type": "markdown",
      "metadata": {
        "id": "C1XlC5m1K7hR",
        "colab_type": "text"
      },
      "source": [
        "More people of Pclass 1 survived than died (First peak of red is higher than blue)\n",
        "\n",
        "More people of Pclass 3 died than survived (Third peak of blue is higher than red)\n",
        "\n",
        "More people of age group 20-40 died than survived.\n",
        "\n",
        "Most of the people paying less fare died."
      ]
    },
    {
      "cell_type": "code",
      "metadata": {
        "id": "nXcBpyz-Kyod",
        "colab_type": "code",
        "colab": {
          "base_uri": "https://localhost:8080/",
          "height": 669
        },
        "outputId": "f76fd166-bf21-44aa-b242-769decad8193"
      },
      "source": [
        "plt.figure(figsize=(10,10))\n",
        "sns.heatmap(titanic_data.corr(),annot=True)"
      ],
      "execution_count": 27,
      "outputs": [
        {
          "output_type": "execute_result",
          "data": {
            "text/plain": [
              "<matplotlib.axes._subplots.AxesSubplot at 0x7f4ee2919438>"
            ]
          },
          "metadata": {
            "tags": []
          },
          "execution_count": 27
        },
        {
          "output_type": "display_data",
          "data": {
            "image/png": "[encoded data removed]",
            "text/plain": [
              "<Figure size 720x720 with 2 Axes>"
            ]
          },
          "metadata": {
            "tags": []
          }
        }
      ]
    },
    {
      "cell_type": "markdown",
      "metadata": {
        "id": "385r_nb2MOB7",
        "colab_type": "text"
      },
      "source": [
        "Age and Pclass are negatively corelated with Survived.\n",
        "\n",
        "FamilySize is made from Parch and SibSb only therefore high positive corelation among them.\n",
        "\n",
        "Fare and FamilySize are positively coorelated with Survived.\n",
        "\n",
        "With high corelation we face redundancy issues."
      ]
    },
    {
      "cell_type": "code",
      "metadata": {
        "id": "6hMIvt9gLmVc",
        "colab_type": "code",
        "colab": {
          "base_uri": "https://localhost:8080/",
          "height": 323
        },
        "outputId": "ed004d30-5676-4570-f72f-75fb4f35ae50"
      },
      "source": [
        "titanic.info()"
      ],
      "execution_count": 30,
      "outputs": [
        {
          "output_type": "stream",
          "text": [
            "<class 'pandas.core.frame.DataFrame'>\n",
            "RangeIndex: 891 entries, 0 to 890\n",
            "Data columns (total 13 columns):\n",
            "PassengerId     891 non-null int64\n",
            "Survived        891 non-null int64\n",
            "Pclass          891 non-null int64\n",
            "Sex             891 non-null object\n",
            "Age             891 non-null float64\n",
            "SibSp           891 non-null int64\n",
            "Parch           891 non-null int64\n",
            "Ticket          891 non-null object\n",
            "Fare            891 non-null float64\n",
            "Embarked        891 non-null object\n",
            "Family_Size     891 non-null int64\n",
            "Accompany       891 non-null int64\n",
            "Gender_Class    891 non-null object\n",
            "dtypes: float64(2), int64(7), object(4)\n",
            "memory usage: 90.6+ KB\n"
          ],
          "name": "stdout"
        }
      ]
    },
    {
      "cell_type": "code",
      "metadata": {
        "id": "KEdzszN9VIdU",
        "colab_type": "code",
        "colab": {
          "base_uri": "https://localhost:8080/",
          "height": 204
        },
        "outputId": "29f97a31-54b1-4929-dc20-83db2647a2d1"
      },
      "source": [
        "titanic.head()"
      ],
      "execution_count": 31,
      "outputs": [
        {
          "output_type": "execute_result",
          "data": {
            "text/html": [
              "<div>\n",
              "<style scoped>\n",
              "    .dataframe tbody tr th:only-of-type {\n",
              "        vertical-align: middle;\n",
              "    }\n",
              "\n",
              "    .dataframe tbody tr th {\n",
              "        vertical-align: top;\n",
              "    }\n",
              "\n",
              "    .dataframe thead th {\n",
              "        text-align: right;\n",
              "    }\n",
              "</style>\n",
              "<table border=\"1\" class=\"dataframe\">\n",
              "  <thead>\n",
              "    <tr style=\"text-align: right;\">\n",
              "      <th></th>\n",
              "      <th>PassengerId</th>\n",
              "      <th>Survived</th>\n",
              "      <th>Pclass</th>\n",
              "      <th>Sex</th>\n",
              "      <th>Age</th>\n",
              "      <th>SibSp</th>\n",
              "      <th>Parch</th>\n",
              "      <th>Ticket</th>\n",
              "      <th>Fare</th>\n",
              "      <th>Embarked</th>\n",
              "      <th>Family_Size</th>\n",
              "      <th>Accompany</th>\n",
              "      <th>Gender_Class</th>\n",
              "    </tr>\n",
              "  </thead>\n",
              "  <tbody>\n",
              "    <tr>\n",
              "      <th>0</th>\n",
              "      <td>1</td>\n",
              "      <td>0</td>\n",
              "      <td>3</td>\n",
              "      <td>male</td>\n",
              "      <td>22.0</td>\n",
              "      <td>1</td>\n",
              "      <td>0</td>\n",
              "      <td>A/5 21171</td>\n",
              "      <td>7.2500</td>\n",
              "      <td>S</td>\n",
              "      <td>2</td>\n",
              "      <td>1</td>\n",
              "      <td>male</td>\n",
              "    </tr>\n",
              "    <tr>\n",
              "      <th>1</th>\n",
              "      <td>2</td>\n",
              "      <td>1</td>\n",
              "      <td>1</td>\n",
              "      <td>female</td>\n",
              "      <td>38.0</td>\n",
              "      <td>1</td>\n",
              "      <td>0</td>\n",
              "      <td>PC 17599</td>\n",
              "      <td>71.2833</td>\n",
              "      <td>C</td>\n",
              "      <td>2</td>\n",
              "      <td>1</td>\n",
              "      <td>female</td>\n",
              "    </tr>\n",
              "    <tr>\n",
              "      <th>2</th>\n",
              "      <td>3</td>\n",
              "      <td>1</td>\n",
              "      <td>3</td>\n",
              "      <td>female</td>\n",
              "      <td>26.0</td>\n",
              "      <td>0</td>\n",
              "      <td>0</td>\n",
              "      <td>STON/O2. 3101282</td>\n",
              "      <td>7.9250</td>\n",
              "      <td>S</td>\n",
              "      <td>1</td>\n",
              "      <td>0</td>\n",
              "      <td>female</td>\n",
              "    </tr>\n",
              "    <tr>\n",
              "      <th>3</th>\n",
              "      <td>4</td>\n",
              "      <td>1</td>\n",
              "      <td>1</td>\n",
              "      <td>female</td>\n",
              "      <td>35.0</td>\n",
              "      <td>1</td>\n",
              "      <td>0</td>\n",
              "      <td>113803</td>\n",
              "      <td>53.1000</td>\n",
              "      <td>S</td>\n",
              "      <td>2</td>\n",
              "      <td>1</td>\n",
              "      <td>female</td>\n",
              "    </tr>\n",
              "    <tr>\n",
              "      <th>4</th>\n",
              "      <td>5</td>\n",
              "      <td>0</td>\n",
              "      <td>3</td>\n",
              "      <td>male</td>\n",
              "      <td>35.0</td>\n",
              "      <td>0</td>\n",
              "      <td>0</td>\n",
              "      <td>373450</td>\n",
              "      <td>8.0500</td>\n",
              "      <td>S</td>\n",
              "      <td>1</td>\n",
              "      <td>0</td>\n",
              "      <td>male</td>\n",
              "    </tr>\n",
              "  </tbody>\n",
              "</table>\n",
              "</div>"
            ],
            "text/plain": [
              "   PassengerId  Survived  Pclass  ... Family_Size  Accompany  Gender_Class\n",
              "0            1         0       3  ...           2          1          male\n",
              "1            2         1       1  ...           2          1        female\n",
              "2            3         1       3  ...           1          0        female\n",
              "3            4         1       1  ...           2          1        female\n",
              "4            5         0       3  ...           1          0          male\n",
              "\n",
              "[5 rows x 13 columns]"
            ]
          },
          "metadata": {
            "tags": []
          },
          "execution_count": 31
        }
      ]
    },
    {
      "cell_type": "code",
      "metadata": {
        "id": "CHwOcZPuVech",
        "colab_type": "code",
        "colab": {}
      },
      "source": [
        "titanic.drop([\"PassengerId\",\"Sex\",\"Ticket\",\"SibSp\",\"Parch\"],axis=1,inplace=True)"
      ],
      "execution_count": 0,
      "outputs": []
    },
    {
      "cell_type": "code",
      "metadata": {
        "id": "4E-UxGnkWM8J",
        "colab_type": "code",
        "colab": {
          "base_uri": "https://localhost:8080/",
          "height": 204
        },
        "outputId": "fd313cf4-aac7-45c3-832a-77a565207f30"
      },
      "source": [
        "titanic.head()"
      ],
      "execution_count": 33,
      "outputs": [
        {
          "output_type": "execute_result",
          "data": {
            "text/html": [
              "<div>\n",
              "<style scoped>\n",
              "    .dataframe tbody tr th:only-of-type {\n",
              "        vertical-align: middle;\n",
              "    }\n",
              "\n",
              "    .dataframe tbody tr th {\n",
              "        vertical-align: top;\n",
              "    }\n",
              "\n",
              "    .dataframe thead th {\n",
              "        text-align: right;\n",
              "    }\n",
              "</style>\n",
              "<table border=\"1\" class=\"dataframe\">\n",
              "  <thead>\n",
              "    <tr style=\"text-align: right;\">\n",
              "      <th></th>\n",
              "      <th>Survived</th>\n",
              "      <th>Pclass</th>\n",
              "      <th>Age</th>\n",
              "      <th>Fare</th>\n",
              "      <th>Embarked</th>\n",
              "      <th>Family_Size</th>\n",
              "      <th>Accompany</th>\n",
              "      <th>Gender_Class</th>\n",
              "    </tr>\n",
              "  </thead>\n",
              "  <tbody>\n",
              "    <tr>\n",
              "      <th>0</th>\n",
              "      <td>0</td>\n",
              "      <td>3</td>\n",
              "      <td>22.0</td>\n",
              "      <td>7.2500</td>\n",
              "      <td>S</td>\n",
              "      <td>2</td>\n",
              "      <td>1</td>\n",
              "      <td>male</td>\n",
              "    </tr>\n",
              "    <tr>\n",
              "      <th>1</th>\n",
              "      <td>1</td>\n",
              "      <td>1</td>\n",
              "      <td>38.0</td>\n",
              "      <td>71.2833</td>\n",
              "      <td>C</td>\n",
              "      <td>2</td>\n",
              "      <td>1</td>\n",
              "      <td>female</td>\n",
              "    </tr>\n",
              "    <tr>\n",
              "      <th>2</th>\n",
              "      <td>1</td>\n",
              "      <td>3</td>\n",
              "      <td>26.0</td>\n",
              "      <td>7.9250</td>\n",
              "      <td>S</td>\n",
              "      <td>1</td>\n",
              "      <td>0</td>\n",
              "      <td>female</td>\n",
              "    </tr>\n",
              "    <tr>\n",
              "      <th>3</th>\n",
              "      <td>1</td>\n",
              "      <td>1</td>\n",
              "      <td>35.0</td>\n",
              "      <td>53.1000</td>\n",
              "      <td>S</td>\n",
              "      <td>2</td>\n",
              "      <td>1</td>\n",
              "      <td>female</td>\n",
              "    </tr>\n",
              "    <tr>\n",
              "      <th>4</th>\n",
              "      <td>0</td>\n",
              "      <td>3</td>\n",
              "      <td>35.0</td>\n",
              "      <td>8.0500</td>\n",
              "      <td>S</td>\n",
              "      <td>1</td>\n",
              "      <td>0</td>\n",
              "      <td>male</td>\n",
              "    </tr>\n",
              "  </tbody>\n",
              "</table>\n",
              "</div>"
            ],
            "text/plain": [
              "   Survived  Pclass   Age  ...  Family_Size Accompany  Gender_Class\n",
              "0         0       3  22.0  ...            2         1          male\n",
              "1         1       1  38.0  ...            2         1        female\n",
              "2         1       3  26.0  ...            1         0        female\n",
              "3         1       1  35.0  ...            2         1        female\n",
              "4         0       3  35.0  ...            1         0          male\n",
              "\n",
              "[5 rows x 8 columns]"
            ]
          },
          "metadata": {
            "tags": []
          },
          "execution_count": 33
        }
      ]
    },
    {
      "cell_type": "code",
      "metadata": {
        "id": "ygG-2EG7WOgH",
        "colab_type": "code",
        "colab": {
          "base_uri": "https://localhost:8080/",
          "height": 204
        },
        "outputId": "26f6376c-912b-4878-8b8d-b3b71f23fdff"
      },
      "source": [
        "x=titanic[[\"Pclass\",\"Age\",\"Fare\",\"Embarked\",\"Family_Size\",\"Accompany\",\"Gender_Class\"]]\n",
        "x.head()"
      ],
      "execution_count": 39,
      "outputs": [
        {
          "output_type": "execute_result",
          "data": {
            "text/html": [
              "<div>\n",
              "<style scoped>\n",
              "    .dataframe tbody tr th:only-of-type {\n",
              "        vertical-align: middle;\n",
              "    }\n",
              "\n",
              "    .dataframe tbody tr th {\n",
              "        vertical-align: top;\n",
              "    }\n",
              "\n",
              "    .dataframe thead th {\n",
              "        text-align: right;\n",
              "    }\n",
              "</style>\n",
              "<table border=\"1\" class=\"dataframe\">\n",
              "  <thead>\n",
              "    <tr style=\"text-align: right;\">\n",
              "      <th></th>\n",
              "      <th>Pclass</th>\n",
              "      <th>Age</th>\n",
              "      <th>Fare</th>\n",
              "      <th>Embarked</th>\n",
              "      <th>Family_Size</th>\n",
              "      <th>Accompany</th>\n",
              "      <th>Gender_Class</th>\n",
              "    </tr>\n",
              "  </thead>\n",
              "  <tbody>\n",
              "    <tr>\n",
              "      <th>0</th>\n",
              "      <td>3</td>\n",
              "      <td>22.0</td>\n",
              "      <td>7.2500</td>\n",
              "      <td>S</td>\n",
              "      <td>2</td>\n",
              "      <td>1</td>\n",
              "      <td>male</td>\n",
              "    </tr>\n",
              "    <tr>\n",
              "      <th>1</th>\n",
              "      <td>1</td>\n",
              "      <td>38.0</td>\n",
              "      <td>71.2833</td>\n",
              "      <td>C</td>\n",
              "      <td>2</td>\n",
              "      <td>1</td>\n",
              "      <td>female</td>\n",
              "    </tr>\n",
              "    <tr>\n",
              "      <th>2</th>\n",
              "      <td>3</td>\n",
              "      <td>26.0</td>\n",
              "      <td>7.9250</td>\n",
              "      <td>S</td>\n",
              "      <td>1</td>\n",
              "      <td>0</td>\n",
              "      <td>female</td>\n",
              "    </tr>\n",
              "    <tr>\n",
              "      <th>3</th>\n",
              "      <td>1</td>\n",
              "      <td>35.0</td>\n",
              "      <td>53.1000</td>\n",
              "      <td>S</td>\n",
              "      <td>2</td>\n",
              "      <td>1</td>\n",
              "      <td>female</td>\n",
              "    </tr>\n",
              "    <tr>\n",
              "      <th>4</th>\n",
              "      <td>3</td>\n",
              "      <td>35.0</td>\n",
              "      <td>8.0500</td>\n",
              "      <td>S</td>\n",
              "      <td>1</td>\n",
              "      <td>0</td>\n",
              "      <td>male</td>\n",
              "    </tr>\n",
              "  </tbody>\n",
              "</table>\n",
              "</div>"
            ],
            "text/plain": [
              "   Pclass   Age     Fare Embarked  Family_Size  Accompany Gender_Class\n",
              "0       3  22.0   7.2500        S            2          1         male\n",
              "1       1  38.0  71.2833        C            2          1       female\n",
              "2       3  26.0   7.9250        S            1          0       female\n",
              "3       1  35.0  53.1000        S            2          1       female\n",
              "4       3  35.0   8.0500        S            1          0         male"
            ]
          },
          "metadata": {
            "tags": []
          },
          "execution_count": 39
        }
      ]
    },
    {
      "cell_type": "code",
      "metadata": {
        "id": "y_Q9w39-WbaQ",
        "colab_type": "code",
        "colab": {
          "base_uri": "https://localhost:8080/",
          "height": 119
        },
        "outputId": "aa6149df-8c9f-4674-bf0a-ece03fea9ea8"
      },
      "source": [
        "y=titanic[\"Survived\"]\n",
        "y.head()"
      ],
      "execution_count": 40,
      "outputs": [
        {
          "output_type": "execute_result",
          "data": {
            "text/plain": [
              "0    0\n",
              "1    1\n",
              "2    1\n",
              "3    1\n",
              "4    0\n",
              "Name: Survived, dtype: int64"
            ]
          },
          "metadata": {
            "tags": []
          },
          "execution_count": 40
        }
      ]
    },
    {
      "cell_type": "code",
      "metadata": {
        "id": "Jce1jyECXWA6",
        "colab_type": "code",
        "colab": {
          "base_uri": "https://localhost:8080/",
          "height": 204
        },
        "outputId": "308de8ad-7245-4a93-a5e8-c1300f967241"
      },
      "source": [
        "titanic=pd.get_dummies(titanic,columns=[\"Gender_Class\",\"Embarked\"])\n",
        "titanic.head()"
      ],
      "execution_count": 41,
      "outputs": [
        {
          "output_type": "execute_result",
          "data": {
            "text/html": [
              "<div>\n",
              "<style scoped>\n",
              "    .dataframe tbody tr th:only-of-type {\n",
              "        vertical-align: middle;\n",
              "    }\n",
              "\n",
              "    .dataframe tbody tr th {\n",
              "        vertical-align: top;\n",
              "    }\n",
              "\n",
              "    .dataframe thead th {\n",
              "        text-align: right;\n",
              "    }\n",
              "</style>\n",
              "<table border=\"1\" class=\"dataframe\">\n",
              "  <thead>\n",
              "    <tr style=\"text-align: right;\">\n",
              "      <th></th>\n",
              "      <th>Survived</th>\n",
              "      <th>Pclass</th>\n",
              "      <th>Age</th>\n",
              "      <th>Fare</th>\n",
              "      <th>Family_Size</th>\n",
              "      <th>Accompany</th>\n",
              "      <th>Gender_Class_Child</th>\n",
              "      <th>Gender_Class_female</th>\n",
              "      <th>Gender_Class_male</th>\n",
              "      <th>Embarked_C</th>\n",
              "      <th>Embarked_Q</th>\n",
              "      <th>Embarked_S</th>\n",
              "    </tr>\n",
              "  </thead>\n",
              "  <tbody>\n",
              "    <tr>\n",
              "      <th>0</th>\n",
              "      <td>0</td>\n",
              "      <td>3</td>\n",
              "      <td>22.0</td>\n",
              "      <td>7.2500</td>\n",
              "      <td>2</td>\n",
              "      <td>1</td>\n",
              "      <td>0</td>\n",
              "      <td>0</td>\n",
              "      <td>1</td>\n",
              "      <td>0</td>\n",
              "      <td>0</td>\n",
              "      <td>1</td>\n",
              "    </tr>\n",
              "    <tr>\n",
              "      <th>1</th>\n",
              "      <td>1</td>\n",
              "      <td>1</td>\n",
              "      <td>38.0</td>\n",
              "      <td>71.2833</td>\n",
              "      <td>2</td>\n",
              "      <td>1</td>\n",
              "      <td>0</td>\n",
              "      <td>1</td>\n",
              "      <td>0</td>\n",
              "      <td>1</td>\n",
              "      <td>0</td>\n",
              "      <td>0</td>\n",
              "    </tr>\n",
              "    <tr>\n",
              "      <th>2</th>\n",
              "      <td>1</td>\n",
              "      <td>3</td>\n",
              "      <td>26.0</td>\n",
              "      <td>7.9250</td>\n",
              "      <td>1</td>\n",
              "      <td>0</td>\n",
              "      <td>0</td>\n",
              "      <td>1</td>\n",
              "      <td>0</td>\n",
              "      <td>0</td>\n",
              "      <td>0</td>\n",
              "      <td>1</td>\n",
              "    </tr>\n",
              "    <tr>\n",
              "      <th>3</th>\n",
              "      <td>1</td>\n",
              "      <td>1</td>\n",
              "      <td>35.0</td>\n",
              "      <td>53.1000</td>\n",
              "      <td>2</td>\n",
              "      <td>1</td>\n",
              "      <td>0</td>\n",
              "      <td>1</td>\n",
              "      <td>0</td>\n",
              "      <td>0</td>\n",
              "      <td>0</td>\n",
              "      <td>1</td>\n",
              "    </tr>\n",
              "    <tr>\n",
              "      <th>4</th>\n",
              "      <td>0</td>\n",
              "      <td>3</td>\n",
              "      <td>35.0</td>\n",
              "      <td>8.0500</td>\n",
              "      <td>1</td>\n",
              "      <td>0</td>\n",
              "      <td>0</td>\n",
              "      <td>0</td>\n",
              "      <td>1</td>\n",
              "      <td>0</td>\n",
              "      <td>0</td>\n",
              "      <td>1</td>\n",
              "    </tr>\n",
              "  </tbody>\n",
              "</table>\n",
              "</div>"
            ],
            "text/plain": [
              "   Survived  Pclass   Age  ...  Embarked_C  Embarked_Q  Embarked_S\n",
              "0         0       3  22.0  ...           0           0           1\n",
              "1         1       1  38.0  ...           1           0           0\n",
              "2         1       3  26.0  ...           0           0           1\n",
              "3         1       1  35.0  ...           0           0           1\n",
              "4         0       3  35.0  ...           0           0           1\n",
              "\n",
              "[5 rows x 12 columns]"
            ]
          },
          "metadata": {
            "tags": []
          },
          "execution_count": 41
        }
      ]
    },
    {
      "cell_type": "code",
      "metadata": {
        "id": "NZOSPVX3ZLtD",
        "colab_type": "code",
        "colab": {
          "base_uri": "https://localhost:8080/",
          "height": 204
        },
        "outputId": "0ef61e05-040d-4723-a52d-1b14868adde9"
      },
      "source": [
        "x.head()"
      ],
      "execution_count": 42,
      "outputs": [
        {
          "output_type": "execute_result",
          "data": {
            "text/html": [
              "<div>\n",
              "<style scoped>\n",
              "    .dataframe tbody tr th:only-of-type {\n",
              "        vertical-align: middle;\n",
              "    }\n",
              "\n",
              "    .dataframe tbody tr th {\n",
              "        vertical-align: top;\n",
              "    }\n",
              "\n",
              "    .dataframe thead th {\n",
              "        text-align: right;\n",
              "    }\n",
              "</style>\n",
              "<table border=\"1\" class=\"dataframe\">\n",
              "  <thead>\n",
              "    <tr style=\"text-align: right;\">\n",
              "      <th></th>\n",
              "      <th>Pclass</th>\n",
              "      <th>Age</th>\n",
              "      <th>Fare</th>\n",
              "      <th>Embarked</th>\n",
              "      <th>Family_Size</th>\n",
              "      <th>Accompany</th>\n",
              "      <th>Gender_Class</th>\n",
              "    </tr>\n",
              "  </thead>\n",
              "  <tbody>\n",
              "    <tr>\n",
              "      <th>0</th>\n",
              "      <td>3</td>\n",
              "      <td>22.0</td>\n",
              "      <td>7.2500</td>\n",
              "      <td>S</td>\n",
              "      <td>2</td>\n",
              "      <td>1</td>\n",
              "      <td>male</td>\n",
              "    </tr>\n",
              "    <tr>\n",
              "      <th>1</th>\n",
              "      <td>1</td>\n",
              "      <td>38.0</td>\n",
              "      <td>71.2833</td>\n",
              "      <td>C</td>\n",
              "      <td>2</td>\n",
              "      <td>1</td>\n",
              "      <td>female</td>\n",
              "    </tr>\n",
              "    <tr>\n",
              "      <th>2</th>\n",
              "      <td>3</td>\n",
              "      <td>26.0</td>\n",
              "      <td>7.9250</td>\n",
              "      <td>S</td>\n",
              "      <td>1</td>\n",
              "      <td>0</td>\n",
              "      <td>female</td>\n",
              "    </tr>\n",
              "    <tr>\n",
              "      <th>3</th>\n",
              "      <td>1</td>\n",
              "      <td>35.0</td>\n",
              "      <td>53.1000</td>\n",
              "      <td>S</td>\n",
              "      <td>2</td>\n",
              "      <td>1</td>\n",
              "      <td>female</td>\n",
              "    </tr>\n",
              "    <tr>\n",
              "      <th>4</th>\n",
              "      <td>3</td>\n",
              "      <td>35.0</td>\n",
              "      <td>8.0500</td>\n",
              "      <td>S</td>\n",
              "      <td>1</td>\n",
              "      <td>0</td>\n",
              "      <td>male</td>\n",
              "    </tr>\n",
              "  </tbody>\n",
              "</table>\n",
              "</div>"
            ],
            "text/plain": [
              "   Pclass   Age     Fare Embarked  Family_Size  Accompany Gender_Class\n",
              "0       3  22.0   7.2500        S            2          1         male\n",
              "1       1  38.0  71.2833        C            2          1       female\n",
              "2       3  26.0   7.9250        S            1          0       female\n",
              "3       1  35.0  53.1000        S            2          1       female\n",
              "4       3  35.0   8.0500        S            1          0         male"
            ]
          },
          "metadata": {
            "tags": []
          },
          "execution_count": 42
        }
      ]
    },
    {
      "cell_type": "code",
      "metadata": {
        "id": "IWDijm8lZVvS",
        "colab_type": "code",
        "colab": {
          "base_uri": "https://localhost:8080/",
          "height": 204
        },
        "outputId": "1ab0b032-7010-4c25-9ed2-8c43a09c137f"
      },
      "source": [
        "x=titanic.loc[:,titanic.columns!=\"Survived\"]\n",
        "x.head()"
      ],
      "execution_count": 44,
      "outputs": [
        {
          "output_type": "execute_result",
          "data": {
            "text/html": [
              "<div>\n",
              "<style scoped>\n",
              "    .dataframe tbody tr th:only-of-type {\n",
              "        vertical-align: middle;\n",
              "    }\n",
              "\n",
              "    .dataframe tbody tr th {\n",
              "        vertical-align: top;\n",
              "    }\n",
              "\n",
              "    .dataframe thead th {\n",
              "        text-align: right;\n",
              "    }\n",
              "</style>\n",
              "<table border=\"1\" class=\"dataframe\">\n",
              "  <thead>\n",
              "    <tr style=\"text-align: right;\">\n",
              "      <th></th>\n",
              "      <th>Pclass</th>\n",
              "      <th>Age</th>\n",
              "      <th>Fare</th>\n",
              "      <th>Family_Size</th>\n",
              "      <th>Accompany</th>\n",
              "      <th>Gender_Class_Child</th>\n",
              "      <th>Gender_Class_female</th>\n",
              "      <th>Gender_Class_male</th>\n",
              "      <th>Embarked_C</th>\n",
              "      <th>Embarked_Q</th>\n",
              "      <th>Embarked_S</th>\n",
              "    </tr>\n",
              "  </thead>\n",
              "  <tbody>\n",
              "    <tr>\n",
              "      <th>0</th>\n",
              "      <td>3</td>\n",
              "      <td>22.0</td>\n",
              "      <td>7.2500</td>\n",
              "      <td>2</td>\n",
              "      <td>1</td>\n",
              "      <td>0</td>\n",
              "      <td>0</td>\n",
              "      <td>1</td>\n",
              "      <td>0</td>\n",
              "      <td>0</td>\n",
              "      <td>1</td>\n",
              "    </tr>\n",
              "    <tr>\n",
              "      <th>1</th>\n",
              "      <td>1</td>\n",
              "      <td>38.0</td>\n",
              "      <td>71.2833</td>\n",
              "      <td>2</td>\n",
              "      <td>1</td>\n",
              "      <td>0</td>\n",
              "      <td>1</td>\n",
              "      <td>0</td>\n",
              "      <td>1</td>\n",
              "      <td>0</td>\n",
              "      <td>0</td>\n",
              "    </tr>\n",
              "    <tr>\n",
              "      <th>2</th>\n",
              "      <td>3</td>\n",
              "      <td>26.0</td>\n",
              "      <td>7.9250</td>\n",
              "      <td>1</td>\n",
              "      <td>0</td>\n",
              "      <td>0</td>\n",
              "      <td>1</td>\n",
              "      <td>0</td>\n",
              "      <td>0</td>\n",
              "      <td>0</td>\n",
              "      <td>1</td>\n",
              "    </tr>\n",
              "    <tr>\n",
              "      <th>3</th>\n",
              "      <td>1</td>\n",
              "      <td>35.0</td>\n",
              "      <td>53.1000</td>\n",
              "      <td>2</td>\n",
              "      <td>1</td>\n",
              "      <td>0</td>\n",
              "      <td>1</td>\n",
              "      <td>0</td>\n",
              "      <td>0</td>\n",
              "      <td>0</td>\n",
              "      <td>1</td>\n",
              "    </tr>\n",
              "    <tr>\n",
              "      <th>4</th>\n",
              "      <td>3</td>\n",
              "      <td>35.0</td>\n",
              "      <td>8.0500</td>\n",
              "      <td>1</td>\n",
              "      <td>0</td>\n",
              "      <td>0</td>\n",
              "      <td>0</td>\n",
              "      <td>1</td>\n",
              "      <td>0</td>\n",
              "      <td>0</td>\n",
              "      <td>1</td>\n",
              "    </tr>\n",
              "  </tbody>\n",
              "</table>\n",
              "</div>"
            ],
            "text/plain": [
              "   Pclass   Age     Fare  ...  Embarked_C  Embarked_Q  Embarked_S\n",
              "0       3  22.0   7.2500  ...           0           0           1\n",
              "1       1  38.0  71.2833  ...           1           0           0\n",
              "2       3  26.0   7.9250  ...           0           0           1\n",
              "3       1  35.0  53.1000  ...           0           0           1\n",
              "4       3  35.0   8.0500  ...           0           0           1\n",
              "\n",
              "[5 rows x 11 columns]"
            ]
          },
          "metadata": {
            "tags": []
          },
          "execution_count": 44
        }
      ]
    },
    {
      "cell_type": "code",
      "metadata": {
        "id": "DoqiReYvZg8l",
        "colab_type": "code",
        "colab": {
          "base_uri": "https://localhost:8080/",
          "height": 204
        },
        "outputId": "85623f69-fb81-4226-cda3-cc2400908894"
      },
      "source": [
        "x=titanic.loc[:,titanic.columns!=\"Survived\"]\n",
        "x.head()"
      ],
      "execution_count": 45,
      "outputs": [
        {
          "output_type": "execute_result",
          "data": {
            "text/html": [
              "<div>\n",
              "<style scoped>\n",
              "    .dataframe tbody tr th:only-of-type {\n",
              "        vertical-align: middle;\n",
              "    }\n",
              "\n",
              "    .dataframe tbody tr th {\n",
              "        vertical-align: top;\n",
              "    }\n",
              "\n",
              "    .dataframe thead th {\n",
              "        text-align: right;\n",
              "    }\n",
              "</style>\n",
              "<table border=\"1\" class=\"dataframe\">\n",
              "  <thead>\n",
              "    <tr style=\"text-align: right;\">\n",
              "      <th></th>\n",
              "      <th>Pclass</th>\n",
              "      <th>Age</th>\n",
              "      <th>Fare</th>\n",
              "      <th>Family_Size</th>\n",
              "      <th>Accompany</th>\n",
              "      <th>Gender_Class_Child</th>\n",
              "      <th>Gender_Class_female</th>\n",
              "      <th>Gender_Class_male</th>\n",
              "      <th>Embarked_C</th>\n",
              "      <th>Embarked_Q</th>\n",
              "      <th>Embarked_S</th>\n",
              "    </tr>\n",
              "  </thead>\n",
              "  <tbody>\n",
              "    <tr>\n",
              "      <th>0</th>\n",
              "      <td>3</td>\n",
              "      <td>22.0</td>\n",
              "      <td>7.2500</td>\n",
              "      <td>2</td>\n",
              "      <td>1</td>\n",
              "      <td>0</td>\n",
              "      <td>0</td>\n",
              "      <td>1</td>\n",
              "      <td>0</td>\n",
              "      <td>0</td>\n",
              "      <td>1</td>\n",
              "    </tr>\n",
              "    <tr>\n",
              "      <th>1</th>\n",
              "      <td>1</td>\n",
              "      <td>38.0</td>\n",
              "      <td>71.2833</td>\n",
              "      <td>2</td>\n",
              "      <td>1</td>\n",
              "      <td>0</td>\n",
              "      <td>1</td>\n",
              "      <td>0</td>\n",
              "      <td>1</td>\n",
              "      <td>0</td>\n",
              "      <td>0</td>\n",
              "    </tr>\n",
              "    <tr>\n",
              "      <th>2</th>\n",
              "      <td>3</td>\n",
              "      <td>26.0</td>\n",
              "      <td>7.9250</td>\n",
              "      <td>1</td>\n",
              "      <td>0</td>\n",
              "      <td>0</td>\n",
              "      <td>1</td>\n",
              "      <td>0</td>\n",
              "      <td>0</td>\n",
              "      <td>0</td>\n",
              "      <td>1</td>\n",
              "    </tr>\n",
              "    <tr>\n",
              "      <th>3</th>\n",
              "      <td>1</td>\n",
              "      <td>35.0</td>\n",
              "      <td>53.1000</td>\n",
              "      <td>2</td>\n",
              "      <td>1</td>\n",
              "      <td>0</td>\n",
              "      <td>1</td>\n",
              "      <td>0</td>\n",
              "      <td>0</td>\n",
              "      <td>0</td>\n",
              "      <td>1</td>\n",
              "    </tr>\n",
              "    <tr>\n",
              "      <th>4</th>\n",
              "      <td>3</td>\n",
              "      <td>35.0</td>\n",
              "      <td>8.0500</td>\n",
              "      <td>1</td>\n",
              "      <td>0</td>\n",
              "      <td>0</td>\n",
              "      <td>0</td>\n",
              "      <td>1</td>\n",
              "      <td>0</td>\n",
              "      <td>0</td>\n",
              "      <td>1</td>\n",
              "    </tr>\n",
              "  </tbody>\n",
              "</table>\n",
              "</div>"
            ],
            "text/plain": [
              "   Pclass   Age     Fare  ...  Embarked_C  Embarked_Q  Embarked_S\n",
              "0       3  22.0   7.2500  ...           0           0           1\n",
              "1       1  38.0  71.2833  ...           1           0           0\n",
              "2       3  26.0   7.9250  ...           0           0           1\n",
              "3       1  35.0  53.1000  ...           0           0           1\n",
              "4       3  35.0   8.0500  ...           0           0           1\n",
              "\n",
              "[5 rows x 11 columns]"
            ]
          },
          "metadata": {
            "tags": []
          },
          "execution_count": 45
        }
      ]
    },
    {
      "cell_type": "code",
      "metadata": {
        "id": "KKSxqOUvaAYn",
        "colab_type": "code",
        "colab": {
          "base_uri": "https://localhost:8080/",
          "height": 119
        },
        "outputId": "c8ea6333-83ae-4b2e-fa7a-8c62b2fd5e53"
      },
      "source": [
        "y=titanic[\"Survived\"]\n",
        "y.head()"
      ],
      "execution_count": 46,
      "outputs": [
        {
          "output_type": "execute_result",
          "data": {
            "text/plain": [
              "0    0\n",
              "1    1\n",
              "2    1\n",
              "3    1\n",
              "4    0\n",
              "Name: Survived, dtype: int64"
            ]
          },
          "metadata": {
            "tags": []
          },
          "execution_count": 46
        }
      ]
    },
    {
      "cell_type": "code",
      "metadata": {
        "id": "Dbvih0KJaG1d",
        "colab_type": "code",
        "colab": {}
      },
      "source": [
        "from sklearn.model_selection import train_test_split\n",
        "def split(x,y):\n",
        "  return train_test_split(x,y,test_size=0.20,random_state=1)"
      ],
      "execution_count": 0,
      "outputs": []
    },
    {
      "cell_type": "code",
      "metadata": {
        "id": "tRl7z8JXac20",
        "colab_type": "code",
        "colab": {
          "base_uri": "https://localhost:8080/",
          "height": 85
        },
        "outputId": "043e4c30-e452-4090-93d2-fbd35c9a0f01"
      },
      "source": [
        "xtrain,xtest,ytrain,ytest=split(x,y)\n",
        "print(xtrain.shape)\n",
        "print(xtest.shape)\n",
        "print(ytrain.shape)\n",
        "print(ytest.shape)"
      ],
      "execution_count": 48,
      "outputs": [
        {
          "output_type": "stream",
          "text": [
            "(712, 11)\n",
            "(179, 11)\n",
            "(712,)\n",
            "(179,)\n"
          ],
          "name": "stdout"
        }
      ]
    },
    {
      "cell_type": "code",
      "metadata": {
        "id": "_78sopAJa3h-",
        "colab_type": "code",
        "colab": {
          "base_uri": "https://localhost:8080/",
          "height": 156
        },
        "outputId": "8affa8c9-c98b-44d2-90a6-de73b732ae4b"
      },
      "source": [
        "from sklearn.linear_model import LogisticRegression\n",
        "log=LogisticRegression()\n",
        "log.fit(xtrain,ytrain)"
      ],
      "execution_count": 49,
      "outputs": [
        {
          "output_type": "stream",
          "text": [
            "/usr/local/lib/python3.6/dist-packages/sklearn/linear_model/logistic.py:432: FutureWarning: Default solver will be changed to 'lbfgs' in 0.22. Specify a solver to silence this warning.\n",
            "  FutureWarning)\n"
          ],
          "name": "stderr"
        },
        {
          "output_type": "execute_result",
          "data": {
            "text/plain": [
              "LogisticRegression(C=1.0, class_weight=None, dual=False, fit_intercept=True,\n",
              "                   intercept_scaling=1, l1_ratio=None, max_iter=100,\n",
              "                   multi_class='warn', n_jobs=None, penalty='l2',\n",
              "                   random_state=None, solver='warn', tol=0.0001, verbose=0,\n",
              "                   warm_start=False)"
            ]
          },
          "metadata": {
            "tags": []
          },
          "execution_count": 49
        }
      ]
    },
    {
      "cell_type": "code",
      "metadata": {
        "id": "kCPWViHXeTao",
        "colab_type": "code",
        "colab": {
          "base_uri": "https://localhost:8080/",
          "height": 221
        },
        "outputId": "9dd99dcd-a842-4a00-fc3b-c7e114530059"
      },
      "source": [
        "ypred=log.predict(xtest)\n",
        "ytest-ypred"
      ],
      "execution_count": 50,
      "outputs": [
        {
          "output_type": "execute_result",
          "data": {
            "text/plain": [
              "862    0\n",
              "223    0\n",
              "84     0\n",
              "680   -1\n",
              "535    0\n",
              "      ..\n",
              "796    0\n",
              "815    0\n",
              "629    0\n",
              "421    0\n",
              "448    0\n",
              "Name: Survived, Length: 179, dtype: int64"
            ]
          },
          "metadata": {
            "tags": []
          },
          "execution_count": 50
        }
      ]
    },
    {
      "cell_type": "code",
      "metadata": {
        "id": "F2qMX9mleuT7",
        "colab_type": "code",
        "colab": {
          "base_uri": "https://localhost:8080/",
          "height": 1000
        },
        "outputId": "47b3fdd6-84cb-47c7-9930-83ce4535d095"
      },
      "source": [
        "from sklearn.model_selection import GridSearchCV\n",
        "from sklearn.linear_model import LogisticRegression\n",
        "logreg=LogisticRegression()\n",
        "grid={\"C\":np.logspace(-3,3,7), \n",
        "      \"penalty\":[\"l1\",\"l2\"], \n",
        "      \"tol\":[0.01,0.001,0.0001]}# l1 lasso l2 ridge\n",
        "logreg_cv=GridSearchCV(logreg,grid,cv=10)\n",
        "logreg_cv.fit(xtrain,ytrain)"
      ],
      "execution_count": 52,
      "outputs": [
        {
          "output_type": "stream",
          "text": [
            "/usr/local/lib/python3.6/dist-packages/sklearn/linear_model/logistic.py:432: FutureWarning: Default solver will be changed to 'lbfgs' in 0.22. Specify a solver to silence this warning.\n",
            "  FutureWarning)\n",
            "/usr/local/lib/python3.6/dist-packages/sklearn/linear_model/logistic.py:432: FutureWarning: Default solver will be changed to 'lbfgs' in 0.22. Specify a solver to silence this warning.\n",
            "  FutureWarning)\n",
            "/usr/local/lib/python3.6/dist-packages/sklearn/linear_model/logistic.py:432: FutureWarning: Default solver will be changed to 'lbfgs' in 0.22. Specify a solver to silence this warning.\n",
            "  FutureWarning)\n",
            "/usr/local/lib/python3.6/dist-packages/sklearn/linear_model/logistic.py:432: FutureWarning: Default solver will be changed to 'lbfgs' in 0.22. Specify a solver to silence this warning.\n",
            "  FutureWarning)\n",
            "/usr/local/lib/python3.6/dist-packages/sklearn/linear_model/logistic.py:432: FutureWarning: Default solver will be changed to 'lbfgs' in 0.22. Specify a solver to silence this warning.\n",
            "  FutureWarning)\n",
            "/usr/local/lib/python3.6/dist-packages/sklearn/linear_model/logistic.py:432: FutureWarning: Default solver will be changed to 'lbfgs' in 0.22. Specify a solver to silence this warning.\n",
            "  FutureWarning)\n",
            "/usr/local/lib/python3.6/dist-packages/sklearn/linear_model/logistic.py:432: FutureWarning: Default solver will be changed to 'lbfgs' in 0.22. Specify a solver to silence this warning.\n",
            "  FutureWarning)\n",
            "/usr/local/lib/python3.6/dist-packages/sklearn/linear_model/logistic.py:432: FutureWarning: Default solver will be changed to 'lbfgs' in 0.22. Specify a solver to silence this warning.\n",
            "  FutureWarning)\n",
            "/usr/local/lib/python3.6/dist-packages/sklearn/linear_model/logistic.py:432: FutureWarning: Default solver will be changed to 'lbfgs' in 0.22. Specify a solver to silence this warning.\n",
            "  FutureWarning)\n",
            "/usr/local/lib/python3.6/dist-packages/sklearn/linear_model/logistic.py:432: FutureWarning: Default solver will be changed to 'lbfgs' in 0.22. Specify a solver to silence this warning.\n",
            "  FutureWarning)\n",
            "/usr/local/lib/python3.6/dist-packages/sklearn/linear_model/logistic.py:432: FutureWarning: Default solver will be changed to 'lbfgs' in 0.22. Specify a solver to silence this warning.\n",
            "  FutureWarning)\n",
            "/usr/local/lib/python3.6/dist-packages/sklearn/linear_model/logistic.py:432: FutureWarning: Default solver will be changed to 'lbfgs' in 0.22. Specify a solver to silence this warning.\n",
            "  FutureWarning)\n",
            "/usr/local/lib/python3.6/dist-packages/sklearn/linear_model/logistic.py:432: FutureWarning: Default solver will be changed to 'lbfgs' in 0.22. Specify a solver to silence this warning.\n",
            "  FutureWarning)\n",
            "/usr/local/lib/python3.6/dist-packages/sklearn/linear_model/logistic.py:432: FutureWarning: Default solver will be changed to 'lbfgs' in 0.22. Specify a solver to silence this warning.\n",
            "  FutureWarning)\n",
            "/usr/local/lib/python3.6/dist-packages/sklearn/linear_model/logistic.py:432: FutureWarning: Default solver will be changed to 'lbfgs' in 0.22. Specify a solver to silence this warning.\n",
            "  FutureWarning)\n",
            "/usr/local/lib/python3.6/dist-packages/sklearn/linear_model/logistic.py:432: FutureWarning: Default solver will be changed to 'lbfgs' in 0.22. Specify a solver to silence this warning.\n",
            "  FutureWarning)\n",
            "/usr/local/lib/python3.6/dist-packages/sklearn/linear_model/logistic.py:432: FutureWarning: Default solver will be changed to 'lbfgs' in 0.22. Specify a solver to silence this warning.\n",
            "  FutureWarning)\n",
            "/usr/local/lib/python3.6/dist-packages/sklearn/linear_model/logistic.py:432: FutureWarning: Default solver will be changed to 'lbfgs' in 0.22. Specify a solver to silence this warning.\n",
            "  FutureWarning)\n",
            "/usr/local/lib/python3.6/dist-packages/sklearn/linear_model/logistic.py:432: FutureWarning: Default solver will be changed to 'lbfgs' in 0.22. Specify a solver to silence this warning.\n",
            "  FutureWarning)\n",
            "/usr/local/lib/python3.6/dist-packages/sklearn/linear_model/logistic.py:432: FutureWarning: Default solver will be changed to 'lbfgs' in 0.22. Specify a solver to silence this warning.\n",
            "  FutureWarning)\n",
            "/usr/local/lib/python3.6/dist-packages/sklearn/linear_model/logistic.py:432: FutureWarning: Default solver will be changed to 'lbfgs' in 0.22. Specify a solver to silence this warning.\n",
            "  FutureWarning)\n",
            "/usr/local/lib/python3.6/dist-packages/sklearn/linear_model/logistic.py:432: FutureWarning: Default solver will be changed to 'lbfgs' in 0.22. Specify a solver to silence this warning.\n",
            "  FutureWarning)\n",
            "/usr/local/lib/python3.6/dist-packages/sklearn/linear_model/logistic.py:432: FutureWarning: Default solver will be changed to 'lbfgs' in 0.22. Specify a solver to silence this warning.\n",
            "  FutureWarning)\n",
            "/usr/local/lib/python3.6/dist-packages/sklearn/linear_model/logistic.py:432: FutureWarning: Default solver will be changed to 'lbfgs' in 0.22. Specify a solver to silence this warning.\n",
            "  FutureWarning)\n",
            "/usr/local/lib/python3.6/dist-packages/sklearn/linear_model/logistic.py:432: FutureWarning: Default solver will be changed to 'lbfgs' in 0.22. Specify a solver to silence this warning.\n",
            "  FutureWarning)\n",
            "/usr/local/lib/python3.6/dist-packages/sklearn/linear_model/logistic.py:432: FutureWarning: Default solver will be changed to 'lbfgs' in 0.22. Specify a solver to silence this warning.\n",
            "  FutureWarning)\n",
            "/usr/local/lib/python3.6/dist-packages/sklearn/linear_model/logistic.py:432: FutureWarning: Default solver will be changed to 'lbfgs' in 0.22. Specify a solver to silence this warning.\n",
            "  FutureWarning)\n",
            "/usr/local/lib/python3.6/dist-packages/sklearn/linear_model/logistic.py:432: FutureWarning: Default solver will be changed to 'lbfgs' in 0.22. Specify a solver to silence this warning.\n",
            "  FutureWarning)\n",
            "/usr/local/lib/python3.6/dist-packages/sklearn/linear_model/logistic.py:432: FutureWarning: Default solver will be changed to 'lbfgs' in 0.22. Specify a solver to silence this warning.\n",
            "  FutureWarning)\n",
            "/usr/local/lib/python3.6/dist-packages/sklearn/linear_model/logistic.py:432: FutureWarning: Default solver will be changed to 'lbfgs' in 0.22. Specify a solver to silence this warning.\n",
            "  FutureWarning)\n",
            "/usr/local/lib/python3.6/dist-packages/sklearn/linear_model/logistic.py:432: FutureWarning: Default solver will be changed to 'lbfgs' in 0.22. Specify a solver to silence this warning.\n",
            "  FutureWarning)\n",
            "/usr/local/lib/python3.6/dist-packages/sklearn/linear_model/logistic.py:432: FutureWarning: Default solver will be changed to 'lbfgs' in 0.22. Specify a solver to silence this warning.\n",
            "  FutureWarning)\n",
            "/usr/local/lib/python3.6/dist-packages/sklearn/linear_model/logistic.py:432: FutureWarning: Default solver will be changed to 'lbfgs' in 0.22. Specify a solver to silence this warning.\n",
            "  FutureWarning)\n",
            "/usr/local/lib/python3.6/dist-packages/sklearn/linear_model/logistic.py:432: FutureWarning: Default solver will be changed to 'lbfgs' in 0.22. Specify a solver to silence this warning.\n",
            "  FutureWarning)\n",
            "/usr/local/lib/python3.6/dist-packages/sklearn/linear_model/logistic.py:432: FutureWarning: Default solver will be changed to 'lbfgs' in 0.22. Specify a solver to silence this warning.\n",
            "  FutureWarning)\n",
            "/usr/local/lib/python3.6/dist-packages/sklearn/linear_model/logistic.py:432: FutureWarning: Default solver will be changed to 'lbfgs' in 0.22. Specify a solver to silence this warning.\n",
            "  FutureWarning)\n",
            "/usr/local/lib/python3.6/dist-packages/sklearn/linear_model/logistic.py:432: FutureWarning: Default solver will be changed to 'lbfgs' in 0.22. Specify a solver to silence this warning.\n",
            "  FutureWarning)\n",
            "/usr/local/lib/python3.6/dist-packages/sklearn/linear_model/logistic.py:432: FutureWarning: Default solver will be changed to 'lbfgs' in 0.22. Specify a solver to silence this warning.\n",
            "  FutureWarning)\n",
            "/usr/local/lib/python3.6/dist-packages/sklearn/linear_model/logistic.py:432: FutureWarning: Default solver will be changed to 'lbfgs' in 0.22. Specify a solver to silence this warning.\n",
            "  FutureWarning)\n",
            "/usr/local/lib/python3.6/dist-packages/sklearn/linear_model/logistic.py:432: FutureWarning: Default solver will be changed to 'lbfgs' in 0.22. Specify a solver to silence this warning.\n",
            "  FutureWarning)\n",
            "/usr/local/lib/python3.6/dist-packages/sklearn/linear_model/logistic.py:432: FutureWarning: Default solver will be changed to 'lbfgs' in 0.22. Specify a solver to silence this warning.\n",
            "  FutureWarning)\n",
            "/usr/local/lib/python3.6/dist-packages/sklearn/linear_model/logistic.py:432: FutureWarning: Default solver will be changed to 'lbfgs' in 0.22. Specify a solver to silence this warning.\n",
            "  FutureWarning)\n",
            "/usr/local/lib/python3.6/dist-packages/sklearn/linear_model/logistic.py:432: FutureWarning: Default solver will be changed to 'lbfgs' in 0.22. Specify a solver to silence this warning.\n",
            "  FutureWarning)\n",
            "/usr/local/lib/python3.6/dist-packages/sklearn/linear_model/logistic.py:432: FutureWarning: Default solver will be changed to 'lbfgs' in 0.22. Specify a solver to silence this warning.\n",
            "  FutureWarning)\n",
            "/usr/local/lib/python3.6/dist-packages/sklearn/linear_model/logistic.py:432: FutureWarning: Default solver will be changed to 'lbfgs' in 0.22. Specify a solver to silence this warning.\n",
            "  FutureWarning)\n",
            "/usr/local/lib/python3.6/dist-packages/sklearn/linear_model/logistic.py:432: FutureWarning: Default solver will be changed to 'lbfgs' in 0.22. Specify a solver to silence this warning.\n",
            "  FutureWarning)\n",
            "/usr/local/lib/python3.6/dist-packages/sklearn/linear_model/logistic.py:432: FutureWarning: Default solver will be changed to 'lbfgs' in 0.22. Specify a solver to silence this warning.\n",
            "  FutureWarning)\n",
            "/usr/local/lib/python3.6/dist-packages/sklearn/linear_model/logistic.py:432: FutureWarning: Default solver will be changed to 'lbfgs' in 0.22. Specify a solver to silence this warning.\n",
            "  FutureWarning)\n",
            "/usr/local/lib/python3.6/dist-packages/sklearn/linear_model/logistic.py:432: FutureWarning: Default solver will be changed to 'lbfgs' in 0.22. Specify a solver to silence this warning.\n",
            "  FutureWarning)\n",
            "/usr/local/lib/python3.6/dist-packages/sklearn/linear_model/logistic.py:432: FutureWarning: Default solver will be changed to 'lbfgs' in 0.22. Specify a solver to silence this warning.\n",
            "  FutureWarning)\n",
            "/usr/local/lib/python3.6/dist-packages/sklearn/linear_model/logistic.py:432: FutureWarning: Default solver will be changed to 'lbfgs' in 0.22. Specify a solver to silence this warning.\n",
            "  FutureWarning)\n",
            "/usr/local/lib/python3.6/dist-packages/sklearn/linear_model/logistic.py:432: FutureWarning: Default solver will be changed to 'lbfgs' in 0.22. Specify a solver to silence this warning.\n",
            "  FutureWarning)\n",
            "/usr/local/lib/python3.6/dist-packages/sklearn/linear_model/logistic.py:432: FutureWarning: Default solver will be changed to 'lbfgs' in 0.22. Specify a solver to silence this warning.\n",
            "  FutureWarning)\n",
            "/usr/local/lib/python3.6/dist-packages/sklearn/linear_model/logistic.py:432: FutureWarning: Default solver will be changed to 'lbfgs' in 0.22. Specify a solver to silence this warning.\n",
            "  FutureWarning)\n",
            "/usr/local/lib/python3.6/dist-packages/sklearn/linear_model/logistic.py:432: FutureWarning: Default solver will be changed to 'lbfgs' in 0.22. Specify a solver to silence this warning.\n",
            "  FutureWarning)\n",
            "/usr/local/lib/python3.6/dist-packages/sklearn/linear_model/logistic.py:432: FutureWarning: Default solver will be changed to 'lbfgs' in 0.22. Specify a solver to silence this warning.\n",
            "  FutureWarning)\n",
            "/usr/local/lib/python3.6/dist-packages/sklearn/linear_model/logistic.py:432: FutureWarning: Default solver will be changed to 'lbfgs' in 0.22. Specify a solver to silence this warning.\n",
            "  FutureWarning)\n",
            "/usr/local/lib/python3.6/dist-packages/sklearn/linear_model/logistic.py:432: FutureWarning: Default solver will be changed to 'lbfgs' in 0.22. Specify a solver to silence this warning.\n",
            "  FutureWarning)\n",
            "/usr/local/lib/python3.6/dist-packages/sklearn/linear_model/logistic.py:432: FutureWarning: Default solver will be changed to 'lbfgs' in 0.22. Specify a solver to silence this warning.\n",
            "  FutureWarning)\n",
            "/usr/local/lib/python3.6/dist-packages/sklearn/linear_model/logistic.py:432: FutureWarning: Default solver will be changed to 'lbfgs' in 0.22. Specify a solver to silence this warning.\n",
            "  FutureWarning)\n",
            "/usr/local/lib/python3.6/dist-packages/sklearn/linear_model/logistic.py:432: FutureWarning: Default solver will be changed to 'lbfgs' in 0.22. Specify a solver to silence this warning.\n",
            "  FutureWarning)\n",
            "/usr/local/lib/python3.6/dist-packages/sklearn/linear_model/logistic.py:432: FutureWarning: Default solver will be changed to 'lbfgs' in 0.22. Specify a solver to silence this warning.\n",
            "  FutureWarning)\n",
            "/usr/local/lib/python3.6/dist-packages/sklearn/linear_model/logistic.py:432: FutureWarning: Default solver will be changed to 'lbfgs' in 0.22. Specify a solver to silence this warning.\n",
            "  FutureWarning)\n",
            "/usr/local/lib/python3.6/dist-packages/sklearn/linear_model/logistic.py:432: FutureWarning: Default solver will be changed to 'lbfgs' in 0.22. Specify a solver to silence this warning.\n",
            "  FutureWarning)\n",
            "/usr/local/lib/python3.6/dist-packages/sklearn/linear_model/logistic.py:432: FutureWarning: Default solver will be changed to 'lbfgs' in 0.22. Specify a solver to silence this warning.\n",
            "  FutureWarning)\n",
            "/usr/local/lib/python3.6/dist-packages/sklearn/linear_model/logistic.py:432: FutureWarning: Default solver will be changed to 'lbfgs' in 0.22. Specify a solver to silence this warning.\n",
            "  FutureWarning)\n",
            "/usr/local/lib/python3.6/dist-packages/sklearn/linear_model/logistic.py:432: FutureWarning: Default solver will be changed to 'lbfgs' in 0.22. Specify a solver to silence this warning.\n",
            "  FutureWarning)\n",
            "/usr/local/lib/python3.6/dist-packages/sklearn/linear_model/logistic.py:432: FutureWarning: Default solver will be changed to 'lbfgs' in 0.22. Specify a solver to silence this warning.\n",
            "  FutureWarning)\n",
            "/usr/local/lib/python3.6/dist-packages/sklearn/linear_model/logistic.py:432: FutureWarning: Default solver will be changed to 'lbfgs' in 0.22. Specify a solver to silence this warning.\n",
            "  FutureWarning)\n",
            "/usr/local/lib/python3.6/dist-packages/sklearn/linear_model/logistic.py:432: FutureWarning: Default solver will be changed to 'lbfgs' in 0.22. Specify a solver to silence this warning.\n",
            "  FutureWarning)\n",
            "/usr/local/lib/python3.6/dist-packages/sklearn/linear_model/logistic.py:432: FutureWarning: Default solver will be changed to 'lbfgs' in 0.22. Specify a solver to silence this warning.\n",
            "  FutureWarning)\n",
            "/usr/local/lib/python3.6/dist-packages/sklearn/linear_model/logistic.py:432: FutureWarning: Default solver will be changed to 'lbfgs' in 0.22. Specify a solver to silence this warning.\n",
            "  FutureWarning)\n",
            "/usr/local/lib/python3.6/dist-packages/sklearn/linear_model/logistic.py:432: FutureWarning: Default solver will be changed to 'lbfgs' in 0.22. Specify a solver to silence this warning.\n",
            "  FutureWarning)\n",
            "/usr/local/lib/python3.6/dist-packages/sklearn/linear_model/logistic.py:432: FutureWarning: Default solver will be changed to 'lbfgs' in 0.22. Specify a solver to silence this warning.\n",
            "  FutureWarning)\n",
            "/usr/local/lib/python3.6/dist-packages/sklearn/linear_model/logistic.py:432: FutureWarning: Default solver will be changed to 'lbfgs' in 0.22. Specify a solver to silence this warning.\n",
            "  FutureWarning)\n",
            "/usr/local/lib/python3.6/dist-packages/sklearn/linear_model/logistic.py:432: FutureWarning: Default solver will be changed to 'lbfgs' in 0.22. Specify a solver to silence this warning.\n",
            "  FutureWarning)\n",
            "/usr/local/lib/python3.6/dist-packages/sklearn/linear_model/logistic.py:432: FutureWarning: Default solver will be changed to 'lbfgs' in 0.22. Specify a solver to silence this warning.\n",
            "  FutureWarning)\n",
            "/usr/local/lib/python3.6/dist-packages/sklearn/linear_model/logistic.py:432: FutureWarning: Default solver will be changed to 'lbfgs' in 0.22. Specify a solver to silence this warning.\n",
            "  FutureWarning)\n",
            "/usr/local/lib/python3.6/dist-packages/sklearn/linear_model/logistic.py:432: FutureWarning: Default solver will be changed to 'lbfgs' in 0.22. Specify a solver to silence this warning.\n",
            "  FutureWarning)\n",
            "/usr/local/lib/python3.6/dist-packages/sklearn/linear_model/logistic.py:432: FutureWarning: Default solver will be changed to 'lbfgs' in 0.22. Specify a solver to silence this warning.\n",
            "  FutureWarning)\n",
            "/usr/local/lib/python3.6/dist-packages/sklearn/linear_model/logistic.py:432: FutureWarning: Default solver will be changed to 'lbfgs' in 0.22. Specify a solver to silence this warning.\n",
            "  FutureWarning)\n",
            "/usr/local/lib/python3.6/dist-packages/sklearn/linear_model/logistic.py:432: FutureWarning: Default solver will be changed to 'lbfgs' in 0.22. Specify a solver to silence this warning.\n",
            "  FutureWarning)\n",
            "/usr/local/lib/python3.6/dist-packages/sklearn/linear_model/logistic.py:432: FutureWarning: Default solver will be changed to 'lbfgs' in 0.22. Specify a solver to silence this warning.\n",
            "  FutureWarning)\n",
            "/usr/local/lib/python3.6/dist-packages/sklearn/linear_model/logistic.py:432: FutureWarning: Default solver will be changed to 'lbfgs' in 0.22. Specify a solver to silence this warning.\n",
            "  FutureWarning)\n",
            "/usr/local/lib/python3.6/dist-packages/sklearn/linear_model/logistic.py:432: FutureWarning: Default solver will be changed to 'lbfgs' in 0.22. Specify a solver to silence this warning.\n",
            "  FutureWarning)\n",
            "/usr/local/lib/python3.6/dist-packages/sklearn/linear_model/logistic.py:432: FutureWarning: Default solver will be changed to 'lbfgs' in 0.22. Specify a solver to silence this warning.\n",
            "  FutureWarning)\n",
            "/usr/local/lib/python3.6/dist-packages/sklearn/linear_model/logistic.py:432: FutureWarning: Default solver will be changed to 'lbfgs' in 0.22. Specify a solver to silence this warning.\n",
            "  FutureWarning)\n",
            "/usr/local/lib/python3.6/dist-packages/sklearn/linear_model/logistic.py:432: FutureWarning: Default solver will be changed to 'lbfgs' in 0.22. Specify a solver to silence this warning.\n",
            "  FutureWarning)\n",
            "/usr/local/lib/python3.6/dist-packages/sklearn/linear_model/logistic.py:432: FutureWarning: Default solver will be changed to 'lbfgs' in 0.22. Specify a solver to silence this warning.\n",
            "  FutureWarning)\n",
            "/usr/local/lib/python3.6/dist-packages/sklearn/linear_model/logistic.py:432: FutureWarning: Default solver will be changed to 'lbfgs' in 0.22. Specify a solver to silence this warning.\n",
            "  FutureWarning)\n",
            "/usr/local/lib/python3.6/dist-packages/sklearn/linear_model/logistic.py:432: FutureWarning: Default solver will be changed to 'lbfgs' in 0.22. Specify a solver to silence this warning.\n",
            "  FutureWarning)\n",
            "/usr/local/lib/python3.6/dist-packages/sklearn/linear_model/logistic.py:432: FutureWarning: Default solver will be changed to 'lbfgs' in 0.22. Specify a solver to silence this warning.\n",
            "  FutureWarning)\n",
            "/usr/local/lib/python3.6/dist-packages/sklearn/linear_model/logistic.py:432: FutureWarning: Default solver will be changed to 'lbfgs' in 0.22. Specify a solver to silence this warning.\n",
            "  FutureWarning)\n",
            "/usr/local/lib/python3.6/dist-packages/sklearn/linear_model/logistic.py:432: FutureWarning: Default solver will be changed to 'lbfgs' in 0.22. Specify a solver to silence this warning.\n",
            "  FutureWarning)\n",
            "/usr/local/lib/python3.6/dist-packages/sklearn/linear_model/logistic.py:432: FutureWarning: Default solver will be changed to 'lbfgs' in 0.22. Specify a solver to silence this warning.\n",
            "  FutureWarning)\n",
            "/usr/local/lib/python3.6/dist-packages/sklearn/linear_model/logistic.py:432: FutureWarning: Default solver will be changed to 'lbfgs' in 0.22. Specify a solver to silence this warning.\n",
            "  FutureWarning)\n",
            "/usr/local/lib/python3.6/dist-packages/sklearn/linear_model/logistic.py:432: FutureWarning: Default solver will be changed to 'lbfgs' in 0.22. Specify a solver to silence this warning.\n",
            "  FutureWarning)\n",
            "/usr/local/lib/python3.6/dist-packages/sklearn/linear_model/logistic.py:432: FutureWarning: Default solver will be changed to 'lbfgs' in 0.22. Specify a solver to silence this warning.\n",
            "  FutureWarning)\n",
            "/usr/local/lib/python3.6/dist-packages/sklearn/linear_model/logistic.py:432: FutureWarning: Default solver will be changed to 'lbfgs' in 0.22. Specify a solver to silence this warning.\n",
            "  FutureWarning)\n",
            "/usr/local/lib/python3.6/dist-packages/sklearn/linear_model/logistic.py:432: FutureWarning: Default solver will be changed to 'lbfgs' in 0.22. Specify a solver to silence this warning.\n",
            "  FutureWarning)\n",
            "/usr/local/lib/python3.6/dist-packages/sklearn/linear_model/logistic.py:432: FutureWarning: Default solver will be changed to 'lbfgs' in 0.22. Specify a solver to silence this warning.\n",
            "  FutureWarning)\n",
            "/usr/local/lib/python3.6/dist-packages/sklearn/linear_model/logistic.py:432: FutureWarning: Default solver will be changed to 'lbfgs' in 0.22. Specify a solver to silence this warning.\n",
            "  FutureWarning)\n",
            "/usr/local/lib/python3.6/dist-packages/sklearn/linear_model/logistic.py:432: FutureWarning: Default solver will be changed to 'lbfgs' in 0.22. Specify a solver to silence this warning.\n",
            "  FutureWarning)\n",
            "/usr/local/lib/python3.6/dist-packages/sklearn/linear_model/logistic.py:432: FutureWarning: Default solver will be changed to 'lbfgs' in 0.22. Specify a solver to silence this warning.\n",
            "  FutureWarning)\n",
            "/usr/local/lib/python3.6/dist-packages/sklearn/linear_model/logistic.py:432: FutureWarning: Default solver will be changed to 'lbfgs' in 0.22. Specify a solver to silence this warning.\n",
            "  FutureWarning)\n",
            "/usr/local/lib/python3.6/dist-packages/sklearn/linear_model/logistic.py:432: FutureWarning: Default solver will be changed to 'lbfgs' in 0.22. Specify a solver to silence this warning.\n",
            "  FutureWarning)\n",
            "/usr/local/lib/python3.6/dist-packages/sklearn/linear_model/logistic.py:432: FutureWarning: Default solver will be changed to 'lbfgs' in 0.22. Specify a solver to silence this warning.\n",
            "  FutureWarning)\n",
            "/usr/local/lib/python3.6/dist-packages/sklearn/linear_model/logistic.py:432: FutureWarning: Default solver will be changed to 'lbfgs' in 0.22. Specify a solver to silence this warning.\n",
            "  FutureWarning)\n",
            "/usr/local/lib/python3.6/dist-packages/sklearn/linear_model/logistic.py:432: FutureWarning: Default solver will be changed to 'lbfgs' in 0.22. Specify a solver to silence this warning.\n",
            "  FutureWarning)\n",
            "/usr/local/lib/python3.6/dist-packages/sklearn/linear_model/logistic.py:432: FutureWarning: Default solver will be changed to 'lbfgs' in 0.22. Specify a solver to silence this warning.\n",
            "  FutureWarning)\n",
            "/usr/local/lib/python3.6/dist-packages/sklearn/linear_model/logistic.py:432: FutureWarning: Default solver will be changed to 'lbfgs' in 0.22. Specify a solver to silence this warning.\n",
            "  FutureWarning)\n",
            "/usr/local/lib/python3.6/dist-packages/sklearn/linear_model/logistic.py:432: FutureWarning: Default solver will be changed to 'lbfgs' in 0.22. Specify a solver to silence this warning.\n",
            "  FutureWarning)\n",
            "/usr/local/lib/python3.6/dist-packages/sklearn/linear_model/logistic.py:432: FutureWarning: Default solver will be changed to 'lbfgs' in 0.22. Specify a solver to silence this warning.\n",
            "  FutureWarning)\n",
            "/usr/local/lib/python3.6/dist-packages/sklearn/linear_model/logistic.py:432: FutureWarning: Default solver will be changed to 'lbfgs' in 0.22. Specify a solver to silence this warning.\n",
            "  FutureWarning)\n",
            "/usr/local/lib/python3.6/dist-packages/sklearn/linear_model/logistic.py:432: FutureWarning: Default solver will be changed to 'lbfgs' in 0.22. Specify a solver to silence this warning.\n",
            "  FutureWarning)\n",
            "/usr/local/lib/python3.6/dist-packages/sklearn/linear_model/logistic.py:432: FutureWarning: Default solver will be changed to 'lbfgs' in 0.22. Specify a solver to silence this warning.\n",
            "  FutureWarning)\n",
            "/usr/local/lib/python3.6/dist-packages/sklearn/linear_model/logistic.py:432: FutureWarning: Default solver will be changed to 'lbfgs' in 0.22. Specify a solver to silence this warning.\n",
            "  FutureWarning)\n",
            "/usr/local/lib/python3.6/dist-packages/sklearn/linear_model/logistic.py:432: FutureWarning: Default solver will be changed to 'lbfgs' in 0.22. Specify a solver to silence this warning.\n",
            "  FutureWarning)\n",
            "/usr/local/lib/python3.6/dist-packages/sklearn/linear_model/logistic.py:432: FutureWarning: Default solver will be changed to 'lbfgs' in 0.22. Specify a solver to silence this warning.\n",
            "  FutureWarning)\n",
            "/usr/local/lib/python3.6/dist-packages/sklearn/linear_model/logistic.py:432: FutureWarning: Default solver will be changed to 'lbfgs' in 0.22. Specify a solver to silence this warning.\n",
            "  FutureWarning)\n",
            "/usr/local/lib/python3.6/dist-packages/sklearn/linear_model/logistic.py:432: FutureWarning: Default solver will be changed to 'lbfgs' in 0.22. Specify a solver to silence this warning.\n",
            "  FutureWarning)\n",
            "/usr/local/lib/python3.6/dist-packages/sklearn/linear_model/logistic.py:432: FutureWarning: Default solver will be changed to 'lbfgs' in 0.22. Specify a solver to silence this warning.\n",
            "  FutureWarning)\n",
            "/usr/local/lib/python3.6/dist-packages/sklearn/linear_model/logistic.py:432: FutureWarning: Default solver will be changed to 'lbfgs' in 0.22. Specify a solver to silence this warning.\n",
            "  FutureWarning)\n",
            "/usr/local/lib/python3.6/dist-packages/sklearn/linear_model/logistic.py:432: FutureWarning: Default solver will be changed to 'lbfgs' in 0.22. Specify a solver to silence this warning.\n",
            "  FutureWarning)\n",
            "/usr/local/lib/python3.6/dist-packages/sklearn/linear_model/logistic.py:432: FutureWarning: Default solver will be changed to 'lbfgs' in 0.22. Specify a solver to silence this warning.\n",
            "  FutureWarning)\n",
            "/usr/local/lib/python3.6/dist-packages/sklearn/linear_model/logistic.py:432: FutureWarning: Default solver will be changed to 'lbfgs' in 0.22. Specify a solver to silence this warning.\n",
            "  FutureWarning)\n",
            "/usr/local/lib/python3.6/dist-packages/sklearn/linear_model/logistic.py:432: FutureWarning: Default solver will be changed to 'lbfgs' in 0.22. Specify a solver to silence this warning.\n",
            "  FutureWarning)\n",
            "/usr/local/lib/python3.6/dist-packages/sklearn/linear_model/logistic.py:432: FutureWarning: Default solver will be changed to 'lbfgs' in 0.22. Specify a solver to silence this warning.\n",
            "  FutureWarning)\n",
            "/usr/local/lib/python3.6/dist-packages/sklearn/linear_model/logistic.py:432: FutureWarning: Default solver will be changed to 'lbfgs' in 0.22. Specify a solver to silence this warning.\n",
            "  FutureWarning)\n",
            "/usr/local/lib/python3.6/dist-packages/sklearn/linear_model/logistic.py:432: FutureWarning: Default solver will be changed to 'lbfgs' in 0.22. Specify a solver to silence this warning.\n",
            "  FutureWarning)\n",
            "/usr/local/lib/python3.6/dist-packages/sklearn/linear_model/logistic.py:432: FutureWarning: Default solver will be changed to 'lbfgs' in 0.22. Specify a solver to silence this warning.\n",
            "  FutureWarning)\n",
            "/usr/local/lib/python3.6/dist-packages/sklearn/linear_model/logistic.py:432: FutureWarning: Default solver will be changed to 'lbfgs' in 0.22. Specify a solver to silence this warning.\n",
            "  FutureWarning)\n",
            "/usr/local/lib/python3.6/dist-packages/sklearn/linear_model/logistic.py:432: FutureWarning: Default solver will be changed to 'lbfgs' in 0.22. Specify a solver to silence this warning.\n",
            "  FutureWarning)\n",
            "/usr/local/lib/python3.6/dist-packages/sklearn/linear_model/logistic.py:432: FutureWarning: Default solver will be changed to 'lbfgs' in 0.22. Specify a solver to silence this warning.\n",
            "  FutureWarning)\n",
            "/usr/local/lib/python3.6/dist-packages/sklearn/linear_model/logistic.py:432: FutureWarning: Default solver will be changed to 'lbfgs' in 0.22. Specify a solver to silence this warning.\n",
            "  FutureWarning)\n",
            "/usr/local/lib/python3.6/dist-packages/sklearn/linear_model/logistic.py:432: FutureWarning: Default solver will be changed to 'lbfgs' in 0.22. Specify a solver to silence this warning.\n",
            "  FutureWarning)\n",
            "/usr/local/lib/python3.6/dist-packages/sklearn/linear_model/logistic.py:432: FutureWarning: Default solver will be changed to 'lbfgs' in 0.22. Specify a solver to silence this warning.\n",
            "  FutureWarning)\n",
            "/usr/local/lib/python3.6/dist-packages/sklearn/linear_model/logistic.py:432: FutureWarning: Default solver will be changed to 'lbfgs' in 0.22. Specify a solver to silence this warning.\n",
            "  FutureWarning)\n",
            "/usr/local/lib/python3.6/dist-packages/sklearn/linear_model/logistic.py:432: FutureWarning: Default solver will be changed to 'lbfgs' in 0.22. Specify a solver to silence this warning.\n",
            "  FutureWarning)\n",
            "/usr/local/lib/python3.6/dist-packages/sklearn/linear_model/logistic.py:432: FutureWarning: Default solver will be changed to 'lbfgs' in 0.22. Specify a solver to silence this warning.\n",
            "  FutureWarning)\n",
            "/usr/local/lib/python3.6/dist-packages/sklearn/linear_model/logistic.py:432: FutureWarning: Default solver will be changed to 'lbfgs' in 0.22. Specify a solver to silence this warning.\n",
            "  FutureWarning)\n",
            "/usr/local/lib/python3.6/dist-packages/sklearn/linear_model/logistic.py:432: FutureWarning: Default solver will be changed to 'lbfgs' in 0.22. Specify a solver to silence this warning.\n",
            "  FutureWarning)\n",
            "/usr/local/lib/python3.6/dist-packages/sklearn/linear_model/logistic.py:432: FutureWarning: Default solver will be changed to 'lbfgs' in 0.22. Specify a solver to silence this warning.\n",
            "  FutureWarning)\n",
            "/usr/local/lib/python3.6/dist-packages/sklearn/linear_model/logistic.py:432: FutureWarning: Default solver will be changed to 'lbfgs' in 0.22. Specify a solver to silence this warning.\n",
            "  FutureWarning)\n",
            "/usr/local/lib/python3.6/dist-packages/sklearn/linear_model/logistic.py:432: FutureWarning: Default solver will be changed to 'lbfgs' in 0.22. Specify a solver to silence this warning.\n",
            "  FutureWarning)\n",
            "/usr/local/lib/python3.6/dist-packages/sklearn/linear_model/logistic.py:432: FutureWarning: Default solver will be changed to 'lbfgs' in 0.22. Specify a solver to silence this warning.\n",
            "  FutureWarning)\n",
            "/usr/local/lib/python3.6/dist-packages/sklearn/linear_model/logistic.py:432: FutureWarning: Default solver will be changed to 'lbfgs' in 0.22. Specify a solver to silence this warning.\n",
            "  FutureWarning)\n",
            "/usr/local/lib/python3.6/dist-packages/sklearn/linear_model/logistic.py:432: FutureWarning: Default solver will be changed to 'lbfgs' in 0.22. Specify a solver to silence this warning.\n",
            "  FutureWarning)\n",
            "/usr/local/lib/python3.6/dist-packages/sklearn/linear_model/logistic.py:432: FutureWarning: Default solver will be changed to 'lbfgs' in 0.22. Specify a solver to silence this warning.\n",
            "  FutureWarning)\n",
            "/usr/local/lib/python3.6/dist-packages/sklearn/linear_model/logistic.py:432: FutureWarning: Default solver will be changed to 'lbfgs' in 0.22. Specify a solver to silence this warning.\n",
            "  FutureWarning)\n",
            "/usr/local/lib/python3.6/dist-packages/sklearn/linear_model/logistic.py:432: FutureWarning: Default solver will be changed to 'lbfgs' in 0.22. Specify a solver to silence this warning.\n",
            "  FutureWarning)\n",
            "/usr/local/lib/python3.6/dist-packages/sklearn/linear_model/logistic.py:432: FutureWarning: Default solver will be changed to 'lbfgs' in 0.22. Specify a solver to silence this warning.\n",
            "  FutureWarning)\n",
            "/usr/local/lib/python3.6/dist-packages/sklearn/linear_model/logistic.py:432: FutureWarning: Default solver will be changed to 'lbfgs' in 0.22. Specify a solver to silence this warning.\n",
            "  FutureWarning)\n",
            "/usr/local/lib/python3.6/dist-packages/sklearn/linear_model/logistic.py:432: FutureWarning: Default solver will be changed to 'lbfgs' in 0.22. Specify a solver to silence this warning.\n",
            "  FutureWarning)\n",
            "/usr/local/lib/python3.6/dist-packages/sklearn/linear_model/logistic.py:432: FutureWarning: Default solver will be changed to 'lbfgs' in 0.22. Specify a solver to silence this warning.\n",
            "  FutureWarning)\n",
            "/usr/local/lib/python3.6/dist-packages/sklearn/linear_model/logistic.py:432: FutureWarning: Default solver will be changed to 'lbfgs' in 0.22. Specify a solver to silence this warning.\n",
            "  FutureWarning)\n",
            "/usr/local/lib/python3.6/dist-packages/sklearn/linear_model/logistic.py:432: FutureWarning: Default solver will be changed to 'lbfgs' in 0.22. Specify a solver to silence this warning.\n",
            "  FutureWarning)\n",
            "/usr/local/lib/python3.6/dist-packages/sklearn/linear_model/logistic.py:432: FutureWarning: Default solver will be changed to 'lbfgs' in 0.22. Specify a solver to silence this warning.\n",
            "  FutureWarning)\n",
            "/usr/local/lib/python3.6/dist-packages/sklearn/linear_model/logistic.py:432: FutureWarning: Default solver will be changed to 'lbfgs' in 0.22. Specify a solver to silence this warning.\n",
            "  FutureWarning)\n",
            "/usr/local/lib/python3.6/dist-packages/sklearn/linear_model/logistic.py:432: FutureWarning: Default solver will be changed to 'lbfgs' in 0.22. Specify a solver to silence this warning.\n",
            "  FutureWarning)\n",
            "/usr/local/lib/python3.6/dist-packages/sklearn/linear_model/logistic.py:432: FutureWarning: Default solver will be changed to 'lbfgs' in 0.22. Specify a solver to silence this warning.\n",
            "  FutureWarning)\n",
            "/usr/local/lib/python3.6/dist-packages/sklearn/linear_model/logistic.py:432: FutureWarning: Default solver will be changed to 'lbfgs' in 0.22. Specify a solver to silence this warning.\n",
            "  FutureWarning)\n",
            "/usr/local/lib/python3.6/dist-packages/sklearn/linear_model/logistic.py:432: FutureWarning: Default solver will be changed to 'lbfgs' in 0.22. Specify a solver to silence this warning.\n",
            "  FutureWarning)\n",
            "/usr/local/lib/python3.6/dist-packages/sklearn/linear_model/logistic.py:432: FutureWarning: Default solver will be changed to 'lbfgs' in 0.22. Specify a solver to silence this warning.\n",
            "  FutureWarning)\n",
            "/usr/local/lib/python3.6/dist-packages/sklearn/linear_model/logistic.py:432: FutureWarning: Default solver will be changed to 'lbfgs' in 0.22. Specify a solver to silence this warning.\n",
            "  FutureWarning)\n",
            "/usr/local/lib/python3.6/dist-packages/sklearn/linear_model/logistic.py:432: FutureWarning: Default solver will be changed to 'lbfgs' in 0.22. Specify a solver to silence this warning.\n",
            "  FutureWarning)\n",
            "/usr/local/lib/python3.6/dist-packages/sklearn/linear_model/logistic.py:432: FutureWarning: Default solver will be changed to 'lbfgs' in 0.22. Specify a solver to silence this warning.\n",
            "  FutureWarning)\n",
            "/usr/local/lib/python3.6/dist-packages/sklearn/linear_model/logistic.py:432: FutureWarning: Default solver will be changed to 'lbfgs' in 0.22. Specify a solver to silence this warning.\n",
            "  FutureWarning)\n",
            "/usr/local/lib/python3.6/dist-packages/sklearn/linear_model/logistic.py:432: FutureWarning: Default solver will be changed to 'lbfgs' in 0.22. Specify a solver to silence this warning.\n",
            "  FutureWarning)\n",
            "/usr/local/lib/python3.6/dist-packages/sklearn/linear_model/logistic.py:432: FutureWarning: Default solver will be changed to 'lbfgs' in 0.22. Specify a solver to silence this warning.\n",
            "  FutureWarning)\n",
            "/usr/local/lib/python3.6/dist-packages/sklearn/linear_model/logistic.py:432: FutureWarning: Default solver will be changed to 'lbfgs' in 0.22. Specify a solver to silence this warning.\n",
            "  FutureWarning)\n",
            "/usr/local/lib/python3.6/dist-packages/sklearn/linear_model/logistic.py:432: FutureWarning: Default solver will be changed to 'lbfgs' in 0.22. Specify a solver to silence this warning.\n",
            "  FutureWarning)\n",
            "/usr/local/lib/python3.6/dist-packages/sklearn/linear_model/logistic.py:432: FutureWarning: Default solver will be changed to 'lbfgs' in 0.22. Specify a solver to silence this warning.\n",
            "  FutureWarning)\n",
            "/usr/local/lib/python3.6/dist-packages/sklearn/linear_model/logistic.py:432: FutureWarning: Default solver will be changed to 'lbfgs' in 0.22. Specify a solver to silence this warning.\n",
            "  FutureWarning)\n",
            "/usr/local/lib/python3.6/dist-packages/sklearn/linear_model/logistic.py:432: FutureWarning: Default solver will be changed to 'lbfgs' in 0.22. Specify a solver to silence this warning.\n",
            "  FutureWarning)\n",
            "/usr/local/lib/python3.6/dist-packages/sklearn/linear_model/logistic.py:432: FutureWarning: Default solver will be changed to 'lbfgs' in 0.22. Specify a solver to silence this warning.\n",
            "  FutureWarning)\n",
            "/usr/local/lib/python3.6/dist-packages/sklearn/linear_model/logistic.py:432: FutureWarning: Default solver will be changed to 'lbfgs' in 0.22. Specify a solver to silence this warning.\n",
            "  FutureWarning)\n",
            "/usr/local/lib/python3.6/dist-packages/sklearn/linear_model/logistic.py:432: FutureWarning: Default solver will be changed to 'lbfgs' in 0.22. Specify a solver to silence this warning.\n",
            "  FutureWarning)\n",
            "/usr/local/lib/python3.6/dist-packages/sklearn/linear_model/logistic.py:432: FutureWarning: Default solver will be changed to 'lbfgs' in 0.22. Specify a solver to silence this warning.\n",
            "  FutureWarning)\n",
            "/usr/local/lib/python3.6/dist-packages/sklearn/linear_model/logistic.py:432: FutureWarning: Default solver will be changed to 'lbfgs' in 0.22. Specify a solver to silence this warning.\n",
            "  FutureWarning)\n",
            "/usr/local/lib/python3.6/dist-packages/sklearn/linear_model/logistic.py:432: FutureWarning: Default solver will be changed to 'lbfgs' in 0.22. Specify a solver to silence this warning.\n",
            "  FutureWarning)\n",
            "/usr/local/lib/python3.6/dist-packages/sklearn/linear_model/logistic.py:432: FutureWarning: Default solver will be changed to 'lbfgs' in 0.22. Specify a solver to silence this warning.\n",
            "  FutureWarning)\n",
            "/usr/local/lib/python3.6/dist-packages/sklearn/linear_model/logistic.py:432: FutureWarning: Default solver will be changed to 'lbfgs' in 0.22. Specify a solver to silence this warning.\n",
            "  FutureWarning)\n",
            "/usr/local/lib/python3.6/dist-packages/sklearn/linear_model/logistic.py:432: FutureWarning: Default solver will be changed to 'lbfgs' in 0.22. Specify a solver to silence this warning.\n",
            "  FutureWarning)\n",
            "/usr/local/lib/python3.6/dist-packages/sklearn/linear_model/logistic.py:432: FutureWarning: Default solver will be changed to 'lbfgs' in 0.22. Specify a solver to silence this warning.\n",
            "  FutureWarning)\n",
            "/usr/local/lib/python3.6/dist-packages/sklearn/linear_model/logistic.py:432: FutureWarning: Default solver will be changed to 'lbfgs' in 0.22. Specify a solver to silence this warning.\n",
            "  FutureWarning)\n",
            "/usr/local/lib/python3.6/dist-packages/sklearn/linear_model/logistic.py:432: FutureWarning: Default solver will be changed to 'lbfgs' in 0.22. Specify a solver to silence this warning.\n",
            "  FutureWarning)\n",
            "/usr/local/lib/python3.6/dist-packages/sklearn/linear_model/logistic.py:432: FutureWarning: Default solver will be changed to 'lbfgs' in 0.22. Specify a solver to silence this warning.\n",
            "  FutureWarning)\n",
            "/usr/local/lib/python3.6/dist-packages/sklearn/linear_model/logistic.py:432: FutureWarning: Default solver will be changed to 'lbfgs' in 0.22. Specify a solver to silence this warning.\n",
            "  FutureWarning)\n",
            "/usr/local/lib/python3.6/dist-packages/sklearn/linear_model/logistic.py:432: FutureWarning: Default solver will be changed to 'lbfgs' in 0.22. Specify a solver to silence this warning.\n",
            "  FutureWarning)\n",
            "/usr/local/lib/python3.6/dist-packages/sklearn/linear_model/logistic.py:432: FutureWarning: Default solver will be changed to 'lbfgs' in 0.22. Specify a solver to silence this warning.\n",
            "  FutureWarning)\n",
            "/usr/local/lib/python3.6/dist-packages/sklearn/linear_model/logistic.py:432: FutureWarning: Default solver will be changed to 'lbfgs' in 0.22. Specify a solver to silence this warning.\n",
            "  FutureWarning)\n",
            "/usr/local/lib/python3.6/dist-packages/sklearn/linear_model/logistic.py:432: FutureWarning: Default solver will be changed to 'lbfgs' in 0.22. Specify a solver to silence this warning.\n",
            "  FutureWarning)\n",
            "/usr/local/lib/python3.6/dist-packages/sklearn/linear_model/logistic.py:432: FutureWarning: Default solver will be changed to 'lbfgs' in 0.22. Specify a solver to silence this warning.\n",
            "  FutureWarning)\n",
            "/usr/local/lib/python3.6/dist-packages/sklearn/linear_model/logistic.py:432: FutureWarning: Default solver will be changed to 'lbfgs' in 0.22. Specify a solver to silence this warning.\n",
            "  FutureWarning)\n",
            "/usr/local/lib/python3.6/dist-packages/sklearn/linear_model/logistic.py:432: FutureWarning: Default solver will be changed to 'lbfgs' in 0.22. Specify a solver to silence this warning.\n",
            "  FutureWarning)\n",
            "/usr/local/lib/python3.6/dist-packages/sklearn/linear_model/logistic.py:432: FutureWarning: Default solver will be changed to 'lbfgs' in 0.22. Specify a solver to silence this warning.\n",
            "  FutureWarning)\n",
            "/usr/local/lib/python3.6/dist-packages/sklearn/linear_model/logistic.py:432: FutureWarning: Default solver will be changed to 'lbfgs' in 0.22. Specify a solver to silence this warning.\n",
            "  FutureWarning)\n",
            "/usr/local/lib/python3.6/dist-packages/sklearn/linear_model/logistic.py:432: FutureWarning: Default solver will be changed to 'lbfgs' in 0.22. Specify a solver to silence this warning.\n",
            "  FutureWarning)\n",
            "/usr/local/lib/python3.6/dist-packages/sklearn/linear_model/logistic.py:432: FutureWarning: Default solver will be changed to 'lbfgs' in 0.22. Specify a solver to silence this warning.\n",
            "  FutureWarning)\n",
            "/usr/local/lib/python3.6/dist-packages/sklearn/linear_model/logistic.py:432: FutureWarning: Default solver will be changed to 'lbfgs' in 0.22. Specify a solver to silence this warning.\n",
            "  FutureWarning)\n",
            "/usr/local/lib/python3.6/dist-packages/sklearn/linear_model/logistic.py:432: FutureWarning: Default solver will be changed to 'lbfgs' in 0.22. Specify a solver to silence this warning.\n",
            "  FutureWarning)\n",
            "/usr/local/lib/python3.6/dist-packages/sklearn/linear_model/logistic.py:432: FutureWarning: Default solver will be changed to 'lbfgs' in 0.22. Specify a solver to silence this warning.\n",
            "  FutureWarning)\n",
            "/usr/local/lib/python3.6/dist-packages/sklearn/linear_model/logistic.py:432: FutureWarning: Default solver will be changed to 'lbfgs' in 0.22. Specify a solver to silence this warning.\n",
            "  FutureWarning)\n",
            "/usr/local/lib/python3.6/dist-packages/sklearn/linear_model/logistic.py:432: FutureWarning: Default solver will be changed to 'lbfgs' in 0.22. Specify a solver to silence this warning.\n",
            "  FutureWarning)\n",
            "/usr/local/lib/python3.6/dist-packages/sklearn/linear_model/logistic.py:432: FutureWarning: Default solver will be changed to 'lbfgs' in 0.22. Specify a solver to silence this warning.\n",
            "  FutureWarning)\n",
            "/usr/local/lib/python3.6/dist-packages/sklearn/linear_model/logistic.py:432: FutureWarning: Default solver will be changed to 'lbfgs' in 0.22. Specify a solver to silence this warning.\n",
            "  FutureWarning)\n",
            "/usr/local/lib/python3.6/dist-packages/sklearn/linear_model/logistic.py:432: FutureWarning: Default solver will be changed to 'lbfgs' in 0.22. Specify a solver to silence this warning.\n",
            "  FutureWarning)\n",
            "/usr/local/lib/python3.6/dist-packages/sklearn/linear_model/logistic.py:432: FutureWarning: Default solver will be changed to 'lbfgs' in 0.22. Specify a solver to silence this warning.\n",
            "  FutureWarning)\n",
            "/usr/local/lib/python3.6/dist-packages/sklearn/linear_model/logistic.py:432: FutureWarning: Default solver will be changed to 'lbfgs' in 0.22. Specify a solver to silence this warning.\n",
            "  FutureWarning)\n",
            "/usr/local/lib/python3.6/dist-packages/sklearn/linear_model/logistic.py:432: FutureWarning: Default solver will be changed to 'lbfgs' in 0.22. Specify a solver to silence this warning.\n",
            "  FutureWarning)\n",
            "/usr/local/lib/python3.6/dist-packages/sklearn/linear_model/logistic.py:432: FutureWarning: Default solver will be changed to 'lbfgs' in 0.22. Specify a solver to silence this warning.\n",
            "  FutureWarning)\n",
            "/usr/local/lib/python3.6/dist-packages/sklearn/linear_model/logistic.py:432: FutureWarning: Default solver will be changed to 'lbfgs' in 0.22. Specify a solver to silence this warning.\n",
            "  FutureWarning)\n",
            "/usr/local/lib/python3.6/dist-packages/sklearn/linear_model/logistic.py:432: FutureWarning: Default solver will be changed to 'lbfgs' in 0.22. Specify a solver to silence this warning.\n",
            "  FutureWarning)\n",
            "/usr/local/lib/python3.6/dist-packages/sklearn/linear_model/logistic.py:432: FutureWarning: Default solver will be changed to 'lbfgs' in 0.22. Specify a solver to silence this warning.\n",
            "  FutureWarning)\n",
            "/usr/local/lib/python3.6/dist-packages/sklearn/linear_model/logistic.py:432: FutureWarning: Default solver will be changed to 'lbfgs' in 0.22. Specify a solver to silence this warning.\n",
            "  FutureWarning)\n",
            "/usr/local/lib/python3.6/dist-packages/sklearn/linear_model/logistic.py:432: FutureWarning: Default solver will be changed to 'lbfgs' in 0.22. Specify a solver to silence this warning.\n",
            "  FutureWarning)\n",
            "/usr/local/lib/python3.6/dist-packages/sklearn/linear_model/logistic.py:432: FutureWarning: Default solver will be changed to 'lbfgs' in 0.22. Specify a solver to silence this warning.\n",
            "  FutureWarning)\n",
            "/usr/local/lib/python3.6/dist-packages/sklearn/linear_model/logistic.py:432: FutureWarning: Default solver will be changed to 'lbfgs' in 0.22. Specify a solver to silence this warning.\n",
            "  FutureWarning)\n",
            "/usr/local/lib/python3.6/dist-packages/sklearn/linear_model/logistic.py:432: FutureWarning: Default solver will be changed to 'lbfgs' in 0.22. Specify a solver to silence this warning.\n",
            "  FutureWarning)\n",
            "/usr/local/lib/python3.6/dist-packages/sklearn/linear_model/logistic.py:432: FutureWarning: Default solver will be changed to 'lbfgs' in 0.22. Specify a solver to silence this warning.\n",
            "  FutureWarning)\n",
            "/usr/local/lib/python3.6/dist-packages/sklearn/linear_model/logistic.py:432: FutureWarning: Default solver will be changed to 'lbfgs' in 0.22. Specify a solver to silence this warning.\n",
            "  FutureWarning)\n",
            "/usr/local/lib/python3.6/dist-packages/sklearn/linear_model/logistic.py:432: FutureWarning: Default solver will be changed to 'lbfgs' in 0.22. Specify a solver to silence this warning.\n",
            "  FutureWarning)\n",
            "/usr/local/lib/python3.6/dist-packages/sklearn/linear_model/logistic.py:432: FutureWarning: Default solver will be changed to 'lbfgs' in 0.22. Specify a solver to silence this warning.\n",
            "  FutureWarning)\n",
            "/usr/local/lib/python3.6/dist-packages/sklearn/linear_model/logistic.py:432: FutureWarning: Default solver will be changed to 'lbfgs' in 0.22. Specify a solver to silence this warning.\n",
            "  FutureWarning)\n",
            "/usr/local/lib/python3.6/dist-packages/sklearn/linear_model/logistic.py:432: FutureWarning: Default solver will be changed to 'lbfgs' in 0.22. Specify a solver to silence this warning.\n",
            "  FutureWarning)\n",
            "/usr/local/lib/python3.6/dist-packages/sklearn/linear_model/logistic.py:432: FutureWarning: Default solver will be changed to 'lbfgs' in 0.22. Specify a solver to silence this warning.\n",
            "  FutureWarning)\n",
            "/usr/local/lib/python3.6/dist-packages/sklearn/linear_model/logistic.py:432: FutureWarning: Default solver will be changed to 'lbfgs' in 0.22. Specify a solver to silence this warning.\n",
            "  FutureWarning)\n",
            "/usr/local/lib/python3.6/dist-packages/sklearn/linear_model/logistic.py:432: FutureWarning: Default solver will be changed to 'lbfgs' in 0.22. Specify a solver to silence this warning.\n",
            "  FutureWarning)\n",
            "/usr/local/lib/python3.6/dist-packages/sklearn/linear_model/logistic.py:432: FutureWarning: Default solver will be changed to 'lbfgs' in 0.22. Specify a solver to silence this warning.\n",
            "  FutureWarning)\n",
            "/usr/local/lib/python3.6/dist-packages/sklearn/linear_model/logistic.py:432: FutureWarning: Default solver will be changed to 'lbfgs' in 0.22. Specify a solver to silence this warning.\n",
            "  FutureWarning)\n",
            "/usr/local/lib/python3.6/dist-packages/sklearn/linear_model/logistic.py:432: FutureWarning: Default solver will be changed to 'lbfgs' in 0.22. Specify a solver to silence this warning.\n",
            "  FutureWarning)\n",
            "/usr/local/lib/python3.6/dist-packages/sklearn/linear_model/logistic.py:432: FutureWarning: Default solver will be changed to 'lbfgs' in 0.22. Specify a solver to silence this warning.\n",
            "  FutureWarning)\n",
            "/usr/local/lib/python3.6/dist-packages/sklearn/linear_model/logistic.py:432: FutureWarning: Default solver will be changed to 'lbfgs' in 0.22. Specify a solver to silence this warning.\n",
            "  FutureWarning)\n",
            "/usr/local/lib/python3.6/dist-packages/sklearn/linear_model/logistic.py:432: FutureWarning: Default solver will be changed to 'lbfgs' in 0.22. Specify a solver to silence this warning.\n",
            "  FutureWarning)\n",
            "/usr/local/lib/python3.6/dist-packages/sklearn/linear_model/logistic.py:432: FutureWarning: Default solver will be changed to 'lbfgs' in 0.22. Specify a solver to silence this warning.\n",
            "  FutureWarning)\n",
            "/usr/local/lib/python3.6/dist-packages/sklearn/linear_model/logistic.py:432: FutureWarning: Default solver will be changed to 'lbfgs' in 0.22. Specify a solver to silence this warning.\n",
            "  FutureWarning)\n",
            "/usr/local/lib/python3.6/dist-packages/sklearn/linear_model/logistic.py:432: FutureWarning: Default solver will be changed to 'lbfgs' in 0.22. Specify a solver to silence this warning.\n",
            "  FutureWarning)\n",
            "/usr/local/lib/python3.6/dist-packages/sklearn/linear_model/logistic.py:432: FutureWarning: Default solver will be changed to 'lbfgs' in 0.22. Specify a solver to silence this warning.\n",
            "  FutureWarning)\n",
            "/usr/local/lib/python3.6/dist-packages/sklearn/linear_model/logistic.py:432: FutureWarning: Default solver will be changed to 'lbfgs' in 0.22. Specify a solver to silence this warning.\n",
            "  FutureWarning)\n",
            "/usr/local/lib/python3.6/dist-packages/sklearn/linear_model/logistic.py:432: FutureWarning: Default solver will be changed to 'lbfgs' in 0.22. Specify a solver to silence this warning.\n",
            "  FutureWarning)\n",
            "/usr/local/lib/python3.6/dist-packages/sklearn/linear_model/logistic.py:432: FutureWarning: Default solver will be changed to 'lbfgs' in 0.22. Specify a solver to silence this warning.\n",
            "  FutureWarning)\n",
            "/usr/local/lib/python3.6/dist-packages/sklearn/linear_model/logistic.py:432: FutureWarning: Default solver will be changed to 'lbfgs' in 0.22. Specify a solver to silence this warning.\n",
            "  FutureWarning)\n",
            "/usr/local/lib/python3.6/dist-packages/sklearn/linear_model/logistic.py:432: FutureWarning: Default solver will be changed to 'lbfgs' in 0.22. Specify a solver to silence this warning.\n",
            "  FutureWarning)\n",
            "/usr/local/lib/python3.6/dist-packages/sklearn/linear_model/logistic.py:432: FutureWarning: Default solver will be changed to 'lbfgs' in 0.22. Specify a solver to silence this warning.\n",
            "  FutureWarning)\n",
            "/usr/local/lib/python3.6/dist-packages/sklearn/linear_model/logistic.py:432: FutureWarning: Default solver will be changed to 'lbfgs' in 0.22. Specify a solver to silence this warning.\n",
            "  FutureWarning)\n",
            "/usr/local/lib/python3.6/dist-packages/sklearn/linear_model/logistic.py:432: FutureWarning: Default solver will be changed to 'lbfgs' in 0.22. Specify a solver to silence this warning.\n",
            "  FutureWarning)\n",
            "/usr/local/lib/python3.6/dist-packages/sklearn/linear_model/logistic.py:432: FutureWarning: Default solver will be changed to 'lbfgs' in 0.22. Specify a solver to silence this warning.\n",
            "  FutureWarning)\n",
            "/usr/local/lib/python3.6/dist-packages/sklearn/linear_model/logistic.py:432: FutureWarning: Default solver will be changed to 'lbfgs' in 0.22. Specify a solver to silence this warning.\n",
            "  FutureWarning)\n",
            "/usr/local/lib/python3.6/dist-packages/sklearn/linear_model/logistic.py:432: FutureWarning: Default solver will be changed to 'lbfgs' in 0.22. Specify a solver to silence this warning.\n",
            "  FutureWarning)\n",
            "/usr/local/lib/python3.6/dist-packages/sklearn/linear_model/logistic.py:432: FutureWarning: Default solver will be changed to 'lbfgs' in 0.22. Specify a solver to silence this warning.\n",
            "  FutureWarning)\n",
            "/usr/local/lib/python3.6/dist-packages/sklearn/linear_model/logistic.py:432: FutureWarning: Default solver will be changed to 'lbfgs' in 0.22. Specify a solver to silence this warning.\n",
            "  FutureWarning)\n",
            "/usr/local/lib/python3.6/dist-packages/sklearn/linear_model/logistic.py:432: FutureWarning: Default solver will be changed to 'lbfgs' in 0.22. Specify a solver to silence this warning.\n",
            "  FutureWarning)\n",
            "/usr/local/lib/python3.6/dist-packages/sklearn/linear_model/logistic.py:432: FutureWarning: Default solver will be changed to 'lbfgs' in 0.22. Specify a solver to silence this warning.\n",
            "  FutureWarning)\n",
            "/usr/local/lib/python3.6/dist-packages/sklearn/linear_model/logistic.py:432: FutureWarning: Default solver will be changed to 'lbfgs' in 0.22. Specify a solver to silence this warning.\n",
            "  FutureWarning)\n",
            "/usr/local/lib/python3.6/dist-packages/sklearn/linear_model/logistic.py:432: FutureWarning: Default solver will be changed to 'lbfgs' in 0.22. Specify a solver to silence this warning.\n",
            "  FutureWarning)\n",
            "/usr/local/lib/python3.6/dist-packages/sklearn/linear_model/logistic.py:432: FutureWarning: Default solver will be changed to 'lbfgs' in 0.22. Specify a solver to silence this warning.\n",
            "  FutureWarning)\n",
            "/usr/local/lib/python3.6/dist-packages/sklearn/linear_model/logistic.py:432: FutureWarning: Default solver will be changed to 'lbfgs' in 0.22. Specify a solver to silence this warning.\n",
            "  FutureWarning)\n",
            "/usr/local/lib/python3.6/dist-packages/sklearn/linear_model/logistic.py:432: FutureWarning: Default solver will be changed to 'lbfgs' in 0.22. Specify a solver to silence this warning.\n",
            "  FutureWarning)\n",
            "/usr/local/lib/python3.6/dist-packages/sklearn/linear_model/logistic.py:432: FutureWarning: Default solver will be changed to 'lbfgs' in 0.22. Specify a solver to silence this warning.\n",
            "  FutureWarning)\n",
            "/usr/local/lib/python3.6/dist-packages/sklearn/linear_model/logistic.py:432: FutureWarning: Default solver will be changed to 'lbfgs' in 0.22. Specify a solver to silence this warning.\n",
            "  FutureWarning)\n",
            "/usr/local/lib/python3.6/dist-packages/sklearn/linear_model/logistic.py:432: FutureWarning: Default solver will be changed to 'lbfgs' in 0.22. Specify a solver to silence this warning.\n",
            "  FutureWarning)\n",
            "/usr/local/lib/python3.6/dist-packages/sklearn/linear_model/logistic.py:432: FutureWarning: Default solver will be changed to 'lbfgs' in 0.22. Specify a solver to silence this warning.\n",
            "  FutureWarning)\n",
            "/usr/local/lib/python3.6/dist-packages/sklearn/linear_model/logistic.py:432: FutureWarning: Default solver will be changed to 'lbfgs' in 0.22. Specify a solver to silence this warning.\n",
            "  FutureWarning)\n",
            "/usr/local/lib/python3.6/dist-packages/sklearn/linear_model/logistic.py:432: FutureWarning: Default solver will be changed to 'lbfgs' in 0.22. Specify a solver to silence this warning.\n",
            "  FutureWarning)\n",
            "/usr/local/lib/python3.6/dist-packages/sklearn/linear_model/logistic.py:432: FutureWarning: Default solver will be changed to 'lbfgs' in 0.22. Specify a solver to silence this warning.\n",
            "  FutureWarning)\n",
            "/usr/local/lib/python3.6/dist-packages/sklearn/linear_model/logistic.py:432: FutureWarning: Default solver will be changed to 'lbfgs' in 0.22. Specify a solver to silence this warning.\n",
            "  FutureWarning)\n",
            "/usr/local/lib/python3.6/dist-packages/sklearn/linear_model/logistic.py:432: FutureWarning: Default solver will be changed to 'lbfgs' in 0.22. Specify a solver to silence this warning.\n",
            "  FutureWarning)\n",
            "/usr/local/lib/python3.6/dist-packages/sklearn/linear_model/logistic.py:432: FutureWarning: Default solver will be changed to 'lbfgs' in 0.22. Specify a solver to silence this warning.\n",
            "  FutureWarning)\n",
            "/usr/local/lib/python3.6/dist-packages/sklearn/linear_model/logistic.py:432: FutureWarning: Default solver will be changed to 'lbfgs' in 0.22. Specify a solver to silence this warning.\n",
            "  FutureWarning)\n",
            "/usr/local/lib/python3.6/dist-packages/sklearn/linear_model/logistic.py:432: FutureWarning: Default solver will be changed to 'lbfgs' in 0.22. Specify a solver to silence this warning.\n",
            "  FutureWarning)\n",
            "/usr/local/lib/python3.6/dist-packages/sklearn/linear_model/logistic.py:432: FutureWarning: Default solver will be changed to 'lbfgs' in 0.22. Specify a solver to silence this warning.\n",
            "  FutureWarning)\n",
            "/usr/local/lib/python3.6/dist-packages/sklearn/linear_model/logistic.py:432: FutureWarning: Default solver will be changed to 'lbfgs' in 0.22. Specify a solver to silence this warning.\n",
            "  FutureWarning)\n",
            "/usr/local/lib/python3.6/dist-packages/sklearn/linear_model/logistic.py:432: FutureWarning: Default solver will be changed to 'lbfgs' in 0.22. Specify a solver to silence this warning.\n",
            "  FutureWarning)\n",
            "/usr/local/lib/python3.6/dist-packages/sklearn/linear_model/logistic.py:432: FutureWarning: Default solver will be changed to 'lbfgs' in 0.22. Specify a solver to silence this warning.\n",
            "  FutureWarning)\n",
            "/usr/local/lib/python3.6/dist-packages/sklearn/linear_model/logistic.py:432: FutureWarning: Default solver will be changed to 'lbfgs' in 0.22. Specify a solver to silence this warning.\n",
            "  FutureWarning)\n",
            "/usr/local/lib/python3.6/dist-packages/sklearn/linear_model/logistic.py:432: FutureWarning: Default solver will be changed to 'lbfgs' in 0.22. Specify a solver to silence this warning.\n",
            "  FutureWarning)\n",
            "/usr/local/lib/python3.6/dist-packages/sklearn/linear_model/logistic.py:432: FutureWarning: Default solver will be changed to 'lbfgs' in 0.22. Specify a solver to silence this warning.\n",
            "  FutureWarning)\n",
            "/usr/local/lib/python3.6/dist-packages/sklearn/linear_model/logistic.py:432: FutureWarning: Default solver will be changed to 'lbfgs' in 0.22. Specify a solver to silence this warning.\n",
            "  FutureWarning)\n",
            "/usr/local/lib/python3.6/dist-packages/sklearn/linear_model/logistic.py:432: FutureWarning: Default solver will be changed to 'lbfgs' in 0.22. Specify a solver to silence this warning.\n",
            "  FutureWarning)\n",
            "/usr/local/lib/python3.6/dist-packages/sklearn/linear_model/logistic.py:432: FutureWarning: Default solver will be changed to 'lbfgs' in 0.22. Specify a solver to silence this warning.\n",
            "  FutureWarning)\n",
            "/usr/local/lib/python3.6/dist-packages/sklearn/linear_model/logistic.py:432: FutureWarning: Default solver will be changed to 'lbfgs' in 0.22. Specify a solver to silence this warning.\n",
            "  FutureWarning)\n",
            "/usr/local/lib/python3.6/dist-packages/sklearn/linear_model/logistic.py:432: FutureWarning: Default solver will be changed to 'lbfgs' in 0.22. Specify a solver to silence this warning.\n",
            "  FutureWarning)\n",
            "/usr/local/lib/python3.6/dist-packages/sklearn/linear_model/logistic.py:432: FutureWarning: Default solver will be changed to 'lbfgs' in 0.22. Specify a solver to silence this warning.\n",
            "  FutureWarning)\n",
            "/usr/local/lib/python3.6/dist-packages/sklearn/linear_model/logistic.py:432: FutureWarning: Default solver will be changed to 'lbfgs' in 0.22. Specify a solver to silence this warning.\n",
            "  FutureWarning)\n",
            "/usr/local/lib/python3.6/dist-packages/sklearn/linear_model/logistic.py:432: FutureWarning: Default solver will be changed to 'lbfgs' in 0.22. Specify a solver to silence this warning.\n",
            "  FutureWarning)\n",
            "/usr/local/lib/python3.6/dist-packages/sklearn/linear_model/logistic.py:432: FutureWarning: Default solver will be changed to 'lbfgs' in 0.22. Specify a solver to silence this warning.\n",
            "  FutureWarning)\n",
            "/usr/local/lib/python3.6/dist-packages/sklearn/linear_model/logistic.py:432: FutureWarning: Default solver will be changed to 'lbfgs' in 0.22. Specify a solver to silence this warning.\n",
            "  FutureWarning)\n",
            "/usr/local/lib/python3.6/dist-packages/sklearn/linear_model/logistic.py:432: FutureWarning: Default solver will be changed to 'lbfgs' in 0.22. Specify a solver to silence this warning.\n",
            "  FutureWarning)\n",
            "/usr/local/lib/python3.6/dist-packages/sklearn/linear_model/logistic.py:432: FutureWarning: Default solver will be changed to 'lbfgs' in 0.22. Specify a solver to silence this warning.\n",
            "  FutureWarning)\n",
            "/usr/local/lib/python3.6/dist-packages/sklearn/linear_model/logistic.py:432: FutureWarning: Default solver will be changed to 'lbfgs' in 0.22. Specify a solver to silence this warning.\n",
            "  FutureWarning)\n",
            "/usr/local/lib/python3.6/dist-packages/sklearn/linear_model/logistic.py:432: FutureWarning: Default solver will be changed to 'lbfgs' in 0.22. Specify a solver to silence this warning.\n",
            "  FutureWarning)\n",
            "/usr/local/lib/python3.6/dist-packages/sklearn/linear_model/logistic.py:432: FutureWarning: Default solver will be changed to 'lbfgs' in 0.22. Specify a solver to silence this warning.\n",
            "  FutureWarning)\n",
            "/usr/local/lib/python3.6/dist-packages/sklearn/linear_model/logistic.py:432: FutureWarning: Default solver will be changed to 'lbfgs' in 0.22. Specify a solver to silence this warning.\n",
            "  FutureWarning)\n",
            "/usr/local/lib/python3.6/dist-packages/sklearn/linear_model/logistic.py:432: FutureWarning: Default solver will be changed to 'lbfgs' in 0.22. Specify a solver to silence this warning.\n",
            "  FutureWarning)\n",
            "/usr/local/lib/python3.6/dist-packages/sklearn/linear_model/logistic.py:432: FutureWarning: Default solver will be changed to 'lbfgs' in 0.22. Specify a solver to silence this warning.\n",
            "  FutureWarning)\n",
            "/usr/local/lib/python3.6/dist-packages/sklearn/linear_model/logistic.py:432: FutureWarning: Default solver will be changed to 'lbfgs' in 0.22. Specify a solver to silence this warning.\n",
            "  FutureWarning)\n",
            "/usr/local/lib/python3.6/dist-packages/sklearn/linear_model/logistic.py:432: FutureWarning: Default solver will be changed to 'lbfgs' in 0.22. Specify a solver to silence this warning.\n",
            "  FutureWarning)\n",
            "/usr/local/lib/python3.6/dist-packages/sklearn/linear_model/logistic.py:432: FutureWarning: Default solver will be changed to 'lbfgs' in 0.22. Specify a solver to silence this warning.\n",
            "  FutureWarning)\n",
            "/usr/local/lib/python3.6/dist-packages/sklearn/linear_model/logistic.py:432: FutureWarning: Default solver will be changed to 'lbfgs' in 0.22. Specify a solver to silence this warning.\n",
            "  FutureWarning)\n",
            "/usr/local/lib/python3.6/dist-packages/sklearn/linear_model/logistic.py:432: FutureWarning: Default solver will be changed to 'lbfgs' in 0.22. Specify a solver to silence this warning.\n",
            "  FutureWarning)\n",
            "/usr/local/lib/python3.6/dist-packages/sklearn/linear_model/logistic.py:432: FutureWarning: Default solver will be changed to 'lbfgs' in 0.22. Specify a solver to silence this warning.\n",
            "  FutureWarning)\n",
            "/usr/local/lib/python3.6/dist-packages/sklearn/linear_model/logistic.py:432: FutureWarning: Default solver will be changed to 'lbfgs' in 0.22. Specify a solver to silence this warning.\n",
            "  FutureWarning)\n",
            "/usr/local/lib/python3.6/dist-packages/sklearn/linear_model/logistic.py:432: FutureWarning: Default solver will be changed to 'lbfgs' in 0.22. Specify a solver to silence this warning.\n",
            "  FutureWarning)\n",
            "/usr/local/lib/python3.6/dist-packages/sklearn/linear_model/logistic.py:432: FutureWarning: Default solver will be changed to 'lbfgs' in 0.22. Specify a solver to silence this warning.\n",
            "  FutureWarning)\n",
            "/usr/local/lib/python3.6/dist-packages/sklearn/linear_model/logistic.py:432: FutureWarning: Default solver will be changed to 'lbfgs' in 0.22. Specify a solver to silence this warning.\n",
            "  FutureWarning)\n",
            "/usr/local/lib/python3.6/dist-packages/sklearn/linear_model/logistic.py:432: FutureWarning: Default solver will be changed to 'lbfgs' in 0.22. Specify a solver to silence this warning.\n",
            "  FutureWarning)\n",
            "/usr/local/lib/python3.6/dist-packages/sklearn/linear_model/logistic.py:432: FutureWarning: Default solver will be changed to 'lbfgs' in 0.22. Specify a solver to silence this warning.\n",
            "  FutureWarning)\n",
            "/usr/local/lib/python3.6/dist-packages/sklearn/linear_model/logistic.py:432: FutureWarning: Default solver will be changed to 'lbfgs' in 0.22. Specify a solver to silence this warning.\n",
            "  FutureWarning)\n",
            "/usr/local/lib/python3.6/dist-packages/sklearn/linear_model/logistic.py:432: FutureWarning: Default solver will be changed to 'lbfgs' in 0.22. Specify a solver to silence this warning.\n",
            "  FutureWarning)\n",
            "/usr/local/lib/python3.6/dist-packages/sklearn/linear_model/logistic.py:432: FutureWarning: Default solver will be changed to 'lbfgs' in 0.22. Specify a solver to silence this warning.\n",
            "  FutureWarning)\n",
            "/usr/local/lib/python3.6/dist-packages/sklearn/linear_model/logistic.py:432: FutureWarning: Default solver will be changed to 'lbfgs' in 0.22. Specify a solver to silence this warning.\n",
            "  FutureWarning)\n",
            "/usr/local/lib/python3.6/dist-packages/sklearn/linear_model/logistic.py:432: FutureWarning: Default solver will be changed to 'lbfgs' in 0.22. Specify a solver to silence this warning.\n",
            "  FutureWarning)\n",
            "/usr/local/lib/python3.6/dist-packages/sklearn/linear_model/logistic.py:432: FutureWarning: Default solver will be changed to 'lbfgs' in 0.22. Specify a solver to silence this warning.\n",
            "  FutureWarning)\n",
            "/usr/local/lib/python3.6/dist-packages/sklearn/linear_model/logistic.py:432: FutureWarning: Default solver will be changed to 'lbfgs' in 0.22. Specify a solver to silence this warning.\n",
            "  FutureWarning)\n",
            "/usr/local/lib/python3.6/dist-packages/sklearn/linear_model/logistic.py:432: FutureWarning: Default solver will be changed to 'lbfgs' in 0.22. Specify a solver to silence this warning.\n",
            "  FutureWarning)\n",
            "/usr/local/lib/python3.6/dist-packages/sklearn/linear_model/logistic.py:432: FutureWarning: Default solver will be changed to 'lbfgs' in 0.22. Specify a solver to silence this warning.\n",
            "  FutureWarning)\n",
            "/usr/local/lib/python3.6/dist-packages/sklearn/linear_model/logistic.py:432: FutureWarning: Default solver will be changed to 'lbfgs' in 0.22. Specify a solver to silence this warning.\n",
            "  FutureWarning)\n",
            "/usr/local/lib/python3.6/dist-packages/sklearn/linear_model/logistic.py:432: FutureWarning: Default solver will be changed to 'lbfgs' in 0.22. Specify a solver to silence this warning.\n",
            "  FutureWarning)\n",
            "/usr/local/lib/python3.6/dist-packages/sklearn/linear_model/logistic.py:432: FutureWarning: Default solver will be changed to 'lbfgs' in 0.22. Specify a solver to silence this warning.\n",
            "  FutureWarning)\n",
            "/usr/local/lib/python3.6/dist-packages/sklearn/linear_model/logistic.py:432: FutureWarning: Default solver will be changed to 'lbfgs' in 0.22. Specify a solver to silence this warning.\n",
            "  FutureWarning)\n",
            "/usr/local/lib/python3.6/dist-packages/sklearn/linear_model/logistic.py:432: FutureWarning: Default solver will be changed to 'lbfgs' in 0.22. Specify a solver to silence this warning.\n",
            "  FutureWarning)\n",
            "/usr/local/lib/python3.6/dist-packages/sklearn/linear_model/logistic.py:432: FutureWarning: Default solver will be changed to 'lbfgs' in 0.22. Specify a solver to silence this warning.\n",
            "  FutureWarning)\n",
            "/usr/local/lib/python3.6/dist-packages/sklearn/linear_model/logistic.py:432: FutureWarning: Default solver will be changed to 'lbfgs' in 0.22. Specify a solver to silence this warning.\n",
            "  FutureWarning)\n",
            "/usr/local/lib/python3.6/dist-packages/sklearn/linear_model/logistic.py:432: FutureWarning: Default solver will be changed to 'lbfgs' in 0.22. Specify a solver to silence this warning.\n",
            "  FutureWarning)\n",
            "/usr/local/lib/python3.6/dist-packages/sklearn/linear_model/logistic.py:432: FutureWarning: Default solver will be changed to 'lbfgs' in 0.22. Specify a solver to silence this warning.\n",
            "  FutureWarning)\n",
            "/usr/local/lib/python3.6/dist-packages/sklearn/linear_model/logistic.py:432: FutureWarning: Default solver will be changed to 'lbfgs' in 0.22. Specify a solver to silence this warning.\n",
            "  FutureWarning)\n",
            "/usr/local/lib/python3.6/dist-packages/sklearn/linear_model/logistic.py:432: FutureWarning: Default solver will be changed to 'lbfgs' in 0.22. Specify a solver to silence this warning.\n",
            "  FutureWarning)\n",
            "/usr/local/lib/python3.6/dist-packages/sklearn/linear_model/logistic.py:432: FutureWarning: Default solver will be changed to 'lbfgs' in 0.22. Specify a solver to silence this warning.\n",
            "  FutureWarning)\n",
            "/usr/local/lib/python3.6/dist-packages/sklearn/linear_model/logistic.py:432: FutureWarning: Default solver will be changed to 'lbfgs' in 0.22. Specify a solver to silence this warning.\n",
            "  FutureWarning)\n",
            "/usr/local/lib/python3.6/dist-packages/sklearn/linear_model/logistic.py:432: FutureWarning: Default solver will be changed to 'lbfgs' in 0.22. Specify a solver to silence this warning.\n",
            "  FutureWarning)\n",
            "/usr/local/lib/python3.6/dist-packages/sklearn/linear_model/logistic.py:432: FutureWarning: Default solver will be changed to 'lbfgs' in 0.22. Specify a solver to silence this warning.\n",
            "  FutureWarning)\n",
            "/usr/local/lib/python3.6/dist-packages/sklearn/linear_model/logistic.py:432: FutureWarning: Default solver will be changed to 'lbfgs' in 0.22. Specify a solver to silence this warning.\n",
            "  FutureWarning)\n",
            "/usr/local/lib/python3.6/dist-packages/sklearn/linear_model/logistic.py:432: FutureWarning: Default solver will be changed to 'lbfgs' in 0.22. Specify a solver to silence this warning.\n",
            "  FutureWarning)\n",
            "/usr/local/lib/python3.6/dist-packages/sklearn/linear_model/logistic.py:432: FutureWarning: Default solver will be changed to 'lbfgs' in 0.22. Specify a solver to silence this warning.\n",
            "  FutureWarning)\n",
            "/usr/local/lib/python3.6/dist-packages/sklearn/linear_model/logistic.py:432: FutureWarning: Default solver will be changed to 'lbfgs' in 0.22. Specify a solver to silence this warning.\n",
            "  FutureWarning)\n",
            "/usr/local/lib/python3.6/dist-packages/sklearn/linear_model/logistic.py:432: FutureWarning: Default solver will be changed to 'lbfgs' in 0.22. Specify a solver to silence this warning.\n",
            "  FutureWarning)\n",
            "/usr/local/lib/python3.6/dist-packages/sklearn/linear_model/logistic.py:432: FutureWarning: Default solver will be changed to 'lbfgs' in 0.22. Specify a solver to silence this warning.\n",
            "  FutureWarning)\n",
            "/usr/local/lib/python3.6/dist-packages/sklearn/linear_model/logistic.py:432: FutureWarning: Default solver will be changed to 'lbfgs' in 0.22. Specify a solver to silence this warning.\n",
            "  FutureWarning)\n",
            "/usr/local/lib/python3.6/dist-packages/sklearn/linear_model/logistic.py:432: FutureWarning: Default solver will be changed to 'lbfgs' in 0.22. Specify a solver to silence this warning.\n",
            "  FutureWarning)\n",
            "/usr/local/lib/python3.6/dist-packages/sklearn/linear_model/logistic.py:432: FutureWarning: Default solver will be changed to 'lbfgs' in 0.22. Specify a solver to silence this warning.\n",
            "  FutureWarning)\n",
            "/usr/local/lib/python3.6/dist-packages/sklearn/linear_model/logistic.py:432: FutureWarning: Default solver will be changed to 'lbfgs' in 0.22. Specify a solver to silence this warning.\n",
            "  FutureWarning)\n",
            "/usr/local/lib/python3.6/dist-packages/sklearn/linear_model/logistic.py:432: FutureWarning: Default solver will be changed to 'lbfgs' in 0.22. Specify a solver to silence this warning.\n",
            "  FutureWarning)\n",
            "/usr/local/lib/python3.6/dist-packages/sklearn/linear_model/logistic.py:432: FutureWarning: Default solver will be changed to 'lbfgs' in 0.22. Specify a solver to silence this warning.\n",
            "  FutureWarning)\n",
            "/usr/local/lib/python3.6/dist-packages/sklearn/linear_model/logistic.py:432: FutureWarning: Default solver will be changed to 'lbfgs' in 0.22. Specify a solver to silence this warning.\n",
            "  FutureWarning)\n",
            "/usr/local/lib/python3.6/dist-packages/sklearn/linear_model/logistic.py:432: FutureWarning: Default solver will be changed to 'lbfgs' in 0.22. Specify a solver to silence this warning.\n",
            "  FutureWarning)\n",
            "/usr/local/lib/python3.6/dist-packages/sklearn/linear_model/logistic.py:432: FutureWarning: Default solver will be changed to 'lbfgs' in 0.22. Specify a solver to silence this warning.\n",
            "  FutureWarning)\n",
            "/usr/local/lib/python3.6/dist-packages/sklearn/linear_model/logistic.py:432: FutureWarning: Default solver will be changed to 'lbfgs' in 0.22. Specify a solver to silence this warning.\n",
            "  FutureWarning)\n",
            "/usr/local/lib/python3.6/dist-packages/sklearn/linear_model/logistic.py:432: FutureWarning: Default solver will be changed to 'lbfgs' in 0.22. Specify a solver to silence this warning.\n",
            "  FutureWarning)\n",
            "/usr/local/lib/python3.6/dist-packages/sklearn/linear_model/logistic.py:432: FutureWarning: Default solver will be changed to 'lbfgs' in 0.22. Specify a solver to silence this warning.\n",
            "  FutureWarning)\n",
            "/usr/local/lib/python3.6/dist-packages/sklearn/linear_model/logistic.py:432: FutureWarning: Default solver will be changed to 'lbfgs' in 0.22. Specify a solver to silence this warning.\n",
            "  FutureWarning)\n",
            "/usr/local/lib/python3.6/dist-packages/sklearn/linear_model/logistic.py:432: FutureWarning: Default solver will be changed to 'lbfgs' in 0.22. Specify a solver to silence this warning.\n",
            "  FutureWarning)\n",
            "/usr/local/lib/python3.6/dist-packages/sklearn/linear_model/logistic.py:432: FutureWarning: Default solver will be changed to 'lbfgs' in 0.22. Specify a solver to silence this warning.\n",
            "  FutureWarning)\n",
            "/usr/local/lib/python3.6/dist-packages/sklearn/linear_model/logistic.py:432: FutureWarning: Default solver will be changed to 'lbfgs' in 0.22. Specify a solver to silence this warning.\n",
            "  FutureWarning)\n",
            "/usr/local/lib/python3.6/dist-packages/sklearn/linear_model/logistic.py:432: FutureWarning: Default solver will be changed to 'lbfgs' in 0.22. Specify a solver to silence this warning.\n",
            "  FutureWarning)\n",
            "/usr/local/lib/python3.6/dist-packages/sklearn/linear_model/logistic.py:432: FutureWarning: Default solver will be changed to 'lbfgs' in 0.22. Specify a solver to silence this warning.\n",
            "  FutureWarning)\n",
            "/usr/local/lib/python3.6/dist-packages/sklearn/linear_model/logistic.py:432: FutureWarning: Default solver will be changed to 'lbfgs' in 0.22. Specify a solver to silence this warning.\n",
            "  FutureWarning)\n",
            "/usr/local/lib/python3.6/dist-packages/sklearn/linear_model/logistic.py:432: FutureWarning: Default solver will be changed to 'lbfgs' in 0.22. Specify a solver to silence this warning.\n",
            "  FutureWarning)\n",
            "/usr/local/lib/python3.6/dist-packages/sklearn/linear_model/logistic.py:432: FutureWarning: Default solver will be changed to 'lbfgs' in 0.22. Specify a solver to silence this warning.\n",
            "  FutureWarning)\n",
            "/usr/local/lib/python3.6/dist-packages/sklearn/linear_model/logistic.py:432: FutureWarning: Default solver will be changed to 'lbfgs' in 0.22. Specify a solver to silence this warning.\n",
            "  FutureWarning)\n",
            "/usr/local/lib/python3.6/dist-packages/sklearn/linear_model/logistic.py:432: FutureWarning: Default solver will be changed to 'lbfgs' in 0.22. Specify a solver to silence this warning.\n",
            "  FutureWarning)\n",
            "/usr/local/lib/python3.6/dist-packages/sklearn/linear_model/logistic.py:432: FutureWarning: Default solver will be changed to 'lbfgs' in 0.22. Specify a solver to silence this warning.\n",
            "  FutureWarning)\n",
            "/usr/local/lib/python3.6/dist-packages/sklearn/linear_model/logistic.py:432: FutureWarning: Default solver will be changed to 'lbfgs' in 0.22. Specify a solver to silence this warning.\n",
            "  FutureWarning)\n",
            "/usr/local/lib/python3.6/dist-packages/sklearn/linear_model/logistic.py:432: FutureWarning: Default solver will be changed to 'lbfgs' in 0.22. Specify a solver to silence this warning.\n",
            "  FutureWarning)\n",
            "/usr/local/lib/python3.6/dist-packages/sklearn/linear_model/logistic.py:432: FutureWarning: Default solver will be changed to 'lbfgs' in 0.22. Specify a solver to silence this warning.\n",
            "  FutureWarning)\n",
            "/usr/local/lib/python3.6/dist-packages/sklearn/linear_model/logistic.py:432: FutureWarning: Default solver will be changed to 'lbfgs' in 0.22. Specify a solver to silence this warning.\n",
            "  FutureWarning)\n",
            "/usr/local/lib/python3.6/dist-packages/sklearn/linear_model/logistic.py:432: FutureWarning: Default solver will be changed to 'lbfgs' in 0.22. Specify a solver to silence this warning.\n",
            "  FutureWarning)\n",
            "/usr/local/lib/python3.6/dist-packages/sklearn/linear_model/logistic.py:432: FutureWarning: Default solver will be changed to 'lbfgs' in 0.22. Specify a solver to silence this warning.\n",
            "  FutureWarning)\n",
            "/usr/local/lib/python3.6/dist-packages/sklearn/linear_model/logistic.py:432: FutureWarning: Default solver will be changed to 'lbfgs' in 0.22. Specify a solver to silence this warning.\n",
            "  FutureWarning)\n",
            "/usr/local/lib/python3.6/dist-packages/sklearn/linear_model/logistic.py:432: FutureWarning: Default solver will be changed to 'lbfgs' in 0.22. Specify a solver to silence this warning.\n",
            "  FutureWarning)\n",
            "/usr/local/lib/python3.6/dist-packages/sklearn/linear_model/logistic.py:432: FutureWarning: Default solver will be changed to 'lbfgs' in 0.22. Specify a solver to silence this warning.\n",
            "  FutureWarning)\n",
            "/usr/local/lib/python3.6/dist-packages/sklearn/linear_model/logistic.py:432: FutureWarning: Default solver will be changed to 'lbfgs' in 0.22. Specify a solver to silence this warning.\n",
            "  FutureWarning)\n",
            "/usr/local/lib/python3.6/dist-packages/sklearn/linear_model/logistic.py:432: FutureWarning: Default solver will be changed to 'lbfgs' in 0.22. Specify a solver to silence this warning.\n",
            "  FutureWarning)\n",
            "/usr/local/lib/python3.6/dist-packages/sklearn/linear_model/logistic.py:432: FutureWarning: Default solver will be changed to 'lbfgs' in 0.22. Specify a solver to silence this warning.\n",
            "  FutureWarning)\n",
            "/usr/local/lib/python3.6/dist-packages/sklearn/linear_model/logistic.py:432: FutureWarning: Default solver will be changed to 'lbfgs' in 0.22. Specify a solver to silence this warning.\n",
            "  FutureWarning)\n",
            "/usr/local/lib/python3.6/dist-packages/sklearn/linear_model/logistic.py:432: FutureWarning: Default solver will be changed to 'lbfgs' in 0.22. Specify a solver to silence this warning.\n",
            "  FutureWarning)\n",
            "/usr/local/lib/python3.6/dist-packages/sklearn/linear_model/logistic.py:432: FutureWarning: Default solver will be changed to 'lbfgs' in 0.22. Specify a solver to silence this warning.\n",
            "  FutureWarning)\n",
            "/usr/local/lib/python3.6/dist-packages/sklearn/linear_model/logistic.py:432: FutureWarning: Default solver will be changed to 'lbfgs' in 0.22. Specify a solver to silence this warning.\n",
            "  FutureWarning)\n",
            "/usr/local/lib/python3.6/dist-packages/sklearn/linear_model/logistic.py:432: FutureWarning: Default solver will be changed to 'lbfgs' in 0.22. Specify a solver to silence this warning.\n",
            "  FutureWarning)\n",
            "/usr/local/lib/python3.6/dist-packages/sklearn/linear_model/logistic.py:432: FutureWarning: Default solver will be changed to 'lbfgs' in 0.22. Specify a solver to silence this warning.\n",
            "  FutureWarning)\n",
            "/usr/local/lib/python3.6/dist-packages/sklearn/linear_model/logistic.py:432: FutureWarning: Default solver will be changed to 'lbfgs' in 0.22. Specify a solver to silence this warning.\n",
            "  FutureWarning)\n",
            "/usr/local/lib/python3.6/dist-packages/sklearn/linear_model/logistic.py:432: FutureWarning: Default solver will be changed to 'lbfgs' in 0.22. Specify a solver to silence this warning.\n",
            "  FutureWarning)\n",
            "/usr/local/lib/python3.6/dist-packages/sklearn/linear_model/logistic.py:432: FutureWarning: Default solver will be changed to 'lbfgs' in 0.22. Specify a solver to silence this warning.\n",
            "  FutureWarning)\n",
            "/usr/local/lib/python3.6/dist-packages/sklearn/linear_model/logistic.py:432: FutureWarning: Default solver will be changed to 'lbfgs' in 0.22. Specify a solver to silence this warning.\n",
            "  FutureWarning)\n",
            "/usr/local/lib/python3.6/dist-packages/sklearn/linear_model/logistic.py:432: FutureWarning: Default solver will be changed to 'lbfgs' in 0.22. Specify a solver to silence this warning.\n",
            "  FutureWarning)\n",
            "/usr/local/lib/python3.6/dist-packages/sklearn/linear_model/logistic.py:432: FutureWarning: Default solver will be changed to 'lbfgs' in 0.22. Specify a solver to silence this warning.\n",
            "  FutureWarning)\n",
            "/usr/local/lib/python3.6/dist-packages/sklearn/linear_model/logistic.py:432: FutureWarning: Default solver will be changed to 'lbfgs' in 0.22. Specify a solver to silence this warning.\n",
            "  FutureWarning)\n",
            "/usr/local/lib/python3.6/dist-packages/sklearn/linear_model/logistic.py:432: FutureWarning: Default solver will be changed to 'lbfgs' in 0.22. Specify a solver to silence this warning.\n",
            "  FutureWarning)\n",
            "/usr/local/lib/python3.6/dist-packages/sklearn/linear_model/logistic.py:432: FutureWarning: Default solver will be changed to 'lbfgs' in 0.22. Specify a solver to silence this warning.\n",
            "  FutureWarning)\n",
            "/usr/local/lib/python3.6/dist-packages/sklearn/linear_model/logistic.py:432: FutureWarning: Default solver will be changed to 'lbfgs' in 0.22. Specify a solver to silence this warning.\n",
            "  FutureWarning)\n",
            "/usr/local/lib/python3.6/dist-packages/sklearn/linear_model/logistic.py:432: FutureWarning: Default solver will be changed to 'lbfgs' in 0.22. Specify a solver to silence this warning.\n",
            "  FutureWarning)\n",
            "/usr/local/lib/python3.6/dist-packages/sklearn/linear_model/logistic.py:432: FutureWarning: Default solver will be changed to 'lbfgs' in 0.22. Specify a solver to silence this warning.\n",
            "  FutureWarning)\n",
            "/usr/local/lib/python3.6/dist-packages/sklearn/linear_model/logistic.py:432: FutureWarning: Default solver will be changed to 'lbfgs' in 0.22. Specify a solver to silence this warning.\n",
            "  FutureWarning)\n",
            "/usr/local/lib/python3.6/dist-packages/sklearn/linear_model/logistic.py:432: FutureWarning: Default solver will be changed to 'lbfgs' in 0.22. Specify a solver to silence this warning.\n",
            "  FutureWarning)\n",
            "/usr/local/lib/python3.6/dist-packages/sklearn/linear_model/logistic.py:432: FutureWarning: Default solver will be changed to 'lbfgs' in 0.22. Specify a solver to silence this warning.\n",
            "  FutureWarning)\n",
            "/usr/local/lib/python3.6/dist-packages/sklearn/linear_model/logistic.py:432: FutureWarning: Default solver will be changed to 'lbfgs' in 0.22. Specify a solver to silence this warning.\n",
            "  FutureWarning)\n",
            "/usr/local/lib/python3.6/dist-packages/sklearn/linear_model/logistic.py:432: FutureWarning: Default solver will be changed to 'lbfgs' in 0.22. Specify a solver to silence this warning.\n",
            "  FutureWarning)\n",
            "/usr/local/lib/python3.6/dist-packages/sklearn/linear_model/logistic.py:432: FutureWarning: Default solver will be changed to 'lbfgs' in 0.22. Specify a solver to silence this warning.\n",
            "  FutureWarning)\n",
            "/usr/local/lib/python3.6/dist-packages/sklearn/linear_model/logistic.py:432: FutureWarning: Default solver will be changed to 'lbfgs' in 0.22. Specify a solver to silence this warning.\n",
            "  FutureWarning)\n",
            "/usr/local/lib/python3.6/dist-packages/sklearn/linear_model/logistic.py:432: FutureWarning: Default solver will be changed to 'lbfgs' in 0.22. Specify a solver to silence this warning.\n",
            "  FutureWarning)\n",
            "/usr/local/lib/python3.6/dist-packages/sklearn/linear_model/logistic.py:432: FutureWarning: Default solver will be changed to 'lbfgs' in 0.22. Specify a solver to silence this warning.\n",
            "  FutureWarning)\n",
            "/usr/local/lib/python3.6/dist-packages/sklearn/linear_model/logistic.py:432: FutureWarning: Default solver will be changed to 'lbfgs' in 0.22. Specify a solver to silence this warning.\n",
            "  FutureWarning)\n",
            "/usr/local/lib/python3.6/dist-packages/sklearn/linear_model/logistic.py:432: FutureWarning: Default solver will be changed to 'lbfgs' in 0.22. Specify a solver to silence this warning.\n",
            "  FutureWarning)\n",
            "/usr/local/lib/python3.6/dist-packages/sklearn/linear_model/logistic.py:432: FutureWarning: Default solver will be changed to 'lbfgs' in 0.22. Specify a solver to silence this warning.\n",
            "  FutureWarning)\n",
            "/usr/local/lib/python3.6/dist-packages/sklearn/linear_model/logistic.py:432: FutureWarning: Default solver will be changed to 'lbfgs' in 0.22. Specify a solver to silence this warning.\n",
            "  FutureWarning)\n",
            "/usr/local/lib/python3.6/dist-packages/sklearn/linear_model/logistic.py:432: FutureWarning: Default solver will be changed to 'lbfgs' in 0.22. Specify a solver to silence this warning.\n",
            "  FutureWarning)\n",
            "/usr/local/lib/python3.6/dist-packages/sklearn/linear_model/logistic.py:432: FutureWarning: Default solver will be changed to 'lbfgs' in 0.22. Specify a solver to silence this warning.\n",
            "  FutureWarning)\n",
            "/usr/local/lib/python3.6/dist-packages/sklearn/linear_model/logistic.py:432: FutureWarning: Default solver will be changed to 'lbfgs' in 0.22. Specify a solver to silence this warning.\n",
            "  FutureWarning)\n",
            "/usr/local/lib/python3.6/dist-packages/sklearn/linear_model/logistic.py:432: FutureWarning: Default solver will be changed to 'lbfgs' in 0.22. Specify a solver to silence this warning.\n",
            "  FutureWarning)\n",
            "/usr/local/lib/python3.6/dist-packages/sklearn/linear_model/logistic.py:432: FutureWarning: Default solver will be changed to 'lbfgs' in 0.22. Specify a solver to silence this warning.\n",
            "  FutureWarning)\n",
            "/usr/local/lib/python3.6/dist-packages/sklearn/linear_model/logistic.py:432: FutureWarning: Default solver will be changed to 'lbfgs' in 0.22. Specify a solver to silence this warning.\n",
            "  FutureWarning)\n",
            "/usr/local/lib/python3.6/dist-packages/sklearn/linear_model/logistic.py:432: FutureWarning: Default solver will be changed to 'lbfgs' in 0.22. Specify a solver to silence this warning.\n",
            "  FutureWarning)\n",
            "/usr/local/lib/python3.6/dist-packages/sklearn/linear_model/logistic.py:432: FutureWarning: Default solver will be changed to 'lbfgs' in 0.22. Specify a solver to silence this warning.\n",
            "  FutureWarning)\n",
            "/usr/local/lib/python3.6/dist-packages/sklearn/linear_model/logistic.py:432: FutureWarning: Default solver will be changed to 'lbfgs' in 0.22. Specify a solver to silence this warning.\n",
            "  FutureWarning)\n",
            "/usr/local/lib/python3.6/dist-packages/sklearn/linear_model/logistic.py:432: FutureWarning: Default solver will be changed to 'lbfgs' in 0.22. Specify a solver to silence this warning.\n",
            "  FutureWarning)\n",
            "/usr/local/lib/python3.6/dist-packages/sklearn/linear_model/logistic.py:432: FutureWarning: Default solver will be changed to 'lbfgs' in 0.22. Specify a solver to silence this warning.\n",
            "  FutureWarning)\n",
            "/usr/local/lib/python3.6/dist-packages/sklearn/linear_model/logistic.py:432: FutureWarning: Default solver will be changed to 'lbfgs' in 0.22. Specify a solver to silence this warning.\n",
            "  FutureWarning)\n",
            "/usr/local/lib/python3.6/dist-packages/sklearn/linear_model/logistic.py:432: FutureWarning: Default solver will be changed to 'lbfgs' in 0.22. Specify a solver to silence this warning.\n",
            "  FutureWarning)\n",
            "/usr/local/lib/python3.6/dist-packages/sklearn/linear_model/logistic.py:432: FutureWarning: Default solver will be changed to 'lbfgs' in 0.22. Specify a solver to silence this warning.\n",
            "  FutureWarning)\n",
            "/usr/local/lib/python3.6/dist-packages/sklearn/linear_model/logistic.py:432: FutureWarning: Default solver will be changed to 'lbfgs' in 0.22. Specify a solver to silence this warning.\n",
            "  FutureWarning)\n",
            "/usr/local/lib/python3.6/dist-packages/sklearn/linear_model/logistic.py:432: FutureWarning: Default solver will be changed to 'lbfgs' in 0.22. Specify a solver to silence this warning.\n",
            "  FutureWarning)\n"
          ],
          "name": "stderr"
        },
        {
          "output_type": "execute_result",
          "data": {
            "text/plain": [
              "GridSearchCV(cv=10, error_score='raise-deprecating',\n",
              "             estimator=LogisticRegression(C=1.0, class_weight=None, dual=False,\n",
              "                                          fit_intercept=True,\n",
              "                                          intercept_scaling=1, l1_ratio=None,\n",
              "                                          max_iter=100, multi_class='warn',\n",
              "                                          n_jobs=None, penalty='l2',\n",
              "                                          random_state=None, solver='warn',\n",
              "                                          tol=0.0001, verbose=0,\n",
              "                                          warm_start=False),\n",
              "             iid='warn', n_jobs=None,\n",
              "             param_grid={'C': array([1.e-03, 1.e-02, 1.e-01, 1.e+00, 1.e+01, 1.e+02, 1.e+03]),\n",
              "                         'penalty': ['l1', 'l2'],\n",
              "                         'tol': [0.01, 0.001, 0.0001]},\n",
              "             pre_dispatch='2*n_jobs', refit=True, return_train_score=False,\n",
              "             scoring=None, verbose=0)"
            ]
          },
          "metadata": {
            "tags": []
          },
          "execution_count": 52
        }
      ]
    },
    {
      "cell_type": "code",
      "metadata": {
        "id": "lNkUyTRayEdN",
        "colab_type": "code",
        "colab": {
          "base_uri": "https://localhost:8080/",
          "height": 102
        },
        "outputId": "aaa9f15e-4dd0-4506-c2e6-38980b38e15c"
      },
      "source": [
        "logreg_cv.best_estimator_"
      ],
      "execution_count": 53,
      "outputs": [
        {
          "output_type": "execute_result",
          "data": {
            "text/plain": [
              "LogisticRegression(C=100.0, class_weight=None, dual=False, fit_intercept=True,\n",
              "                   intercept_scaling=1, l1_ratio=None, max_iter=100,\n",
              "                   multi_class='warn', n_jobs=None, penalty='l1',\n",
              "                   random_state=None, solver='warn', tol=0.01, verbose=0,\n",
              "                   warm_start=False)"
            ]
          },
          "metadata": {
            "tags": []
          },
          "execution_count": 53
        }
      ]
    },
    {
      "cell_type": "code",
      "metadata": {
        "id": "jELLSdet1LN1",
        "colab_type": "code",
        "colab": {
          "base_uri": "https://localhost:8080/",
          "height": 34
        },
        "outputId": "bdf55a5b-94ab-4a5b-a60f-e1263dfdd2bc"
      },
      "source": [
        "logreg_cv.best_score_"
      ],
      "execution_count": 54,
      "outputs": [
        {
          "output_type": "execute_result",
          "data": {
            "text/plain": [
              "0.8328651685393258"
            ]
          },
          "metadata": {
            "tags": []
          },
          "execution_count": 54
        }
      ]
    },
    {
      "cell_type": "code",
      "metadata": {
        "id": "aQH66FBf11yJ",
        "colab_type": "code",
        "colab": {
          "base_uri": "https://localhost:8080/",
          "height": 156
        },
        "outputId": "191ff87a-6558-4dd9-99fb-1dff52291fb1"
      },
      "source": [
        "logreg.fit(xtrain,ytrain)"
      ],
      "execution_count": 56,
      "outputs": [
        {
          "output_type": "stream",
          "text": [
            "/usr/local/lib/python3.6/dist-packages/sklearn/linear_model/logistic.py:432: FutureWarning: Default solver will be changed to 'lbfgs' in 0.22. Specify a solver to silence this warning.\n",
            "  FutureWarning)\n"
          ],
          "name": "stderr"
        },
        {
          "output_type": "execute_result",
          "data": {
            "text/plain": [
              "LogisticRegression(C=1.0, class_weight=None, dual=False, fit_intercept=True,\n",
              "                   intercept_scaling=1, l1_ratio=None, max_iter=100,\n",
              "                   multi_class='warn', n_jobs=None, penalty='l2',\n",
              "                   random_state=None, solver='warn', tol=0.0001, verbose=0,\n",
              "                   warm_start=False)"
            ]
          },
          "metadata": {
            "tags": []
          },
          "execution_count": 56
        }
      ]
    },
    {
      "cell_type": "code",
      "metadata": {
        "id": "za6f5uWj1PvR",
        "colab_type": "code",
        "colab": {}
      },
      "source": [
        "y_pred_test=logreg.predict(xtest)"
      ],
      "execution_count": 0,
      "outputs": []
    },
    {
      "cell_type": "code",
      "metadata": {
        "id": "2qbo9J4p1yna",
        "colab_type": "code",
        "colab": {}
      },
      "source": [
        "from sklearn.metrics import accuracy_score"
      ],
      "execution_count": 0,
      "outputs": []
    },
    {
      "cell_type": "code",
      "metadata": {
        "id": "83P00Wng2Hpk",
        "colab_type": "code",
        "colab": {
          "base_uri": "https://localhost:8080/",
          "height": 34
        },
        "outputId": "c4fa5ec1-7b72-46c1-c883-3fe116389edc"
      },
      "source": [
        "accuracy_score(ytest,y_pred_test)"
      ],
      "execution_count": 61,
      "outputs": [
        {
          "output_type": "execute_result",
          "data": {
            "text/plain": [
              "0.8044692737430168"
            ]
          },
          "metadata": {
            "tags": []
          },
          "execution_count": 61
        }
      ]
    },
    {
      "cell_type": "markdown",
      "metadata": {
        "id": "bkHRgRSU2lzY",
        "colab_type": "text"
      },
      "source": [
        "Model Evaluation using Confusion Matrix"
      ]
    },
    {
      "cell_type": "code",
      "metadata": {
        "id": "ZZVUI-pN2aMD",
        "colab_type": "code",
        "colab": {
          "base_uri": "https://localhost:8080/",
          "height": 68
        },
        "outputId": "fdc9113e-1ca6-4177-a78a-87138309e025"
      },
      "source": [
        "from sklearn.metrics import confusion_matrix\n",
        "confusion_matrix=pd.DataFrame(confusion_matrix(ytest,y_pred_test))\n",
        "print(confusion_matrix)"
      ],
      "execution_count": 62,
      "outputs": [
        {
          "output_type": "stream",
          "text": [
            "    0   1\n",
            "0  95  11\n",
            "1  24  49\n"
          ],
          "name": "stdout"
        }
      ]
    },
    {
      "cell_type": "code",
      "metadata": {
        "id": "pMUnfwJ94JUz",
        "colab_type": "code",
        "colab": {
          "base_uri": "https://localhost:8080/",
          "height": 68
        },
        "outputId": "5f24e686-4125-4ed5-e07f-6f01a9c7f443"
      },
      "source": [
        "confusion_matrix.index=[[\"Actual died\",\"Actual Survived\"]]\n",
        "confusion_matrix.columns=[[\"Predicted died\",\"Predicted Survived\"]]\n",
        "print(confusion_matrix)"
      ],
      "execution_count": 66,
      "outputs": [
        {
          "output_type": "stream",
          "text": [
            "                Predicted died Predicted Survived\n",
            "Actual died                 95                 11\n",
            "Actual Survived             24                 49\n"
          ],
          "name": "stdout"
        }
      ]
    },
    {
      "cell_type": "code",
      "metadata": {
        "id": "L0-F6Nas4k4Y",
        "colab_type": "code",
        "colab": {
          "base_uri": "https://localhost:8080/",
          "height": 285
        },
        "outputId": "264e6c83-8ac0-401e-c3b9-307c9870a222"
      },
      "source": [
        "titanic[\"Survived\"].hist()"
      ],
      "execution_count": 67,
      "outputs": [
        {
          "output_type": "execute_result",
          "data": {
            "text/plain": [
              "<matplotlib.axes._subplots.AxesSubplot at 0x7f4ede69b588>"
            ]
          },
          "metadata": {
            "tags": []
          },
          "execution_count": 67
        },
        {
          "output_type": "display_data",
          "data": {
            "image/png": "[encoded data removed]",
            "text/plain": [
              "<Figure size 432x288 with 1 Axes>"
            ]
          },
          "metadata": {
            "tags": []
          }
        }
      ]
    },
    {
      "cell_type": "markdown",
      "metadata": {
        "id": "nR9Mdgjq7Ctc",
        "colab_type": "text"
      },
      "source": [
        "Above we judge accuracy based on default threshold of 0.50 \n",
        "now will try to vary threshold and will check impact on accuracy"
      ]
    },
    {
      "cell_type": "code",
      "metadata": {
        "id": "0gFd-P8j59dW",
        "colab_type": "code",
        "colab": {}
      },
      "source": [
        "y_pred1_test=np.where(logreg.predict_proba(xtest)[:,1]>0.75,1,0)"
      ],
      "execution_count": 0,
      "outputs": []
    },
    {
      "cell_type": "code",
      "metadata": {
        "id": "Gwz2E9cf71zy",
        "colab_type": "code",
        "colab": {
          "base_uri": "https://localhost:8080/",
          "height": 34
        },
        "outputId": "35040cfe-a481-4e1f-fa2d-352aaa342d91"
      },
      "source": [
        "accuracy_score(ytest,y_pred1_test)"
      ],
      "execution_count": 71,
      "outputs": [
        {
          "output_type": "execute_result",
          "data": {
            "text/plain": [
              "0.7374301675977654"
            ]
          },
          "metadata": {
            "tags": []
          },
          "execution_count": 71
        }
      ]
    },
    {
      "cell_type": "markdown",
      "metadata": {
        "id": "JcRGqMpK8VS0",
        "colab_type": "text"
      },
      "source": [
        "will check with threshold of 0.25\n"
      ]
    },
    {
      "cell_type": "code",
      "metadata": {
        "id": "nmT0gvTn8Lo3",
        "colab_type": "code",
        "colab": {}
      },
      "source": [
        "y_pred_test2=np.where(logreg.predict_proba(xtest)[:,1]>0.25,1,0)"
      ],
      "execution_count": 0,
      "outputs": []
    },
    {
      "cell_type": "code",
      "metadata": {
        "id": "ZdOq6Cg58h-A",
        "colab_type": "code",
        "colab": {
          "base_uri": "https://localhost:8080/",
          "height": 34
        },
        "outputId": "5e6733d5-7344-4eaf-e78c-272616a1918a"
      },
      "source": [
        "accuracy_score(ytest,y_pred_test2)"
      ],
      "execution_count": 73,
      "outputs": [
        {
          "output_type": "execute_result",
          "data": {
            "text/plain": [
              "0.7541899441340782"
            ]
          },
          "metadata": {
            "tags": []
          },
          "execution_count": 73
        }
      ]
    },
    {
      "cell_type": "code",
      "metadata": {
        "id": "qZSWUKbe8x3C",
        "colab_type": "code",
        "colab": {}
      },
      "source": [
        ""
      ],
      "execution_count": 0,
      "outputs": []
    }
  ]
}