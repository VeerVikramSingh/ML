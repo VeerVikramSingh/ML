{
  "nbformat": 4,
  "nbformat_minor": 0,
  "metadata": {
    "colab": {
      "name": "Credit Default Risk Analysis _ its Detection",
      "provenance": [],
      "authorship_tag": "ABX9TyOLk8Z2dAQJ8g/6ZOcb3rIq",
      "include_colab_link": true
    },
    "kernelspec": {
      "name": "python3",
      "display_name": "Python 3"
    }
  },
  "cells": [
    {
      "cell_type": "markdown",
      "metadata": {
        "id": "view-in-github",
        "colab_type": "text"
      },
      "source": [
        "<a href=\"https://colab.research.google.com/github/VeerVikramSingh/ML/blob/master/Credit_Default_Risk_Analysis___its_Detection.ipynb\" target=\"_parent\"><img src=\"https://colab.research.google.com/assets/colab-badge.svg\" alt=\"Open In Colab\"/></a>"
      ]
    },
    {
      "cell_type": "code",
      "metadata": {
        "id": "wlboRMftKfNR",
        "colab_type": "code",
        "colab": {}
      },
      "source": [
        "# For Panel Data Analysis\n",
        "import pandas as pd\n",
        "pd.set_option('display.max_columns', None)\n",
        "pd.set_option('display.max_rows', None)\n",
        "pd.set_option('mode.chained_assignment', None)\n",
        "# For Numerical Python\n",
        "import numpy as np\n",
        "\n",
        "# For Random seed values\n",
        "from random import randint\n",
        "# For Data Visualization\n",
        "import matplotlib.pyplot as plt\n",
        "%matplotlib inline\n",
        "import seaborn as sns\n",
        "#for scientific computing\n",
        "from scipy import stats\n",
        "# for preprocessing and scaling\n",
        "from sklearn.preprocessing import LabelEncoder,OneHotEncoder,minmax_scale,StandardScaler\n",
        "#feature selection\n",
        "from sklearn.feature_selection import SelectFromModel\n",
        "# For Data Modeling and Evaluation\n",
        "from sklearn.model_selection import train_test_split\n",
        "from sklearn.linear_model import LogisticRegression\n",
        "from sklearn.ensemble import RandomForestClassifier\n",
        "from xgboost.sklearn import XGBClassifier\n",
        "# For Machine Learning Model Evaluation\n",
        "from sklearn.metrics import classification_report\n",
        "from yellowbrick.classifier import precision_recall_curve\n",
        "from xgboost import to_graphviz,plot_importance\n",
        "# To handle class imbalance problem\n",
        "from imblearn.over_sampling import SMOTE\n",
        "# To Disable Warnings\n",
        "import warnings\n",
        "warnings.filterwarnings(action=\"ignore\")"
      ],
      "execution_count": 0,
      "outputs": []
    },
    {
      "cell_type": "code",
      "metadata": {
        "id": "e_PaAzByPV_V",
        "colab_type": "code",
        "colab": {}
      },
      "source": [
        "LINK = 'https://storage.googleapis.com/industryanalytics/LoanDefaultData.csv'\n",
        "\n",
        "def load_default_data(link = LINK):\n",
        "  return pd.read_csv(filepath_or_buffer = link)"
      ],
      "execution_count": 0,
      "outputs": []
    },
    {
      "cell_type": "code",
      "metadata": {
        "id": "97ZmO53PP3z3",
        "colab_type": "code",
        "colab": {
          "base_uri": "https://localhost:8080/",
          "height": 285
        },
        "outputId": "a0c8c55d-096c-4c31-9376-a401c359ed59"
      },
      "source": [
        "data=load_default_data()\n",
        "print(data.shape)\n",
        "data.head()"
      ],
      "execution_count": 24,
      "outputs": [
        {
          "output_type": "stream",
          "text": [
            "(887379, 22)\n"
          ],
          "name": "stdout"
        },
        {
          "output_type": "execute_result",
          "data": {
            "text/html": [
              "<div>\n",
              "<style scoped>\n",
              "    .dataframe tbody tr th:only-of-type {\n",
              "        vertical-align: middle;\n",
              "    }\n",
              "\n",
              "    .dataframe tbody tr th {\n",
              "        vertical-align: top;\n",
              "    }\n",
              "\n",
              "    .dataframe thead th {\n",
              "        text-align: right;\n",
              "    }\n",
              "</style>\n",
              "<table border=\"1\" class=\"dataframe\">\n",
              "  <thead>\n",
              "    <tr style=\"text-align: right;\">\n",
              "      <th></th>\n",
              "      <th>cust_id</th>\n",
              "      <th>year</th>\n",
              "      <th>state</th>\n",
              "      <th>date_issued</th>\n",
              "      <th>date_final</th>\n",
              "      <th>emp_duration</th>\n",
              "      <th>own_type</th>\n",
              "      <th>income_type</th>\n",
              "      <th>app_type</th>\n",
              "      <th>loan_purpose</th>\n",
              "      <th>interest_payments</th>\n",
              "      <th>grade</th>\n",
              "      <th>annual_pay</th>\n",
              "      <th>loan_amount</th>\n",
              "      <th>interest_rate</th>\n",
              "      <th>loan_duration</th>\n",
              "      <th>dti</th>\n",
              "      <th>total_pymnt</th>\n",
              "      <th>total_rec_prncp</th>\n",
              "      <th>recoveries</th>\n",
              "      <th>installment</th>\n",
              "      <th>is_default</th>\n",
              "    </tr>\n",
              "  </thead>\n",
              "  <tbody>\n",
              "    <tr>\n",
              "      <th>0</th>\n",
              "      <td>180675</td>\n",
              "      <td>2007</td>\n",
              "      <td>Andhra Pradesh</td>\n",
              "      <td>01/12/2007</td>\n",
              "      <td>1032009</td>\n",
              "      <td>10.0</td>\n",
              "      <td>MORTGAGE</td>\n",
              "      <td>Low</td>\n",
              "      <td>INDIVIDUAL</td>\n",
              "      <td>debt_consolidation</td>\n",
              "      <td>Low</td>\n",
              "      <td>C</td>\n",
              "      <td>73000</td>\n",
              "      <td>25000</td>\n",
              "      <td>10.91</td>\n",
              "      <td>36 months</td>\n",
              "      <td>22.13</td>\n",
              "      <td>13650.38</td>\n",
              "      <td>8767.32</td>\n",
              "      <td>2207.65</td>\n",
              "      <td>817.41</td>\n",
              "      <td>1</td>\n",
              "    </tr>\n",
              "    <tr>\n",
              "      <th>1</th>\n",
              "      <td>85781</td>\n",
              "      <td>2007</td>\n",
              "      <td>Rajasthan</td>\n",
              "      <td>01/06/2007</td>\n",
              "      <td>1072010</td>\n",
              "      <td>0.5</td>\n",
              "      <td>RENT</td>\n",
              "      <td>Low</td>\n",
              "      <td>INDIVIDUAL</td>\n",
              "      <td>other</td>\n",
              "      <td>Low</td>\n",
              "      <td>C</td>\n",
              "      <td>40000</td>\n",
              "      <td>1400</td>\n",
              "      <td>10.91</td>\n",
              "      <td>36 months</td>\n",
              "      <td>8.61</td>\n",
              "      <td>1663.04</td>\n",
              "      <td>1400.00</td>\n",
              "      <td>0.00</td>\n",
              "      <td>45.78</td>\n",
              "      <td>0</td>\n",
              "    </tr>\n",
              "    <tr>\n",
              "      <th>2</th>\n",
              "      <td>85675</td>\n",
              "      <td>2007</td>\n",
              "      <td>Manipur</td>\n",
              "      <td>01/06/2007</td>\n",
              "      <td>1062010</td>\n",
              "      <td>10.0</td>\n",
              "      <td>RENT</td>\n",
              "      <td>Low</td>\n",
              "      <td>INDIVIDUAL</td>\n",
              "      <td>other</td>\n",
              "      <td>High</td>\n",
              "      <td>E</td>\n",
              "      <td>25000</td>\n",
              "      <td>1000</td>\n",
              "      <td>14.07</td>\n",
              "      <td>36 months</td>\n",
              "      <td>16.27</td>\n",
              "      <td>1231.38</td>\n",
              "      <td>1000.00</td>\n",
              "      <td>0.00</td>\n",
              "      <td>34.21</td>\n",
              "      <td>0</td>\n",
              "    </tr>\n",
              "    <tr>\n",
              "      <th>3</th>\n",
              "      <td>84918</td>\n",
              "      <td>2007</td>\n",
              "      <td>Andhra Pradesh</td>\n",
              "      <td>01/09/2007</td>\n",
              "      <td>1042008</td>\n",
              "      <td>10.0</td>\n",
              "      <td>MORTGAGE</td>\n",
              "      <td>Low</td>\n",
              "      <td>INDIVIDUAL</td>\n",
              "      <td>other</td>\n",
              "      <td>Low</td>\n",
              "      <td>A</td>\n",
              "      <td>65000</td>\n",
              "      <td>5000</td>\n",
              "      <td>7.43</td>\n",
              "      <td>36 months</td>\n",
              "      <td>0.28</td>\n",
              "      <td>5200.44</td>\n",
              "      <td>5000.00</td>\n",
              "      <td>0.00</td>\n",
              "      <td>155.38</td>\n",
              "      <td>0</td>\n",
              "    </tr>\n",
              "    <tr>\n",
              "      <th>4</th>\n",
              "      <td>84670</td>\n",
              "      <td>2007</td>\n",
              "      <td>Arunachal Pradesh</td>\n",
              "      <td>01/06/2007</td>\n",
              "      <td>1082009</td>\n",
              "      <td>10.0</td>\n",
              "      <td>MORTGAGE</td>\n",
              "      <td>High</td>\n",
              "      <td>INDIVIDUAL</td>\n",
              "      <td>other</td>\n",
              "      <td>Low</td>\n",
              "      <td>A</td>\n",
              "      <td>300000</td>\n",
              "      <td>5000</td>\n",
              "      <td>7.75</td>\n",
              "      <td>36 months</td>\n",
              "      <td>5.38</td>\n",
              "      <td>5565.65</td>\n",
              "      <td>5000.00</td>\n",
              "      <td>0.00</td>\n",
              "      <td>156.11</td>\n",
              "      <td>0</td>\n",
              "    </tr>\n",
              "  </tbody>\n",
              "</table>\n",
              "</div>"
            ],
            "text/plain": [
              "   cust_id  year              state date_issued  date_final  emp_duration  \\\n",
              "0   180675  2007     Andhra Pradesh  01/12/2007     1032009          10.0   \n",
              "1    85781  2007          Rajasthan  01/06/2007     1072010           0.5   \n",
              "2    85675  2007            Manipur  01/06/2007     1062010          10.0   \n",
              "3    84918  2007     Andhra Pradesh  01/09/2007     1042008          10.0   \n",
              "4    84670  2007  Arunachal Pradesh  01/06/2007     1082009          10.0   \n",
              "\n",
              "   own_type income_type    app_type        loan_purpose interest_payments  \\\n",
              "0  MORTGAGE         Low  INDIVIDUAL  debt_consolidation               Low   \n",
              "1      RENT         Low  INDIVIDUAL               other               Low   \n",
              "2      RENT         Low  INDIVIDUAL               other              High   \n",
              "3  MORTGAGE         Low  INDIVIDUAL               other               Low   \n",
              "4  MORTGAGE        High  INDIVIDUAL               other               Low   \n",
              "\n",
              "  grade  annual_pay  loan_amount  interest_rate loan_duration    dti  \\\n",
              "0     C       73000        25000          10.91     36 months  22.13   \n",
              "1     C       40000         1400          10.91     36 months   8.61   \n",
              "2     E       25000         1000          14.07     36 months  16.27   \n",
              "3     A       65000         5000           7.43     36 months   0.28   \n",
              "4     A      300000         5000           7.75     36 months   5.38   \n",
              "\n",
              "   total_pymnt  total_rec_prncp  recoveries  installment  is_default  \n",
              "0     13650.38          8767.32     2207.65       817.41           1  \n",
              "1      1663.04          1400.00        0.00        45.78           0  \n",
              "2      1231.38          1000.00        0.00        34.21           0  \n",
              "3      5200.44          5000.00        0.00       155.38           0  \n",
              "4      5565.65          5000.00        0.00       156.11           0  "
            ]
          },
          "metadata": {
            "tags": []
          },
          "execution_count": 24
        }
      ]
    },
    {
      "cell_type": "code",
      "metadata": {
        "id": "-a5sPUiIP9yx",
        "colab_type": "code",
        "colab": {
          "base_uri": "https://localhost:8080/",
          "height": 34
        },
        "outputId": "c0cf86bf-d372-4d92-85e9-099f090f7a0c"
      },
      "source": [
        "len(data.describe().columns)"
      ],
      "execution_count": 25,
      "outputs": [
        {
          "output_type": "execute_result",
          "data": {
            "text/plain": [
              "13"
            ]
          },
          "metadata": {
            "tags": []
          },
          "execution_count": 25
        }
      ]
    },
    {
      "cell_type": "code",
      "metadata": {
        "id": "-O0QNFMaQiks",
        "colab_type": "code",
        "colab": {
          "base_uri": "https://localhost:8080/",
          "height": 307
        },
        "outputId": "d937b3f8-d62c-40f2-83fe-ee3d5e50a2ea"
      },
      "source": [
        "data.describe()"
      ],
      "execution_count": 26,
      "outputs": [
        {
          "output_type": "execute_result",
          "data": {
            "text/html": [
              "<div>\n",
              "<style scoped>\n",
              "    .dataframe tbody tr th:only-of-type {\n",
              "        vertical-align: middle;\n",
              "    }\n",
              "\n",
              "    .dataframe tbody tr th {\n",
              "        vertical-align: top;\n",
              "    }\n",
              "\n",
              "    .dataframe thead th {\n",
              "        text-align: right;\n",
              "    }\n",
              "</style>\n",
              "<table border=\"1\" class=\"dataframe\">\n",
              "  <thead>\n",
              "    <tr style=\"text-align: right;\">\n",
              "      <th></th>\n",
              "      <th>cust_id</th>\n",
              "      <th>year</th>\n",
              "      <th>date_final</th>\n",
              "      <th>emp_duration</th>\n",
              "      <th>annual_pay</th>\n",
              "      <th>loan_amount</th>\n",
              "      <th>interest_rate</th>\n",
              "      <th>dti</th>\n",
              "      <th>total_pymnt</th>\n",
              "      <th>total_rec_prncp</th>\n",
              "      <th>recoveries</th>\n",
              "      <th>installment</th>\n",
              "      <th>is_default</th>\n",
              "    </tr>\n",
              "  </thead>\n",
              "  <tbody>\n",
              "    <tr>\n",
              "      <th>count</th>\n",
              "      <td>8.873790e+05</td>\n",
              "      <td>887379.000000</td>\n",
              "      <td>8.873790e+05</td>\n",
              "      <td>887379.000000</td>\n",
              "      <td>8.873790e+05</td>\n",
              "      <td>887379.000000</td>\n",
              "      <td>887379.000000</td>\n",
              "      <td>887379.000000</td>\n",
              "      <td>887379.000000</td>\n",
              "      <td>887379.000000</td>\n",
              "      <td>887379.000000</td>\n",
              "      <td>887379.000000</td>\n",
              "      <td>887379.000000</td>\n",
              "    </tr>\n",
              "    <tr>\n",
              "      <th>mean</th>\n",
              "      <td>3.246513e+07</td>\n",
              "      <td>2014.021761</td>\n",
              "      <td>1.047089e+06</td>\n",
              "      <td>6.050564</td>\n",
              "      <td>7.502759e+04</td>\n",
              "      <td>14755.264605</td>\n",
              "      <td>13.246740</td>\n",
              "      <td>18.157039</td>\n",
              "      <td>7558.826684</td>\n",
              "      <td>5757.706424</td>\n",
              "      <td>45.919243</td>\n",
              "      <td>436.717127</td>\n",
              "      <td>0.075987</td>\n",
              "    </tr>\n",
              "    <tr>\n",
              "      <th>std</th>\n",
              "      <td>2.282734e+07</td>\n",
              "      <td>1.261741</td>\n",
              "      <td>4.555149e+04</td>\n",
              "      <td>3.507405</td>\n",
              "      <td>6.469815e+04</td>\n",
              "      <td>8435.455601</td>\n",
              "      <td>4.381867</td>\n",
              "      <td>17.190626</td>\n",
              "      <td>7871.243336</td>\n",
              "      <td>6625.441046</td>\n",
              "      <td>409.693874</td>\n",
              "      <td>244.186593</td>\n",
              "      <td>0.264977</td>\n",
              "    </tr>\n",
              "    <tr>\n",
              "      <th>min</th>\n",
              "      <td>5.473400e+04</td>\n",
              "      <td>2007.000000</td>\n",
              "      <td>1.012008e+06</td>\n",
              "      <td>0.500000</td>\n",
              "      <td>0.000000e+00</td>\n",
              "      <td>500.000000</td>\n",
              "      <td>5.320000</td>\n",
              "      <td>0.000000</td>\n",
              "      <td>0.000000</td>\n",
              "      <td>0.000000</td>\n",
              "      <td>0.000000</td>\n",
              "      <td>15.670000</td>\n",
              "      <td>0.000000</td>\n",
              "    </tr>\n",
              "    <tr>\n",
              "      <th>25%</th>\n",
              "      <td>9.206643e+06</td>\n",
              "      <td>2013.000000</td>\n",
              "      <td>1.012016e+06</td>\n",
              "      <td>3.000000</td>\n",
              "      <td>4.500000e+04</td>\n",
              "      <td>8000.000000</td>\n",
              "      <td>9.990000</td>\n",
              "      <td>11.910000</td>\n",
              "      <td>1914.590000</td>\n",
              "      <td>1200.570000</td>\n",
              "      <td>0.000000</td>\n",
              "      <td>260.705000</td>\n",
              "      <td>0.000000</td>\n",
              "    </tr>\n",
              "    <tr>\n",
              "      <th>50%</th>\n",
              "      <td>3.443327e+07</td>\n",
              "      <td>2014.000000</td>\n",
              "      <td>1.012016e+06</td>\n",
              "      <td>6.050000</td>\n",
              "      <td>6.500000e+04</td>\n",
              "      <td>13000.000000</td>\n",
              "      <td>12.990000</td>\n",
              "      <td>17.650000</td>\n",
              "      <td>4894.999117</td>\n",
              "      <td>3215.320000</td>\n",
              "      <td>0.000000</td>\n",
              "      <td>382.550000</td>\n",
              "      <td>0.000000</td>\n",
              "    </tr>\n",
              "    <tr>\n",
              "      <th>75%</th>\n",
              "      <td>5.490814e+07</td>\n",
              "      <td>2015.000000</td>\n",
              "      <td>1.092015e+06</td>\n",
              "      <td>10.000000</td>\n",
              "      <td>9.000000e+04</td>\n",
              "      <td>20000.000000</td>\n",
              "      <td>16.200000</td>\n",
              "      <td>23.950000</td>\n",
              "      <td>10616.814230</td>\n",
              "      <td>8000.000000</td>\n",
              "      <td>0.000000</td>\n",
              "      <td>572.600000</td>\n",
              "      <td>0.000000</td>\n",
              "    </tr>\n",
              "    <tr>\n",
              "      <th>max</th>\n",
              "      <td>6.861706e+07</td>\n",
              "      <td>2015.000000</td>\n",
              "      <td>1.122015e+06</td>\n",
              "      <td>10.000000</td>\n",
              "      <td>9.500000e+06</td>\n",
              "      <td>35000.000000</td>\n",
              "      <td>28.990000</td>\n",
              "      <td>9999.000000</td>\n",
              "      <td>57777.579870</td>\n",
              "      <td>35000.030000</td>\n",
              "      <td>33520.270000</td>\n",
              "      <td>1445.460000</td>\n",
              "      <td>1.000000</td>\n",
              "    </tr>\n",
              "  </tbody>\n",
              "</table>\n",
              "</div>"
            ],
            "text/plain": [
              "            cust_id           year    date_final   emp_duration    annual_pay  \\\n",
              "count  8.873790e+05  887379.000000  8.873790e+05  887379.000000  8.873790e+05   \n",
              "mean   3.246513e+07    2014.021761  1.047089e+06       6.050564  7.502759e+04   \n",
              "std    2.282734e+07       1.261741  4.555149e+04       3.507405  6.469815e+04   \n",
              "min    5.473400e+04    2007.000000  1.012008e+06       0.500000  0.000000e+00   \n",
              "25%    9.206643e+06    2013.000000  1.012016e+06       3.000000  4.500000e+04   \n",
              "50%    3.443327e+07    2014.000000  1.012016e+06       6.050000  6.500000e+04   \n",
              "75%    5.490814e+07    2015.000000  1.092015e+06      10.000000  9.000000e+04   \n",
              "max    6.861706e+07    2015.000000  1.122015e+06      10.000000  9.500000e+06   \n",
              "\n",
              "         loan_amount  interest_rate            dti    total_pymnt  \\\n",
              "count  887379.000000  887379.000000  887379.000000  887379.000000   \n",
              "mean    14755.264605      13.246740      18.157039    7558.826684   \n",
              "std      8435.455601       4.381867      17.190626    7871.243336   \n",
              "min       500.000000       5.320000       0.000000       0.000000   \n",
              "25%      8000.000000       9.990000      11.910000    1914.590000   \n",
              "50%     13000.000000      12.990000      17.650000    4894.999117   \n",
              "75%     20000.000000      16.200000      23.950000   10616.814230   \n",
              "max     35000.000000      28.990000    9999.000000   57777.579870   \n",
              "\n",
              "       total_rec_prncp     recoveries    installment     is_default  \n",
              "count    887379.000000  887379.000000  887379.000000  887379.000000  \n",
              "mean       5757.706424      45.919243     436.717127       0.075987  \n",
              "std        6625.441046     409.693874     244.186593       0.264977  \n",
              "min           0.000000       0.000000      15.670000       0.000000  \n",
              "25%        1200.570000       0.000000     260.705000       0.000000  \n",
              "50%        3215.320000       0.000000     382.550000       0.000000  \n",
              "75%        8000.000000       0.000000     572.600000       0.000000  \n",
              "max       35000.030000   33520.270000    1445.460000       1.000000  "
            ]
          },
          "metadata": {
            "tags": []
          },
          "execution_count": 26
        }
      ]
    },
    {
      "cell_type": "markdown",
      "metadata": {
        "id": "wKcRLg0MQ76c",
        "colab_type": "text"
      },
      "source": [
        "Observation:\n",
        "\n",
        "50% of employees have 6 years of employment duration which is almost same for average employees as indicated by the mean and 50% values.\n",
        "\n",
        "The average annual pay of the employee is  $ 75027.59 dollars and  $ 18.15 amount of consumer's monthly gross income goes towards paying debts.\n",
        "\n",
        "The average loan amount required by the applicant is  $ 14755.26 dollars.\n",
        "\n",
        "The average interst rate on average loan amount is 13.24%.\n",
        "\n",
        "On average  $ 7558.82 dollars amount of money has been paid so far while  $ 409.69 dollars amount has yet to be retrieved.\n",
        "75% of applicants have paid their debt as indicated by recoveries = 0"
      ]
    },
    {
      "cell_type": "code",
      "metadata": {
        "id": "A-tHqUd-QotT",
        "colab_type": "code",
        "colab": {
          "base_uri": "https://localhost:8080/",
          "height": 532
        },
        "outputId": "9493ba92-ee22-4722-b307-f1f2c70be3e1"
      },
      "source": [
        "data.info()"
      ],
      "execution_count": 27,
      "outputs": [
        {
          "output_type": "stream",
          "text": [
            "<class 'pandas.core.frame.DataFrame'>\n",
            "RangeIndex: 887379 entries, 0 to 887378\n",
            "Data columns (total 22 columns):\n",
            " #   Column             Non-Null Count   Dtype  \n",
            "---  ------             --------------   -----  \n",
            " 0   cust_id            887379 non-null  int64  \n",
            " 1   year               887379 non-null  int64  \n",
            " 2   state              887379 non-null  object \n",
            " 3   date_issued        887379 non-null  object \n",
            " 4   date_final         887379 non-null  int64  \n",
            " 5   emp_duration       887379 non-null  float64\n",
            " 6   own_type           887379 non-null  object \n",
            " 7   income_type        887379 non-null  object \n",
            " 8   app_type           887379 non-null  object \n",
            " 9   loan_purpose       887379 non-null  object \n",
            " 10  interest_payments  887379 non-null  object \n",
            " 11  grade              887379 non-null  object \n",
            " 12  annual_pay         887379 non-null  int64  \n",
            " 13  loan_amount        887379 non-null  int64  \n",
            " 14  interest_rate      887379 non-null  float64\n",
            " 15  loan_duration      887379 non-null  object \n",
            " 16  dti                887379 non-null  float64\n",
            " 17  total_pymnt        887379 non-null  float64\n",
            " 18  total_rec_prncp    887379 non-null  float64\n",
            " 19  recoveries         887379 non-null  float64\n",
            " 20  installment        887379 non-null  float64\n",
            " 21  is_default         887379 non-null  int64  \n",
            "dtypes: float64(7), int64(6), object(9)\n",
            "memory usage: 148.9+ MB\n"
          ],
          "name": "stdout"
        }
      ]
    },
    {
      "cell_type": "markdown",
      "metadata": {
        "id": "EY_Bf4onnwSJ",
        "colab_type": "text"
      },
      "source": [
        "Observation:\n",
        "\n",
        "It turns out that all features contains 887379 values.\n",
        "\n",
        "date_issued and date_final are categorized as incorrect types."
      ]
    },
    {
      "cell_type": "markdown",
      "metadata": {
        "id": "z10iD-vMoZvW",
        "colab_type": "text"
      },
      "source": [
        "**Numerical Data Distribution:\n",
        "We shall plot all numerical features to analyze the distribution of their past.**"
      ]
    },
    {
      "cell_type": "code",
      "metadata": {
        "id": "xORuZZudnsPn",
        "colab_type": "code",
        "colab": {
          "base_uri": "https://localhost:8080/",
          "height": 728
        },
        "outputId": "136482bb-1ef5-489e-b066-c851259aedaf"
      },
      "source": [
        "import matplotlib.pyplot as plt\n",
        "from random import randint\n",
        "fig, axes = plt.subplots(nrows = 3, ncols = 4, sharex = False, figsize=(15, 10))\n",
        "colors = []\n",
        "for i in range(12):\n",
        "  colors.append('#%06X' % randint(0, 0xFFFFFF))\n",
        "\n",
        "  columns = ['annual_pay', 'date_final', 'dti', 'emp_duration', 'installment', 'interest_rate', 'is_default',\n",
        "           'loan_amount', 'recoveries', 'total_pymnt', 'total_rec_prncp', 'year']\n",
        "for ax, col, color in zip(axes.flat, columns, colors):\n",
        "#for ax, col in zip(axes.flat, columns):\n",
        "  sns.distplot(a = data[col], bins = 50, ax = ax, color = color)\n",
        "  ax.set_title(col)\n",
        "  plt.setp(axes, yticks=[])\n",
        "  ax.grid(False)\n",
        "plt.tight_layout()\n",
        "plt.show()"
      ],
      "execution_count": 28,
      "outputs": [
        {
          "output_type": "display_data",
          "data": {
            "image/png": "[encoded data removed]",
            "text/plain": [
              "<Figure size 1080x720 with 12 Axes>"
            ]
          },
          "metadata": {
            "tags": [],
            "needs_background": "light"
          }
        }
      ]
    },
    {
      "cell_type": "markdown",
      "metadata": {
        "id": "QzMkFBhvuT_h",
        "colab_type": "text"
      },
      "source": [
        "Observation:\n",
        "\n",
        "Postive Skewed Features: (Mean > Median)\n",
        "annual_pay,\n",
        "dti,\n",
        "installment,\n",
        "loan_amount,\n",
        "recoveries,\n",
        "totoal_pymnt,\n",
        "total_rec_prncp\n",
        "\n",
        "Negative Skewed Features: (Mean < Median)\n",
        "year\n",
        "\n",
        "~ Normally Distributed Features: (Mean = Median = Mode)\n",
        "emp_duration,\n",
        "interest_rate"
      ]
    },
    {
      "cell_type": "markdown",
      "metadata": {
        "id": "Z871NOsgvmQM",
        "colab_type": "text"
      },
      "source": [
        "**Categorical Data Distribution:\n",
        "We shall plot all categorical features to analyze the distribution of the past data.\n",
        "\n",
        "Firstly we will extract all the categorical features.\n",
        "We remove date_issued because we won't be using time series to predict the classes and eventually will get removed at later stage.**"
      ]
    },
    {
      "cell_type": "code",
      "metadata": {
        "id": "lDqSxD2-pFw1",
        "colab_type": "code",
        "colab": {}
      },
      "source": [
        "#extracting all cat variables\n",
        "cat_list=[]\n",
        "for i in data.columns.values:\n",
        "  if data[i].dtype==\"object\":\n",
        "    cat_list.append(i)\n"
      ],
      "execution_count": 0,
      "outputs": []
    },
    {
      "cell_type": "code",
      "metadata": {
        "id": "6ZOIeS0XxpgO",
        "colab_type": "code",
        "colab": {
          "base_uri": "https://localhost:8080/",
          "height": 176
        },
        "outputId": "87f9a249-0d7f-418b-859d-68ce60beba96"
      },
      "source": [
        "cat_list"
      ],
      "execution_count": 30,
      "outputs": [
        {
          "output_type": "execute_result",
          "data": {
            "text/plain": [
              "['state',\n",
              " 'date_issued',\n",
              " 'own_type',\n",
              " 'income_type',\n",
              " 'app_type',\n",
              " 'loan_purpose',\n",
              " 'interest_payments',\n",
              " 'grade',\n",
              " 'loan_duration']"
            ]
          },
          "metadata": {
            "tags": []
          },
          "execution_count": 30
        }
      ]
    },
    {
      "cell_type": "code",
      "metadata": {
        "id": "HSz9Ad5Qwe3g",
        "colab_type": "code",
        "colab": {
          "base_uri": "https://localhost:8080/",
          "height": 123
        },
        "outputId": "91a4f23e-fb5c-4c71-8082-503e01121907"
      },
      "source": [
        "data.columns.values"
      ],
      "execution_count": 31,
      "outputs": [
        {
          "output_type": "execute_result",
          "data": {
            "text/plain": [
              "array(['cust_id', 'year', 'state', 'date_issued', 'date_final',\n",
              "       'emp_duration', 'own_type', 'income_type', 'app_type',\n",
              "       'loan_purpose', 'interest_payments', 'grade', 'annual_pay',\n",
              "       'loan_amount', 'interest_rate', 'loan_duration', 'dti',\n",
              "       'total_pymnt', 'total_rec_prncp', 'recoveries', 'installment',\n",
              "       'is_default'], dtype=object)"
            ]
          },
          "metadata": {
            "tags": []
          },
          "execution_count": 31
        }
      ]
    },
    {
      "cell_type": "code",
      "metadata": {
        "id": "QjEEuEpZwh3F",
        "colab_type": "code",
        "colab": {
          "base_uri": "https://localhost:8080/",
          "height": 52
        },
        "outputId": "8054cab5-ea08-4ba0-c62c-15b374773020"
      },
      "source": [
        "cat_list.remove(\"date_issued\")\n",
        "print(\"cat_variables count:\",len(cat_list))\n",
        "print(\"cat variables are:\",cat_list)"
      ],
      "execution_count": 32,
      "outputs": [
        {
          "output_type": "stream",
          "text": [
            "cat_variables count: 8\n",
            "cat variables are: ['state', 'own_type', 'income_type', 'app_type', 'loan_purpose', 'interest_payments', 'grade', 'loan_duration']\n"
          ],
          "name": "stdout"
        }
      ]
    },
    {
      "cell_type": "code",
      "metadata": {
        "id": "iDJz3uoHzJFk",
        "colab_type": "code",
        "colab": {
          "base_uri": "https://localhost:8080/",
          "height": 733
        },
        "outputId": "854eeadb-9b4d-4312-bc9d-9013f7548942"
      },
      "source": [
        "fig, axes = plt.subplots(nrows = 4, ncols = 2, sharex = False, figsize=(12, 12))\n",
        "\n",
        "colors = []\n",
        "for i in range(8):\n",
        "  colors.append('#%06X' % randint(0, 0xFFFFFF))\n",
        "  \n",
        "for ax, col, color in zip(axes.flat, cat_list, colors):\n",
        "  ax.bar(x = data[col].value_counts().index, height = data[col].value_counts(), color = color)\n",
        "  ax.set_title(col)\n",
        "  ax.set_xlabel(' ')\n",
        "  ax.set_xticklabels(labels = ' ')\n",
        "  ax.grid(True)"
      ],
      "execution_count": 33,
      "outputs": [
        {
          "output_type": "display_data",
          "data": {
            "image/png": "[encoded data removed]",
            "text/plain": [
              "<Figure size 864x864 with 8 Axes>"
            ]
          },
          "metadata": {
            "tags": [],
            "needs_background": "light"
          }
        }
      ]
    },
    {
      "cell_type": "markdown",
      "metadata": {
        "id": "xrAVty3mzcsS",
        "colab_type": "text"
      },
      "source": [
        "Observation:\n",
        "\n",
        "Normal Distributed Features: (Mean = Median = Mode)\n",
        "state,\n",
        "interest_payments,\n",
        "app_type\n",
        "\n",
        "Postively Skewed Features: (Mean > Median)\n",
        "own_type,\n",
        "income_type,\n",
        "loan_purpose,\n",
        "grade,\n",
        "loan_duration\n",
        "Negatively Skewed Features: (Mean < Median)\n",
        "\n",
        "NA"
      ]
    },
    {
      "cell_type": "code",
      "metadata": {
        "id": "AIG17-nAzX8b",
        "colab_type": "code",
        "colab": {}
      },
      "source": [
        "from pandas_profiling import ProfileReport"
      ],
      "execution_count": 0,
      "outputs": []
    },
    {
      "cell_type": "code",
      "metadata": {
        "id": "NF7LUu720jqv",
        "colab_type": "code",
        "colab": {
          "base_uri": "https://localhost:8080/",
          "height": 336
        },
        "outputId": "b46abd90-d581-4d00-c536-a10b1c150fb0"
      },
      "source": [
        "profile=ProfileReport(df=data)"
      ],
      "execution_count": 19,
      "outputs": [
        {
          "output_type": "error",
          "ename": "TypeError",
          "evalue": "ignored",
          "traceback": [
            "\u001b[0;31m---------------------------------------------------------------------------\u001b[0m",
            "\u001b[0;31mTypeError\u001b[0m                                 Traceback (most recent call last)",
            "\u001b[0;32m<ipython-input-19-9f8de09267be>\u001b[0m in \u001b[0;36m<module>\u001b[0;34m()\u001b[0m\n\u001b[0;32m----> 1\u001b[0;31m \u001b[0mprofile\u001b[0m\u001b[0;34m=\u001b[0m\u001b[0mProfileReport\u001b[0m\u001b[0;34m(\u001b[0m\u001b[0mdf\u001b[0m\u001b[0;34m=\u001b[0m\u001b[0mdata\u001b[0m\u001b[0;34m)\u001b[0m\u001b[0;34m\u001b[0m\u001b[0;34m\u001b[0m\u001b[0m\n\u001b[0m",
            "\u001b[0;32m/usr/local/lib/python3.6/dist-packages/pandas_profiling/__init__.py\u001b[0m in \u001b[0;36m__init__\u001b[0;34m(self, df, **kwargs)\u001b[0m\n\u001b[1;32m     64\u001b[0m         \u001b[0msample\u001b[0m \u001b[0;34m=\u001b[0m \u001b[0mkwargs\u001b[0m\u001b[0;34m.\u001b[0m\u001b[0mget\u001b[0m\u001b[0;34m(\u001b[0m\u001b[0;34m'sample'\u001b[0m\u001b[0;34m,\u001b[0m \u001b[0mdf\u001b[0m\u001b[0;34m.\u001b[0m\u001b[0mhead\u001b[0m\u001b[0;34m(\u001b[0m\u001b[0;34m)\u001b[0m\u001b[0;34m)\u001b[0m\u001b[0;34m\u001b[0m\u001b[0;34m\u001b[0m\u001b[0m\n\u001b[1;32m     65\u001b[0m \u001b[0;34m\u001b[0m\u001b[0m\n\u001b[0;32m---> 66\u001b[0;31m         \u001b[0mdescription_set\u001b[0m \u001b[0;34m=\u001b[0m \u001b[0mdescribe\u001b[0m\u001b[0;34m(\u001b[0m\u001b[0mdf\u001b[0m\u001b[0;34m,\u001b[0m \u001b[0;34m**\u001b[0m\u001b[0mkwargs\u001b[0m\u001b[0;34m)\u001b[0m\u001b[0;34m\u001b[0m\u001b[0;34m\u001b[0m\u001b[0m\n\u001b[0m\u001b[1;32m     67\u001b[0m \u001b[0;34m\u001b[0m\u001b[0m\n\u001b[1;32m     68\u001b[0m         self.html = to_html(sample,\n",
            "\u001b[0;32m/usr/local/lib/python3.6/dist-packages/pandas_profiling/describe.py\u001b[0m in \u001b[0;36mdescribe\u001b[0;34m(df, bins, check_correlation, correlation_threshold, correlation_overrides, check_recoded, pool_size, **kwargs)\u001b[0m\n\u001b[1;32m    390\u001b[0m             \u001b[0;32mif\u001b[0m \u001b[0mname\u001b[0m \u001b[0;32mnot\u001b[0m \u001b[0;32min\u001b[0m \u001b[0mnames\u001b[0m\u001b[0;34m:\u001b[0m\u001b[0;34m\u001b[0m\u001b[0;34m\u001b[0m\u001b[0m\n\u001b[1;32m    391\u001b[0m                 \u001b[0mnames\u001b[0m\u001b[0;34m.\u001b[0m\u001b[0mappend\u001b[0m\u001b[0;34m(\u001b[0m\u001b[0mname\u001b[0m\u001b[0;34m)\u001b[0m\u001b[0;34m\u001b[0m\u001b[0;34m\u001b[0m\u001b[0m\n\u001b[0;32m--> 392\u001b[0;31m     \u001b[0mvariable_stats\u001b[0m \u001b[0;34m=\u001b[0m \u001b[0mpd\u001b[0m\u001b[0;34m.\u001b[0m\u001b[0mconcat\u001b[0m\u001b[0;34m(\u001b[0m\u001b[0mldesc\u001b[0m\u001b[0;34m,\u001b[0m \u001b[0mjoin_axes\u001b[0m\u001b[0;34m=\u001b[0m\u001b[0mpd\u001b[0m\u001b[0;34m.\u001b[0m\u001b[0mIndex\u001b[0m\u001b[0;34m(\u001b[0m\u001b[0;34m[\u001b[0m\u001b[0mnames\u001b[0m\u001b[0;34m]\u001b[0m\u001b[0;34m)\u001b[0m\u001b[0;34m,\u001b[0m \u001b[0maxis\u001b[0m\u001b[0;34m=\u001b[0m\u001b[0;36m1\u001b[0m\u001b[0;34m)\u001b[0m\u001b[0;34m\u001b[0m\u001b[0;34m\u001b[0m\u001b[0m\n\u001b[0m\u001b[1;32m    393\u001b[0m     \u001b[0mvariable_stats\u001b[0m\u001b[0;34m.\u001b[0m\u001b[0mcolumns\u001b[0m\u001b[0;34m.\u001b[0m\u001b[0mnames\u001b[0m \u001b[0;34m=\u001b[0m \u001b[0mdf\u001b[0m\u001b[0;34m.\u001b[0m\u001b[0mcolumns\u001b[0m\u001b[0;34m.\u001b[0m\u001b[0mnames\u001b[0m\u001b[0;34m\u001b[0m\u001b[0;34m\u001b[0m\u001b[0m\n\u001b[1;32m    394\u001b[0m \u001b[0;34m\u001b[0m\u001b[0m\n",
            "\u001b[0;31mTypeError\u001b[0m: concat() got an unexpected keyword argument 'join_axes'"
          ]
        }
      ]
    },
    {
      "cell_type": "markdown",
      "metadata": {
        "id": "NUQmYjqo2GkW",
        "colab_type": "text"
      },
      "source": [
        "Observation:\n",
        "\n",
        "Profiling identified 10 numeric, 9 categorical, 1 boolean and 2 rejected features.\n",
        "\n",
        "date_issued is found to be cardinal with 103 distinct values.\n",
        "\n",
        "annual_pay, dti is found to be highy skewed.\n",
        "\n",
        "total_pymnt is found to have 2% of zeros present while recoveries having 97.2% of zeros.\n",
        "\n",
        "total_rec_prncp is highly correlated with total_pymnt while installment is \n",
        "highly correlated with loan_amount.\n",
        "\n",
        "cust_id is highly correlated with year feature."
      ]
    },
    {
      "cell_type": "code",
      "metadata": {
        "id": "ObxnHwC51BKK",
        "colab_type": "code",
        "colab": {
          "base_uri": "https://localhost:8080/",
          "height": 97
        },
        "outputId": "4534f3ab-e86e-4114-f5e1-bce0e1cf862e"
      },
      "source": [
        "#Dataframe before performing changes\n",
        "type_frame=pd.DataFrame(data=data.dtypes,columns=[\"Type\"])\n",
        "type_frame.T"
      ],
      "execution_count": 35,
      "outputs": [
        {
          "output_type": "execute_result",
          "data": {
            "text/html": [
              "<div>\n",
              "<style scoped>\n",
              "    .dataframe tbody tr th:only-of-type {\n",
              "        vertical-align: middle;\n",
              "    }\n",
              "\n",
              "    .dataframe tbody tr th {\n",
              "        vertical-align: top;\n",
              "    }\n",
              "\n",
              "    .dataframe thead th {\n",
              "        text-align: right;\n",
              "    }\n",
              "</style>\n",
              "<table border=\"1\" class=\"dataframe\">\n",
              "  <thead>\n",
              "    <tr style=\"text-align: right;\">\n",
              "      <th></th>\n",
              "      <th>cust_id</th>\n",
              "      <th>year</th>\n",
              "      <th>state</th>\n",
              "      <th>date_issued</th>\n",
              "      <th>date_final</th>\n",
              "      <th>emp_duration</th>\n",
              "      <th>own_type</th>\n",
              "      <th>income_type</th>\n",
              "      <th>app_type</th>\n",
              "      <th>loan_purpose</th>\n",
              "      <th>interest_payments</th>\n",
              "      <th>grade</th>\n",
              "      <th>annual_pay</th>\n",
              "      <th>loan_amount</th>\n",
              "      <th>interest_rate</th>\n",
              "      <th>loan_duration</th>\n",
              "      <th>dti</th>\n",
              "      <th>total_pymnt</th>\n",
              "      <th>total_rec_prncp</th>\n",
              "      <th>recoveries</th>\n",
              "      <th>installment</th>\n",
              "      <th>is_default</th>\n",
              "    </tr>\n",
              "  </thead>\n",
              "  <tbody>\n",
              "    <tr>\n",
              "      <th>Type</th>\n",
              "      <td>int64</td>\n",
              "      <td>int64</td>\n",
              "      <td>object</td>\n",
              "      <td>object</td>\n",
              "      <td>int64</td>\n",
              "      <td>float64</td>\n",
              "      <td>object</td>\n",
              "      <td>object</td>\n",
              "      <td>object</td>\n",
              "      <td>object</td>\n",
              "      <td>object</td>\n",
              "      <td>object</td>\n",
              "      <td>int64</td>\n",
              "      <td>int64</td>\n",
              "      <td>float64</td>\n",
              "      <td>object</td>\n",
              "      <td>float64</td>\n",
              "      <td>float64</td>\n",
              "      <td>float64</td>\n",
              "      <td>float64</td>\n",
              "      <td>float64</td>\n",
              "      <td>int64</td>\n",
              "    </tr>\n",
              "  </tbody>\n",
              "</table>\n",
              "</div>"
            ],
            "text/plain": [
              "     cust_id   year   state date_issued date_final emp_duration own_type  \\\n",
              "Type   int64  int64  object      object      int64      float64   object   \n",
              "\n",
              "     income_type app_type loan_purpose interest_payments   grade annual_pay  \\\n",
              "Type      object   object       object            object  object      int64   \n",
              "\n",
              "     loan_amount interest_rate loan_duration      dti total_pymnt  \\\n",
              "Type       int64       float64        object  float64     float64   \n",
              "\n",
              "     total_rec_prncp recoveries installment is_default  \n",
              "Type         float64    float64     float64      int64  "
            ]
          },
          "metadata": {
            "tags": []
          },
          "execution_count": 35
        }
      ]
    },
    {
      "cell_type": "markdown",
      "metadata": {
        "id": "npu3v9EA4qsb",
        "colab_type": "text"
      },
      "source": [
        "Observation:\n",
        "\n",
        "Following features contain inconsitent data type. A symbol → represents will be changed to:\n",
        "Feature [ Current Type → Desired Type ]\n",
        "date_issued [ Object → Datetime ]\n",
        "date_final [ Object → Datetime ]\n",
        "is_default [ int → Boolean ]"
      ]
    },
    {
      "cell_type": "code",
      "metadata": {
        "id": "0qKpS6tS4FsQ",
        "colab_type": "code",
        "colab": {}
      },
      "source": [
        "data[\"date_issued\"]=pd.to_datetime(data[\"date_issued\"])\n",
        "data[\"date_final\"]=pd.to_datetime(data[\"date_final\"],format=\"%m%d%Y\")\n",
        "data[\"is_default\"]=data[\"is_default\"].astype(bool)"
      ],
      "execution_count": 0,
      "outputs": []
    },
    {
      "cell_type": "code",
      "metadata": {
        "id": "_JSO4lFeztPe",
        "colab_type": "code",
        "colab": {
          "base_uri": "https://localhost:8080/",
          "height": 123
        },
        "outputId": "3760f0fb-7ac0-41f2-f03b-429d370c1f38"
      },
      "source": [
        "data[\"date_final\"].head()"
      ],
      "execution_count": 59,
      "outputs": [
        {
          "output_type": "execute_result",
          "data": {
            "text/plain": [
              "0   2009-10-03\n",
              "1   2010-10-07\n",
              "2   2010-10-06\n",
              "3   2008-10-04\n",
              "4   2009-10-08\n",
              "Name: date_final, dtype: datetime64[ns]"
            ]
          },
          "metadata": {
            "tags": []
          },
          "execution_count": 59
        }
      ]
    },
    {
      "cell_type": "code",
      "metadata": {
        "id": "U8i7_MCA5uzd",
        "colab_type": "code",
        "colab": {
          "base_uri": "https://localhost:8080/",
          "height": 532
        },
        "outputId": "17a06a3b-2ecb-459b-c4cb-6df24fe45341"
      },
      "source": [
        "data.info()"
      ],
      "execution_count": 38,
      "outputs": [
        {
          "output_type": "stream",
          "text": [
            "<class 'pandas.core.frame.DataFrame'>\n",
            "RangeIndex: 887379 entries, 0 to 887378\n",
            "Data columns (total 22 columns):\n",
            " #   Column             Non-Null Count   Dtype  \n",
            "---  ------             --------------   -----  \n",
            " 0   cust_id            887379 non-null  int64  \n",
            " 1   year               887379 non-null  int64  \n",
            " 2   state              887379 non-null  object \n",
            " 3   date_issued        887379 non-null  object \n",
            " 4   date_final         887379 non-null  int64  \n",
            " 5   emp_duration       887379 non-null  float64\n",
            " 6   own_type           887379 non-null  object \n",
            " 7   income_type        887379 non-null  object \n",
            " 8   app_type           887379 non-null  object \n",
            " 9   loan_purpose       887379 non-null  object \n",
            " 10  interest_payments  887379 non-null  object \n",
            " 11  grade              887379 non-null  object \n",
            " 12  annual_pay         887379 non-null  int64  \n",
            " 13  loan_amount        887379 non-null  int64  \n",
            " 14  interest_rate      887379 non-null  float64\n",
            " 15  loan_duration      887379 non-null  object \n",
            " 16  dti                887379 non-null  float64\n",
            " 17  total_pymnt        887379 non-null  float64\n",
            " 18  total_rec_prncp    887379 non-null  float64\n",
            " 19  recoveries         887379 non-null  float64\n",
            " 20  installment        887379 non-null  float64\n",
            " 21  is_default         887379 non-null  int64  \n",
            "dtypes: float64(7), int64(6), object(9)\n",
            "memory usage: 148.9+ MB\n"
          ],
          "name": "stdout"
        }
      ]
    },
    {
      "cell_type": "markdown",
      "metadata": {
        "id": "9iqcxoaz6no_",
        "colab_type": "text"
      },
      "source": [
        "**Identification & Handling of Missing Data**\n",
        "\n",
        "  **Null Data Identification & Handling**"
      ]
    },
    {
      "cell_type": "code",
      "metadata": {
        "id": "a_q4qPKG5-eN",
        "colab_type": "code",
        "colab": {
          "base_uri": "https://localhost:8080/",
          "height": 178
        },
        "outputId": "308422ab-70b0-438a-cc65-de651010f759"
      },
      "source": [
        "print('Data Shape:', data.shape)\n",
        "null_frame = pd.DataFrame()\n",
        "null_frame['Features'] = data.columns.values\n",
        "null_frame['Null Frequency'] = data.isnull().sum().values\n",
        "null_frame['Missing %age'] = np.round(null_frame['Null Frequency']/data.shape[0], decimals = 4) * 100\n",
        "null_frame.set_index('Features', inplace = True)\n",
        "null_frame.transpose()"
      ],
      "execution_count": 39,
      "outputs": [
        {
          "output_type": "stream",
          "text": [
            "Data Shape: (887379, 22)\n"
          ],
          "name": "stdout"
        },
        {
          "output_type": "execute_result",
          "data": {
            "text/html": [
              "<div>\n",
              "<style scoped>\n",
              "    .dataframe tbody tr th:only-of-type {\n",
              "        vertical-align: middle;\n",
              "    }\n",
              "\n",
              "    .dataframe tbody tr th {\n",
              "        vertical-align: top;\n",
              "    }\n",
              "\n",
              "    .dataframe thead th {\n",
              "        text-align: right;\n",
              "    }\n",
              "</style>\n",
              "<table border=\"1\" class=\"dataframe\">\n",
              "  <thead>\n",
              "    <tr style=\"text-align: right;\">\n",
              "      <th>Features</th>\n",
              "      <th>cust_id</th>\n",
              "      <th>year</th>\n",
              "      <th>state</th>\n",
              "      <th>date_issued</th>\n",
              "      <th>date_final</th>\n",
              "      <th>emp_duration</th>\n",
              "      <th>own_type</th>\n",
              "      <th>income_type</th>\n",
              "      <th>app_type</th>\n",
              "      <th>loan_purpose</th>\n",
              "      <th>interest_payments</th>\n",
              "      <th>grade</th>\n",
              "      <th>annual_pay</th>\n",
              "      <th>loan_amount</th>\n",
              "      <th>interest_rate</th>\n",
              "      <th>loan_duration</th>\n",
              "      <th>dti</th>\n",
              "      <th>total_pymnt</th>\n",
              "      <th>total_rec_prncp</th>\n",
              "      <th>recoveries</th>\n",
              "      <th>installment</th>\n",
              "      <th>is_default</th>\n",
              "    </tr>\n",
              "  </thead>\n",
              "  <tbody>\n",
              "    <tr>\n",
              "      <th>Null Frequency</th>\n",
              "      <td>0.0</td>\n",
              "      <td>0.0</td>\n",
              "      <td>0.0</td>\n",
              "      <td>0.0</td>\n",
              "      <td>0.0</td>\n",
              "      <td>0.0</td>\n",
              "      <td>0.0</td>\n",
              "      <td>0.0</td>\n",
              "      <td>0.0</td>\n",
              "      <td>0.0</td>\n",
              "      <td>0.0</td>\n",
              "      <td>0.0</td>\n",
              "      <td>0.0</td>\n",
              "      <td>0.0</td>\n",
              "      <td>0.0</td>\n",
              "      <td>0.0</td>\n",
              "      <td>0.0</td>\n",
              "      <td>0.0</td>\n",
              "      <td>0.0</td>\n",
              "      <td>0.0</td>\n",
              "      <td>0.0</td>\n",
              "      <td>0.0</td>\n",
              "    </tr>\n",
              "    <tr>\n",
              "      <th>Missing %age</th>\n",
              "      <td>0.0</td>\n",
              "      <td>0.0</td>\n",
              "      <td>0.0</td>\n",
              "      <td>0.0</td>\n",
              "      <td>0.0</td>\n",
              "      <td>0.0</td>\n",
              "      <td>0.0</td>\n",
              "      <td>0.0</td>\n",
              "      <td>0.0</td>\n",
              "      <td>0.0</td>\n",
              "      <td>0.0</td>\n",
              "      <td>0.0</td>\n",
              "      <td>0.0</td>\n",
              "      <td>0.0</td>\n",
              "      <td>0.0</td>\n",
              "      <td>0.0</td>\n",
              "      <td>0.0</td>\n",
              "      <td>0.0</td>\n",
              "      <td>0.0</td>\n",
              "      <td>0.0</td>\n",
              "      <td>0.0</td>\n",
              "      <td>0.0</td>\n",
              "    </tr>\n",
              "  </tbody>\n",
              "</table>\n",
              "</div>"
            ],
            "text/plain": [
              "Features        cust_id  year  state  date_issued  date_final  emp_duration  \\\n",
              "Null Frequency      0.0   0.0    0.0          0.0         0.0           0.0   \n",
              "Missing %age        0.0   0.0    0.0          0.0         0.0           0.0   \n",
              "\n",
              "Features        own_type  income_type  app_type  loan_purpose  \\\n",
              "Null Frequency       0.0          0.0       0.0           0.0   \n",
              "Missing %age         0.0          0.0       0.0           0.0   \n",
              "\n",
              "Features        interest_payments  grade  annual_pay  loan_amount  \\\n",
              "Null Frequency                0.0    0.0         0.0          0.0   \n",
              "Missing %age                  0.0    0.0         0.0          0.0   \n",
              "\n",
              "Features        interest_rate  loan_duration  dti  total_pymnt  \\\n",
              "Null Frequency            0.0            0.0  0.0          0.0   \n",
              "Missing %age              0.0            0.0  0.0          0.0   \n",
              "\n",
              "Features        total_rec_prncp  recoveries  installment  is_default  \n",
              "Null Frequency              0.0         0.0          0.0         0.0  \n",
              "Missing %age                0.0         0.0          0.0         0.0  "
            ]
          },
          "metadata": {
            "tags": []
          },
          "execution_count": 39
        }
      ]
    },
    {
      "cell_type": "code",
      "metadata": {
        "id": "M56Pfy5R9_Wi",
        "colab_type": "code",
        "colab": {
          "base_uri": "https://localhost:8080/",
          "height": 178
        },
        "outputId": "3f277c4a-0cfb-46c5-83ee-40813c3d8770"
      },
      "source": [
        "#before handling zero data\n",
        "print('Data Shape:', data.shape)\n",
        "null_frame = pd.DataFrame()\n",
        "null_frame['Features'] = data.columns.values\n",
        "null_frame['Zeros Frequency'] = data[data == 0].count().values\n",
        "null_frame['Missing %age'] = np.round(null_frame['Zeros Frequency']/data.shape[0], decimals = 5) * 100\n",
        "null_frame.set_index('Features', inplace = True)\n",
        "null_frame.transpose()"
      ],
      "execution_count": 40,
      "outputs": [
        {
          "output_type": "stream",
          "text": [
            "Data Shape: (887379, 22)\n"
          ],
          "name": "stdout"
        },
        {
          "output_type": "execute_result",
          "data": {
            "text/html": [
              "<div>\n",
              "<style scoped>\n",
              "    .dataframe tbody tr th:only-of-type {\n",
              "        vertical-align: middle;\n",
              "    }\n",
              "\n",
              "    .dataframe tbody tr th {\n",
              "        vertical-align: top;\n",
              "    }\n",
              "\n",
              "    .dataframe thead th {\n",
              "        text-align: right;\n",
              "    }\n",
              "</style>\n",
              "<table border=\"1\" class=\"dataframe\">\n",
              "  <thead>\n",
              "    <tr style=\"text-align: right;\">\n",
              "      <th>Features</th>\n",
              "      <th>cust_id</th>\n",
              "      <th>year</th>\n",
              "      <th>state</th>\n",
              "      <th>date_issued</th>\n",
              "      <th>date_final</th>\n",
              "      <th>emp_duration</th>\n",
              "      <th>own_type</th>\n",
              "      <th>income_type</th>\n",
              "      <th>app_type</th>\n",
              "      <th>loan_purpose</th>\n",
              "      <th>interest_payments</th>\n",
              "      <th>grade</th>\n",
              "      <th>annual_pay</th>\n",
              "      <th>loan_amount</th>\n",
              "      <th>interest_rate</th>\n",
              "      <th>loan_duration</th>\n",
              "      <th>dti</th>\n",
              "      <th>total_pymnt</th>\n",
              "      <th>total_rec_prncp</th>\n",
              "      <th>recoveries</th>\n",
              "      <th>installment</th>\n",
              "      <th>is_default</th>\n",
              "    </tr>\n",
              "  </thead>\n",
              "  <tbody>\n",
              "    <tr>\n",
              "      <th>Zeros Frequency</th>\n",
              "      <td>0.0</td>\n",
              "      <td>0.0</td>\n",
              "      <td>0.0</td>\n",
              "      <td>0.0</td>\n",
              "      <td>0.0</td>\n",
              "      <td>0.0</td>\n",
              "      <td>0.0</td>\n",
              "      <td>0.0</td>\n",
              "      <td>0.0</td>\n",
              "      <td>0.0</td>\n",
              "      <td>0.0</td>\n",
              "      <td>0.0</td>\n",
              "      <td>2.0</td>\n",
              "      <td>0.0</td>\n",
              "      <td>0.0</td>\n",
              "      <td>0.0</td>\n",
              "      <td>451.000</td>\n",
              "      <td>17759.000</td>\n",
              "      <td>18145.000</td>\n",
              "      <td>862702.000</td>\n",
              "      <td>0.0</td>\n",
              "      <td>819950.000</td>\n",
              "    </tr>\n",
              "    <tr>\n",
              "      <th>Missing %age</th>\n",
              "      <td>0.0</td>\n",
              "      <td>0.0</td>\n",
              "      <td>0.0</td>\n",
              "      <td>0.0</td>\n",
              "      <td>0.0</td>\n",
              "      <td>0.0</td>\n",
              "      <td>0.0</td>\n",
              "      <td>0.0</td>\n",
              "      <td>0.0</td>\n",
              "      <td>0.0</td>\n",
              "      <td>0.0</td>\n",
              "      <td>0.0</td>\n",
              "      <td>0.0</td>\n",
              "      <td>0.0</td>\n",
              "      <td>0.0</td>\n",
              "      <td>0.0</td>\n",
              "      <td>0.051</td>\n",
              "      <td>2.001</td>\n",
              "      <td>2.045</td>\n",
              "      <td>97.219</td>\n",
              "      <td>0.0</td>\n",
              "      <td>92.401</td>\n",
              "    </tr>\n",
              "  </tbody>\n",
              "</table>\n",
              "</div>"
            ],
            "text/plain": [
              "Features         cust_id  year  state  date_issued  date_final  emp_duration  \\\n",
              "Zeros Frequency      0.0   0.0    0.0          0.0         0.0           0.0   \n",
              "Missing %age         0.0   0.0    0.0          0.0         0.0           0.0   \n",
              "\n",
              "Features         own_type  income_type  app_type  loan_purpose  \\\n",
              "Zeros Frequency       0.0          0.0       0.0           0.0   \n",
              "Missing %age          0.0          0.0       0.0           0.0   \n",
              "\n",
              "Features         interest_payments  grade  annual_pay  loan_amount  \\\n",
              "Zeros Frequency                0.0    0.0         2.0          0.0   \n",
              "Missing %age                   0.0    0.0         0.0          0.0   \n",
              "\n",
              "Features         interest_rate  loan_duration      dti  total_pymnt  \\\n",
              "Zeros Frequency            0.0            0.0  451.000    17759.000   \n",
              "Missing %age               0.0            0.0    0.051        2.001   \n",
              "\n",
              "Features         total_rec_prncp  recoveries  installment  is_default  \n",
              "Zeros Frequency        18145.000  862702.000          0.0  819950.000  \n",
              "Missing %age               2.045      97.219          0.0      92.401  "
            ]
          },
          "metadata": {
            "tags": []
          },
          "execution_count": 40
        }
      ]
    },
    {
      "cell_type": "code",
      "metadata": {
        "id": "k2FYzpaf-UEc",
        "colab_type": "code",
        "colab": {}
      },
      "source": [
        "#Observation:\n",
        "\n",
        "#Feature [ Missing Ratio ] → Action to be taken\n",
        "#annual_pay [ ~0% ] → Drop data rows\n",
        "#dti [ 0.05% ] → Replace with median dti\n",
        "#total_pymnt [ 2% ] → No action\n",
        "#total_rec_prncp [ 2% ] → No action\n",
        "#recoveries [ 97% ] → No action\n",
        "#is_default [ 92% ] → No action"
      ],
      "execution_count": 0,
      "outputs": []
    },
    {
      "cell_type": "markdown",
      "metadata": {
        "id": "1hmY8D5AAfj0",
        "colab_type": "text"
      },
      "source": [
        "**Performing Operations**"
      ]
    },
    {
      "cell_type": "code",
      "metadata": {
        "id": "wLBUWJBnAfAV",
        "colab_type": "code",
        "colab": {}
      },
      "source": [
        "#dropping 2 cols of anual pay\n",
        "data=data[data['annual_pay']!=0]\n",
        "#filling dti values with ,mean\n",
        "data[\"dti\"]=data[\"dti\"].replace(0,data[\"dti\"].mean())"
      ],
      "execution_count": 0,
      "outputs": []
    },
    {
      "cell_type": "code",
      "metadata": {
        "id": "z3KposF4BLrW",
        "colab_type": "code",
        "colab": {
          "base_uri": "https://localhost:8080/",
          "height": 178
        },
        "outputId": "f19af65e-2b8e-44fb-eaf2-4bbd6a8374ea"
      },
      "source": [
        "#after handling zero data\n",
        "# Verifying changes over operation applied on data\n",
        "print('Data Shape:', data.shape)\n",
        "null_frame = pd.DataFrame()\n",
        "null_frame['Features'] = data.columns.values\n",
        "null_frame['Zeros Frequency'] = data[data == 0].count().values\n",
        "null_frame['Missing %age'] = np.round(null_frame['Zeros Frequency']/data.shape[0], decimals = 5) * 100\n",
        "null_frame.set_index('Features', inplace = True)\n",
        "null_frame.transpose()"
      ],
      "execution_count": 43,
      "outputs": [
        {
          "output_type": "stream",
          "text": [
            "Data Shape: (887377, 22)\n"
          ],
          "name": "stdout"
        },
        {
          "output_type": "execute_result",
          "data": {
            "text/html": [
              "<div>\n",
              "<style scoped>\n",
              "    .dataframe tbody tr th:only-of-type {\n",
              "        vertical-align: middle;\n",
              "    }\n",
              "\n",
              "    .dataframe tbody tr th {\n",
              "        vertical-align: top;\n",
              "    }\n",
              "\n",
              "    .dataframe thead th {\n",
              "        text-align: right;\n",
              "    }\n",
              "</style>\n",
              "<table border=\"1\" class=\"dataframe\">\n",
              "  <thead>\n",
              "    <tr style=\"text-align: right;\">\n",
              "      <th>Features</th>\n",
              "      <th>cust_id</th>\n",
              "      <th>year</th>\n",
              "      <th>state</th>\n",
              "      <th>date_issued</th>\n",
              "      <th>date_final</th>\n",
              "      <th>emp_duration</th>\n",
              "      <th>own_type</th>\n",
              "      <th>income_type</th>\n",
              "      <th>app_type</th>\n",
              "      <th>loan_purpose</th>\n",
              "      <th>interest_payments</th>\n",
              "      <th>grade</th>\n",
              "      <th>annual_pay</th>\n",
              "      <th>loan_amount</th>\n",
              "      <th>interest_rate</th>\n",
              "      <th>loan_duration</th>\n",
              "      <th>dti</th>\n",
              "      <th>total_pymnt</th>\n",
              "      <th>total_rec_prncp</th>\n",
              "      <th>recoveries</th>\n",
              "      <th>installment</th>\n",
              "      <th>is_default</th>\n",
              "    </tr>\n",
              "  </thead>\n",
              "  <tbody>\n",
              "    <tr>\n",
              "      <th>Zeros Frequency</th>\n",
              "      <td>0.0</td>\n",
              "      <td>0.0</td>\n",
              "      <td>0.0</td>\n",
              "      <td>0.0</td>\n",
              "      <td>0.0</td>\n",
              "      <td>0.0</td>\n",
              "      <td>0.0</td>\n",
              "      <td>0.0</td>\n",
              "      <td>0.0</td>\n",
              "      <td>0.0</td>\n",
              "      <td>0.0</td>\n",
              "      <td>0.0</td>\n",
              "      <td>0.0</td>\n",
              "      <td>0.0</td>\n",
              "      <td>0.0</td>\n",
              "      <td>0.0</td>\n",
              "      <td>0.0</td>\n",
              "      <td>17759.000</td>\n",
              "      <td>18145.000</td>\n",
              "      <td>862700.000</td>\n",
              "      <td>0.0</td>\n",
              "      <td>819948.000</td>\n",
              "    </tr>\n",
              "    <tr>\n",
              "      <th>Missing %age</th>\n",
              "      <td>0.0</td>\n",
              "      <td>0.0</td>\n",
              "      <td>0.0</td>\n",
              "      <td>0.0</td>\n",
              "      <td>0.0</td>\n",
              "      <td>0.0</td>\n",
              "      <td>0.0</td>\n",
              "      <td>0.0</td>\n",
              "      <td>0.0</td>\n",
              "      <td>0.0</td>\n",
              "      <td>0.0</td>\n",
              "      <td>0.0</td>\n",
              "      <td>0.0</td>\n",
              "      <td>0.0</td>\n",
              "      <td>0.0</td>\n",
              "      <td>0.0</td>\n",
              "      <td>0.0</td>\n",
              "      <td>2.001</td>\n",
              "      <td>2.045</td>\n",
              "      <td>97.219</td>\n",
              "      <td>0.0</td>\n",
              "      <td>92.401</td>\n",
              "    </tr>\n",
              "  </tbody>\n",
              "</table>\n",
              "</div>"
            ],
            "text/plain": [
              "Features         cust_id  year  state  date_issued  date_final  emp_duration  \\\n",
              "Zeros Frequency      0.0   0.0    0.0          0.0         0.0           0.0   \n",
              "Missing %age         0.0   0.0    0.0          0.0         0.0           0.0   \n",
              "\n",
              "Features         own_type  income_type  app_type  loan_purpose  \\\n",
              "Zeros Frequency       0.0          0.0       0.0           0.0   \n",
              "Missing %age          0.0          0.0       0.0           0.0   \n",
              "\n",
              "Features         interest_payments  grade  annual_pay  loan_amount  \\\n",
              "Zeros Frequency                0.0    0.0         0.0          0.0   \n",
              "Missing %age                   0.0    0.0         0.0          0.0   \n",
              "\n",
              "Features         interest_rate  loan_duration  dti  total_pymnt  \\\n",
              "Zeros Frequency            0.0            0.0  0.0    17759.000   \n",
              "Missing %age               0.0            0.0  0.0        2.001   \n",
              "\n",
              "Features         total_rec_prncp  recoveries  installment  is_default  \n",
              "Zeros Frequency        18145.000  862700.000          0.0  819948.000  \n",
              "Missing %age               2.045      97.219          0.0      92.401  "
            ]
          },
          "metadata": {
            "tags": []
          },
          "execution_count": 43
        }
      ]
    },
    {
      "cell_type": "markdown",
      "metadata": {
        "id": "857WKB5NBkoY",
        "colab_type": "text"
      },
      "source": [
        "**identification n handling for duplicated **"
      ]
    },
    {
      "cell_type": "markdown",
      "metadata": {
        "id": "sJaZN_sTBxiU",
        "colab_type": "text"
      },
      "source": [
        "Now we will identify the duplicacity in records and if present, we will drop it.\n",
        "\n",
        "We are making a copy of data on which we will work on so that our original data is intact from harm and after identifying we can perfrom the same operation on our original data.\n",
        "We'll drop cust_id to identify whether there are duplicate rows present in our data or not."
      ]
    },
    {
      "cell_type": "code",
      "metadata": {
        "id": "tW8g-lB4BjhH",
        "colab_type": "code",
        "colab": {}
      },
      "source": [
        "data2=data.copy()"
      ],
      "execution_count": 0,
      "outputs": []
    },
    {
      "cell_type": "code",
      "metadata": {
        "id": "PSd9vf9dBd-1",
        "colab_type": "code",
        "colab": {}
      },
      "source": [
        "data2.drop([\"cust_id\"],axis=1,inplace=True)"
      ],
      "execution_count": 0,
      "outputs": []
    },
    {
      "cell_type": "code",
      "metadata": {
        "id": "DOQ7AOvbDAj4",
        "colab_type": "code",
        "colab": {
          "base_uri": "https://localhost:8080/",
          "height": 34
        },
        "outputId": "5d3ed288-f2bb-4059-850d-c0ef314db9b7"
      },
      "source": [
        "data2.duplicated().any()"
      ],
      "execution_count": 46,
      "outputs": [
        {
          "output_type": "execute_result",
          "data": {
            "text/plain": [
              "False"
            ]
          },
          "metadata": {
            "tags": []
          },
          "execution_count": 46
        }
      ]
    },
    {
      "cell_type": "code",
      "metadata": {
        "id": "fBrMpYrFDUoZ",
        "colab_type": "code",
        "colab": {
          "base_uri": "https://localhost:8080/",
          "height": 34
        },
        "outputId": "795efe52-ef57-4a57-9b71-f02304a351e5"
      },
      "source": [
        "data2.columns.duplicated().any()"
      ],
      "execution_count": 47,
      "outputs": [
        {
          "output_type": "execute_result",
          "data": {
            "text/plain": [
              "False"
            ]
          },
          "metadata": {
            "tags": []
          },
          "execution_count": 47
        }
      ]
    },
    {
      "cell_type": "markdown",
      "metadata": {
        "id": "9pDw6lL3D8Lb",
        "colab_type": "text"
      },
      "source": [
        "**Below we have made a custom function to identify duplicate columns containing duplicate values.**"
      ]
    },
    {
      "cell_type": "code",
      "metadata": {
        "id": "6XQXqRvNDltD",
        "colab_type": "code",
        "colab": {
          "base_uri": "https://localhost:8080/",
          "height": 34
        },
        "outputId": "41c34263-c786-4a40-a180-04f1d8b40689"
      },
      "source": [
        "def duplicateCols(dataframe):\n",
        "  '''Returns a list of labels of duplicate valued columns'''\n",
        "  names = set()\n",
        "  for i in range(dataframe.shape[1]):\n",
        "    col1 = dataframe.iloc[:, i]\n",
        "    for j in range(i+1, dataframe.shape[1]):\n",
        "      col2 = dataframe.iloc[:, j]\n",
        "      if col1.equals(col2):\n",
        "        names.add(dataframe.columns.values[j])\n",
        "\n",
        "  if (len(names) == 0):\n",
        "    return None\n",
        "  else:\n",
        "    return list(names)\n",
        "\n",
        "# Making a call over copy of data\n",
        "is_duplicate_cols = duplicateCols(data2)\n",
        "print('Contains Duplicate Columns?', is_duplicate_cols)"
      ],
      "execution_count": 48,
      "outputs": [
        {
          "output_type": "stream",
          "text": [
            "Contains Duplicate Columns? None\n"
          ],
          "name": "stdout"
        }
      ]
    },
    {
      "cell_type": "markdown",
      "metadata": {
        "id": "Htmz0ZzIEG61",
        "colab_type": "text"
      },
      "source": [
        "**Post Profiling report**"
      ]
    },
    {
      "cell_type": "code",
      "metadata": {
        "id": "DhMHiAHBD2BM",
        "colab_type": "code",
        "colab": {}
      },
      "source": [
        "#from pandas.profiling import ProfileReport\n",
        "#profile=ProfileReport(data)\n",
        "#profile.to_file(output=post_profile.html)"
      ],
      "execution_count": 0,
      "outputs": []
    },
    {
      "cell_type": "markdown",
      "metadata": {
        "id": "JSSMDltPEud7",
        "colab_type": "text"
      },
      "source": [
        "**Observation:\n",
        "\n",
        "There are: Numeric = 9, Categorical = 8, Boolean = 1, Date = 2 features.\n",
        "annual_pay, dti are highly skewed.\n",
        "\n",
        "total_pymnt have 2% of zeros signifying 2% of people haven't paid any money.\n",
        "\n",
        "total_rec_prncp is highly correlated with total_pymnt, installment is highly correlated with loan_amount & should be ignored for analysis.\n",
        "\n",
        "recoveries has 97.2% zeros signifying around 97% of people have paid their debt.**"
      ]
    },
    {
      "cell_type": "markdown",
      "metadata": {
        "id": "qYKkj8_cothZ",
        "colab_type": "text"
      },
      "source": [
        "**Exploratory Data Analysis**"
      ]
    },
    {
      "cell_type": "code",
      "metadata": {
        "id": "x5q88zqkE0uq",
        "colab_type": "code",
        "colab": {
          "base_uri": "https://localhost:8080/",
          "height": 285
        },
        "outputId": "2d61e781-f249-423c-cb47-322e0a270021"
      },
      "source": [
        "print(\"data shape:\",data.shape)\n",
        "data.head()"
      ],
      "execution_count": 49,
      "outputs": [
        {
          "output_type": "stream",
          "text": [
            "data shape: (887377, 22)\n"
          ],
          "name": "stdout"
        },
        {
          "output_type": "execute_result",
          "data": {
            "text/html": [
              "<div>\n",
              "<style scoped>\n",
              "    .dataframe tbody tr th:only-of-type {\n",
              "        vertical-align: middle;\n",
              "    }\n",
              "\n",
              "    .dataframe tbody tr th {\n",
              "        vertical-align: top;\n",
              "    }\n",
              "\n",
              "    .dataframe thead th {\n",
              "        text-align: right;\n",
              "    }\n",
              "</style>\n",
              "<table border=\"1\" class=\"dataframe\">\n",
              "  <thead>\n",
              "    <tr style=\"text-align: right;\">\n",
              "      <th></th>\n",
              "      <th>cust_id</th>\n",
              "      <th>year</th>\n",
              "      <th>state</th>\n",
              "      <th>date_issued</th>\n",
              "      <th>date_final</th>\n",
              "      <th>emp_duration</th>\n",
              "      <th>own_type</th>\n",
              "      <th>income_type</th>\n",
              "      <th>app_type</th>\n",
              "      <th>loan_purpose</th>\n",
              "      <th>interest_payments</th>\n",
              "      <th>grade</th>\n",
              "      <th>annual_pay</th>\n",
              "      <th>loan_amount</th>\n",
              "      <th>interest_rate</th>\n",
              "      <th>loan_duration</th>\n",
              "      <th>dti</th>\n",
              "      <th>total_pymnt</th>\n",
              "      <th>total_rec_prncp</th>\n",
              "      <th>recoveries</th>\n",
              "      <th>installment</th>\n",
              "      <th>is_default</th>\n",
              "    </tr>\n",
              "  </thead>\n",
              "  <tbody>\n",
              "    <tr>\n",
              "      <th>0</th>\n",
              "      <td>180675</td>\n",
              "      <td>2007</td>\n",
              "      <td>Andhra Pradesh</td>\n",
              "      <td>01/12/2007</td>\n",
              "      <td>1032009</td>\n",
              "      <td>10.0</td>\n",
              "      <td>MORTGAGE</td>\n",
              "      <td>Low</td>\n",
              "      <td>INDIVIDUAL</td>\n",
              "      <td>debt_consolidation</td>\n",
              "      <td>Low</td>\n",
              "      <td>C</td>\n",
              "      <td>73000</td>\n",
              "      <td>25000</td>\n",
              "      <td>10.91</td>\n",
              "      <td>36 months</td>\n",
              "      <td>22.13</td>\n",
              "      <td>13650.38</td>\n",
              "      <td>8767.32</td>\n",
              "      <td>2207.65</td>\n",
              "      <td>817.41</td>\n",
              "      <td>1</td>\n",
              "    </tr>\n",
              "    <tr>\n",
              "      <th>1</th>\n",
              "      <td>85781</td>\n",
              "      <td>2007</td>\n",
              "      <td>Rajasthan</td>\n",
              "      <td>01/06/2007</td>\n",
              "      <td>1072010</td>\n",
              "      <td>0.5</td>\n",
              "      <td>RENT</td>\n",
              "      <td>Low</td>\n",
              "      <td>INDIVIDUAL</td>\n",
              "      <td>other</td>\n",
              "      <td>Low</td>\n",
              "      <td>C</td>\n",
              "      <td>40000</td>\n",
              "      <td>1400</td>\n",
              "      <td>10.91</td>\n",
              "      <td>36 months</td>\n",
              "      <td>8.61</td>\n",
              "      <td>1663.04</td>\n",
              "      <td>1400.00</td>\n",
              "      <td>0.00</td>\n",
              "      <td>45.78</td>\n",
              "      <td>0</td>\n",
              "    </tr>\n",
              "    <tr>\n",
              "      <th>2</th>\n",
              "      <td>85675</td>\n",
              "      <td>2007</td>\n",
              "      <td>Manipur</td>\n",
              "      <td>01/06/2007</td>\n",
              "      <td>1062010</td>\n",
              "      <td>10.0</td>\n",
              "      <td>RENT</td>\n",
              "      <td>Low</td>\n",
              "      <td>INDIVIDUAL</td>\n",
              "      <td>other</td>\n",
              "      <td>High</td>\n",
              "      <td>E</td>\n",
              "      <td>25000</td>\n",
              "      <td>1000</td>\n",
              "      <td>14.07</td>\n",
              "      <td>36 months</td>\n",
              "      <td>16.27</td>\n",
              "      <td>1231.38</td>\n",
              "      <td>1000.00</td>\n",
              "      <td>0.00</td>\n",
              "      <td>34.21</td>\n",
              "      <td>0</td>\n",
              "    </tr>\n",
              "    <tr>\n",
              "      <th>3</th>\n",
              "      <td>84918</td>\n",
              "      <td>2007</td>\n",
              "      <td>Andhra Pradesh</td>\n",
              "      <td>01/09/2007</td>\n",
              "      <td>1042008</td>\n",
              "      <td>10.0</td>\n",
              "      <td>MORTGAGE</td>\n",
              "      <td>Low</td>\n",
              "      <td>INDIVIDUAL</td>\n",
              "      <td>other</td>\n",
              "      <td>Low</td>\n",
              "      <td>A</td>\n",
              "      <td>65000</td>\n",
              "      <td>5000</td>\n",
              "      <td>7.43</td>\n",
              "      <td>36 months</td>\n",
              "      <td>0.28</td>\n",
              "      <td>5200.44</td>\n",
              "      <td>5000.00</td>\n",
              "      <td>0.00</td>\n",
              "      <td>155.38</td>\n",
              "      <td>0</td>\n",
              "    </tr>\n",
              "    <tr>\n",
              "      <th>4</th>\n",
              "      <td>84670</td>\n",
              "      <td>2007</td>\n",
              "      <td>Arunachal Pradesh</td>\n",
              "      <td>01/06/2007</td>\n",
              "      <td>1082009</td>\n",
              "      <td>10.0</td>\n",
              "      <td>MORTGAGE</td>\n",
              "      <td>High</td>\n",
              "      <td>INDIVIDUAL</td>\n",
              "      <td>other</td>\n",
              "      <td>Low</td>\n",
              "      <td>A</td>\n",
              "      <td>300000</td>\n",
              "      <td>5000</td>\n",
              "      <td>7.75</td>\n",
              "      <td>36 months</td>\n",
              "      <td>5.38</td>\n",
              "      <td>5565.65</td>\n",
              "      <td>5000.00</td>\n",
              "      <td>0.00</td>\n",
              "      <td>156.11</td>\n",
              "      <td>0</td>\n",
              "    </tr>\n",
              "  </tbody>\n",
              "</table>\n",
              "</div>"
            ],
            "text/plain": [
              "   cust_id  year              state date_issued  date_final  emp_duration  \\\n",
              "0   180675  2007     Andhra Pradesh  01/12/2007     1032009          10.0   \n",
              "1    85781  2007          Rajasthan  01/06/2007     1072010           0.5   \n",
              "2    85675  2007            Manipur  01/06/2007     1062010          10.0   \n",
              "3    84918  2007     Andhra Pradesh  01/09/2007     1042008          10.0   \n",
              "4    84670  2007  Arunachal Pradesh  01/06/2007     1082009          10.0   \n",
              "\n",
              "   own_type income_type    app_type        loan_purpose interest_payments  \\\n",
              "0  MORTGAGE         Low  INDIVIDUAL  debt_consolidation               Low   \n",
              "1      RENT         Low  INDIVIDUAL               other               Low   \n",
              "2      RENT         Low  INDIVIDUAL               other              High   \n",
              "3  MORTGAGE         Low  INDIVIDUAL               other               Low   \n",
              "4  MORTGAGE        High  INDIVIDUAL               other               Low   \n",
              "\n",
              "  grade  annual_pay  loan_amount  interest_rate loan_duration    dti  \\\n",
              "0     C       73000        25000          10.91     36 months  22.13   \n",
              "1     C       40000         1400          10.91     36 months   8.61   \n",
              "2     E       25000         1000          14.07     36 months  16.27   \n",
              "3     A       65000         5000           7.43     36 months   0.28   \n",
              "4     A      300000         5000           7.75     36 months   5.38   \n",
              "\n",
              "   total_pymnt  total_rec_prncp  recoveries  installment  is_default  \n",
              "0     13650.38          8767.32     2207.65       817.41           1  \n",
              "1      1663.04          1400.00        0.00        45.78           0  \n",
              "2      1231.38          1000.00        0.00        34.21           0  \n",
              "3      5200.44          5000.00        0.00       155.38           0  \n",
              "4      5565.65          5000.00        0.00       156.11           0  "
            ]
          },
          "metadata": {
            "tags": []
          },
          "execution_count": 49
        }
      ]
    },
    {
      "cell_type": "markdown",
      "metadata": {
        "id": "p_WOCSu4pC16",
        "colab_type": "text"
      },
      "source": [
        "**Question 1: What is the proportion of customers who are defaulter and who are not?**"
      ]
    },
    {
      "cell_type": "code",
      "metadata": {
        "id": "uJoVj_YhgiKE",
        "colab_type": "code",
        "colab": {
          "base_uri": "https://localhost:8080/",
          "height": 70
        },
        "outputId": "7739e49b-bd18-48c9-bd8f-eea6aed5abae"
      },
      "source": [
        "data[\"is_default\"].value_counts()"
      ],
      "execution_count": 51,
      "outputs": [
        {
          "output_type": "execute_result",
          "data": {
            "text/plain": [
              "0    819948\n",
              "1     67429\n",
              "Name: is_default, dtype: int64"
            ]
          },
          "metadata": {
            "tags": []
          },
          "execution_count": 51
        }
      ]
    },
    {
      "cell_type": "code",
      "metadata": {
        "id": "N5WxNdQ2ppn-",
        "colab_type": "code",
        "colab": {
          "base_uri": "https://localhost:8080/",
          "height": 301
        },
        "outputId": "0651fc22-a68f-4842-9ecd-6f56d0279ebf"
      },
      "source": [
        "sns.countplot(data[\"is_default\"])"
      ],
      "execution_count": 52,
      "outputs": [
        {
          "output_type": "execute_result",
          "data": {
            "text/plain": [
              "<matplotlib.axes._subplots.AxesSubplot at 0x7f886dc15be0>"
            ]
          },
          "metadata": {
            "tags": []
          },
          "execution_count": 52
        },
        {
          "output_type": "display_data",
          "data": {
            "image/png": "[encoded data removed]",
            "text/plain": [
              "<Figure size 432x288 with 1 Axes>"
            ]
          },
          "metadata": {
            "tags": [],
            "needs_background": "light"
          }
        }
      ]
    },
    {
      "cell_type": "code",
      "metadata": {
        "id": "Zr2OGvZgpwmj",
        "colab_type": "code",
        "colab": {
          "base_uri": "https://localhost:8080/",
          "height": 500
        },
        "outputId": "185da4fd-1150-4aae-98e0-be2ee8ef42ca"
      },
      "source": [
        "print('Customers who are not default:', data['is_default'].value_counts()[0])\n",
        "print('Customers who are default:', data['is_default'].value_counts()[1])\n",
        "\n",
        "space = np.ones(2)/10\n",
        "data['is_default'].value_counts().plot(kind = 'pie', explode = space, fontsize = 14, autopct = '%3.1f%%', wedgeprops = dict(width=0.15), \n",
        "                                       shadow = True, startangle = 160, figsize = [13.66, 7.68], legend = True)\n",
        "plt.legend(['Not Default', 'Default'])\n",
        "plt.ylabel('Category')\n",
        "plt.title('Proportion of default customers', size = 14)\n",
        "plt.show()"
      ],
      "execution_count": 53,
      "outputs": [
        {
          "output_type": "stream",
          "text": [
            "Customers who are not default: 819948\n",
            "Customers who are default: 67429\n"
          ],
          "name": "stdout"
        },
        {
          "output_type": "display_data",
          "data": {
            "image/png": "[encoded data removed]",
            "text/plain": [
              "<Figure size 983.52x552.96 with 1 Axes>"
            ]
          },
          "metadata": {
            "tags": []
          }
        }
      ]
    },
    {
      "cell_type": "markdown",
      "metadata": {
        "id": "amNqPWOuqtHt",
        "colab_type": "text"
      },
      "source": [
        "**Observation:\n",
        "\n",
        "It comes out that only 7.6% of customers who took the loan have been identified defaulted out of 887377 customers.**"
      ]
    },
    {
      "cell_type": "markdown",
      "metadata": {
        "id": "lInkr0wFsXbJ",
        "colab_type": "text"
      },
      "source": [
        "**Question 2: What is the rate of loan default with respect to final_date?**"
      ]
    },
    {
      "cell_type": "code",
      "metadata": {
        "id": "kFRxXlJxp3mc",
        "colab_type": "code",
        "colab": {
          "base_uri": "https://localhost:8080/",
          "height": 127
        },
        "outputId": "c7c5a7b7-8e43-4380-a7c4-93c623a2aaac"
      },
      "source": [
        "year_frame = pd.DataFrame(data.groupby(by = ['date_final', 'is_default']).size(), columns = ['Count'])\n",
        "year_frame.transpose()"
      ],
      "execution_count": 60,
      "outputs": [
        {
          "output_type": "execute_result",
          "data": {
            "text/html": [
              "<div>\n",
              "<style scoped>\n",
              "    .dataframe tbody tr th:only-of-type {\n",
              "        vertical-align: middle;\n",
              "    }\n",
              "\n",
              "    .dataframe tbody tr th {\n",
              "        vertical-align: top;\n",
              "    }\n",
              "\n",
              "    .dataframe thead tr th {\n",
              "        text-align: left;\n",
              "    }\n",
              "</style>\n",
              "<table border=\"1\" class=\"dataframe\">\n",
              "  <thead>\n",
              "    <tr>\n",
              "      <th>date_final</th>\n",
              "      <th colspan=\"2\" halign=\"left\">2007-11-02</th>\n",
              "      <th colspan=\"2\" halign=\"left\">2008-01-10</th>\n",
              "      <th colspan=\"2\" halign=\"left\">2008-10-01</th>\n",
              "      <th colspan=\"2\" halign=\"left\">2008-10-02</th>\n",
              "      <th colspan=\"2\" halign=\"left\">2008-10-03</th>\n",
              "      <th colspan=\"2\" halign=\"left\">2008-10-04</th>\n",
              "      <th colspan=\"2\" halign=\"left\">2008-10-05</th>\n",
              "      <th colspan=\"2\" halign=\"left\">2008-10-06</th>\n",
              "      <th colspan=\"2\" halign=\"left\">2008-10-07</th>\n",
              "      <th colspan=\"2\" halign=\"left\">2008-10-08</th>\n",
              "      <th colspan=\"2\" halign=\"left\">2008-10-09</th>\n",
              "      <th colspan=\"2\" halign=\"left\">2008-11-01</th>\n",
              "      <th colspan=\"2\" halign=\"left\">2008-11-02</th>\n",
              "      <th colspan=\"2\" halign=\"left\">2009-01-10</th>\n",
              "      <th colspan=\"2\" halign=\"left\">2009-10-01</th>\n",
              "      <th colspan=\"2\" halign=\"left\">2009-10-02</th>\n",
              "      <th colspan=\"2\" halign=\"left\">2009-10-03</th>\n",
              "      <th colspan=\"2\" halign=\"left\">2009-10-04</th>\n",
              "      <th colspan=\"2\" halign=\"left\">2009-10-05</th>\n",
              "      <th colspan=\"2\" halign=\"left\">2009-10-06</th>\n",
              "      <th colspan=\"2\" halign=\"left\">2009-10-07</th>\n",
              "      <th colspan=\"2\" halign=\"left\">2009-10-08</th>\n",
              "      <th colspan=\"2\" halign=\"left\">2009-10-09</th>\n",
              "      <th colspan=\"2\" halign=\"left\">2009-11-01</th>\n",
              "      <th colspan=\"2\" halign=\"left\">2009-11-02</th>\n",
              "      <th colspan=\"2\" halign=\"left\">2010-01-10</th>\n",
              "      <th colspan=\"2\" halign=\"left\">2010-10-01</th>\n",
              "      <th colspan=\"2\" halign=\"left\">2010-10-02</th>\n",
              "      <th colspan=\"2\" halign=\"left\">2010-10-03</th>\n",
              "      <th colspan=\"2\" halign=\"left\">2010-10-04</th>\n",
              "      <th colspan=\"2\" halign=\"left\">2010-10-05</th>\n",
              "      <th colspan=\"2\" halign=\"left\">2010-10-06</th>\n",
              "      <th colspan=\"2\" halign=\"left\">2010-10-07</th>\n",
              "      <th colspan=\"2\" halign=\"left\">2010-10-08</th>\n",
              "      <th colspan=\"2\" halign=\"left\">2010-10-09</th>\n",
              "      <th colspan=\"2\" halign=\"left\">2010-11-01</th>\n",
              "      <th colspan=\"2\" halign=\"left\">2010-11-02</th>\n",
              "      <th colspan=\"2\" halign=\"left\">2011-01-10</th>\n",
              "      <th colspan=\"2\" halign=\"left\">2011-10-01</th>\n",
              "      <th colspan=\"2\" halign=\"left\">2011-10-02</th>\n",
              "      <th colspan=\"2\" halign=\"left\">2011-10-03</th>\n",
              "      <th colspan=\"2\" halign=\"left\">2011-10-04</th>\n",
              "      <th colspan=\"2\" halign=\"left\">2011-10-05</th>\n",
              "      <th colspan=\"2\" halign=\"left\">2011-10-06</th>\n",
              "      <th colspan=\"2\" halign=\"left\">2011-10-07</th>\n",
              "      <th colspan=\"2\" halign=\"left\">2011-10-08</th>\n",
              "      <th colspan=\"2\" halign=\"left\">2011-10-09</th>\n",
              "      <th colspan=\"2\" halign=\"left\">2011-11-01</th>\n",
              "      <th colspan=\"2\" halign=\"left\">2011-11-02</th>\n",
              "      <th colspan=\"2\" halign=\"left\">2012-01-10</th>\n",
              "      <th colspan=\"2\" halign=\"left\">2012-10-01</th>\n",
              "      <th colspan=\"2\" halign=\"left\">2012-10-02</th>\n",
              "      <th colspan=\"2\" halign=\"left\">2012-10-03</th>\n",
              "      <th colspan=\"2\" halign=\"left\">2012-10-04</th>\n",
              "      <th colspan=\"2\" halign=\"left\">2012-10-05</th>\n",
              "      <th colspan=\"2\" halign=\"left\">2012-10-06</th>\n",
              "      <th colspan=\"2\" halign=\"left\">2012-10-07</th>\n",
              "      <th colspan=\"2\" halign=\"left\">2012-10-08</th>\n",
              "      <th colspan=\"2\" halign=\"left\">2012-10-09</th>\n",
              "      <th colspan=\"2\" halign=\"left\">2012-11-01</th>\n",
              "      <th colspan=\"2\" halign=\"left\">2012-11-02</th>\n",
              "      <th colspan=\"2\" halign=\"left\">2013-01-10</th>\n",
              "      <th colspan=\"2\" halign=\"left\">2013-10-01</th>\n",
              "      <th colspan=\"2\" halign=\"left\">2013-10-02</th>\n",
              "      <th colspan=\"2\" halign=\"left\">2013-10-03</th>\n",
              "      <th colspan=\"2\" halign=\"left\">2013-10-04</th>\n",
              "      <th colspan=\"2\" halign=\"left\">2013-10-05</th>\n",
              "      <th colspan=\"2\" halign=\"left\">2013-10-06</th>\n",
              "      <th colspan=\"2\" halign=\"left\">2013-10-07</th>\n",
              "      <th colspan=\"2\" halign=\"left\">2013-10-08</th>\n",
              "      <th colspan=\"2\" halign=\"left\">2013-10-09</th>\n",
              "      <th colspan=\"2\" halign=\"left\">2013-11-01</th>\n",
              "      <th colspan=\"2\" halign=\"left\">2013-11-02</th>\n",
              "      <th colspan=\"2\" halign=\"left\">2014-01-10</th>\n",
              "      <th colspan=\"2\" halign=\"left\">2014-10-01</th>\n",
              "      <th colspan=\"2\" halign=\"left\">2014-10-02</th>\n",
              "      <th colspan=\"2\" halign=\"left\">2014-10-03</th>\n",
              "      <th colspan=\"2\" halign=\"left\">2014-10-04</th>\n",
              "      <th colspan=\"2\" halign=\"left\">2014-10-05</th>\n",
              "      <th colspan=\"2\" halign=\"left\">2014-10-06</th>\n",
              "      <th colspan=\"2\" halign=\"left\">2014-10-07</th>\n",
              "      <th colspan=\"2\" halign=\"left\">2014-10-08</th>\n",
              "      <th colspan=\"2\" halign=\"left\">2014-10-09</th>\n",
              "      <th colspan=\"2\" halign=\"left\">2014-11-01</th>\n",
              "      <th colspan=\"2\" halign=\"left\">2014-11-02</th>\n",
              "      <th colspan=\"2\" halign=\"left\">2015-01-10</th>\n",
              "      <th colspan=\"2\" halign=\"left\">2015-10-01</th>\n",
              "      <th colspan=\"2\" halign=\"left\">2015-10-02</th>\n",
              "      <th colspan=\"2\" halign=\"left\">2015-10-03</th>\n",
              "      <th colspan=\"2\" halign=\"left\">2015-10-04</th>\n",
              "      <th colspan=\"2\" halign=\"left\">2015-10-05</th>\n",
              "      <th colspan=\"2\" halign=\"left\">2015-10-06</th>\n",
              "      <th colspan=\"2\" halign=\"left\">2015-10-07</th>\n",
              "      <th colspan=\"2\" halign=\"left\">2015-10-08</th>\n",
              "      <th colspan=\"2\" halign=\"left\">2015-10-09</th>\n",
              "      <th colspan=\"2\" halign=\"left\">2015-11-01</th>\n",
              "      <th colspan=\"2\" halign=\"left\">2015-11-02</th>\n",
              "      <th colspan=\"2\" halign=\"left\">2016-10-01</th>\n",
              "    </tr>\n",
              "    <tr>\n",
              "      <th>is_default</th>\n",
              "      <th>False</th>\n",
              "      <th>True</th>\n",
              "      <th>False</th>\n",
              "      <th>True</th>\n",
              "      <th>False</th>\n",
              "      <th>True</th>\n",
              "      <th>False</th>\n",
              "      <th>True</th>\n",
              "      <th>False</th>\n",
              "      <th>True</th>\n",
              "      <th>False</th>\n",
              "      <th>True</th>\n",
              "      <th>False</th>\n",
              "      <th>True</th>\n",
              "      <th>False</th>\n",
              "      <th>True</th>\n",
              "      <th>False</th>\n",
              "      <th>True</th>\n",
              "      <th>False</th>\n",
              "      <th>True</th>\n",
              "      <th>False</th>\n",
              "      <th>True</th>\n",
              "      <th>False</th>\n",
              "      <th>True</th>\n",
              "      <th>False</th>\n",
              "      <th>True</th>\n",
              "      <th>False</th>\n",
              "      <th>True</th>\n",
              "      <th>False</th>\n",
              "      <th>True</th>\n",
              "      <th>False</th>\n",
              "      <th>True</th>\n",
              "      <th>False</th>\n",
              "      <th>True</th>\n",
              "      <th>False</th>\n",
              "      <th>True</th>\n",
              "      <th>False</th>\n",
              "      <th>True</th>\n",
              "      <th>False</th>\n",
              "      <th>True</th>\n",
              "      <th>False</th>\n",
              "      <th>True</th>\n",
              "      <th>False</th>\n",
              "      <th>True</th>\n",
              "      <th>False</th>\n",
              "      <th>True</th>\n",
              "      <th>False</th>\n",
              "      <th>True</th>\n",
              "      <th>False</th>\n",
              "      <th>True</th>\n",
              "      <th>False</th>\n",
              "      <th>True</th>\n",
              "      <th>False</th>\n",
              "      <th>True</th>\n",
              "      <th>False</th>\n",
              "      <th>True</th>\n",
              "      <th>False</th>\n",
              "      <th>True</th>\n",
              "      <th>False</th>\n",
              "      <th>True</th>\n",
              "      <th>False</th>\n",
              "      <th>True</th>\n",
              "      <th>False</th>\n",
              "      <th>True</th>\n",
              "      <th>False</th>\n",
              "      <th>True</th>\n",
              "      <th>False</th>\n",
              "      <th>True</th>\n",
              "      <th>False</th>\n",
              "      <th>True</th>\n",
              "      <th>False</th>\n",
              "      <th>True</th>\n",
              "      <th>False</th>\n",
              "      <th>True</th>\n",
              "      <th>False</th>\n",
              "      <th>True</th>\n",
              "      <th>False</th>\n",
              "      <th>True</th>\n",
              "      <th>False</th>\n",
              "      <th>True</th>\n",
              "      <th>False</th>\n",
              "      <th>True</th>\n",
              "      <th>False</th>\n",
              "      <th>True</th>\n",
              "      <th>False</th>\n",
              "      <th>True</th>\n",
              "      <th>False</th>\n",
              "      <th>True</th>\n",
              "      <th>False</th>\n",
              "      <th>True</th>\n",
              "      <th>False</th>\n",
              "      <th>True</th>\n",
              "      <th>False</th>\n",
              "      <th>True</th>\n",
              "      <th>False</th>\n",
              "      <th>True</th>\n",
              "      <th>False</th>\n",
              "      <th>True</th>\n",
              "      <th>False</th>\n",
              "      <th>True</th>\n",
              "      <th>False</th>\n",
              "      <th>True</th>\n",
              "      <th>False</th>\n",
              "      <th>True</th>\n",
              "      <th>False</th>\n",
              "      <th>True</th>\n",
              "      <th>False</th>\n",
              "      <th>True</th>\n",
              "      <th>False</th>\n",
              "      <th>True</th>\n",
              "      <th>False</th>\n",
              "      <th>True</th>\n",
              "      <th>False</th>\n",
              "      <th>True</th>\n",
              "      <th>False</th>\n",
              "      <th>True</th>\n",
              "      <th>False</th>\n",
              "      <th>True</th>\n",
              "      <th>False</th>\n",
              "      <th>True</th>\n",
              "      <th>False</th>\n",
              "      <th>True</th>\n",
              "      <th>False</th>\n",
              "      <th>True</th>\n",
              "      <th>False</th>\n",
              "      <th>True</th>\n",
              "      <th>False</th>\n",
              "      <th>True</th>\n",
              "      <th>False</th>\n",
              "      <th>True</th>\n",
              "      <th>False</th>\n",
              "      <th>True</th>\n",
              "      <th>False</th>\n",
              "      <th>True</th>\n",
              "      <th>False</th>\n",
              "      <th>True</th>\n",
              "      <th>False</th>\n",
              "      <th>True</th>\n",
              "      <th>False</th>\n",
              "      <th>True</th>\n",
              "      <th>False</th>\n",
              "      <th>True</th>\n",
              "      <th>False</th>\n",
              "      <th>True</th>\n",
              "      <th>False</th>\n",
              "      <th>True</th>\n",
              "      <th>False</th>\n",
              "      <th>True</th>\n",
              "      <th>False</th>\n",
              "      <th>True</th>\n",
              "      <th>False</th>\n",
              "      <th>True</th>\n",
              "      <th>False</th>\n",
              "      <th>True</th>\n",
              "      <th>False</th>\n",
              "      <th>True</th>\n",
              "      <th>False</th>\n",
              "      <th>True</th>\n",
              "      <th>False</th>\n",
              "      <th>True</th>\n",
              "      <th>False</th>\n",
              "      <th>True</th>\n",
              "      <th>False</th>\n",
              "      <th>True</th>\n",
              "      <th>False</th>\n",
              "      <th>True</th>\n",
              "      <th>False</th>\n",
              "      <th>True</th>\n",
              "      <th>False</th>\n",
              "      <th>True</th>\n",
              "      <th>False</th>\n",
              "      <th>True</th>\n",
              "      <th>False</th>\n",
              "      <th>True</th>\n",
              "      <th>False</th>\n",
              "      <th>True</th>\n",
              "      <th>False</th>\n",
              "      <th>True</th>\n",
              "      <th>False</th>\n",
              "      <th>True</th>\n",
              "      <th>False</th>\n",
              "      <th>True</th>\n",
              "      <th>False</th>\n",
              "      <th>True</th>\n",
              "      <th>False</th>\n",
              "      <th>True</th>\n",
              "      <th>False</th>\n",
              "      <th>True</th>\n",
              "      <th>False</th>\n",
              "      <th>True</th>\n",
              "      <th>False</th>\n",
              "      <th>True</th>\n",
              "      <th>False</th>\n",
              "      <th>True</th>\n",
              "      <th>False</th>\n",
              "      <th>True</th>\n",
              "    </tr>\n",
              "  </thead>\n",
              "  <tbody>\n",
              "    <tr>\n",
              "      <th>Count</th>\n",
              "      <td>1</td>\n",
              "      <td>1</td>\n",
              "      <td>23</td>\n",
              "      <td>32</td>\n",
              "      <td>8</td>\n",
              "      <td>3</td>\n",
              "      <td>3</td>\n",
              "      <td>5</td>\n",
              "      <td>7</td>\n",
              "      <td>11</td>\n",
              "      <td>16</td>\n",
              "      <td>7</td>\n",
              "      <td>15</td>\n",
              "      <td>15</td>\n",
              "      <td>8</td>\n",
              "      <td>12</td>\n",
              "      <td>18</td>\n",
              "      <td>19</td>\n",
              "      <td>14</td>\n",
              "      <td>17</td>\n",
              "      <td>18</td>\n",
              "      <td>22</td>\n",
              "      <td>12</td>\n",
              "      <td>19</td>\n",
              "      <td>8</td>\n",
              "      <td>23</td>\n",
              "      <td>49</td>\n",
              "      <td>36</td>\n",
              "      <td>17</td>\n",
              "      <td>23</td>\n",
              "      <td>33</td>\n",
              "      <td>32</td>\n",
              "      <td>37</td>\n",
              "      <td>25</td>\n",
              "      <td>41</td>\n",
              "      <td>31</td>\n",
              "      <td>27</td>\n",
              "      <td>33</td>\n",
              "      <td>27</td>\n",
              "      <td>38</td>\n",
              "      <td>40</td>\n",
              "      <td>32</td>\n",
              "      <td>36</td>\n",
              "      <td>30</td>\n",
              "      <td>24</td>\n",
              "      <td>31</td>\n",
              "      <td>53</td>\n",
              "      <td>27</td>\n",
              "      <td>65</td>\n",
              "      <td>51</td>\n",
              "      <td>209</td>\n",
              "      <td>83</td>\n",
              "      <td>61</td>\n",
              "      <td>39</td>\n",
              "      <td>115</td>\n",
              "      <td>33</td>\n",
              "      <td>120</td>\n",
              "      <td>64</td>\n",
              "      <td>94</td>\n",
              "      <td>51</td>\n",
              "      <td>104</td>\n",
              "      <td>47</td>\n",
              "      <td>104</td>\n",
              "      <td>46</td>\n",
              "      <td>184</td>\n",
              "      <td>63</td>\n",
              "      <td>145</td>\n",
              "      <td>53</td>\n",
              "      <td>154</td>\n",
              "      <td>61</td>\n",
              "      <td>197</td>\n",
              "      <td>61</td>\n",
              "      <td>253</td>\n",
              "      <td>79</td>\n",
              "      <td>345</td>\n",
              "      <td>137</td>\n",
              "      <td>275</td>\n",
              "      <td>55</td>\n",
              "      <td>380</td>\n",
              "      <td>57</td>\n",
              "      <td>522</td>\n",
              "      <td>74</td>\n",
              "      <td>434</td>\n",
              "      <td>85</td>\n",
              "      <td>353</td>\n",
              "      <td>95</td>\n",
              "      <td>349</td>\n",
              "      <td>91</td>\n",
              "      <td>345</td>\n",
              "      <td>109</td>\n",
              "      <td>359</td>\n",
              "      <td>120</td>\n",
              "      <td>366</td>\n",
              "      <td>125</td>\n",
              "      <td>386</td>\n",
              "      <td>101</td>\n",
              "      <td>445</td>\n",
              "      <td>140</td>\n",
              "      <td>936</td>\n",
              "      <td>332</td>\n",
              "      <td>442</td>\n",
              "      <td>133</td>\n",
              "      <td>640</td>\n",
              "      <td>163</td>\n",
              "      <td>796</td>\n",
              "      <td>155</td>\n",
              "      <td>710</td>\n",
              "      <td>150</td>\n",
              "      <td>712</td>\n",
              "      <td>166</td>\n",
              "      <td>651</td>\n",
              "      <td>210</td>\n",
              "      <td>731</td>\n",
              "      <td>231</td>\n",
              "      <td>886</td>\n",
              "      <td>248</td>\n",
              "      <td>866</td>\n",
              "      <td>259</td>\n",
              "      <td>901</td>\n",
              "      <td>297</td>\n",
              "      <td>904</td>\n",
              "      <td>294</td>\n",
              "      <td>2027</td>\n",
              "      <td>805</td>\n",
              "      <td>1139</td>\n",
              "      <td>340</td>\n",
              "      <td>1291</td>\n",
              "      <td>323</td>\n",
              "      <td>1712</td>\n",
              "      <td>358</td>\n",
              "      <td>1493</td>\n",
              "      <td>417</td>\n",
              "      <td>1709</td>\n",
              "      <td>461</td>\n",
              "      <td>1510</td>\n",
              "      <td>477</td>\n",
              "      <td>1795</td>\n",
              "      <td>600</td>\n",
              "      <td>1881</td>\n",
              "      <td>634</td>\n",
              "      <td>1806</td>\n",
              "      <td>704</td>\n",
              "      <td>2023</td>\n",
              "      <td>639</td>\n",
              "      <td>2344</td>\n",
              "      <td>706</td>\n",
              "      <td>5926</td>\n",
              "      <td>1750</td>\n",
              "      <td>2786</td>\n",
              "      <td>869</td>\n",
              "      <td>2894</td>\n",
              "      <td>738</td>\n",
              "      <td>3638</td>\n",
              "      <td>934</td>\n",
              "      <td>3380</td>\n",
              "      <td>947</td>\n",
              "      <td>3678</td>\n",
              "      <td>1043</td>\n",
              "      <td>4401</td>\n",
              "      <td>1219</td>\n",
              "      <td>4938</td>\n",
              "      <td>1374</td>\n",
              "      <td>4852</td>\n",
              "      <td>1453</td>\n",
              "      <td>4766</td>\n",
              "      <td>1550</td>\n",
              "      <td>4818</td>\n",
              "      <td>1388</td>\n",
              "      <td>5571</td>\n",
              "      <td>1682</td>\n",
              "      <td>12195</td>\n",
              "      <td>3805</td>\n",
              "      <td>6967</td>\n",
              "      <td>1691</td>\n",
              "      <td>7203</td>\n",
              "      <td>1646</td>\n",
              "      <td>8618</td>\n",
              "      <td>2142</td>\n",
              "      <td>8912</td>\n",
              "      <td>2195</td>\n",
              "      <td>8703</td>\n",
              "      <td>2366</td>\n",
              "      <td>9360</td>\n",
              "      <td>2623</td>\n",
              "      <td>11346</td>\n",
              "      <td>3137</td>\n",
              "      <td>10070</td>\n",
              "      <td>2970</td>\n",
              "      <td>10604</td>\n",
              "      <td>3230</td>\n",
              "      <td>10574</td>\n",
              "      <td>3407</td>\n",
              "      <td>142676</td>\n",
              "      <td>8185</td>\n",
              "      <td>484268</td>\n",
              "      <td>3539</td>\n",
              "    </tr>\n",
              "  </tbody>\n",
              "</table>\n",
              "</div>"
            ],
            "text/plain": [
              "date_final 2007-11-02       2008-01-10       2008-10-01       2008-10-02  \\\n",
              "is_default      False True       False True       False True       False   \n",
              "Count               1     1         23    32          8     3          3   \n",
              "\n",
              "date_final       2008-10-03       2008-10-04       2008-10-05        \\\n",
              "is_default True       False True       False True       False True    \n",
              "Count          5          7    11         16     7         15    15   \n",
              "\n",
              "date_final 2008-10-06       2008-10-07       2008-10-08       2008-10-09  \\\n",
              "is_default      False True       False True       False True       False   \n",
              "Count               8    12         18    19         14    17         18   \n",
              "\n",
              "date_final       2008-11-01       2008-11-02       2009-01-10        \\\n",
              "is_default True       False True       False True       False True    \n",
              "Count         22         12    19          8    23         49    36   \n",
              "\n",
              "date_final 2009-10-01       2009-10-02       2009-10-03       2009-10-04  \\\n",
              "is_default      False True       False True       False True       False   \n",
              "Count              17    23         33    32         37    25         41   \n",
              "\n",
              "date_final       2009-10-05       2009-10-06       2009-10-07        \\\n",
              "is_default True       False True       False True       False True    \n",
              "Count         31         27    33         27    38         40    32   \n",
              "\n",
              "date_final 2009-10-08       2009-10-09       2009-11-01       2009-11-02  \\\n",
              "is_default      False True       False True       False True       False   \n",
              "Count              36    30         24    31         53    27         65   \n",
              "\n",
              "date_final       2010-01-10       2010-10-01       2010-10-02        \\\n",
              "is_default True       False True       False True       False True    \n",
              "Count         51        209    83         61    39        115    33   \n",
              "\n",
              "date_final 2010-10-03       2010-10-04       2010-10-05       2010-10-06  \\\n",
              "is_default      False True       False True       False True       False   \n",
              "Count             120    64         94    51        104    47        104   \n",
              "\n",
              "date_final       2010-10-07       2010-10-08       2010-10-09        \\\n",
              "is_default True       False True       False True       False True    \n",
              "Count         46        184    63        145    53        154    61   \n",
              "\n",
              "date_final 2010-11-01       2010-11-02       2011-01-10       2011-10-01  \\\n",
              "is_default      False True       False True       False True       False   \n",
              "Count             197    61        253    79        345   137        275   \n",
              "\n",
              "date_final       2011-10-02       2011-10-03       2011-10-04        \\\n",
              "is_default True       False True       False True       False True    \n",
              "Count         55        380    57        522    74        434    85   \n",
              "\n",
              "date_final 2011-10-05       2011-10-06       2011-10-07       2011-10-08  \\\n",
              "is_default      False True       False True       False True       False   \n",
              "Count             353    95        349    91        345   109        359   \n",
              "\n",
              "date_final       2011-10-09       2011-11-01       2011-11-02        \\\n",
              "is_default True       False True       False True       False True    \n",
              "Count        120        366   125        386   101        445   140   \n",
              "\n",
              "date_final 2012-01-10       2012-10-01       2012-10-02       2012-10-03  \\\n",
              "is_default      False True       False True       False True       False   \n",
              "Count             936   332        442   133        640   163        796   \n",
              "\n",
              "date_final       2012-10-04       2012-10-05       2012-10-06        \\\n",
              "is_default True       False True       False True       False True    \n",
              "Count        155        710   150        712   166        651   210   \n",
              "\n",
              "date_final 2012-10-07       2012-10-08       2012-10-09       2012-11-01  \\\n",
              "is_default      False True       False True       False True       False   \n",
              "Count             731   231        886   248        866   259        901   \n",
              "\n",
              "date_final       2012-11-02       2013-01-10       2013-10-01        \\\n",
              "is_default True       False True       False True       False True    \n",
              "Count        297        904   294       2027   805       1139   340   \n",
              "\n",
              "date_final 2013-10-02       2013-10-03       2013-10-04       2013-10-05  \\\n",
              "is_default      False True       False True       False True       False   \n",
              "Count            1291   323       1712   358       1493   417       1709   \n",
              "\n",
              "date_final       2013-10-06       2013-10-07       2013-10-08        \\\n",
              "is_default True       False True       False True       False True    \n",
              "Count        461       1510   477       1795   600       1881   634   \n",
              "\n",
              "date_final 2013-10-09       2013-11-01       2013-11-02       2014-01-10  \\\n",
              "is_default      False True       False True       False True       False   \n",
              "Count            1806   704       2023   639       2344   706       5926   \n",
              "\n",
              "date_final       2014-10-01       2014-10-02       2014-10-03        \\\n",
              "is_default True       False True       False True       False True    \n",
              "Count       1750       2786   869       2894   738       3638   934   \n",
              "\n",
              "date_final 2014-10-04       2014-10-05       2014-10-06       2014-10-07  \\\n",
              "is_default      False True       False True       False True       False   \n",
              "Count            3380   947       3678  1043       4401  1219       4938   \n",
              "\n",
              "date_final       2014-10-08       2014-10-09       2014-11-01        \\\n",
              "is_default True       False True       False True       False True    \n",
              "Count       1374       4852  1453       4766  1550       4818  1388   \n",
              "\n",
              "date_final 2014-11-02       2015-01-10       2015-10-01       2015-10-02  \\\n",
              "is_default      False True       False True       False True       False   \n",
              "Count            5571  1682      12195  3805       6967  1691       7203   \n",
              "\n",
              "date_final       2015-10-03       2015-10-04       2015-10-05        \\\n",
              "is_default True       False True       False True       False True    \n",
              "Count       1646       8618  2142       8912  2195       8703  2366   \n",
              "\n",
              "date_final 2015-10-06       2015-10-07       2015-10-08       2015-10-09  \\\n",
              "is_default      False True       False True       False True       False   \n",
              "Count            9360  2623      11346  3137      10070  2970      10604   \n",
              "\n",
              "date_final       2015-11-01       2015-11-02       2016-10-01        \n",
              "is_default True       False True       False True       False True   \n",
              "Count       3230      10574  3407     142676  8185     484268  3539  "
            ]
          },
          "metadata": {
            "tags": []
          },
          "execution_count": 60
        }
      ]
    },
    {
      "cell_type": "code",
      "metadata": {
        "id": "GhlIo8-sudDJ",
        "colab_type": "code",
        "colab": {
          "base_uri": "https://localhost:8080/",
          "height": 123
        },
        "outputId": "f5f077c4-66af-4c28-a751-7a8faf03b078"
      },
      "source": [
        "data[\"date_final\"].head()"
      ],
      "execution_count": 56,
      "outputs": [
        {
          "output_type": "execute_result",
          "data": {
            "text/plain": [
              "0    1032009\n",
              "1    1072010\n",
              "2    1062010\n",
              "3    1042008\n",
              "4    1082009\n",
              "Name: date_final, dtype: int64"
            ]
          },
          "metadata": {
            "tags": []
          },
          "execution_count": 56
        }
      ]
    },
    {
      "cell_type": "code",
      "metadata": {
        "id": "Fnd9uRe6vaz1",
        "colab_type": "code",
        "colab": {
          "base_uri": "https://localhost:8080/",
          "height": 488
        },
        "outputId": "3e6e20d0-26d2-4c4a-a48a-f98edbbd0995"
      },
      "source": [
        "figure = plt.figure(figsize = [15, 8])\n",
        "\n",
        "data[data['is_default'] == 1]['date_final'].value_counts().plot(kind = 'line')\n",
        "\n",
        "plt.xlabel('Year', size = 14)\n",
        "plt.ylabel('Frequency', size = 14)\n",
        "plt.title('Loan Default rate at each year', size = 16)\n",
        "plt.show()"
      ],
      "execution_count": 61,
      "outputs": [
        {
          "output_type": "display_data",
          "data": {
            "image/png": "[encoded data removed]",
            "text/plain": [
              "<Figure size 1080x576 with 1 Axes>"
            ]
          },
          "metadata": {
            "tags": [],
            "needs_background": "light"
          }
        }
      ]
    },
    {
      "cell_type": "markdown",
      "metadata": {
        "id": "uOobNjub2hU6",
        "colab_type": "text"
      },
      "source": [
        "**Observation:\n",
        "\n",
        "We can see that default rate around 2015-02 year was more steep than any other year.**"
      ]
    },
    {
      "cell_type": "markdown",
      "metadata": {
        "id": "KOIdr3Jq27UL",
        "colab_type": "text"
      },
      "source": [
        "**Question 3: What is the frequency of ownership with respect to the being default of loan?**"
      ]
    },
    {
      "cell_type": "code",
      "metadata": {
        "id": "_UsnLoR52joB",
        "colab_type": "code",
        "colab": {}
      },
      "source": [
        "own_type_frame=pd.DataFrame(data.groupby([\"own_type\",\"is_default\"])[\"is_default\"].count())"
      ],
      "execution_count": 0,
      "outputs": []
    },
    {
      "cell_type": "code",
      "metadata": {
        "id": "olYLVtNS3mtr",
        "colab_type": "code",
        "colab": {
          "base_uri": "https://localhost:8080/",
          "height": 107
        },
        "outputId": "a6b529ad-7f2b-4b9e-fe7c-1b71b3861b53"
      },
      "source": [
        "own_type_frame.T"
      ],
      "execution_count": 63,
      "outputs": [
        {
          "output_type": "execute_result",
          "data": {
            "text/html": [
              "<div>\n",
              "<style scoped>\n",
              "    .dataframe tbody tr th:only-of-type {\n",
              "        vertical-align: middle;\n",
              "    }\n",
              "\n",
              "    .dataframe tbody tr th {\n",
              "        vertical-align: top;\n",
              "    }\n",
              "\n",
              "    .dataframe thead tr th {\n",
              "        text-align: left;\n",
              "    }\n",
              "</style>\n",
              "<table border=\"1\" class=\"dataframe\">\n",
              "  <thead>\n",
              "    <tr>\n",
              "      <th>own_type</th>\n",
              "      <th>ANY</th>\n",
              "      <th colspan=\"2\" halign=\"left\">MORTGAGE</th>\n",
              "      <th colspan=\"2\" halign=\"left\">NONE</th>\n",
              "      <th colspan=\"2\" halign=\"left\">OTHER</th>\n",
              "      <th colspan=\"2\" halign=\"left\">OWN</th>\n",
              "      <th colspan=\"2\" halign=\"left\">RENT</th>\n",
              "    </tr>\n",
              "    <tr>\n",
              "      <th>is_default</th>\n",
              "      <th>False</th>\n",
              "      <th>False</th>\n",
              "      <th>True</th>\n",
              "      <th>False</th>\n",
              "      <th>True</th>\n",
              "      <th>False</th>\n",
              "      <th>True</th>\n",
              "      <th>False</th>\n",
              "      <th>True</th>\n",
              "      <th>False</th>\n",
              "      <th>True</th>\n",
              "    </tr>\n",
              "  </thead>\n",
              "  <tbody>\n",
              "    <tr>\n",
              "      <th>is_default</th>\n",
              "      <td>3</td>\n",
              "      <td>413856</td>\n",
              "      <td>29699</td>\n",
              "      <td>42</td>\n",
              "      <td>8</td>\n",
              "      <td>144</td>\n",
              "      <td>38</td>\n",
              "      <td>81177</td>\n",
              "      <td>6293</td>\n",
              "      <td>324726</td>\n",
              "      <td>31391</td>\n",
              "    </tr>\n",
              "  </tbody>\n",
              "</table>\n",
              "</div>"
            ],
            "text/plain": [
              "own_type     ANY MORTGAGE         NONE       OTHER          OWN          RENT  \\\n",
              "is_default False    False  True  False True  False True   False True    False   \n",
              "is_default     3   413856  29699    42     8   144    38  81177  6293  324726   \n",
              "\n",
              "own_type           \n",
              "is_default  True   \n",
              "is_default  31391  "
            ]
          },
          "metadata": {
            "tags": []
          },
          "execution_count": 63
        }
      ]
    },
    {
      "cell_type": "code",
      "metadata": {
        "id": "IoT4W-aC34b3",
        "colab_type": "code",
        "colab": {
          "base_uri": "https://localhost:8080/",
          "height": 544
        },
        "outputId": "e04c44c0-3e84-4fbb-c24b-576b5ad4d457"
      },
      "source": [
        "figure = plt.figure(figsize = [15, 8])\n",
        "\n",
        "ax = sns.countplot(x = 'own_type',  data = data, hue = 'is_default', palette = ['darkcyan', 'crimson'])\n",
        "\n",
        "total = data.shape[0]\n",
        "for p in ax.patches:\n",
        "  percentage = '{:.2f}%'.format(100*p.get_height()/total)\n",
        "  x = p.get_x() + p.get_width() / 10\n",
        "  y = p.get_y() + p.get_height() + 2\n",
        "  ax.annotate(percentage, (x, y))\n",
        "\n",
        "plt.yticks(range(0, 500000, 20000))\n",
        "plt.xlabel('Ownership Type', size = 14)\n",
        "plt.ylabel('Frequency', size = 14)\n",
        "plt.legend(labels = ['Not Default', 'Default'], loc = 'upper right')\n",
        "plt.title('Frequency occurence of Ownership Type', y=1.05, size = 16)\n",
        "plt.show()"
      ],
      "execution_count": 64,
      "outputs": [
        {
          "output_type": "display_data",
          "data": {
            "image/png": "[encoded data removed]",
            "text/plain": [
              "<Figure size 1080x576 with 1 Axes>"
            ]
          },
          "metadata": {
            "tags": [],
            "needs_background": "light"
          }
        }
      ]
    },
    {
      "cell_type": "markdown",
      "metadata": {
        "id": "F89mnXWhBFen",
        "colab_type": "text"
      },
      "source": [
        "**Observation:**\n",
        "\n",
        "**From the above analysis we can see that there are very few or no data points that are on default for NONE, OTHER, ANY. We could drop these points and visualize our results again.**\n",
        "\n",
        "**Customers being default are only present for MORTGAGE, RENT and OWN type of Ownership.**"
      ]
    },
    {
      "cell_type": "code",
      "metadata": {
        "id": "cOp_Y4PH4KHy",
        "colab_type": "code",
        "colab": {
          "base_uri": "https://localhost:8080/",
          "height": 141
        },
        "outputId": "4cc23370-8e24-4365-ebd4-6f4b0fcc45b0"
      },
      "source": [
        "data[\"own_type\"].value_counts()"
      ],
      "execution_count": 65,
      "outputs": [
        {
          "output_type": "execute_result",
          "data": {
            "text/plain": [
              "MORTGAGE    443555\n",
              "RENT        356117\n",
              "OWN          87470\n",
              "OTHER          182\n",
              "NONE            50\n",
              "ANY              3\n",
              "Name: own_type, dtype: int64"
            ]
          },
          "metadata": {
            "tags": []
          },
          "execution_count": 65
        }
      ]
    },
    {
      "cell_type": "code",
      "metadata": {
        "id": "1gxqs4LpCTdE",
        "colab_type": "code",
        "colab": {
          "base_uri": "https://localhost:8080/",
          "height": 52
        },
        "outputId": "2edc2b2d-9065-4708-add9-166a3a91674b"
      },
      "source": [
        "print(\"before filteration:\",data.shape)\n",
        "data=data[(data[\"own_type\"]==\"MORTGAGE\")|(data[\"own_type\"]==\"RENT\")|(data[\"own_type\"]==\"OWN\")]\n",
        "print(\"after filteration:\",data.shape)"
      ],
      "execution_count": 66,
      "outputs": [
        {
          "output_type": "stream",
          "text": [
            "before filteration: (887377, 22)\n",
            "after filteration: (887142, 22)\n"
          ],
          "name": "stdout"
        }
      ]
    },
    {
      "cell_type": "code",
      "metadata": {
        "id": "baazuFIxDNrp",
        "colab_type": "code",
        "colab": {
          "base_uri": "https://localhost:8080/",
          "height": 421
        },
        "outputId": "3dc39dcf-5f18-4847-822b-451ba8600878"
      },
      "source": [
        "print(data['own_type'].value_counts())\n",
        "\n",
        "# Bar Plot\n",
        "colors_list = ['lightcoral', 'lightgreen', 'mediumturquoise']\n",
        "figure = plt.figure(figsize = [15, 8])\n",
        "plt.subplot(1, 2, 1)\n",
        "sns.barplot(data['own_type'].value_counts().index, data['own_type'].value_counts(), palette  = colors_list)\n",
        "plt.yticks(range(0, 500000, 20000))\n",
        "plt.xlabel('Ownership Type')\n",
        "plt.ylabel('Frequency')\n",
        "plt.title('Frequency occurence of Ownership Type', y=1.05, size = 14)\n",
        "\n",
        "explode_list = [0, 0 , 0.2]\n",
        "\n",
        "plt.subplot(1, 2, 2)\n",
        "# Pie Plot\n",
        "data['own_type'].value_counts().plot(kind = 'pie', figsize = [10, 5], autopct = '%1.1f%%', startangle = 90, \n",
        "                                     shadow = True, labels = None, pctdistance = 1.12, colors = colors_list, \n",
        "                                     explode = explode_list)\n",
        "plt.title('Proportion of each Ownership Type w.r.t loan', y = 1.05, size = 14)\n",
        "plt.ylabel('')\n",
        "plt.axis('equal')\n",
        "plt.legend(labels = data['own_type'].value_counts().index, loc = 'upper left', frameon = False)\n",
        "plt.tight_layout(pad=2.0)\n",
        "plt.show()"
      ],
      "execution_count": 67,
      "outputs": [
        {
          "output_type": "stream",
          "text": [
            "MORTGAGE    443555\n",
            "RENT        356117\n",
            "OWN          87470\n",
            "Name: own_type, dtype: int64\n"
          ],
          "name": "stdout"
        },
        {
          "output_type": "display_data",
          "data": {
            "image/png": "[encoded data removed]",
            "text/plain": [
              "<Figure size 720x360 with 2 Axes>"
            ]
          },
          "metadata": {
            "tags": [],
            "needs_background": "light"
          }
        }
      ]
    },
    {
      "cell_type": "markdown",
      "metadata": {
        "id": "lGPnx7PtJMCd",
        "colab_type": "text"
      },
      "source": [
        "**Observation:**\n",
        "\n",
        "**From above we can see that 50% of customers have ownership under MORTGAGE type.**"
      ]
    },
    {
      "cell_type": "code",
      "metadata": {
        "id": "uUTfLg7AEvuo",
        "colab_type": "code",
        "colab": {
          "base_uri": "https://localhost:8080/",
          "height": 34
        },
        "outputId": "3a5e7375-81e0-4cc4-b4bc-54ca06e89ce8"
      },
      "source": [
        "data[\"own_type\"].value_counts().index"
      ],
      "execution_count": 68,
      "outputs": [
        {
          "output_type": "execute_result",
          "data": {
            "text/plain": [
              "Index(['MORTGAGE', 'RENT', 'OWN'], dtype='object')"
            ]
          },
          "metadata": {
            "tags": []
          },
          "execution_count": 68
        }
      ]
    },
    {
      "cell_type": "code",
      "metadata": {
        "id": "dtKzdfDUJ32D",
        "colab_type": "code",
        "colab": {
          "base_uri": "https://localhost:8080/",
          "height": 267
        },
        "outputId": "943f2e78-9516-45d5-e9aa-3d33994f3a0e"
      },
      "source": [
        "data.head()"
      ],
      "execution_count": 69,
      "outputs": [
        {
          "output_type": "execute_result",
          "data": {
            "text/html": [
              "<div>\n",
              "<style scoped>\n",
              "    .dataframe tbody tr th:only-of-type {\n",
              "        vertical-align: middle;\n",
              "    }\n",
              "\n",
              "    .dataframe tbody tr th {\n",
              "        vertical-align: top;\n",
              "    }\n",
              "\n",
              "    .dataframe thead th {\n",
              "        text-align: right;\n",
              "    }\n",
              "</style>\n",
              "<table border=\"1\" class=\"dataframe\">\n",
              "  <thead>\n",
              "    <tr style=\"text-align: right;\">\n",
              "      <th></th>\n",
              "      <th>cust_id</th>\n",
              "      <th>year</th>\n",
              "      <th>state</th>\n",
              "      <th>date_issued</th>\n",
              "      <th>date_final</th>\n",
              "      <th>emp_duration</th>\n",
              "      <th>own_type</th>\n",
              "      <th>income_type</th>\n",
              "      <th>app_type</th>\n",
              "      <th>loan_purpose</th>\n",
              "      <th>interest_payments</th>\n",
              "      <th>grade</th>\n",
              "      <th>annual_pay</th>\n",
              "      <th>loan_amount</th>\n",
              "      <th>interest_rate</th>\n",
              "      <th>loan_duration</th>\n",
              "      <th>dti</th>\n",
              "      <th>total_pymnt</th>\n",
              "      <th>total_rec_prncp</th>\n",
              "      <th>recoveries</th>\n",
              "      <th>installment</th>\n",
              "      <th>is_default</th>\n",
              "    </tr>\n",
              "  </thead>\n",
              "  <tbody>\n",
              "    <tr>\n",
              "      <th>0</th>\n",
              "      <td>180675</td>\n",
              "      <td>2007</td>\n",
              "      <td>Andhra Pradesh</td>\n",
              "      <td>2007-01-12</td>\n",
              "      <td>2009-10-03</td>\n",
              "      <td>10.0</td>\n",
              "      <td>MORTGAGE</td>\n",
              "      <td>Low</td>\n",
              "      <td>INDIVIDUAL</td>\n",
              "      <td>debt_consolidation</td>\n",
              "      <td>Low</td>\n",
              "      <td>C</td>\n",
              "      <td>73000</td>\n",
              "      <td>25000</td>\n",
              "      <td>10.91</td>\n",
              "      <td>36 months</td>\n",
              "      <td>22.13</td>\n",
              "      <td>13650.38</td>\n",
              "      <td>8767.32</td>\n",
              "      <td>2207.65</td>\n",
              "      <td>817.41</td>\n",
              "      <td>True</td>\n",
              "    </tr>\n",
              "    <tr>\n",
              "      <th>1</th>\n",
              "      <td>85781</td>\n",
              "      <td>2007</td>\n",
              "      <td>Rajasthan</td>\n",
              "      <td>2007-01-06</td>\n",
              "      <td>2010-10-07</td>\n",
              "      <td>0.5</td>\n",
              "      <td>RENT</td>\n",
              "      <td>Low</td>\n",
              "      <td>INDIVIDUAL</td>\n",
              "      <td>other</td>\n",
              "      <td>Low</td>\n",
              "      <td>C</td>\n",
              "      <td>40000</td>\n",
              "      <td>1400</td>\n",
              "      <td>10.91</td>\n",
              "      <td>36 months</td>\n",
              "      <td>8.61</td>\n",
              "      <td>1663.04</td>\n",
              "      <td>1400.00</td>\n",
              "      <td>0.00</td>\n",
              "      <td>45.78</td>\n",
              "      <td>False</td>\n",
              "    </tr>\n",
              "    <tr>\n",
              "      <th>2</th>\n",
              "      <td>85675</td>\n",
              "      <td>2007</td>\n",
              "      <td>Manipur</td>\n",
              "      <td>2007-01-06</td>\n",
              "      <td>2010-10-06</td>\n",
              "      <td>10.0</td>\n",
              "      <td>RENT</td>\n",
              "      <td>Low</td>\n",
              "      <td>INDIVIDUAL</td>\n",
              "      <td>other</td>\n",
              "      <td>High</td>\n",
              "      <td>E</td>\n",
              "      <td>25000</td>\n",
              "      <td>1000</td>\n",
              "      <td>14.07</td>\n",
              "      <td>36 months</td>\n",
              "      <td>16.27</td>\n",
              "      <td>1231.38</td>\n",
              "      <td>1000.00</td>\n",
              "      <td>0.00</td>\n",
              "      <td>34.21</td>\n",
              "      <td>False</td>\n",
              "    </tr>\n",
              "    <tr>\n",
              "      <th>3</th>\n",
              "      <td>84918</td>\n",
              "      <td>2007</td>\n",
              "      <td>Andhra Pradesh</td>\n",
              "      <td>2007-01-09</td>\n",
              "      <td>2008-10-04</td>\n",
              "      <td>10.0</td>\n",
              "      <td>MORTGAGE</td>\n",
              "      <td>Low</td>\n",
              "      <td>INDIVIDUAL</td>\n",
              "      <td>other</td>\n",
              "      <td>Low</td>\n",
              "      <td>A</td>\n",
              "      <td>65000</td>\n",
              "      <td>5000</td>\n",
              "      <td>7.43</td>\n",
              "      <td>36 months</td>\n",
              "      <td>0.28</td>\n",
              "      <td>5200.44</td>\n",
              "      <td>5000.00</td>\n",
              "      <td>0.00</td>\n",
              "      <td>155.38</td>\n",
              "      <td>False</td>\n",
              "    </tr>\n",
              "    <tr>\n",
              "      <th>4</th>\n",
              "      <td>84670</td>\n",
              "      <td>2007</td>\n",
              "      <td>Arunachal Pradesh</td>\n",
              "      <td>2007-01-06</td>\n",
              "      <td>2009-10-08</td>\n",
              "      <td>10.0</td>\n",
              "      <td>MORTGAGE</td>\n",
              "      <td>High</td>\n",
              "      <td>INDIVIDUAL</td>\n",
              "      <td>other</td>\n",
              "      <td>Low</td>\n",
              "      <td>A</td>\n",
              "      <td>300000</td>\n",
              "      <td>5000</td>\n",
              "      <td>7.75</td>\n",
              "      <td>36 months</td>\n",
              "      <td>5.38</td>\n",
              "      <td>5565.65</td>\n",
              "      <td>5000.00</td>\n",
              "      <td>0.00</td>\n",
              "      <td>156.11</td>\n",
              "      <td>False</td>\n",
              "    </tr>\n",
              "  </tbody>\n",
              "</table>\n",
              "</div>"
            ],
            "text/plain": [
              "   cust_id  year              state date_issued date_final  emp_duration  \\\n",
              "0   180675  2007     Andhra Pradesh  2007-01-12 2009-10-03          10.0   \n",
              "1    85781  2007          Rajasthan  2007-01-06 2010-10-07           0.5   \n",
              "2    85675  2007            Manipur  2007-01-06 2010-10-06          10.0   \n",
              "3    84918  2007     Andhra Pradesh  2007-01-09 2008-10-04          10.0   \n",
              "4    84670  2007  Arunachal Pradesh  2007-01-06 2009-10-08          10.0   \n",
              "\n",
              "   own_type income_type    app_type        loan_purpose interest_payments  \\\n",
              "0  MORTGAGE         Low  INDIVIDUAL  debt_consolidation               Low   \n",
              "1      RENT         Low  INDIVIDUAL               other               Low   \n",
              "2      RENT         Low  INDIVIDUAL               other              High   \n",
              "3  MORTGAGE         Low  INDIVIDUAL               other               Low   \n",
              "4  MORTGAGE        High  INDIVIDUAL               other               Low   \n",
              "\n",
              "  grade  annual_pay  loan_amount  interest_rate loan_duration    dti  \\\n",
              "0     C       73000        25000          10.91     36 months  22.13   \n",
              "1     C       40000         1400          10.91     36 months   8.61   \n",
              "2     E       25000         1000          14.07     36 months  16.27   \n",
              "3     A       65000         5000           7.43     36 months   0.28   \n",
              "4     A      300000         5000           7.75     36 months   5.38   \n",
              "\n",
              "   total_pymnt  total_rec_prncp  recoveries  installment  is_default  \n",
              "0     13650.38          8767.32     2207.65       817.41        True  \n",
              "1      1663.04          1400.00        0.00        45.78       False  \n",
              "2      1231.38          1000.00        0.00        34.21       False  \n",
              "3      5200.44          5000.00        0.00       155.38       False  \n",
              "4      5565.65          5000.00        0.00       156.11       False  "
            ]
          },
          "metadata": {
            "tags": []
          },
          "execution_count": 69
        }
      ]
    },
    {
      "cell_type": "code",
      "metadata": {
        "id": "P9vj_QkvIins",
        "colab_type": "code",
        "colab": {
          "base_uri": "https://localhost:8080/",
          "height": 144
        },
        "outputId": "ef38d286-82ce-4d53-ecc8-8bd44ba8fdc1"
      },
      "source": [
        "type_frame=pd.DataFrame(data.groupby([\"state\",\"is_default\"])[\"is_default\"].count())\n",
        "type_frame.T"
      ],
      "execution_count": 70,
      "outputs": [
        {
          "output_type": "execute_result",
          "data": {
            "text/html": [
              "<div>\n",
              "<style scoped>\n",
              "    .dataframe tbody tr th:only-of-type {\n",
              "        vertical-align: middle;\n",
              "    }\n",
              "\n",
              "    .dataframe tbody tr th {\n",
              "        vertical-align: top;\n",
              "    }\n",
              "\n",
              "    .dataframe thead tr th {\n",
              "        text-align: left;\n",
              "    }\n",
              "</style>\n",
              "<table border=\"1\" class=\"dataframe\">\n",
              "  <thead>\n",
              "    <tr>\n",
              "      <th>state</th>\n",
              "      <th colspan=\"2\" halign=\"left\">Andhra Pradesh</th>\n",
              "      <th colspan=\"2\" halign=\"left\">Arunachal Pradesh</th>\n",
              "      <th colspan=\"2\" halign=\"left\">Assam</th>\n",
              "      <th colspan=\"2\" halign=\"left\">Bihar</th>\n",
              "      <th colspan=\"2\" halign=\"left\">Chhattisgarh</th>\n",
              "      <th colspan=\"2\" halign=\"left\">Goa</th>\n",
              "      <th colspan=\"2\" halign=\"left\">Gujarat</th>\n",
              "      <th colspan=\"2\" halign=\"left\">Haryana</th>\n",
              "      <th colspan=\"2\" halign=\"left\">Himachal Pradesh</th>\n",
              "      <th colspan=\"2\" halign=\"left\">Jharkhand</th>\n",
              "      <th colspan=\"2\" halign=\"left\">Karnataka</th>\n",
              "      <th colspan=\"2\" halign=\"left\">Kerala</th>\n",
              "      <th colspan=\"2\" halign=\"left\">Madhya Pradesh</th>\n",
              "      <th colspan=\"2\" halign=\"left\">Maharashtra</th>\n",
              "      <th colspan=\"2\" halign=\"left\">Manipur</th>\n",
              "      <th colspan=\"2\" halign=\"left\">Meghalaya</th>\n",
              "      <th colspan=\"2\" halign=\"left\">Mizoram</th>\n",
              "      <th colspan=\"2\" halign=\"left\">Nagaland</th>\n",
              "      <th colspan=\"2\" halign=\"left\">Odisha</th>\n",
              "      <th colspan=\"2\" halign=\"left\">Punjab</th>\n",
              "      <th colspan=\"2\" halign=\"left\">Rajasthan</th>\n",
              "      <th colspan=\"2\" halign=\"left\">Sikkim</th>\n",
              "      <th colspan=\"2\" halign=\"left\">Tamil Nadu</th>\n",
              "      <th colspan=\"2\" halign=\"left\">Telangana</th>\n",
              "      <th colspan=\"2\" halign=\"left\">Tripura</th>\n",
              "      <th colspan=\"2\" halign=\"left\">Uttar Pradesh</th>\n",
              "      <th colspan=\"2\" halign=\"left\">Uttarakhand</th>\n",
              "      <th colspan=\"2\" halign=\"left\">West Bengal</th>\n",
              "    </tr>\n",
              "    <tr>\n",
              "      <th>is_default</th>\n",
              "      <th>False</th>\n",
              "      <th>True</th>\n",
              "      <th>False</th>\n",
              "      <th>True</th>\n",
              "      <th>False</th>\n",
              "      <th>True</th>\n",
              "      <th>False</th>\n",
              "      <th>True</th>\n",
              "      <th>False</th>\n",
              "      <th>True</th>\n",
              "      <th>False</th>\n",
              "      <th>True</th>\n",
              "      <th>False</th>\n",
              "      <th>True</th>\n",
              "      <th>False</th>\n",
              "      <th>True</th>\n",
              "      <th>False</th>\n",
              "      <th>True</th>\n",
              "      <th>False</th>\n",
              "      <th>True</th>\n",
              "      <th>False</th>\n",
              "      <th>True</th>\n",
              "      <th>False</th>\n",
              "      <th>True</th>\n",
              "      <th>False</th>\n",
              "      <th>True</th>\n",
              "      <th>False</th>\n",
              "      <th>True</th>\n",
              "      <th>False</th>\n",
              "      <th>True</th>\n",
              "      <th>False</th>\n",
              "      <th>True</th>\n",
              "      <th>False</th>\n",
              "      <th>True</th>\n",
              "      <th>False</th>\n",
              "      <th>True</th>\n",
              "      <th>False</th>\n",
              "      <th>True</th>\n",
              "      <th>False</th>\n",
              "      <th>True</th>\n",
              "      <th>False</th>\n",
              "      <th>True</th>\n",
              "      <th>False</th>\n",
              "      <th>True</th>\n",
              "      <th>False</th>\n",
              "      <th>True</th>\n",
              "      <th>False</th>\n",
              "      <th>True</th>\n",
              "      <th>False</th>\n",
              "      <th>True</th>\n",
              "      <th>False</th>\n",
              "      <th>True</th>\n",
              "      <th>False</th>\n",
              "      <th>True</th>\n",
              "      <th>False</th>\n",
              "      <th>True</th>\n",
              "    </tr>\n",
              "  </thead>\n",
              "  <tbody>\n",
              "    <tr>\n",
              "      <th>is_default</th>\n",
              "      <td>29214</td>\n",
              "      <td>2464</td>\n",
              "      <td>29312</td>\n",
              "      <td>2381</td>\n",
              "      <td>29291</td>\n",
              "      <td>2488</td>\n",
              "      <td>29203</td>\n",
              "      <td>2364</td>\n",
              "      <td>29736</td>\n",
              "      <td>2468</td>\n",
              "      <td>29314</td>\n",
              "      <td>2465</td>\n",
              "      <td>29169</td>\n",
              "      <td>2357</td>\n",
              "      <td>29515</td>\n",
              "      <td>2474</td>\n",
              "      <td>29263</td>\n",
              "      <td>2460</td>\n",
              "      <td>29174</td>\n",
              "      <td>2370</td>\n",
              "      <td>29265</td>\n",
              "      <td>2344</td>\n",
              "      <td>29260</td>\n",
              "      <td>2416</td>\n",
              "      <td>29312</td>\n",
              "      <td>2435</td>\n",
              "      <td>29373</td>\n",
              "      <td>2351</td>\n",
              "      <td>29196</td>\n",
              "      <td>2400</td>\n",
              "      <td>28895</td>\n",
              "      <td>2380</td>\n",
              "      <td>29088</td>\n",
              "      <td>2439</td>\n",
              "      <td>29296</td>\n",
              "      <td>2399</td>\n",
              "      <td>29095</td>\n",
              "      <td>2486</td>\n",
              "      <td>29469</td>\n",
              "      <td>2376</td>\n",
              "      <td>29210</td>\n",
              "      <td>2453</td>\n",
              "      <td>29680</td>\n",
              "      <td>2444</td>\n",
              "      <td>29121</td>\n",
              "      <td>2391</td>\n",
              "      <td>29122</td>\n",
              "      <td>2451</td>\n",
              "      <td>29322</td>\n",
              "      <td>2337</td>\n",
              "      <td>29370</td>\n",
              "      <td>2370</td>\n",
              "      <td>29249</td>\n",
              "      <td>2278</td>\n",
              "      <td>29245</td>\n",
              "      <td>2342</td>\n",
              "    </tr>\n",
              "  </tbody>\n",
              "</table>\n",
              "</div>"
            ],
            "text/plain": [
              "state      Andhra Pradesh       Arunachal Pradesh        Assam        Bihar  \\\n",
              "is_default          False True              False True   False True   False   \n",
              "is_default          29214  2464             29312  2381  29291  2488  29203   \n",
              "\n",
              "state            Chhattisgarh          Goa       Gujarat       Haryana        \\\n",
              "is_default True         False True   False True    False True    False True    \n",
              "is_default  2364        29736  2468  29314  2465   29169  2357   29515  2474   \n",
              "\n",
              "state      Himachal Pradesh       Jharkhand       Karnataka       Kerala  \\\n",
              "is_default            False True      False True      False True   False   \n",
              "is_default            29263  2460     29174  2370     29265  2344  29260   \n",
              "\n",
              "state            Madhya Pradesh       Maharashtra       Manipur        \\\n",
              "is_default True           False True        False True    False True    \n",
              "is_default  2416          29312  2435       29373  2351   29196  2400   \n",
              "\n",
              "state      Meghalaya       Mizoram       Nagaland       Odisha       Punjab  \\\n",
              "is_default     False True    False True     False True   False True   False   \n",
              "is_default     28895  2380   29088  2439    29296  2399  29095  2486  29469   \n",
              "\n",
              "state            Rajasthan       Sikkim       Tamil Nadu       Telangana  \\\n",
              "is_default True      False True   False True       False True      False   \n",
              "is_default  2376     29210  2453  29680  2444      29121  2391     29122   \n",
              "\n",
              "state            Tripura       Uttar Pradesh       Uttarakhand        \\\n",
              "is_default True    False True          False True        False True    \n",
              "is_default  2451   29322  2337         29370  2370       29249  2278   \n",
              "\n",
              "state      West Bengal        \n",
              "is_default       False True   \n",
              "is_default       29245  2342  "
            ]
          },
          "metadata": {
            "tags": []
          },
          "execution_count": 70
        }
      ]
    },
    {
      "cell_type": "code",
      "metadata": {
        "id": "HNpkdjHrKYoO",
        "colab_type": "code",
        "colab": {
          "base_uri": "https://localhost:8080/",
          "height": 632
        },
        "outputId": "26826fb5-ec1c-4399-a378-155327ca086b"
      },
      "source": [
        "figure = plt.figure(figsize = [15, 8])\n",
        "\n",
        "sns.countplot(x = 'state',  data = data, hue = 'is_default', palette = ['coral', 'darkblue'])\n",
        "\n",
        "plt.yticks(range(0, 35000, 2000))\n",
        "plt.xlabel('State', size = 14)\n",
        "plt.xticks(rotation = 75, size = 14)\n",
        "plt.ylabel('Frequency', size = 14)\n",
        "plt.legend(labels = ['Not Default', 'Default'], loc = 'upper right')\n",
        "plt.title('Defaulter vs Non-Defaulter per State', y = 1, size = 16)\n",
        "plt.show()"
      ],
      "execution_count": 71,
      "outputs": [
        {
          "output_type": "display_data",
          "data": {
            "image/png": "[encoded data removed]",
            "text/plain": [
              "<Figure size 1080x576 with 1 Axes>"
            ]
          },
          "metadata": {
            "tags": [],
            "needs_background": "light"
          }
        }
      ]
    },
    {
      "cell_type": "markdown",
      "metadata": {
        "id": "XEFWeeQRMr8E",
        "colab_type": "text"
      },
      "source": [
        "**Observation:**\n",
        "\n",
        "**From the above visualization, we found that each state has almost equally default rate frequency distribution (~2500/state)**"
      ]
    },
    {
      "cell_type": "markdown",
      "metadata": {
        "id": "f1HBdUpyNKVu",
        "colab_type": "text"
      },
      "source": [
        "**Question 6: What is the distribution of loan default with respect to the loan duration?**"
      ]
    },
    {
      "cell_type": "code",
      "metadata": {
        "id": "fMv48XM7MTPY",
        "colab_type": "code",
        "colab": {
          "base_uri": "https://localhost:8080/",
          "height": 107
        },
        "outputId": "96be011a-5a57-4848-8c03-296779827e2c"
      },
      "source": [
        "loan_duration_frame = pd.DataFrame(data.groupby(by = ['loan_duration', 'is_default']).size(), columns = ['Count'])\n",
        "loan_duration_frame.transpose()"
      ],
      "execution_count": 72,
      "outputs": [
        {
          "output_type": "execute_result",
          "data": {
            "text/html": [
              "<div>\n",
              "<style scoped>\n",
              "    .dataframe tbody tr th:only-of-type {\n",
              "        vertical-align: middle;\n",
              "    }\n",
              "\n",
              "    .dataframe tbody tr th {\n",
              "        vertical-align: top;\n",
              "    }\n",
              "\n",
              "    .dataframe thead tr th {\n",
              "        text-align: left;\n",
              "    }\n",
              "</style>\n",
              "<table border=\"1\" class=\"dataframe\">\n",
              "  <thead>\n",
              "    <tr>\n",
              "      <th>loan_duration</th>\n",
              "      <th colspan=\"2\" halign=\"left\">36 months</th>\n",
              "      <th colspan=\"2\" halign=\"left\">60 months</th>\n",
              "    </tr>\n",
              "    <tr>\n",
              "      <th>is_default</th>\n",
              "      <th>False</th>\n",
              "      <th>True</th>\n",
              "      <th>False</th>\n",
              "      <th>True</th>\n",
              "    </tr>\n",
              "  </thead>\n",
              "  <tbody>\n",
              "    <tr>\n",
              "      <th>Count</th>\n",
              "      <td>578014</td>\n",
              "      <td>42889</td>\n",
              "      <td>241745</td>\n",
              "      <td>24494</td>\n",
              "    </tr>\n",
              "  </tbody>\n",
              "</table>\n",
              "</div>"
            ],
            "text/plain": [
              "loan_duration  36 months         60 months       \n",
              "is_default         False  True       False  True \n",
              "Count             578014  42889     241745  24494"
            ]
          },
          "metadata": {
            "tags": []
          },
          "execution_count": 72
        }
      ]
    },
    {
      "cell_type": "code",
      "metadata": {
        "id": "HHSb4jKGNVJE",
        "colab_type": "code",
        "colab": {
          "base_uri": "https://localhost:8080/",
          "height": 525
        },
        "outputId": "b54c07aa-52e8-4591-a6e4-5d4ca08eb104"
      },
      "source": [
        "figure = plt.figure(figsize = [15, 8])\n",
        "\n",
        "ax = sns.countplot(x = 'loan_duration',  data = data, hue = 'is_default', palette = ['cadetblue', 'coral'])\n",
        "\n",
        "total = data.shape[0]\n",
        "for p in ax.patches:\n",
        "  percentage = '{:.2f}%'.format(100*p.get_height()/total)\n",
        "  x = p.get_x() + p.get_width() / 3\n",
        "  y = p.get_y() + p.get_height()\n",
        "  ax.annotate(percentage, (x, y))\n",
        "\n",
        "plt.xlabel('Loan Duration', size = 14)\n",
        "plt.ylabel('Frequency', size = 14)\n",
        "plt.xticks(size = 14)\n",
        "plt.yticks(range(0, 600000, 20000), size = 14)\n",
        "plt.legend(labels = ['Not Default', 'Default'], loc = 'upper right')\n",
        "plt.title('Loan Duration vs Loan Default ', y = 1, size = 16)\n",
        "plt.show()"
      ],
      "execution_count": 73,
      "outputs": [
        {
          "output_type": "display_data",
          "data": {
            "image/png": "[encoded data removed]",
            "text/plain": [
              "<Figure size 1080x576 with 1 Axes>"
            ]
          },
          "metadata": {
            "tags": [],
            "needs_background": "light"
          }
        }
      ]
    },
    {
      "cell_type": "markdown",
      "metadata": {
        "id": "LRh-FBqtNny6",
        "colab_type": "text"
      },
      "source": [
        "**Observation:**\n",
        "\n",
        "**Customers with 36 months loan duration are found to be more defaulter than the customers with 60 months of loan duration**"
      ]
    },
    {
      "cell_type": "markdown",
      "metadata": {
        "id": "a-TlTQKrSU_P",
        "colab_type": "text"
      },
      "source": [
        "**Question 7: What is the frequency distribution of loan purpose with respect to loan default?**"
      ]
    },
    {
      "cell_type": "code",
      "metadata": {
        "id": "qNbHpzsdNdhW",
        "colab_type": "code",
        "colab": {
          "base_uri": "https://localhost:8080/",
          "height": 144
        },
        "outputId": "7fe66e04-61f2-45c8-af06-5ff82e81da76"
      },
      "source": [
        "data.head(2)"
      ],
      "execution_count": 74,
      "outputs": [
        {
          "output_type": "execute_result",
          "data": {
            "text/html": [
              "<div>\n",
              "<style scoped>\n",
              "    .dataframe tbody tr th:only-of-type {\n",
              "        vertical-align: middle;\n",
              "    }\n",
              "\n",
              "    .dataframe tbody tr th {\n",
              "        vertical-align: top;\n",
              "    }\n",
              "\n",
              "    .dataframe thead th {\n",
              "        text-align: right;\n",
              "    }\n",
              "</style>\n",
              "<table border=\"1\" class=\"dataframe\">\n",
              "  <thead>\n",
              "    <tr style=\"text-align: right;\">\n",
              "      <th></th>\n",
              "      <th>cust_id</th>\n",
              "      <th>year</th>\n",
              "      <th>state</th>\n",
              "      <th>date_issued</th>\n",
              "      <th>date_final</th>\n",
              "      <th>emp_duration</th>\n",
              "      <th>own_type</th>\n",
              "      <th>income_type</th>\n",
              "      <th>app_type</th>\n",
              "      <th>loan_purpose</th>\n",
              "      <th>interest_payments</th>\n",
              "      <th>grade</th>\n",
              "      <th>annual_pay</th>\n",
              "      <th>loan_amount</th>\n",
              "      <th>interest_rate</th>\n",
              "      <th>loan_duration</th>\n",
              "      <th>dti</th>\n",
              "      <th>total_pymnt</th>\n",
              "      <th>total_rec_prncp</th>\n",
              "      <th>recoveries</th>\n",
              "      <th>installment</th>\n",
              "      <th>is_default</th>\n",
              "    </tr>\n",
              "  </thead>\n",
              "  <tbody>\n",
              "    <tr>\n",
              "      <th>0</th>\n",
              "      <td>180675</td>\n",
              "      <td>2007</td>\n",
              "      <td>Andhra Pradesh</td>\n",
              "      <td>2007-01-12</td>\n",
              "      <td>2009-10-03</td>\n",
              "      <td>10.0</td>\n",
              "      <td>MORTGAGE</td>\n",
              "      <td>Low</td>\n",
              "      <td>INDIVIDUAL</td>\n",
              "      <td>debt_consolidation</td>\n",
              "      <td>Low</td>\n",
              "      <td>C</td>\n",
              "      <td>73000</td>\n",
              "      <td>25000</td>\n",
              "      <td>10.91</td>\n",
              "      <td>36 months</td>\n",
              "      <td>22.13</td>\n",
              "      <td>13650.38</td>\n",
              "      <td>8767.32</td>\n",
              "      <td>2207.65</td>\n",
              "      <td>817.41</td>\n",
              "      <td>True</td>\n",
              "    </tr>\n",
              "    <tr>\n",
              "      <th>1</th>\n",
              "      <td>85781</td>\n",
              "      <td>2007</td>\n",
              "      <td>Rajasthan</td>\n",
              "      <td>2007-01-06</td>\n",
              "      <td>2010-10-07</td>\n",
              "      <td>0.5</td>\n",
              "      <td>RENT</td>\n",
              "      <td>Low</td>\n",
              "      <td>INDIVIDUAL</td>\n",
              "      <td>other</td>\n",
              "      <td>Low</td>\n",
              "      <td>C</td>\n",
              "      <td>40000</td>\n",
              "      <td>1400</td>\n",
              "      <td>10.91</td>\n",
              "      <td>36 months</td>\n",
              "      <td>8.61</td>\n",
              "      <td>1663.04</td>\n",
              "      <td>1400.00</td>\n",
              "      <td>0.00</td>\n",
              "      <td>45.78</td>\n",
              "      <td>False</td>\n",
              "    </tr>\n",
              "  </tbody>\n",
              "</table>\n",
              "</div>"
            ],
            "text/plain": [
              "   cust_id  year           state date_issued date_final  emp_duration  \\\n",
              "0   180675  2007  Andhra Pradesh  2007-01-12 2009-10-03          10.0   \n",
              "1    85781  2007       Rajasthan  2007-01-06 2010-10-07           0.5   \n",
              "\n",
              "   own_type income_type    app_type        loan_purpose interest_payments  \\\n",
              "0  MORTGAGE         Low  INDIVIDUAL  debt_consolidation               Low   \n",
              "1      RENT         Low  INDIVIDUAL               other               Low   \n",
              "\n",
              "  grade  annual_pay  loan_amount  interest_rate loan_duration    dti  \\\n",
              "0     C       73000        25000          10.91     36 months  22.13   \n",
              "1     C       40000         1400          10.91     36 months   8.61   \n",
              "\n",
              "   total_pymnt  total_rec_prncp  recoveries  installment  is_default  \n",
              "0     13650.38          8767.32     2207.65       817.41        True  \n",
              "1      1663.04          1400.00        0.00        45.78       False  "
            ]
          },
          "metadata": {
            "tags": []
          },
          "execution_count": 74
        }
      ]
    },
    {
      "cell_type": "code",
      "metadata": {
        "id": "-NMzAk7aSiM3",
        "colab_type": "code",
        "colab": {
          "base_uri": "https://localhost:8080/",
          "height": 127
        },
        "outputId": "9ab7bf89-8e8a-4a60-baf2-8b3db286d70b"
      },
      "source": [
        "type_frame=pd.DataFrame(data.groupby([\"loan_purpose\",\"is_default\"])[\"is_default\"].count())\n",
        "type_frame.T"
      ],
      "execution_count": 75,
      "outputs": [
        {
          "output_type": "execute_result",
          "data": {
            "text/html": [
              "<div>\n",
              "<style scoped>\n",
              "    .dataframe tbody tr th:only-of-type {\n",
              "        vertical-align: middle;\n",
              "    }\n",
              "\n",
              "    .dataframe tbody tr th {\n",
              "        vertical-align: top;\n",
              "    }\n",
              "\n",
              "    .dataframe thead tr th {\n",
              "        text-align: left;\n",
              "    }\n",
              "</style>\n",
              "<table border=\"1\" class=\"dataframe\">\n",
              "  <thead>\n",
              "    <tr>\n",
              "      <th>loan_purpose</th>\n",
              "      <th colspan=\"2\" halign=\"left\">car</th>\n",
              "      <th colspan=\"2\" halign=\"left\">credit_card</th>\n",
              "      <th colspan=\"2\" halign=\"left\">debt_consolidation</th>\n",
              "      <th colspan=\"2\" halign=\"left\">educational</th>\n",
              "      <th colspan=\"2\" halign=\"left\">home_improvement</th>\n",
              "      <th colspan=\"2\" halign=\"left\">house</th>\n",
              "      <th colspan=\"2\" halign=\"left\">major_purchase</th>\n",
              "      <th colspan=\"2\" halign=\"left\">medical</th>\n",
              "      <th colspan=\"2\" halign=\"left\">moving</th>\n",
              "      <th colspan=\"2\" halign=\"left\">other</th>\n",
              "      <th colspan=\"2\" halign=\"left\">renewable_energy</th>\n",
              "      <th colspan=\"2\" halign=\"left\">small_business</th>\n",
              "      <th colspan=\"2\" halign=\"left\">vacation</th>\n",
              "      <th colspan=\"2\" halign=\"left\">wedding</th>\n",
              "    </tr>\n",
              "    <tr>\n",
              "      <th>is_default</th>\n",
              "      <th>False</th>\n",
              "      <th>True</th>\n",
              "      <th>False</th>\n",
              "      <th>True</th>\n",
              "      <th>False</th>\n",
              "      <th>True</th>\n",
              "      <th>False</th>\n",
              "      <th>True</th>\n",
              "      <th>False</th>\n",
              "      <th>True</th>\n",
              "      <th>False</th>\n",
              "      <th>True</th>\n",
              "      <th>False</th>\n",
              "      <th>True</th>\n",
              "      <th>False</th>\n",
              "      <th>True</th>\n",
              "      <th>False</th>\n",
              "      <th>True</th>\n",
              "      <th>False</th>\n",
              "      <th>True</th>\n",
              "      <th>False</th>\n",
              "      <th>True</th>\n",
              "      <th>False</th>\n",
              "      <th>True</th>\n",
              "      <th>False</th>\n",
              "      <th>True</th>\n",
              "      <th>False</th>\n",
              "      <th>True</th>\n",
              "    </tr>\n",
              "  </thead>\n",
              "  <tbody>\n",
              "    <tr>\n",
              "      <th>is_default</th>\n",
              "      <td>8265</td>\n",
              "      <td>595</td>\n",
              "      <td>194367</td>\n",
              "      <td>11743</td>\n",
              "      <td>482547</td>\n",
              "      <td>41589</td>\n",
              "      <td>331</td>\n",
              "      <td>87</td>\n",
              "      <td>48263</td>\n",
              "      <td>3551</td>\n",
              "      <td>3288</td>\n",
              "      <td>416</td>\n",
              "      <td>15975</td>\n",
              "      <td>1294</td>\n",
              "      <td>7731</td>\n",
              "      <td>804</td>\n",
              "      <td>4805</td>\n",
              "      <td>606</td>\n",
              "      <td>38708</td>\n",
              "      <td>4158</td>\n",
              "      <td>502</td>\n",
              "      <td>72</td>\n",
              "      <td>8586</td>\n",
              "      <td>1777</td>\n",
              "      <td>4334</td>\n",
              "      <td>402</td>\n",
              "      <td>2057</td>\n",
              "      <td>289</td>\n",
              "    </tr>\n",
              "  </tbody>\n",
              "</table>\n",
              "</div>"
            ],
            "text/plain": [
              "loan_purpose   car       credit_card        debt_consolidation         \\\n",
              "is_default   False True        False  True               False  True    \n",
              "is_default    8265   595      194367  11743             482547  41589   \n",
              "\n",
              "loan_purpose educational       home_improvement       house        \\\n",
              "is_default         False True             False True  False True    \n",
              "is_default           331    87            48263  3551  3288   416   \n",
              "\n",
              "loan_purpose major_purchase       medical       moving        other        \\\n",
              "is_default            False True    False True   False True   False True    \n",
              "is_default            15975  1294    7731   804   4805   606  38708  4158   \n",
              "\n",
              "loan_purpose renewable_energy       small_business       vacation        \\\n",
              "is_default              False True           False True     False True    \n",
              "is_default                502    72           8586  1777     4334   402   \n",
              "\n",
              "loan_purpose wedding        \n",
              "is_default     False True   \n",
              "is_default      2057   289  "
            ]
          },
          "metadata": {
            "tags": []
          },
          "execution_count": 75
        }
      ]
    },
    {
      "cell_type": "code",
      "metadata": {
        "id": "kV7blifrS_VW",
        "colab_type": "code",
        "colab": {
          "base_uri": "https://localhost:8080/",
          "height": 630
        },
        "outputId": "6e938b57-a035-4e02-b96f-a5f14b3e7d24"
      },
      "source": [
        "figure = plt.figure(figsize = [15, 8])\n",
        "sns.countplot(x = 'loan_purpose',  data = data, hue = 'is_default', palette = ['#95a5a6', '#9b59b6'])\n",
        "plt.xlabel('Loan Purpose', size = 14)\n",
        "plt.ylabel('Frequency', size = 14)\n",
        "plt.xticks(rotation = 65, size = 14)\n",
        "plt.yticks(ticks = range(0, 500000, 20000), size = 12)\n",
        "plt.legend(labels = ['Not Default', 'Default'], loc = 'upper right')\n",
        "plt.title('Loan Purpose vs Loan Default', y = 1, size = 16)\n",
        "plt.show()"
      ],
      "execution_count": 76,
      "outputs": [
        {
          "output_type": "display_data",
          "data": {
            "image/png": "[encoded data removed]",
            "text/plain": [
              "<Figure size 1080x576 with 1 Axes>"
            ]
          },
          "metadata": {
            "tags": [],
            "needs_background": "light"
          }
        }
      ]
    },
    {
      "cell_type": "markdown",
      "metadata": {
        "id": "cLerMJKBTPQ5",
        "colab_type": "text"
      },
      "source": [
        "**Observation:**\n",
        "\n",
        "**Customers with debt_consolidation are found to be more defaulter than any other reason of loan purpose.**"
      ]
    },
    {
      "cell_type": "markdown",
      "metadata": {
        "id": "4bkgC9s6TyLQ",
        "colab_type": "text"
      },
      "source": [
        "**Question 8: Which grade is mostly influenced by the is_default feature?**"
      ]
    },
    {
      "cell_type": "code",
      "metadata": {
        "id": "PxEos_BOTFtW",
        "colab_type": "code",
        "colab": {
          "base_uri": "https://localhost:8080/",
          "height": 107
        },
        "outputId": "06e399c2-2bbb-4623-eb32-d3dd7ca62ee2"
      },
      "source": [
        "type_frame=pd.DataFrame(data.groupby([\"grade\",\"is_default\"])[\"is_default\"].count())\n",
        "type_frame.T"
      ],
      "execution_count": 77,
      "outputs": [
        {
          "output_type": "execute_result",
          "data": {
            "text/html": [
              "<div>\n",
              "<style scoped>\n",
              "    .dataframe tbody tr th:only-of-type {\n",
              "        vertical-align: middle;\n",
              "    }\n",
              "\n",
              "    .dataframe tbody tr th {\n",
              "        vertical-align: top;\n",
              "    }\n",
              "\n",
              "    .dataframe thead tr th {\n",
              "        text-align: left;\n",
              "    }\n",
              "</style>\n",
              "<table border=\"1\" class=\"dataframe\">\n",
              "  <thead>\n",
              "    <tr>\n",
              "      <th>grade</th>\n",
              "      <th colspan=\"2\" halign=\"left\">A</th>\n",
              "      <th colspan=\"2\" halign=\"left\">B</th>\n",
              "      <th colspan=\"2\" halign=\"left\">C</th>\n",
              "      <th colspan=\"2\" halign=\"left\">D</th>\n",
              "      <th colspan=\"2\" halign=\"left\">E</th>\n",
              "      <th colspan=\"2\" halign=\"left\">F</th>\n",
              "      <th colspan=\"2\" halign=\"left\">G</th>\n",
              "    </tr>\n",
              "    <tr>\n",
              "      <th>is_default</th>\n",
              "      <th>False</th>\n",
              "      <th>True</th>\n",
              "      <th>False</th>\n",
              "      <th>True</th>\n",
              "      <th>False</th>\n",
              "      <th>True</th>\n",
              "      <th>False</th>\n",
              "      <th>True</th>\n",
              "      <th>False</th>\n",
              "      <th>True</th>\n",
              "      <th>False</th>\n",
              "      <th>True</th>\n",
              "      <th>False</th>\n",
              "      <th>True</th>\n",
              "    </tr>\n",
              "  </thead>\n",
              "  <tbody>\n",
              "    <tr>\n",
              "      <th>is_default</th>\n",
              "      <td>144505</td>\n",
              "      <td>3661</td>\n",
              "      <td>241029</td>\n",
              "      <td>13440</td>\n",
              "      <td>226758</td>\n",
              "      <td>19046</td>\n",
              "      <td>123651</td>\n",
              "      <td>15850</td>\n",
              "      <td>60947</td>\n",
              "      <td>9740</td>\n",
              "      <td>18654</td>\n",
              "      <td>4380</td>\n",
              "      <td>4215</td>\n",
              "      <td>1266</td>\n",
              "    </tr>\n",
              "  </tbody>\n",
              "</table>\n",
              "</div>"
            ],
            "text/plain": [
              "grade            A             B              C              D             E  \\\n",
              "is_default   False True    False  True    False  True    False  True   False   \n",
              "is_default  144505  3661  241029  13440  226758  19046  123651  15850  60947   \n",
              "\n",
              "grade                 F           G        \n",
              "is_default True   False True  False True   \n",
              "is_default  9740  18654  4380  4215  1266  "
            ]
          },
          "metadata": {
            "tags": []
          },
          "execution_count": 77
        }
      ]
    },
    {
      "cell_type": "code",
      "metadata": {
        "id": "CQ4v5JpHUJ_R",
        "colab_type": "code",
        "colab": {
          "base_uri": "https://localhost:8080/",
          "height": 544
        },
        "outputId": "029a1c5b-3fef-4f56-cba3-1bb7465cac5e"
      },
      "source": [
        "figure = plt.figure(figsize = [15, 8])\n",
        "\n",
        "ax = sns.countplot(x = 'grade',  data = data, hue = 'is_default', palette = ['#3498db', '#e74c3c'])\n",
        "\n",
        "total = data.shape[0]\n",
        "for p in ax.patches:\n",
        "  percentage = '{:.2f}%'.format(100*p.get_height()/total)\n",
        "  x = p.get_x() + p.get_width() / 8\n",
        "  y = p.get_y() + p.get_height()\n",
        "  ax.annotate(percentage, (x, y))\n",
        "  \n",
        "plt.xlabel('Grade', size = 14)\n",
        "plt.ylabel('Frequency', size = 14)\n",
        "plt.yticks(ticks = range(0, 260000, 20000))\n",
        "plt.legend(labels = ['Not Default', 'Default'], loc = 'upper right')\n",
        "plt.title('Frequency occurence of grade w.r.t. Loan Default', y = 1.05, size = 16)\n",
        "plt.show()"
      ],
      "execution_count": 78,
      "outputs": [
        {
          "output_type": "display_data",
          "data": {
            "image/png": "[encoded data removed]",
            "text/plain": [
              "<Figure size 1080x576 with 1 Axes>"
            ]
          },
          "metadata": {
            "tags": [],
            "needs_background": "light"
          }
        }
      ]
    },
    {
      "cell_type": "markdown",
      "metadata": {
        "id": "ofsZ6RTNUpLx",
        "colab_type": "text"
      },
      "source": [
        "**Observation:**\n",
        "\n",
        "**We can see that C grade is highly influenced followed by D then B and then all other in order.**"
      ]
    },
    {
      "cell_type": "markdown",
      "metadata": {
        "id": "ctPhRA9GVK_p",
        "colab_type": "text"
      },
      "source": [
        "**Now we will make a function to analyze the default rate with respect to some numerical features. We will analyze the outliers and perform capping over these outliers.**"
      ]
    },
    {
      "cell_type": "code",
      "metadata": {
        "id": "WD1wAt8MUj1Z",
        "colab_type": "code",
        "colab": {}
      },
      "source": [
        "def QuantileDistPlot(x, y, sup_title):\n",
        "  '''\n",
        "  A function to plot distribution of quantiles of features\n",
        "  x: categorical feature\n",
        "  y: Numerical feature\n",
        "  sup_title: sup_title\n",
        "  '''\n",
        "  figure = plt.figure(figsize = [15, 7])\n",
        "  plt.subplot(1, 2, 1)\n",
        "  sns.boxplot(y = data[x])\n",
        "  plt.xlabel('Overall', size = 14)\n",
        "  plt.ylabel('Interest Rate', size = 14)\n",
        "  plt.title('Aggregate View', size = 16)\n",
        "  plt.suptitle(t = \"Quantile Distribution of \" + sup_title + \" feature\", y = 1.03, size = 18)\n",
        "\n",
        "  plt.subplot(1, 2, 2)\n",
        "  ax = sns.boxplot(x = data[y], y = data[x])\n",
        "  ax.set_xticklabels(labels = ['No', 'Yes'])\n",
        "  plt.xlabel('Default', size = 14)\n",
        "  plt.ylabel('Interest Rate', size = 14)\n",
        "  plt.title('Segregate View', size = 16)\n",
        "  plt.tight_layout(pad = 2.0)\n",
        "  plt.show()"
      ],
      "execution_count": 0,
      "outputs": []
    },
    {
      "cell_type": "markdown",
      "metadata": {
        "id": "lSv6K8koWFW2",
        "colab_type": "text"
      },
      "source": [
        "**Question 9: What is the distribution of annual income with being default or not?**"
      ]
    },
    {
      "cell_type": "code",
      "metadata": {
        "id": "ox8ktzlGVyPy",
        "colab_type": "code",
        "colab": {
          "base_uri": "https://localhost:8080/",
          "height": 530
        },
        "outputId": "62877795-444d-4ff4-a379-9cb0865bbedb"
      },
      "source": [
        "QuantileDistPlot(x = 'annual_pay', y = 'is_default', sup_title = 'Annual Pay')"
      ],
      "execution_count": 81,
      "outputs": [
        {
          "output_type": "display_data",
          "data": {
            "image/png": "[encoded data removed]",
            "text/plain": [
              "<Figure size 1080x504 with 2 Axes>"
            ]
          },
          "metadata": {
            "tags": [],
            "needs_background": "light"
          }
        }
      ]
    },
    {
      "cell_type": "markdown",
      "metadata": {
        "id": "8vochj-ZWXwv",
        "colab_type": "text"
      },
      "source": [
        "Observation:\n",
        "\n",
        "As a result we saw so many values which are outliers.\n",
        "We will estimate the 99th percentile value and perform the capping over these outliers.\n",
        "Before making changes we should analyze the amount that is present at 99th percentile"
      ]
    },
    {
      "cell_type": "code",
      "metadata": {
        "id": "BmCALrMIWLHp",
        "colab_type": "code",
        "colab": {
          "base_uri": "https://localhost:8080/",
          "height": 34
        },
        "outputId": "f173151b-41c0-469d-dbc1-2a4aa2dea24e"
      },
      "source": [
        "print('Amount [at 99 percentile]:', data['annual_pay'].quantile(0.99))"
      ],
      "execution_count": 82,
      "outputs": [
        {
          "output_type": "stream",
          "text": [
            "Amount [at 99 percentile]: 250000.0\n"
          ],
          "name": "stdout"
        }
      ]
    },
    {
      "cell_type": "markdown",
      "metadata": {
        "id": "YY6AjiXkY3ad",
        "colab_type": "text"
      },
      "source": [
        "Next we need to identify that part of the data, that contains defaulter as well as non-defaulter greater than 99th percentile."
      ]
    },
    {
      "cell_type": "code",
      "metadata": {
        "id": "JQjLDx7VX2IF",
        "colab_type": "code",
        "colab": {
          "base_uri": "https://localhost:8080/",
          "height": 52
        },
        "outputId": "489bf96e-674c-47d7-c07c-235b9d7e636a"
      },
      "source": [
        "anual_pay_default=data[(data[\"is_default\"]==1)&(data[\"annual_pay\"]>data[\"annual_pay\"].quantile(0.99))]\n",
        "anual_pay_non_default=data[(data[\"is_default\"]==0)&(data[\"annual_pay\"]>data[\"annual_pay\"].quantile(0.99))]\n",
        "print(\"anual_pay_default:\",len(anual_pay_default))\n",
        "print(\"anual_pay_non_default:\",len(anual_pay_non_default))"
      ],
      "execution_count": 83,
      "outputs": [
        {
          "output_type": "stream",
          "text": [
            "anual_pay_default: 362\n",
            "anual_pay_non_default: 7604\n"
          ],
          "name": "stdout"
        }
      ]
    },
    {
      "cell_type": "markdown",
      "metadata": {
        "id": "yVDikiT6ahRA",
        "colab_type": "text"
      },
      "source": [
        "**We can also look at the average amount for the defaulter as well as non-defaulter.**"
      ]
    },
    {
      "cell_type": "code",
      "metadata": {
        "id": "Pa_BKNcHZygq",
        "colab_type": "code",
        "colab": {
          "base_uri": "https://localhost:8080/",
          "height": 478
        },
        "outputId": "274292e1-4326-422a-8518-529c0812ce95"
      },
      "source": [
        "print('The average annual income of customers [default]:', np.round(anual_pay_default.mean(), decimals = 2))\n",
        "print('The average annual income of customers [not default]:', np.round(anual_pay_non_default.mean(), decimals = 2))"
      ],
      "execution_count": 84,
      "outputs": [
        {
          "output_type": "stream",
          "text": [
            "The average annual income of customers [default]: cust_id            20647767.98\n",
            "year                   2013.28\n",
            "emp_duration              5.76\n",
            "annual_pay           428784.56\n",
            "loan_amount           26007.73\n",
            "interest_rate            15.54\n",
            "dti                       9.35\n",
            "total_pymnt           10814.83\n",
            "total_rec_prncp        6292.42\n",
            "recoveries             1020.13\n",
            "installment             813.20\n",
            "is_default                1.00\n",
            "dtype: float64\n",
            "The average annual income of customers [not default]: cust_id            36805250.77\n",
            "year                   2014.21\n",
            "emp_duration              6.41\n",
            "annual_pay           409951.45\n",
            "loan_amount           25427.03\n",
            "interest_rate            12.08\n",
            "dti                      10.08\n",
            "total_pymnt           12213.40\n",
            "total_rec_prncp        9627.75\n",
            "recoveries                0.00\n",
            "installment             761.61\n",
            "is_default                0.00\n",
            "dtype: float64\n"
          ],
          "name": "stdout"
        }
      ]
    },
    {
      "cell_type": "code",
      "metadata": {
        "id": "SRefpHENan5O",
        "colab_type": "code",
        "colab": {
          "base_uri": "https://localhost:8080/",
          "height": 530
        },
        "outputId": "c09d5115-156e-4120-dc97-d44c102ef608"
      },
      "source": [
        "outlier_index = data[data['annual_pay'] > data['annual_pay'].quantile(0.99)].index\n",
        "data.loc[outlier_index, 'annual_pay'] = data['annual_pay'].quantile(0.99)\n",
        "QuantileDistPlot(x = 'annual_pay', y = 'is_default', sup_title = 'Annual Pay')"
      ],
      "execution_count": 85,
      "outputs": [
        {
          "output_type": "display_data",
          "data": {
            "image/png": "[encoded data removed]",
            "text/plain": [
              "<Figure size 1080x504 with 2 Axes>"
            ]
          },
          "metadata": {
            "tags": [],
            "needs_background": "light"
          }
        }
      ]
    },
    {
      "cell_type": "markdown",
      "metadata": {
        "id": "6g_wx20VbfIT",
        "colab_type": "text"
      },
      "source": [
        "**Observation:\n",
        "\n",
        "From above we can see that the values are distributed outside the extremes.\n",
        "We will handle this spread by applying standardization on data when we will prepare data before feeding to the model.**"
      ]
    },
    {
      "cell_type": "markdown",
      "metadata": {
        "id": "Lq57LtCqbj9t",
        "colab_type": "text"
      },
      "source": [
        "**Question 10: What is the distribution of interest rate with being default or not?**"
      ]
    },
    {
      "cell_type": "code",
      "metadata": {
        "id": "43NXW9eObSv-",
        "colab_type": "code",
        "colab": {
          "base_uri": "https://localhost:8080/",
          "height": 530
        },
        "outputId": "d05d49a6-c03f-4650-cfd3-6d6cb29ff90f"
      },
      "source": [
        "QuantileDistPlot(x = 'interest_rate', y = 'is_default', sup_title = 'Interest Rate')"
      ],
      "execution_count": 86,
      "outputs": [
        {
          "output_type": "display_data",
          "data": {
            "image/png": "[encoded data removed]",
            "text/plain": [
              "<Figure size 1080x504 with 2 Axes>"
            ]
          },
          "metadata": {
            "tags": [],
            "needs_background": "light"
          }
        }
      ]
    },
    {
      "cell_type": "markdown",
      "metadata": {
        "id": "cBNhTJ79eOXI",
        "colab_type": "text"
      },
      "source": [
        "Observation:\n",
        "\n",
        "We can see some outlier. We can perform capping here.\n",
        "We shall see the values greater than 99th precentile.\n",
        "Lets' get the value of interest rate at 99th percentile and replace the outlied values with 99th percentile value.\n",
        "Before making changes we should analyze the interest rate that is present at 99th percentile."
      ]
    },
    {
      "cell_type": "code",
      "metadata": {
        "id": "p835leeHbsV4",
        "colab_type": "code",
        "colab": {
          "base_uri": "https://localhost:8080/",
          "height": 34
        },
        "outputId": "2b89456e-699e-4d5f-99bf-18ed2957daee"
      },
      "source": [
        "print('Interest Rate [at 99 percentile]:', data['interest_rate'].quantile(0.99))"
      ],
      "execution_count": 87,
      "outputs": [
        {
          "output_type": "stream",
          "text": [
            "Interest Rate [at 99 percentile]: 24.99\n"
          ],
          "name": "stdout"
        }
      ]
    },
    {
      "cell_type": "code",
      "metadata": {
        "id": "4Bs3sIfIebt-",
        "colab_type": "code",
        "colab": {
          "base_uri": "https://localhost:8080/",
          "height": 52
        },
        "outputId": "b4440b4d-30cd-4998-c96b-331aec6a3845"
      },
      "source": [
        "interest_rate_default = data[(data['is_default'] == 1) & (data['interest_rate'] > data['interest_rate'].quantile(0.99))]['interest_rate']\n",
        "interest_rate_notdefault = data[(data['is_default'] == 0) & (data['interest_rate'] > data['interest_rate'].quantile(0.99))]['interest_rate']\n",
        "\n",
        "print('Customers Frequency [default]:', len(interest_rate_default))\n",
        "print('Customers Frequency [not default]:', len(interest_rate_notdefault))"
      ],
      "execution_count": 88,
      "outputs": [
        {
          "output_type": "stream",
          "text": [
            "Customers Frequency [default]: 1303\n",
            "Customers Frequency [not default]: 5190\n"
          ],
          "name": "stdout"
        }
      ]
    },
    {
      "cell_type": "code",
      "metadata": {
        "id": "ZA8OxZMuefNl",
        "colab_type": "code",
        "colab": {
          "base_uri": "https://localhost:8080/",
          "height": 52
        },
        "outputId": "0293e0c6-e3f8-47ca-c068-0cbf83b372f3"
      },
      "source": [
        "print('The average interest rate [default]:', np.round(interest_rate_default.mean(), decimals = 2))\n",
        "print('The average interest rate [not default]:', np.round(interest_rate_notdefault.mean(), decimals = 2))"
      ],
      "execution_count": 89,
      "outputs": [
        {
          "output_type": "stream",
          "text": [
            "The average interest rate [default]: 25.93\n",
            "The average interest rate [not default]: 26.17\n"
          ],
          "name": "stdout"
        }
      ]
    },
    {
      "cell_type": "code",
      "metadata": {
        "id": "s0cqKor0ekxf",
        "colab_type": "code",
        "colab": {
          "base_uri": "https://localhost:8080/",
          "height": 530
        },
        "outputId": "d52c213d-eb1a-432a-a93e-ec95488a7f73"
      },
      "source": [
        "# Performing capping and analyzing again\n",
        "outlier_index = data[data['interest_rate'] > data['interest_rate'].quantile(0.99)].index\n",
        "data.loc[outlier_index, 'interest_rate'] = data['interest_rate'].quantile(0.99)\n",
        "QuantileDistPlot(x = 'interest_rate', y = 'is_default', sup_title = 'Interest Rate')"
      ],
      "execution_count": 90,
      "outputs": [
        {
          "output_type": "display_data",
          "data": {
            "image/png": "[encoded data removed]",
            "text/plain": [
              "<Figure size 1080x504 with 2 Axes>"
            ]
          },
          "metadata": {
            "tags": [],
            "needs_background": "light"
          }
        }
      ]
    },
    {
      "cell_type": "markdown",
      "metadata": {
        "id": "WQytaU6HgdBi",
        "colab_type": "text"
      },
      "source": [
        "**Question 11: What is the distribution of Dept to Income Ratio (dti) with being default or not?**"
      ]
    },
    {
      "cell_type": "code",
      "metadata": {
        "id": "RYoGdhQNf26R",
        "colab_type": "code",
        "colab": {
          "base_uri": "https://localhost:8080/",
          "height": 144
        },
        "outputId": "fcf32ee8-5650-494e-fb11-087c045481f2"
      },
      "source": [
        "data.head(2)"
      ],
      "execution_count": 91,
      "outputs": [
        {
          "output_type": "execute_result",
          "data": {
            "text/html": [
              "<div>\n",
              "<style scoped>\n",
              "    .dataframe tbody tr th:only-of-type {\n",
              "        vertical-align: middle;\n",
              "    }\n",
              "\n",
              "    .dataframe tbody tr th {\n",
              "        vertical-align: top;\n",
              "    }\n",
              "\n",
              "    .dataframe thead th {\n",
              "        text-align: right;\n",
              "    }\n",
              "</style>\n",
              "<table border=\"1\" class=\"dataframe\">\n",
              "  <thead>\n",
              "    <tr style=\"text-align: right;\">\n",
              "      <th></th>\n",
              "      <th>cust_id</th>\n",
              "      <th>year</th>\n",
              "      <th>state</th>\n",
              "      <th>date_issued</th>\n",
              "      <th>date_final</th>\n",
              "      <th>emp_duration</th>\n",
              "      <th>own_type</th>\n",
              "      <th>income_type</th>\n",
              "      <th>app_type</th>\n",
              "      <th>loan_purpose</th>\n",
              "      <th>interest_payments</th>\n",
              "      <th>grade</th>\n",
              "      <th>annual_pay</th>\n",
              "      <th>loan_amount</th>\n",
              "      <th>interest_rate</th>\n",
              "      <th>loan_duration</th>\n",
              "      <th>dti</th>\n",
              "      <th>total_pymnt</th>\n",
              "      <th>total_rec_prncp</th>\n",
              "      <th>recoveries</th>\n",
              "      <th>installment</th>\n",
              "      <th>is_default</th>\n",
              "    </tr>\n",
              "  </thead>\n",
              "  <tbody>\n",
              "    <tr>\n",
              "      <th>0</th>\n",
              "      <td>180675</td>\n",
              "      <td>2007</td>\n",
              "      <td>Andhra Pradesh</td>\n",
              "      <td>2007-01-12</td>\n",
              "      <td>2009-10-03</td>\n",
              "      <td>10.0</td>\n",
              "      <td>MORTGAGE</td>\n",
              "      <td>Low</td>\n",
              "      <td>INDIVIDUAL</td>\n",
              "      <td>debt_consolidation</td>\n",
              "      <td>Low</td>\n",
              "      <td>C</td>\n",
              "      <td>73000.0</td>\n",
              "      <td>25000</td>\n",
              "      <td>10.91</td>\n",
              "      <td>36 months</td>\n",
              "      <td>22.13</td>\n",
              "      <td>13650.38</td>\n",
              "      <td>8767.32</td>\n",
              "      <td>2207.65</td>\n",
              "      <td>817.41</td>\n",
              "      <td>True</td>\n",
              "    </tr>\n",
              "    <tr>\n",
              "      <th>1</th>\n",
              "      <td>85781</td>\n",
              "      <td>2007</td>\n",
              "      <td>Rajasthan</td>\n",
              "      <td>2007-01-06</td>\n",
              "      <td>2010-10-07</td>\n",
              "      <td>0.5</td>\n",
              "      <td>RENT</td>\n",
              "      <td>Low</td>\n",
              "      <td>INDIVIDUAL</td>\n",
              "      <td>other</td>\n",
              "      <td>Low</td>\n",
              "      <td>C</td>\n",
              "      <td>40000.0</td>\n",
              "      <td>1400</td>\n",
              "      <td>10.91</td>\n",
              "      <td>36 months</td>\n",
              "      <td>8.61</td>\n",
              "      <td>1663.04</td>\n",
              "      <td>1400.00</td>\n",
              "      <td>0.00</td>\n",
              "      <td>45.78</td>\n",
              "      <td>False</td>\n",
              "    </tr>\n",
              "  </tbody>\n",
              "</table>\n",
              "</div>"
            ],
            "text/plain": [
              "   cust_id  year           state date_issued date_final  emp_duration  \\\n",
              "0   180675  2007  Andhra Pradesh  2007-01-12 2009-10-03          10.0   \n",
              "1    85781  2007       Rajasthan  2007-01-06 2010-10-07           0.5   \n",
              "\n",
              "   own_type income_type    app_type        loan_purpose interest_payments  \\\n",
              "0  MORTGAGE         Low  INDIVIDUAL  debt_consolidation               Low   \n",
              "1      RENT         Low  INDIVIDUAL               other               Low   \n",
              "\n",
              "  grade  annual_pay  loan_amount  interest_rate loan_duration    dti  \\\n",
              "0     C     73000.0        25000          10.91     36 months  22.13   \n",
              "1     C     40000.0         1400          10.91     36 months   8.61   \n",
              "\n",
              "   total_pymnt  total_rec_prncp  recoveries  installment  is_default  \n",
              "0     13650.38          8767.32     2207.65       817.41        True  \n",
              "1      1663.04          1400.00        0.00        45.78       False  "
            ]
          },
          "metadata": {
            "tags": []
          },
          "execution_count": 91
        }
      ]
    },
    {
      "cell_type": "code",
      "metadata": {
        "id": "-lOcshb0gnh2",
        "colab_type": "code",
        "colab": {
          "base_uri": "https://localhost:8080/",
          "height": 530
        },
        "outputId": "e06ff24a-b7e4-403c-acbf-4bdc10c897fc"
      },
      "source": [
        "QuantileDistPlot(x = 'dti', y = 'is_default', sup_title = 'Debt-to-Income')"
      ],
      "execution_count": 92,
      "outputs": [
        {
          "output_type": "display_data",
          "data": {
            "image/png": "[encoded data removed]",
            "text/plain": [
              "<Figure size 1080x504 with 2 Axes>"
            ]
          },
          "metadata": {
            "tags": [],
            "needs_background": "light"
          }
        }
      ]
    },
    {
      "cell_type": "code",
      "metadata": {
        "id": "ylGXFOpogu13",
        "colab_type": "code",
        "colab": {
          "base_uri": "https://localhost:8080/",
          "height": 530
        },
        "outputId": "4312b029-adb8-4733-d44b-f9732eb80c00"
      },
      "source": [
        "# Performing capping and analyzing again\n",
        "outlier_index = data[data['dti'] > data['dti'].quantile(0.99)].index\n",
        "data.loc[outlier_index, 'dti'] = data['dti'].quantile(0.99)\n",
        "QuantileDistPlot(x = 'dti', y = 'is_default', sup_title = 'Debt-to-Income')"
      ],
      "execution_count": 93,
      "outputs": [
        {
          "output_type": "display_data",
          "data": {
            "image/png": "[encoded data removed]",
            "text/plain": [
              "<Figure size 1080x504 with 2 Axes>"
            ]
          },
          "metadata": {
            "tags": [],
            "needs_background": "light"
          }
        }
      ]
    },
    {
      "cell_type": "markdown",
      "metadata": {
        "id": "VmyJAYI7h04i",
        "colab_type": "text"
      },
      "source": [
        "**Preprocessing**"
      ]
    },
    {
      "cell_type": "code",
      "metadata": {
        "id": "alk9XmUzhckR",
        "colab_type": "code",
        "colab": {
          "base_uri": "https://localhost:8080/",
          "height": 285
        },
        "outputId": "fbd956b2-5b60-44db-9f6c-2f380b60d3d1"
      },
      "source": [
        "data.drop(labels = ['cust_id', 'date_issued', 'date_final'], axis = 1, inplace = True)\n",
        "print(data.shape)\n",
        "data.head()"
      ],
      "execution_count": 94,
      "outputs": [
        {
          "output_type": "stream",
          "text": [
            "(887142, 19)\n"
          ],
          "name": "stdout"
        },
        {
          "output_type": "execute_result",
          "data": {
            "text/html": [
              "<div>\n",
              "<style scoped>\n",
              "    .dataframe tbody tr th:only-of-type {\n",
              "        vertical-align: middle;\n",
              "    }\n",
              "\n",
              "    .dataframe tbody tr th {\n",
              "        vertical-align: top;\n",
              "    }\n",
              "\n",
              "    .dataframe thead th {\n",
              "        text-align: right;\n",
              "    }\n",
              "</style>\n",
              "<table border=\"1\" class=\"dataframe\">\n",
              "  <thead>\n",
              "    <tr style=\"text-align: right;\">\n",
              "      <th></th>\n",
              "      <th>year</th>\n",
              "      <th>state</th>\n",
              "      <th>emp_duration</th>\n",
              "      <th>own_type</th>\n",
              "      <th>income_type</th>\n",
              "      <th>app_type</th>\n",
              "      <th>loan_purpose</th>\n",
              "      <th>interest_payments</th>\n",
              "      <th>grade</th>\n",
              "      <th>annual_pay</th>\n",
              "      <th>loan_amount</th>\n",
              "      <th>interest_rate</th>\n",
              "      <th>loan_duration</th>\n",
              "      <th>dti</th>\n",
              "      <th>total_pymnt</th>\n",
              "      <th>total_rec_prncp</th>\n",
              "      <th>recoveries</th>\n",
              "      <th>installment</th>\n",
              "      <th>is_default</th>\n",
              "    </tr>\n",
              "  </thead>\n",
              "  <tbody>\n",
              "    <tr>\n",
              "      <th>0</th>\n",
              "      <td>2007</td>\n",
              "      <td>Andhra Pradesh</td>\n",
              "      <td>10.0</td>\n",
              "      <td>MORTGAGE</td>\n",
              "      <td>Low</td>\n",
              "      <td>INDIVIDUAL</td>\n",
              "      <td>debt_consolidation</td>\n",
              "      <td>Low</td>\n",
              "      <td>C</td>\n",
              "      <td>73000.0</td>\n",
              "      <td>25000</td>\n",
              "      <td>10.91</td>\n",
              "      <td>36 months</td>\n",
              "      <td>22.13</td>\n",
              "      <td>13650.38</td>\n",
              "      <td>8767.32</td>\n",
              "      <td>2207.65</td>\n",
              "      <td>817.41</td>\n",
              "      <td>True</td>\n",
              "    </tr>\n",
              "    <tr>\n",
              "      <th>1</th>\n",
              "      <td>2007</td>\n",
              "      <td>Rajasthan</td>\n",
              "      <td>0.5</td>\n",
              "      <td>RENT</td>\n",
              "      <td>Low</td>\n",
              "      <td>INDIVIDUAL</td>\n",
              "      <td>other</td>\n",
              "      <td>Low</td>\n",
              "      <td>C</td>\n",
              "      <td>40000.0</td>\n",
              "      <td>1400</td>\n",
              "      <td>10.91</td>\n",
              "      <td>36 months</td>\n",
              "      <td>8.61</td>\n",
              "      <td>1663.04</td>\n",
              "      <td>1400.00</td>\n",
              "      <td>0.00</td>\n",
              "      <td>45.78</td>\n",
              "      <td>False</td>\n",
              "    </tr>\n",
              "    <tr>\n",
              "      <th>2</th>\n",
              "      <td>2007</td>\n",
              "      <td>Manipur</td>\n",
              "      <td>10.0</td>\n",
              "      <td>RENT</td>\n",
              "      <td>Low</td>\n",
              "      <td>INDIVIDUAL</td>\n",
              "      <td>other</td>\n",
              "      <td>High</td>\n",
              "      <td>E</td>\n",
              "      <td>25000.0</td>\n",
              "      <td>1000</td>\n",
              "      <td>14.07</td>\n",
              "      <td>36 months</td>\n",
              "      <td>16.27</td>\n",
              "      <td>1231.38</td>\n",
              "      <td>1000.00</td>\n",
              "      <td>0.00</td>\n",
              "      <td>34.21</td>\n",
              "      <td>False</td>\n",
              "    </tr>\n",
              "    <tr>\n",
              "      <th>3</th>\n",
              "      <td>2007</td>\n",
              "      <td>Andhra Pradesh</td>\n",
              "      <td>10.0</td>\n",
              "      <td>MORTGAGE</td>\n",
              "      <td>Low</td>\n",
              "      <td>INDIVIDUAL</td>\n",
              "      <td>other</td>\n",
              "      <td>Low</td>\n",
              "      <td>A</td>\n",
              "      <td>65000.0</td>\n",
              "      <td>5000</td>\n",
              "      <td>7.43</td>\n",
              "      <td>36 months</td>\n",
              "      <td>0.28</td>\n",
              "      <td>5200.44</td>\n",
              "      <td>5000.00</td>\n",
              "      <td>0.00</td>\n",
              "      <td>155.38</td>\n",
              "      <td>False</td>\n",
              "    </tr>\n",
              "    <tr>\n",
              "      <th>4</th>\n",
              "      <td>2007</td>\n",
              "      <td>Arunachal Pradesh</td>\n",
              "      <td>10.0</td>\n",
              "      <td>MORTGAGE</td>\n",
              "      <td>High</td>\n",
              "      <td>INDIVIDUAL</td>\n",
              "      <td>other</td>\n",
              "      <td>Low</td>\n",
              "      <td>A</td>\n",
              "      <td>250000.0</td>\n",
              "      <td>5000</td>\n",
              "      <td>7.75</td>\n",
              "      <td>36 months</td>\n",
              "      <td>5.38</td>\n",
              "      <td>5565.65</td>\n",
              "      <td>5000.00</td>\n",
              "      <td>0.00</td>\n",
              "      <td>156.11</td>\n",
              "      <td>False</td>\n",
              "    </tr>\n",
              "  </tbody>\n",
              "</table>\n",
              "</div>"
            ],
            "text/plain": [
              "   year              state  emp_duration  own_type income_type    app_type  \\\n",
              "0  2007     Andhra Pradesh          10.0  MORTGAGE         Low  INDIVIDUAL   \n",
              "1  2007          Rajasthan           0.5      RENT         Low  INDIVIDUAL   \n",
              "2  2007            Manipur          10.0      RENT         Low  INDIVIDUAL   \n",
              "3  2007     Andhra Pradesh          10.0  MORTGAGE         Low  INDIVIDUAL   \n",
              "4  2007  Arunachal Pradesh          10.0  MORTGAGE        High  INDIVIDUAL   \n",
              "\n",
              "         loan_purpose interest_payments grade  annual_pay  loan_amount  \\\n",
              "0  debt_consolidation               Low     C     73000.0        25000   \n",
              "1               other               Low     C     40000.0         1400   \n",
              "2               other              High     E     25000.0         1000   \n",
              "3               other               Low     A     65000.0         5000   \n",
              "4               other               Low     A    250000.0         5000   \n",
              "\n",
              "   interest_rate loan_duration    dti  total_pymnt  total_rec_prncp  \\\n",
              "0          10.91     36 months  22.13     13650.38          8767.32   \n",
              "1          10.91     36 months   8.61      1663.04          1400.00   \n",
              "2          14.07     36 months  16.27      1231.38          1000.00   \n",
              "3           7.43     36 months   0.28      5200.44          5000.00   \n",
              "4           7.75     36 months   5.38      5565.65          5000.00   \n",
              "\n",
              "   recoveries  installment  is_default  \n",
              "0     2207.65       817.41        True  \n",
              "1        0.00        45.78       False  \n",
              "2        0.00        34.21       False  \n",
              "3        0.00       155.38       False  \n",
              "4        0.00       156.11       False  "
            ]
          },
          "metadata": {
            "tags": []
          },
          "execution_count": 94
        }
      ]
    },
    {
      "cell_type": "markdown",
      "metadata": {
        "id": "AaJlbk-0jXIJ",
        "colab_type": "text"
      },
      "source": [
        "**Handling Categorical Features:\n",
        "We can perform label encoding on year, income_type, app_type, interest_payments, grade, loan_duration as they are ordered features & one hot encoding on own_type, loan_purpose as they are unordered in nature. But state is unordered, if performed label encoding, machine will make a difference and if we performed dummification, there will be too many features. Instead we can drop it.**"
      ]
    },
    {
      "cell_type": "code",
      "metadata": {
        "id": "s8vj3G-gh4kD",
        "colab_type": "code",
        "colab": {
          "base_uri": "https://localhost:8080/",
          "height": 52
        },
        "outputId": "a2dd8665-5c7d-40d8-aa05-9037be7e3929"
      },
      "source": [
        "data.drop(labels = ['state'], axis = 1, inplace = True)\n",
        "print(data.shape)\n",
        "print('Drop Success!')"
      ],
      "execution_count": 95,
      "outputs": [
        {
          "output_type": "stream",
          "text": [
            "(887142, 18)\n",
            "Drop Success!\n"
          ],
          "name": "stdout"
        }
      ]
    },
    {
      "cell_type": "markdown",
      "metadata": {
        "id": "kzlwlNUHjojA",
        "colab_type": "text"
      },
      "source": [
        "**Performing Label Encoding**"
      ]
    },
    {
      "cell_type": "code",
      "metadata": {
        "id": "aRReWy6JjjKz",
        "colab_type": "code",
        "colab": {
          "base_uri": "https://localhost:8080/",
          "height": 52
        },
        "outputId": "c33a2bf9-4bb5-46f4-fcf2-b907d9e636e2"
      },
      "source": [
        "ordered_labels = ['year', 'income_type', 'app_type', 'interest_payments', 'grade', 'loan_duration']\n",
        "for i in ordered_labels:\n",
        "  if data[i].dtype==\"object\":\n",
        "    data[i]=LabelEncoder().fit_transform(data[i])\n",
        "print(\"sucess\")\n",
        "print(data.shape)"
      ],
      "execution_count": 96,
      "outputs": [
        {
          "output_type": "stream",
          "text": [
            "sucess\n",
            "(887142, 18)\n"
          ],
          "name": "stdout"
        }
      ]
    },
    {
      "cell_type": "code",
      "metadata": {
        "id": "RwbapLfyknG6",
        "colab_type": "code",
        "colab": {
          "base_uri": "https://localhost:8080/",
          "height": 235
        },
        "outputId": "05e40b88-6456-4592-f3e0-ff33847b9917"
      },
      "source": [
        "data = pd.get_dummies(data = data, columns = ['own_type', 'loan_purpose'])\n",
        "print('Data Shape:', data.shape)\n",
        "data.head()"
      ],
      "execution_count": 97,
      "outputs": [
        {
          "output_type": "stream",
          "text": [
            "Data Shape: (887142, 33)\n"
          ],
          "name": "stdout"
        },
        {
          "output_type": "execute_result",
          "data": {
            "text/html": [
              "<div>\n",
              "<style scoped>\n",
              "    .dataframe tbody tr th:only-of-type {\n",
              "        vertical-align: middle;\n",
              "    }\n",
              "\n",
              "    .dataframe tbody tr th {\n",
              "        vertical-align: top;\n",
              "    }\n",
              "\n",
              "    .dataframe thead th {\n",
              "        text-align: right;\n",
              "    }\n",
              "</style>\n",
              "<table border=\"1\" class=\"dataframe\">\n",
              "  <thead>\n",
              "    <tr style=\"text-align: right;\">\n",
              "      <th></th>\n",
              "      <th>year</th>\n",
              "      <th>emp_duration</th>\n",
              "      <th>income_type</th>\n",
              "      <th>app_type</th>\n",
              "      <th>interest_payments</th>\n",
              "      <th>grade</th>\n",
              "      <th>annual_pay</th>\n",
              "      <th>loan_amount</th>\n",
              "      <th>interest_rate</th>\n",
              "      <th>loan_duration</th>\n",
              "      <th>dti</th>\n",
              "      <th>total_pymnt</th>\n",
              "      <th>total_rec_prncp</th>\n",
              "      <th>recoveries</th>\n",
              "      <th>installment</th>\n",
              "      <th>is_default</th>\n",
              "      <th>own_type_MORTGAGE</th>\n",
              "      <th>own_type_OWN</th>\n",
              "      <th>own_type_RENT</th>\n",
              "      <th>loan_purpose_car</th>\n",
              "      <th>loan_purpose_credit_card</th>\n",
              "      <th>loan_purpose_debt_consolidation</th>\n",
              "      <th>loan_purpose_educational</th>\n",
              "      <th>loan_purpose_home_improvement</th>\n",
              "      <th>loan_purpose_house</th>\n",
              "      <th>loan_purpose_major_purchase</th>\n",
              "      <th>loan_purpose_medical</th>\n",
              "      <th>loan_purpose_moving</th>\n",
              "      <th>loan_purpose_other</th>\n",
              "      <th>loan_purpose_renewable_energy</th>\n",
              "      <th>loan_purpose_small_business</th>\n",
              "      <th>loan_purpose_vacation</th>\n",
              "      <th>loan_purpose_wedding</th>\n",
              "    </tr>\n",
              "  </thead>\n",
              "  <tbody>\n",
              "    <tr>\n",
              "      <th>0</th>\n",
              "      <td>2007</td>\n",
              "      <td>10.0</td>\n",
              "      <td>1</td>\n",
              "      <td>0</td>\n",
              "      <td>1</td>\n",
              "      <td>2</td>\n",
              "      <td>73000.0</td>\n",
              "      <td>25000</td>\n",
              "      <td>10.91</td>\n",
              "      <td>0</td>\n",
              "      <td>22.13</td>\n",
              "      <td>13650.38</td>\n",
              "      <td>8767.32</td>\n",
              "      <td>2207.65</td>\n",
              "      <td>817.41</td>\n",
              "      <td>True</td>\n",
              "      <td>1</td>\n",
              "      <td>0</td>\n",
              "      <td>0</td>\n",
              "      <td>0</td>\n",
              "      <td>0</td>\n",
              "      <td>1</td>\n",
              "      <td>0</td>\n",
              "      <td>0</td>\n",
              "      <td>0</td>\n",
              "      <td>0</td>\n",
              "      <td>0</td>\n",
              "      <td>0</td>\n",
              "      <td>0</td>\n",
              "      <td>0</td>\n",
              "      <td>0</td>\n",
              "      <td>0</td>\n",
              "      <td>0</td>\n",
              "    </tr>\n",
              "    <tr>\n",
              "      <th>1</th>\n",
              "      <td>2007</td>\n",
              "      <td>0.5</td>\n",
              "      <td>1</td>\n",
              "      <td>0</td>\n",
              "      <td>1</td>\n",
              "      <td>2</td>\n",
              "      <td>40000.0</td>\n",
              "      <td>1400</td>\n",
              "      <td>10.91</td>\n",
              "      <td>0</td>\n",
              "      <td>8.61</td>\n",
              "      <td>1663.04</td>\n",
              "      <td>1400.00</td>\n",
              "      <td>0.00</td>\n",
              "      <td>45.78</td>\n",
              "      <td>False</td>\n",
              "      <td>0</td>\n",
              "      <td>0</td>\n",
              "      <td>1</td>\n",
              "      <td>0</td>\n",
              "      <td>0</td>\n",
              "      <td>0</td>\n",
              "      <td>0</td>\n",
              "      <td>0</td>\n",
              "      <td>0</td>\n",
              "      <td>0</td>\n",
              "      <td>0</td>\n",
              "      <td>0</td>\n",
              "      <td>1</td>\n",
              "      <td>0</td>\n",
              "      <td>0</td>\n",
              "      <td>0</td>\n",
              "      <td>0</td>\n",
              "    </tr>\n",
              "    <tr>\n",
              "      <th>2</th>\n",
              "      <td>2007</td>\n",
              "      <td>10.0</td>\n",
              "      <td>1</td>\n",
              "      <td>0</td>\n",
              "      <td>0</td>\n",
              "      <td>4</td>\n",
              "      <td>25000.0</td>\n",
              "      <td>1000</td>\n",
              "      <td>14.07</td>\n",
              "      <td>0</td>\n",
              "      <td>16.27</td>\n",
              "      <td>1231.38</td>\n",
              "      <td>1000.00</td>\n",
              "      <td>0.00</td>\n",
              "      <td>34.21</td>\n",
              "      <td>False</td>\n",
              "      <td>0</td>\n",
              "      <td>0</td>\n",
              "      <td>1</td>\n",
              "      <td>0</td>\n",
              "      <td>0</td>\n",
              "      <td>0</td>\n",
              "      <td>0</td>\n",
              "      <td>0</td>\n",
              "      <td>0</td>\n",
              "      <td>0</td>\n",
              "      <td>0</td>\n",
              "      <td>0</td>\n",
              "      <td>1</td>\n",
              "      <td>0</td>\n",
              "      <td>0</td>\n",
              "      <td>0</td>\n",
              "      <td>0</td>\n",
              "    </tr>\n",
              "    <tr>\n",
              "      <th>3</th>\n",
              "      <td>2007</td>\n",
              "      <td>10.0</td>\n",
              "      <td>1</td>\n",
              "      <td>0</td>\n",
              "      <td>1</td>\n",
              "      <td>0</td>\n",
              "      <td>65000.0</td>\n",
              "      <td>5000</td>\n",
              "      <td>7.43</td>\n",
              "      <td>0</td>\n",
              "      <td>0.28</td>\n",
              "      <td>5200.44</td>\n",
              "      <td>5000.00</td>\n",
              "      <td>0.00</td>\n",
              "      <td>155.38</td>\n",
              "      <td>False</td>\n",
              "      <td>1</td>\n",
              "      <td>0</td>\n",
              "      <td>0</td>\n",
              "      <td>0</td>\n",
              "      <td>0</td>\n",
              "      <td>0</td>\n",
              "      <td>0</td>\n",
              "      <td>0</td>\n",
              "      <td>0</td>\n",
              "      <td>0</td>\n",
              "      <td>0</td>\n",
              "      <td>0</td>\n",
              "      <td>1</td>\n",
              "      <td>0</td>\n",
              "      <td>0</td>\n",
              "      <td>0</td>\n",
              "      <td>0</td>\n",
              "    </tr>\n",
              "    <tr>\n",
              "      <th>4</th>\n",
              "      <td>2007</td>\n",
              "      <td>10.0</td>\n",
              "      <td>0</td>\n",
              "      <td>0</td>\n",
              "      <td>1</td>\n",
              "      <td>0</td>\n",
              "      <td>250000.0</td>\n",
              "      <td>5000</td>\n",
              "      <td>7.75</td>\n",
              "      <td>0</td>\n",
              "      <td>5.38</td>\n",
              "      <td>5565.65</td>\n",
              "      <td>5000.00</td>\n",
              "      <td>0.00</td>\n",
              "      <td>156.11</td>\n",
              "      <td>False</td>\n",
              "      <td>1</td>\n",
              "      <td>0</td>\n",
              "      <td>0</td>\n",
              "      <td>0</td>\n",
              "      <td>0</td>\n",
              "      <td>0</td>\n",
              "      <td>0</td>\n",
              "      <td>0</td>\n",
              "      <td>0</td>\n",
              "      <td>0</td>\n",
              "      <td>0</td>\n",
              "      <td>0</td>\n",
              "      <td>1</td>\n",
              "      <td>0</td>\n",
              "      <td>0</td>\n",
              "      <td>0</td>\n",
              "      <td>0</td>\n",
              "    </tr>\n",
              "  </tbody>\n",
              "</table>\n",
              "</div>"
            ],
            "text/plain": [
              "   year  emp_duration  income_type  app_type  interest_payments  grade  \\\n",
              "0  2007          10.0            1         0                  1      2   \n",
              "1  2007           0.5            1         0                  1      2   \n",
              "2  2007          10.0            1         0                  0      4   \n",
              "3  2007          10.0            1         0                  1      0   \n",
              "4  2007          10.0            0         0                  1      0   \n",
              "\n",
              "   annual_pay  loan_amount  interest_rate  loan_duration    dti  total_pymnt  \\\n",
              "0     73000.0        25000          10.91              0  22.13     13650.38   \n",
              "1     40000.0         1400          10.91              0   8.61      1663.04   \n",
              "2     25000.0         1000          14.07              0  16.27      1231.38   \n",
              "3     65000.0         5000           7.43              0   0.28      5200.44   \n",
              "4    250000.0         5000           7.75              0   5.38      5565.65   \n",
              "\n",
              "   total_rec_prncp  recoveries  installment  is_default  own_type_MORTGAGE  \\\n",
              "0          8767.32     2207.65       817.41        True                  1   \n",
              "1          1400.00        0.00        45.78       False                  0   \n",
              "2          1000.00        0.00        34.21       False                  0   \n",
              "3          5000.00        0.00       155.38       False                  1   \n",
              "4          5000.00        0.00       156.11       False                  1   \n",
              "\n",
              "   own_type_OWN  own_type_RENT  loan_purpose_car  loan_purpose_credit_card  \\\n",
              "0             0              0                 0                         0   \n",
              "1             0              1                 0                         0   \n",
              "2             0              1                 0                         0   \n",
              "3             0              0                 0                         0   \n",
              "4             0              0                 0                         0   \n",
              "\n",
              "   loan_purpose_debt_consolidation  loan_purpose_educational  \\\n",
              "0                                1                         0   \n",
              "1                                0                         0   \n",
              "2                                0                         0   \n",
              "3                                0                         0   \n",
              "4                                0                         0   \n",
              "\n",
              "   loan_purpose_home_improvement  loan_purpose_house  \\\n",
              "0                              0                   0   \n",
              "1                              0                   0   \n",
              "2                              0                   0   \n",
              "3                              0                   0   \n",
              "4                              0                   0   \n",
              "\n",
              "   loan_purpose_major_purchase  loan_purpose_medical  loan_purpose_moving  \\\n",
              "0                            0                     0                    0   \n",
              "1                            0                     0                    0   \n",
              "2                            0                     0                    0   \n",
              "3                            0                     0                    0   \n",
              "4                            0                     0                    0   \n",
              "\n",
              "   loan_purpose_other  loan_purpose_renewable_energy  \\\n",
              "0                   0                              0   \n",
              "1                   1                              0   \n",
              "2                   1                              0   \n",
              "3                   1                              0   \n",
              "4                   1                              0   \n",
              "\n",
              "   loan_purpose_small_business  loan_purpose_vacation  loan_purpose_wedding  \n",
              "0                            0                      0                     0  \n",
              "1                            0                      0                     0  \n",
              "2                            0                      0                     0  \n",
              "3                            0                      0                     0  \n",
              "4                            0                      0                     0  "
            ]
          },
          "metadata": {
            "tags": []
          },
          "execution_count": 97
        }
      ]
    },
    {
      "cell_type": "code",
      "metadata": {
        "id": "kDCiCrRmlHNI",
        "colab_type": "code",
        "colab": {}
      },
      "source": [
        "x,y=data.iloc[:,data.columns!=\"is_default\"],data[\"is_default\"]"
      ],
      "execution_count": 0,
      "outputs": []
    },
    {
      "cell_type": "code",
      "metadata": {
        "id": "4A2_frwHluBk",
        "colab_type": "code",
        "colab": {
          "base_uri": "https://localhost:8080/",
          "height": 52
        },
        "outputId": "85b7801d-2c43-4c83-a68b-c30f2a22e45e"
      },
      "source": [
        "print(x.shape)\n",
        "print(y.shape)"
      ],
      "execution_count": 99,
      "outputs": [
        {
          "output_type": "stream",
          "text": [
            "(887142, 32)\n",
            "(887142,)\n"
          ],
          "name": "stdout"
        }
      ]
    },
    {
      "cell_type": "code",
      "metadata": {
        "id": "Gf7mmDGmlxjn",
        "colab_type": "code",
        "colab": {
          "base_uri": "https://localhost:8080/",
          "height": 235
        },
        "outputId": "adf8c6d9-73c1-4ae9-bb83-ea21a5c5eb6b"
      },
      "source": [
        "x_data=pd.DataFrame(StandardScaler().fit_transform(x),columns=x.columns)\n",
        "print(x_data.shape)\n",
        "x_data.head()"
      ],
      "execution_count": 100,
      "outputs": [
        {
          "output_type": "stream",
          "text": [
            "(887142, 32)\n"
          ],
          "name": "stdout"
        },
        {
          "output_type": "execute_result",
          "data": {
            "text/html": [
              "<div>\n",
              "<style scoped>\n",
              "    .dataframe tbody tr th:only-of-type {\n",
              "        vertical-align: middle;\n",
              "    }\n",
              "\n",
              "    .dataframe tbody tr th {\n",
              "        vertical-align: top;\n",
              "    }\n",
              "\n",
              "    .dataframe thead th {\n",
              "        text-align: right;\n",
              "    }\n",
              "</style>\n",
              "<table border=\"1\" class=\"dataframe\">\n",
              "  <thead>\n",
              "    <tr style=\"text-align: right;\">\n",
              "      <th></th>\n",
              "      <th>year</th>\n",
              "      <th>emp_duration</th>\n",
              "      <th>income_type</th>\n",
              "      <th>app_type</th>\n",
              "      <th>interest_payments</th>\n",
              "      <th>grade</th>\n",
              "      <th>annual_pay</th>\n",
              "      <th>loan_amount</th>\n",
              "      <th>interest_rate</th>\n",
              "      <th>loan_duration</th>\n",
              "      <th>dti</th>\n",
              "      <th>total_pymnt</th>\n",
              "      <th>total_rec_prncp</th>\n",
              "      <th>recoveries</th>\n",
              "      <th>installment</th>\n",
              "      <th>own_type_MORTGAGE</th>\n",
              "      <th>own_type_OWN</th>\n",
              "      <th>own_type_RENT</th>\n",
              "      <th>loan_purpose_car</th>\n",
              "      <th>loan_purpose_credit_card</th>\n",
              "      <th>loan_purpose_debt_consolidation</th>\n",
              "      <th>loan_purpose_educational</th>\n",
              "      <th>loan_purpose_home_improvement</th>\n",
              "      <th>loan_purpose_house</th>\n",
              "      <th>loan_purpose_major_purchase</th>\n",
              "      <th>loan_purpose_medical</th>\n",
              "      <th>loan_purpose_moving</th>\n",
              "      <th>loan_purpose_other</th>\n",
              "      <th>loan_purpose_renewable_energy</th>\n",
              "      <th>loan_purpose_small_business</th>\n",
              "      <th>loan_purpose_vacation</th>\n",
              "      <th>loan_purpose_wedding</th>\n",
              "    </tr>\n",
              "  </thead>\n",
              "  <tbody>\n",
              "    <tr>\n",
              "      <th>0</th>\n",
              "      <td>-5.574432</td>\n",
              "      <td>1.125972</td>\n",
              "      <td>-0.351903</td>\n",
              "      <td>-0.02396</td>\n",
              "      <td>0.952365</td>\n",
              "      <td>0.153641</td>\n",
              "      <td>-0.014241</td>\n",
              "      <td>1.214361</td>\n",
              "      <td>-0.534239</td>\n",
              "      <td>-0.654823</td>\n",
              "      <td>0.484248</td>\n",
              "      <td>0.774092</td>\n",
              "      <td>0.454409</td>\n",
              "      <td>5.277843</td>\n",
              "      <td>1.558951</td>\n",
              "      <td>1.000036</td>\n",
              "      <td>-0.33073</td>\n",
              "      <td>-0.818915</td>\n",
              "      <td>-0.100438</td>\n",
              "      <td>-0.550131</td>\n",
              "      <td>0.832214</td>\n",
              "      <td>-0.021712</td>\n",
              "      <td>-0.249055</td>\n",
              "      <td>-0.064751</td>\n",
              "      <td>-0.140898</td>\n",
              "      <td>-0.098561</td>\n",
              "      <td>-0.078338</td>\n",
              "      <td>-0.225328</td>\n",
              "      <td>-0.025445</td>\n",
              "      <td>-0.108717</td>\n",
              "      <td>-0.073261</td>\n",
              "      <td>-0.051492</td>\n",
              "    </tr>\n",
              "    <tr>\n",
              "      <th>1</th>\n",
              "      <td>-5.574432</td>\n",
              "      <td>-1.582662</td>\n",
              "      <td>-0.351903</td>\n",
              "      <td>-0.02396</td>\n",
              "      <td>0.952365</td>\n",
              "      <td>0.153641</td>\n",
              "      <td>-0.816022</td>\n",
              "      <td>-1.583304</td>\n",
              "      <td>-0.534239</td>\n",
              "      <td>-0.654823</td>\n",
              "      <td>-1.151999</td>\n",
              "      <td>-0.748932</td>\n",
              "      <td>-0.657606</td>\n",
              "      <td>-0.112030</td>\n",
              "      <td>-1.601041</td>\n",
              "      <td>-0.999964</td>\n",
              "      <td>-0.33073</td>\n",
              "      <td>1.221128</td>\n",
              "      <td>-0.100438</td>\n",
              "      <td>-0.550131</td>\n",
              "      <td>-1.201614</td>\n",
              "      <td>-0.021712</td>\n",
              "      <td>-0.249055</td>\n",
              "      <td>-0.064751</td>\n",
              "      <td>-0.140898</td>\n",
              "      <td>-0.098561</td>\n",
              "      <td>-0.078338</td>\n",
              "      <td>4.437984</td>\n",
              "      <td>-0.025445</td>\n",
              "      <td>-0.108717</td>\n",
              "      <td>-0.073261</td>\n",
              "      <td>-0.051492</td>\n",
              "    </tr>\n",
              "    <tr>\n",
              "      <th>2</th>\n",
              "      <td>-5.574432</td>\n",
              "      <td>1.125972</td>\n",
              "      <td>-0.351903</td>\n",
              "      <td>-0.02396</td>\n",
              "      <td>-1.050017</td>\n",
              "      <td>1.677418</td>\n",
              "      <td>-1.180468</td>\n",
              "      <td>-1.630722</td>\n",
              "      <td>0.190819</td>\n",
              "      <td>-0.654823</td>\n",
              "      <td>-0.224954</td>\n",
              "      <td>-0.803776</td>\n",
              "      <td>-0.717981</td>\n",
              "      <td>-0.112030</td>\n",
              "      <td>-1.648422</td>\n",
              "      <td>-0.999964</td>\n",
              "      <td>-0.33073</td>\n",
              "      <td>1.221128</td>\n",
              "      <td>-0.100438</td>\n",
              "      <td>-0.550131</td>\n",
              "      <td>-1.201614</td>\n",
              "      <td>-0.021712</td>\n",
              "      <td>-0.249055</td>\n",
              "      <td>-0.064751</td>\n",
              "      <td>-0.140898</td>\n",
              "      <td>-0.098561</td>\n",
              "      <td>-0.078338</td>\n",
              "      <td>4.437984</td>\n",
              "      <td>-0.025445</td>\n",
              "      <td>-0.108717</td>\n",
              "      <td>-0.073261</td>\n",
              "      <td>-0.051492</td>\n",
              "    </tr>\n",
              "    <tr>\n",
              "      <th>3</th>\n",
              "      <td>-5.574432</td>\n",
              "      <td>1.125972</td>\n",
              "      <td>-0.351903</td>\n",
              "      <td>-0.02396</td>\n",
              "      <td>0.952365</td>\n",
              "      <td>-1.370135</td>\n",
              "      <td>-0.208612</td>\n",
              "      <td>-1.156542</td>\n",
              "      <td>-1.332720</td>\n",
              "      <td>-0.654823</td>\n",
              "      <td>-2.160131</td>\n",
              "      <td>-0.299496</td>\n",
              "      <td>-0.114226</td>\n",
              "      <td>-0.112030</td>\n",
              "      <td>-1.152205</td>\n",
              "      <td>1.000036</td>\n",
              "      <td>-0.33073</td>\n",
              "      <td>-0.818915</td>\n",
              "      <td>-0.100438</td>\n",
              "      <td>-0.550131</td>\n",
              "      <td>-1.201614</td>\n",
              "      <td>-0.021712</td>\n",
              "      <td>-0.249055</td>\n",
              "      <td>-0.064751</td>\n",
              "      <td>-0.140898</td>\n",
              "      <td>-0.098561</td>\n",
              "      <td>-0.078338</td>\n",
              "      <td>4.437984</td>\n",
              "      <td>-0.025445</td>\n",
              "      <td>-0.108717</td>\n",
              "      <td>-0.073261</td>\n",
              "      <td>-0.051492</td>\n",
              "    </tr>\n",
              "    <tr>\n",
              "      <th>4</th>\n",
              "      <td>-5.574432</td>\n",
              "      <td>1.125972</td>\n",
              "      <td>-2.865940</td>\n",
              "      <td>-0.02396</td>\n",
              "      <td>0.952365</td>\n",
              "      <td>-1.370135</td>\n",
              "      <td>4.286219</td>\n",
              "      <td>-1.156542</td>\n",
              "      <td>-1.259296</td>\n",
              "      <td>-0.654823</td>\n",
              "      <td>-1.542908</td>\n",
              "      <td>-0.253095</td>\n",
              "      <td>-0.114226</td>\n",
              "      <td>-0.112030</td>\n",
              "      <td>-1.149215</td>\n",
              "      <td>1.000036</td>\n",
              "      <td>-0.33073</td>\n",
              "      <td>-0.818915</td>\n",
              "      <td>-0.100438</td>\n",
              "      <td>-0.550131</td>\n",
              "      <td>-1.201614</td>\n",
              "      <td>-0.021712</td>\n",
              "      <td>-0.249055</td>\n",
              "      <td>-0.064751</td>\n",
              "      <td>-0.140898</td>\n",
              "      <td>-0.098561</td>\n",
              "      <td>-0.078338</td>\n",
              "      <td>4.437984</td>\n",
              "      <td>-0.025445</td>\n",
              "      <td>-0.108717</td>\n",
              "      <td>-0.073261</td>\n",
              "      <td>-0.051492</td>\n",
              "    </tr>\n",
              "  </tbody>\n",
              "</table>\n",
              "</div>"
            ],
            "text/plain": [
              "       year  emp_duration  income_type  app_type  interest_payments     grade  \\\n",
              "0 -5.574432      1.125972    -0.351903  -0.02396           0.952365  0.153641   \n",
              "1 -5.574432     -1.582662    -0.351903  -0.02396           0.952365  0.153641   \n",
              "2 -5.574432      1.125972    -0.351903  -0.02396          -1.050017  1.677418   \n",
              "3 -5.574432      1.125972    -0.351903  -0.02396           0.952365 -1.370135   \n",
              "4 -5.574432      1.125972    -2.865940  -0.02396           0.952365 -1.370135   \n",
              "\n",
              "   annual_pay  loan_amount  interest_rate  loan_duration       dti  \\\n",
              "0   -0.014241     1.214361      -0.534239      -0.654823  0.484248   \n",
              "1   -0.816022    -1.583304      -0.534239      -0.654823 -1.151999   \n",
              "2   -1.180468    -1.630722       0.190819      -0.654823 -0.224954   \n",
              "3   -0.208612    -1.156542      -1.332720      -0.654823 -2.160131   \n",
              "4    4.286219    -1.156542      -1.259296      -0.654823 -1.542908   \n",
              "\n",
              "   total_pymnt  total_rec_prncp  recoveries  installment  own_type_MORTGAGE  \\\n",
              "0     0.774092         0.454409    5.277843     1.558951           1.000036   \n",
              "1    -0.748932        -0.657606   -0.112030    -1.601041          -0.999964   \n",
              "2    -0.803776        -0.717981   -0.112030    -1.648422          -0.999964   \n",
              "3    -0.299496        -0.114226   -0.112030    -1.152205           1.000036   \n",
              "4    -0.253095        -0.114226   -0.112030    -1.149215           1.000036   \n",
              "\n",
              "   own_type_OWN  own_type_RENT  loan_purpose_car  loan_purpose_credit_card  \\\n",
              "0      -0.33073      -0.818915         -0.100438                 -0.550131   \n",
              "1      -0.33073       1.221128         -0.100438                 -0.550131   \n",
              "2      -0.33073       1.221128         -0.100438                 -0.550131   \n",
              "3      -0.33073      -0.818915         -0.100438                 -0.550131   \n",
              "4      -0.33073      -0.818915         -0.100438                 -0.550131   \n",
              "\n",
              "   loan_purpose_debt_consolidation  loan_purpose_educational  \\\n",
              "0                         0.832214                 -0.021712   \n",
              "1                        -1.201614                 -0.021712   \n",
              "2                        -1.201614                 -0.021712   \n",
              "3                        -1.201614                 -0.021712   \n",
              "4                        -1.201614                 -0.021712   \n",
              "\n",
              "   loan_purpose_home_improvement  loan_purpose_house  \\\n",
              "0                      -0.249055           -0.064751   \n",
              "1                      -0.249055           -0.064751   \n",
              "2                      -0.249055           -0.064751   \n",
              "3                      -0.249055           -0.064751   \n",
              "4                      -0.249055           -0.064751   \n",
              "\n",
              "   loan_purpose_major_purchase  loan_purpose_medical  loan_purpose_moving  \\\n",
              "0                    -0.140898             -0.098561            -0.078338   \n",
              "1                    -0.140898             -0.098561            -0.078338   \n",
              "2                    -0.140898             -0.098561            -0.078338   \n",
              "3                    -0.140898             -0.098561            -0.078338   \n",
              "4                    -0.140898             -0.098561            -0.078338   \n",
              "\n",
              "   loan_purpose_other  loan_purpose_renewable_energy  \\\n",
              "0           -0.225328                      -0.025445   \n",
              "1            4.437984                      -0.025445   \n",
              "2            4.437984                      -0.025445   \n",
              "3            4.437984                      -0.025445   \n",
              "4            4.437984                      -0.025445   \n",
              "\n",
              "   loan_purpose_small_business  loan_purpose_vacation  loan_purpose_wedding  \n",
              "0                    -0.108717              -0.073261             -0.051492  \n",
              "1                    -0.108717              -0.073261             -0.051492  \n",
              "2                    -0.108717              -0.073261             -0.051492  \n",
              "3                    -0.108717              -0.073261             -0.051492  \n",
              "4                    -0.108717              -0.073261             -0.051492  "
            ]
          },
          "metadata": {
            "tags": []
          },
          "execution_count": 100
        }
      ]
    },
    {
      "cell_type": "code",
      "metadata": {
        "id": "1oJ-7hBXmOQg",
        "colab_type": "code",
        "colab": {
          "base_uri": "https://localhost:8080/",
          "height": 52
        },
        "outputId": "b50b7182-03dc-43b6-c744-9c890baf7e76"
      },
      "source": [
        "x_train, x_test, y_train, y_test = train_test_split(x_data, y, test_size = 0.2, random_state = 42, stratify = y)\n",
        "print('Train Shape:', x_train.shape, y_train.shape)\n",
        "print('Test Shape:', x_test.shape, y_test.shape)"
      ],
      "execution_count": 102,
      "outputs": [
        {
          "output_type": "stream",
          "text": [
            "Train Shape: (709713, 32) (709713,)\n",
            "Test Shape: (177429, 32) (177429,)\n"
          ],
          "name": "stdout"
        }
      ]
    },
    {
      "cell_type": "markdown",
      "metadata": {
        "id": "qmM8tNycpSrw",
        "colab_type": "text"
      },
      "source": [
        "**Feature Selection using Random Forest\n",
        "Random forests are one the most popular machine learning algorithms because they provide:\n",
        "a good predictive performance,\n",
        "low overfitting and\n",
        "easy interpretability.\n",
        "This interpretability derives the importance of each feature on the tree decision.\n",
        "In other words, it is easy to compute how much each feature is contributing to the decision**"
      ]
    },
    {
      "cell_type": "code",
      "metadata": {
        "id": "qcBqjPjHmzT0",
        "colab_type": "code",
        "colab": {
          "base_uri": "https://localhost:8080/",
          "height": 212
        },
        "outputId": "a7f051bd-97ce-41fa-ce2f-203267f5e9ea"
      },
      "source": [
        "from sklearn.feature_selection import SelectFromModel\n",
        "sel=SelectFromModel(RandomForestClassifier(n_estimators=100,random_state=42,class_weight=\"balanced\"))\n",
        "sel.fit(x_train,y_train)\n",
        "selected_feat=x_train.columns[(sel.get_support())].to_list()\n",
        "print(len(selected_feat))\n",
        "selected_feat"
      ],
      "execution_count": 103,
      "outputs": [
        {
          "output_type": "stream",
          "text": [
            "10\n"
          ],
          "name": "stdout"
        },
        {
          "output_type": "execute_result",
          "data": {
            "text/plain": [
              "['year',\n",
              " 'emp_duration',\n",
              " 'annual_pay',\n",
              " 'loan_amount',\n",
              " 'interest_rate',\n",
              " 'dti',\n",
              " 'total_pymnt',\n",
              " 'total_rec_prncp',\n",
              " 'recoveries',\n",
              " 'installment']"
            ]
          },
          "metadata": {
            "tags": []
          },
          "execution_count": 103
        }
      ]
    },
    {
      "cell_type": "markdown",
      "metadata": {
        "id": "4UoKhHvZvOW6",
        "colab_type": "text"
      },
      "source": [
        "**Model Development & Evaluation**"
      ]
    },
    {
      "cell_type": "markdown",
      "metadata": {
        "id": "Xf0ZRdN5vTr4",
        "colab_type": "text"
      },
      "source": [
        "In this section we'll build model using only important features that impact highly on our target feature i.e. is_default.\n",
        "In the following part we made a function to measure the performance of the model"
      ]
    },
    {
      "cell_type": "code",
      "metadata": {
        "id": "HKKdZ5ExuOzo",
        "colab_type": "code",
        "colab": {}
      },
      "source": [
        "def PRCurve(model):\n",
        "  '''\n",
        "  A function to visualize Precision Recall Curve.\n",
        "  Returns average precision score of the model.\n",
        "  Data to fit must be training i.e. X_train, y_train.\n",
        "  Data score will be estimated on X_test, y_test.\n",
        "  '''\n",
        "  from yellowbrick.classifier import precision_recall_curve\n",
        "  viz = PrecisionRecallCurve(model)\n",
        "  viz.fit(X_train, y_train)\n",
        "  avg_prec = viz.score(X_test, y_test)\n",
        "  plt.legend(labels = ['Binary PR Curve',\"AP=%.3f\"%avg_prec], loc = 'lower right', prop={'size': 14})\n",
        "  plt.xlabel(xlabel = 'Recall', size = 14)\n",
        "  plt.ylabel(ylabel = 'Precision', size = 14)\n",
        "  plt.title(label = 'Precision Recall Curve', size = 16)"
      ],
      "execution_count": 0,
      "outputs": []
    },
    {
      "cell_type": "code",
      "metadata": {
        "id": "Y9jB0q52vyK2",
        "colab_type": "code",
        "colab": {
          "base_uri": "https://localhost:8080/",
          "height": 52
        },
        "outputId": "5f4592a1-8c98-425e-a0e3-5249539cecd6"
      },
      "source": [
        "imp_feature = x_data[selected_feat]\n",
        "\n",
        "X_train, X_test, y_train, y_test = train_test_split(imp_feature, y, test_size = 0.2, random_state = 42, stratify = y)\n",
        "\n",
        "print('Training Data Shape:', X_train.shape, y_train.shape)\n",
        "print('Testing Data Shape:', X_test.shape, y_test.shape)"
      ],
      "execution_count": 105,
      "outputs": [
        {
          "output_type": "stream",
          "text": [
            "Training Data Shape: (709713, 10) (709713,)\n",
            "Testing Data Shape: (177429, 10) (177429,)\n"
          ],
          "name": "stdout"
        }
      ]
    },
    {
      "cell_type": "code",
      "metadata": {
        "id": "T6cnuUOvLKWX",
        "colab_type": "code",
        "colab": {
          "base_uri": "https://localhost:8080/",
          "height": 558
        },
        "outputId": "ed351f1d-2638-4910-bf4d-d3fa0aca5144"
      },
      "source": [
        "log  = LogisticRegression(random_state = 42)\n",
        "log.fit(x_train, y_train)\n",
        "y_pred = log.predict(x_test)\n",
        "\n",
        "# Accuracy Estimation\n",
        "print('Accuracy Score (Train Data):', np.round(log.score(x_train, y_train), decimals = 3))\n",
        "print('Accuracy Score (Test Data):', np.round(log.score(x_test, y_test), decimals = 3))\n",
        "\n",
        "# Classification Report\n",
        "logistic_report = classification_report(y_test, y_pred)\n",
        "print(logistic_report)\n",
        "\n",
        "# Precision Recall Curve\n",
        "figure = plt.figure(figsize = [10, 8])\n",
        "PRCurve(model=log)\n",
        "plt.show()"
      ],
      "execution_count": 119,
      "outputs": [
        {
          "output_type": "stream",
          "text": [
            "Accuracy Score (Train Data): 0.951\n",
            "Accuracy Score (Test Data): 0.951\n",
            "              precision    recall  f1-score   support\n",
            "\n",
            "       False       0.95      1.00      0.97    163952\n",
            "        True       0.98      0.36      0.53     13477\n",
            "\n",
            "    accuracy                           0.95    177429\n",
            "   macro avg       0.97      0.68      0.75    177429\n",
            "weighted avg       0.95      0.95      0.94    177429\n",
            "\n"
          ],
          "name": "stdout"
        },
        {
          "output_type": "error",
          "ename": "NameError",
          "evalue": "ignored",
          "traceback": [
            "\u001b[0;31m---------------------------------------------------------------------------\u001b[0m",
            "\u001b[0;31mNameError\u001b[0m                                 Traceback (most recent call last)",
            "\u001b[0;32m<ipython-input-119-252f73c9ac5e>\u001b[0m in \u001b[0;36m<module>\u001b[0;34m()\u001b[0m\n\u001b[1;32m     13\u001b[0m \u001b[0;31m# Precision Recall Curve\u001b[0m\u001b[0;34m\u001b[0m\u001b[0;34m\u001b[0m\u001b[0;34m\u001b[0m\u001b[0m\n\u001b[1;32m     14\u001b[0m \u001b[0mfigure\u001b[0m \u001b[0;34m=\u001b[0m \u001b[0mplt\u001b[0m\u001b[0;34m.\u001b[0m\u001b[0mfigure\u001b[0m\u001b[0;34m(\u001b[0m\u001b[0mfigsize\u001b[0m \u001b[0;34m=\u001b[0m \u001b[0;34m[\u001b[0m\u001b[0;36m10\u001b[0m\u001b[0;34m,\u001b[0m \u001b[0;36m8\u001b[0m\u001b[0;34m]\u001b[0m\u001b[0;34m)\u001b[0m\u001b[0;34m\u001b[0m\u001b[0;34m\u001b[0m\u001b[0m\n\u001b[0;32m---> 15\u001b[0;31m \u001b[0mPRCurve\u001b[0m\u001b[0;34m(\u001b[0m\u001b[0mmodel\u001b[0m\u001b[0;34m=\u001b[0m\u001b[0mlog\u001b[0m\u001b[0;34m)\u001b[0m\u001b[0;34m\u001b[0m\u001b[0;34m\u001b[0m\u001b[0m\n\u001b[0m\u001b[1;32m     16\u001b[0m \u001b[0mplt\u001b[0m\u001b[0;34m.\u001b[0m\u001b[0mshow\u001b[0m\u001b[0;34m(\u001b[0m\u001b[0;34m)\u001b[0m\u001b[0;34m\u001b[0m\u001b[0;34m\u001b[0m\u001b[0m\n",
            "\u001b[0;32m<ipython-input-118-9b96b1723257>\u001b[0m in \u001b[0;36mPRCurve\u001b[0;34m(model)\u001b[0m\n\u001b[1;32m      7\u001b[0m   '''\n\u001b[1;32m      8\u001b[0m   \u001b[0;32mfrom\u001b[0m \u001b[0myellowbrick\u001b[0m\u001b[0;34m.\u001b[0m\u001b[0mclassifier\u001b[0m \u001b[0;32mimport\u001b[0m \u001b[0mprecision_recall_curve\u001b[0m\u001b[0;34m\u001b[0m\u001b[0;34m\u001b[0m\u001b[0m\n\u001b[0;32m----> 9\u001b[0;31m   \u001b[0mviz\u001b[0m \u001b[0;34m=\u001b[0m \u001b[0mPrecisionRecallCurve\u001b[0m\u001b[0;34m(\u001b[0m\u001b[0mmodel\u001b[0m\u001b[0;34m)\u001b[0m\u001b[0;34m\u001b[0m\u001b[0;34m\u001b[0m\u001b[0m\n\u001b[0m\u001b[1;32m     10\u001b[0m   \u001b[0mviz\u001b[0m\u001b[0;34m.\u001b[0m\u001b[0mfit\u001b[0m\u001b[0;34m(\u001b[0m\u001b[0mX_train\u001b[0m\u001b[0;34m,\u001b[0m \u001b[0my_train\u001b[0m\u001b[0;34m)\u001b[0m\u001b[0;34m\u001b[0m\u001b[0;34m\u001b[0m\u001b[0m\n\u001b[1;32m     11\u001b[0m   \u001b[0mavg_prec\u001b[0m \u001b[0;34m=\u001b[0m \u001b[0mviz\u001b[0m\u001b[0;34m.\u001b[0m\u001b[0mscore\u001b[0m\u001b[0;34m(\u001b[0m\u001b[0mX_test\u001b[0m\u001b[0;34m,\u001b[0m \u001b[0my_test\u001b[0m\u001b[0;34m)\u001b[0m\u001b[0;34m\u001b[0m\u001b[0;34m\u001b[0m\u001b[0m\n",
            "\u001b[0;31mNameError\u001b[0m: name 'PrecisionRecallCurve' is not defined"
          ]
        },
        {
          "output_type": "display_data",
          "data": {
            "text/plain": [
              "<Figure size 720x576 with 0 Axes>"
            ]
          },
          "metadata": {
            "tags": []
          }
        }
      ]
    },
    {
      "cell_type": "markdown",
      "metadata": {
        "id": "QpOfPrGJcxH1",
        "colab_type": "text"
      },
      "source": [
        "**Random Forest Classifier**"
      ]
    },
    {
      "cell_type": "code",
      "metadata": {
        "id": "lVCOon7yYsvJ",
        "colab_type": "code",
        "colab": {
          "base_uri": "https://localhost:8080/",
          "height": 558
        },
        "outputId": "a26759e7-cfb1-4baf-c36d-5cec7fb36f9e"
      },
      "source": [
        "rfc = RandomForestClassifier(n_estimators = 100, max_depth = 5, random_state = 42, n_jobs = -1)\n",
        "rfc.fit(x_train, y_train)\n",
        "\n",
        "y_pred = rfc.predict(x_test)\n",
        "\n",
        "# Accuracy Estimation\n",
        "print('Accuracy Score (Train Data):', np.round(rfc.score(x_train, y_train), decimals = 3))\n",
        "print('Accuracy Score (Test Data):', np.round(rfc.score(x_test, y_test), decimals = 3))\n",
        "\n",
        "# Classification Report\n",
        "random_forest_report = classification_report(y_test, y_pred)\n",
        "print(random_forest_report)\n",
        "\n",
        "# Precision Recall Curve\n",
        "figure = plt.figure(figsize = [10, 8])\n",
        "PRCurve(model = rfc)\n",
        "plt.show()"
      ],
      "execution_count": 121,
      "outputs": [
        {
          "output_type": "stream",
          "text": [
            "Accuracy Score (Train Data): 0.952\n",
            "Accuracy Score (Test Data): 0.952\n",
            "              precision    recall  f1-score   support\n",
            "\n",
            "       False       0.95      1.00      0.97    163952\n",
            "        True       1.00      0.36      0.53     13477\n",
            "\n",
            "    accuracy                           0.95    177429\n",
            "   macro avg       0.98      0.68      0.75    177429\n",
            "weighted avg       0.95      0.95      0.94    177429\n",
            "\n"
          ],
          "name": "stdout"
        },
        {
          "output_type": "error",
          "ename": "NameError",
          "evalue": "ignored",
          "traceback": [
            "\u001b[0;31m---------------------------------------------------------------------------\u001b[0m",
            "\u001b[0;31mNameError\u001b[0m                                 Traceback (most recent call last)",
            "\u001b[0;32m<ipython-input-121-87119f7d1c4f>\u001b[0m in \u001b[0;36m<module>\u001b[0;34m()\u001b[0m\n\u001b[1;32m     14\u001b[0m \u001b[0;31m# Precision Recall Curve\u001b[0m\u001b[0;34m\u001b[0m\u001b[0;34m\u001b[0m\u001b[0;34m\u001b[0m\u001b[0m\n\u001b[1;32m     15\u001b[0m \u001b[0mfigure\u001b[0m \u001b[0;34m=\u001b[0m \u001b[0mplt\u001b[0m\u001b[0;34m.\u001b[0m\u001b[0mfigure\u001b[0m\u001b[0;34m(\u001b[0m\u001b[0mfigsize\u001b[0m \u001b[0;34m=\u001b[0m \u001b[0;34m[\u001b[0m\u001b[0;36m10\u001b[0m\u001b[0;34m,\u001b[0m \u001b[0;36m8\u001b[0m\u001b[0;34m]\u001b[0m\u001b[0;34m)\u001b[0m\u001b[0;34m\u001b[0m\u001b[0;34m\u001b[0m\u001b[0m\n\u001b[0;32m---> 16\u001b[0;31m \u001b[0mPRCurve\u001b[0m\u001b[0;34m(\u001b[0m\u001b[0mmodel\u001b[0m \u001b[0;34m=\u001b[0m \u001b[0mrfc\u001b[0m\u001b[0;34m)\u001b[0m\u001b[0;34m\u001b[0m\u001b[0;34m\u001b[0m\u001b[0m\n\u001b[0m\u001b[1;32m     17\u001b[0m \u001b[0mplt\u001b[0m\u001b[0;34m.\u001b[0m\u001b[0mshow\u001b[0m\u001b[0;34m(\u001b[0m\u001b[0;34m)\u001b[0m\u001b[0;34m\u001b[0m\u001b[0;34m\u001b[0m\u001b[0m\n",
            "\u001b[0;32m<ipython-input-118-9b96b1723257>\u001b[0m in \u001b[0;36mPRCurve\u001b[0;34m(model)\u001b[0m\n\u001b[1;32m      7\u001b[0m   '''\n\u001b[1;32m      8\u001b[0m   \u001b[0;32mfrom\u001b[0m \u001b[0myellowbrick\u001b[0m\u001b[0;34m.\u001b[0m\u001b[0mclassifier\u001b[0m \u001b[0;32mimport\u001b[0m \u001b[0mprecision_recall_curve\u001b[0m\u001b[0;34m\u001b[0m\u001b[0;34m\u001b[0m\u001b[0m\n\u001b[0;32m----> 9\u001b[0;31m   \u001b[0mviz\u001b[0m \u001b[0;34m=\u001b[0m \u001b[0mPrecisionRecallCurve\u001b[0m\u001b[0;34m(\u001b[0m\u001b[0mmodel\u001b[0m\u001b[0;34m)\u001b[0m\u001b[0;34m\u001b[0m\u001b[0;34m\u001b[0m\u001b[0m\n\u001b[0m\u001b[1;32m     10\u001b[0m   \u001b[0mviz\u001b[0m\u001b[0;34m.\u001b[0m\u001b[0mfit\u001b[0m\u001b[0;34m(\u001b[0m\u001b[0mX_train\u001b[0m\u001b[0;34m,\u001b[0m \u001b[0my_train\u001b[0m\u001b[0;34m)\u001b[0m\u001b[0;34m\u001b[0m\u001b[0;34m\u001b[0m\u001b[0m\n\u001b[1;32m     11\u001b[0m   \u001b[0mavg_prec\u001b[0m \u001b[0;34m=\u001b[0m \u001b[0mviz\u001b[0m\u001b[0;34m.\u001b[0m\u001b[0mscore\u001b[0m\u001b[0;34m(\u001b[0m\u001b[0mX_test\u001b[0m\u001b[0;34m,\u001b[0m \u001b[0my_test\u001b[0m\u001b[0;34m)\u001b[0m\u001b[0;34m\u001b[0m\u001b[0;34m\u001b[0m\u001b[0m\n",
            "\u001b[0;31mNameError\u001b[0m: name 'PrecisionRecallCurve' is not defined"
          ]
        },
        {
          "output_type": "display_data",
          "data": {
            "text/plain": [
              "<Figure size 720x576 with 0 Axes>"
            ]
          },
          "metadata": {
            "tags": []
          }
        }
      ]
    },
    {
      "cell_type": "code",
      "metadata": {
        "id": "p74ZY_nxdCee",
        "colab_type": "code",
        "colab": {
          "base_uri": "https://localhost:8080/",
          "height": 212
        },
        "outputId": "aa605c45-af09-4e14-d18a-7d0835a027c9"
      },
      "source": [
        "clf = XGBClassifier(max_depth = 5, n_jobs = -1, random_state = 42)\n",
        "clf.fit(x_train, y_train)\n",
        "\n",
        "y_pred = clf.predict(x_test)\n",
        "\n",
        "# Accuracy Estimation\n",
        "print('Accuracy Score (Train Data):', np.round(clf.score(x_train, y_train), decimals = 3))\n",
        "print('Accuracy Score (Test Data):', np.round(clf.score(x_test, y_test), decimals = 3))\n",
        "\n",
        "# Classification Report\n",
        "XGB_report = classification_report(y_test, y_pred)\n",
        "print(XGB_report)"
      ],
      "execution_count": 123,
      "outputs": [
        {
          "output_type": "stream",
          "text": [
            "Accuracy Score (Train Data): 0.966\n",
            "Accuracy Score (Test Data): 0.966\n",
            "              precision    recall  f1-score   support\n",
            "\n",
            "       False       0.96      1.00      0.98    163952\n",
            "        True       1.00      0.55      0.71     13477\n",
            "\n",
            "    accuracy                           0.97    177429\n",
            "   macro avg       0.98      0.78      0.85    177429\n",
            "weighted avg       0.97      0.97      0.96    177429\n",
            "\n"
          ],
          "name": "stdout"
        }
      ]
    },
    {
      "cell_type": "markdown",
      "metadata": {
        "id": "ubz2Swx-fNg6",
        "colab_type": "text"
      },
      "source": [
        "**IMBALANCED MODELS-NEED TO ADDRESS THROUGH SMOTE**"
      ]
    },
    {
      "cell_type": "markdown",
      "metadata": {
        "id": "TPu6kajifXRV",
        "colab_type": "text"
      },
      "source": [
        "SMOTE Technique & its Implementation\n",
        "SMOTE refers to Synthetic Minority Oversampling Technique.\n",
        "It aims to balance class distribution by randomly increasing minority class examples by replicating them.\n",
        "It synthesises new minority instances between existing minority instances.\n",
        "It generates the virtual training records by linear interpolation for the minority class.\n",
        "These synthetic training records are generated by randomly selecting one or more of the k-nearest neighbors for each example in the minority class.\n",
        "After the oversampling process, the data is reconstructed and several classification models can be applied for the processed data."
      ]
    },
    {
      "cell_type": "markdown",
      "metadata": {
        "id": "HSuCrBzCfsLj",
        "colab_type": "text"
      },
      "source": [
        "**Before implementing SMOTE**"
      ]
    },
    {
      "cell_type": "code",
      "metadata": {
        "id": "6ZUeClgSesMr",
        "colab_type": "code",
        "colab": {
          "base_uri": "https://localhost:8080/",
          "height": 52
        },
        "outputId": "dd1fb327-c35a-415e-9aed-2d2d19c97210"
      },
      "source": [
        "print('Training Data Shape:', X_train.shape, y_train.shape)\n",
        "print('Testing Data Shape:', X_test.shape, y_test.shape)"
      ],
      "execution_count": 125,
      "outputs": [
        {
          "output_type": "stream",
          "text": [
            "Training Data Shape: (709713, 10) (709713,)\n",
            "Testing Data Shape: (177429, 10) (177429,)\n"
          ],
          "name": "stdout"
        }
      ]
    },
    {
      "cell_type": "markdown",
      "metadata": {
        "id": "1rq8LRljg5mR",
        "colab_type": "text"
      },
      "source": [
        "**PERFORMING smote OPERATION**"
      ]
    },
    {
      "cell_type": "code",
      "metadata": {
        "id": "upyj4QodfUuN",
        "colab_type": "code",
        "colab": {}
      },
      "source": [
        "sm=SMOTE(random_state=42,ratio=1)\n"
      ],
      "execution_count": 0,
      "outputs": []
    },
    {
      "cell_type": "code",
      "metadata": {
        "id": "Ipz8wQoJhMxb",
        "colab_type": "code",
        "colab": {}
      },
      "source": [
        "sm.fit_sample(x_data,y)\n",
        "x_new=pd.DataFrame(data=x,columns=x_data.columns)\n",
        "x_train,x_test,y_train,y_test=train_test_split(x_new,y,test_size=0.2,random_state=42,stratify=y)"
      ],
      "execution_count": 0,
      "outputs": []
    },
    {
      "cell_type": "markdown",
      "metadata": {
        "id": "hKNwOUNXjMT6",
        "colab_type": "text"
      },
      "source": [
        "**after implementing SMOTE**"
      ]
    },
    {
      "cell_type": "code",
      "metadata": {
        "id": "nvVlcJhEiNCU",
        "colab_type": "code",
        "colab": {
          "base_uri": "https://localhost:8080/",
          "height": 52
        },
        "outputId": "0bdc137e-55e4-4a9e-febc-fed57b517051"
      },
      "source": [
        "print('Training Data Shape:', x_train.shape, y_train.shape)\n",
        "print('Testing Data Shape:', x_test.shape, y_test.shape)"
      ],
      "execution_count": 129,
      "outputs": [
        {
          "output_type": "stream",
          "text": [
            "Training Data Shape: (709713, 32) (709713,)\n",
            "Testing Data Shape: (177429, 32) (177429,)\n"
          ],
          "name": "stdout"
        }
      ]
    },
    {
      "cell_type": "code",
      "metadata": {
        "id": "STwel10TjRcY",
        "colab_type": "code",
        "colab": {
          "base_uri": "https://localhost:8080/",
          "height": 212
        },
        "outputId": "7664d5d2-7868-4e09-f0a3-12f971439c30"
      },
      "source": [
        "log  = LogisticRegression(random_state = 42)\n",
        "log.fit(x_train, y_train)\n",
        "y_pred = log.predict(x_test)\n",
        "\n",
        "# Accuracy Estimation\n",
        "print('Accuracy Score (Train Data):', np.round(log.score(x_train, y_train), decimals = 3))\n",
        "print('Accuracy Score (Test Data):', np.round(log.score(x_test, y_test), decimals = 3))\n",
        "\n",
        "# Classification Report\n",
        "logistic_report = classification_report(y_test, y_pred)\n",
        "print(logistic_report)"
      ],
      "execution_count": 130,
      "outputs": [
        {
          "output_type": "stream",
          "text": [
            "Accuracy Score (Train Data): 0.952\n",
            "Accuracy Score (Test Data): 0.952\n",
            "              precision    recall  f1-score   support\n",
            "\n",
            "       False       0.95      1.00      0.97    163952\n",
            "        True       0.99      0.36      0.53     13477\n",
            "\n",
            "    accuracy                           0.95    177429\n",
            "   macro avg       0.97      0.68      0.75    177429\n",
            "weighted avg       0.95      0.95      0.94    177429\n",
            "\n"
          ],
          "name": "stdout"
        }
      ]
    },
    {
      "cell_type": "code",
      "metadata": {
        "id": "BYJB6yMKkfTG",
        "colab_type": "code",
        "colab": {
          "base_uri": "https://localhost:8080/",
          "height": 212
        },
        "outputId": "ceb1f61b-7228-4024-dc42-4f0e527fe32c"
      },
      "source": [
        "rfc = RandomForestClassifier(n_estimators = 100, max_depth = 5, random_state = 42, n_jobs = -1)\n",
        "rfc.fit(x_train, y_train)\n",
        "\n",
        "y_pred = rfc.predict(x_test)\n",
        "\n",
        "# Accuracy Estimation\n",
        "print('Accuracy Score (Train Data):', np.round(rfc.score(x_train, y_train), decimals = 3))\n",
        "print('Accuracy Score (Test Data):', np.round(rfc.score(x_test, y_test), decimals = 3))\n",
        "\n",
        "# Classification Report\n",
        "random_forest_report = classification_report(y_test, y_pred)\n",
        "print(random_forest_report)"
      ],
      "execution_count": 131,
      "outputs": [
        {
          "output_type": "stream",
          "text": [
            "Accuracy Score (Train Data): 0.952\n",
            "Accuracy Score (Test Data): 0.952\n",
            "              precision    recall  f1-score   support\n",
            "\n",
            "       False       0.95      1.00      0.97    163952\n",
            "        True       1.00      0.36      0.53     13477\n",
            "\n",
            "    accuracy                           0.95    177429\n",
            "   macro avg       0.98      0.68      0.75    177429\n",
            "weighted avg       0.95      0.95      0.94    177429\n",
            "\n"
          ],
          "name": "stdout"
        }
      ]
    },
    {
      "cell_type": "code",
      "metadata": {
        "id": "rCRYwQURk1Nl",
        "colab_type": "code",
        "colab": {
          "base_uri": "https://localhost:8080/",
          "height": 212
        },
        "outputId": "d39bffc1-4246-43a3-f0e9-76e3bf477853"
      },
      "source": [
        "clf = XGBClassifier(max_depth = 5, n_jobs = -1, random_state = 42)\n",
        "clf.fit(x_train, y_train)\n",
        "\n",
        "y_pred = clf.predict(x_test)\n",
        "\n",
        "# Accuracy Estimation\n",
        "print('Accuracy Score (Train Data):', np.round(clf.score(x_train, y_train), decimals = 3))\n",
        "print('Accuracy Score (Test Data):', np.round(clf.score(x_test, y_test), decimals = 3))\n",
        "\n",
        "# Classification Report\n",
        "XGB_report = classification_report(y_test, y_pred)\n",
        "print(XGB_report)"
      ],
      "execution_count": 132,
      "outputs": [
        {
          "output_type": "stream",
          "text": [
            "Accuracy Score (Train Data): 0.966\n",
            "Accuracy Score (Test Data): 0.966\n",
            "              precision    recall  f1-score   support\n",
            "\n",
            "       False       0.96      1.00      0.98    163952\n",
            "        True       1.00      0.55      0.71     13477\n",
            "\n",
            "    accuracy                           0.97    177429\n",
            "   macro avg       0.98      0.78      0.85    177429\n",
            "weighted avg       0.97      0.97      0.96    177429\n",
            "\n"
          ],
          "name": "stdout"
        }
      ]
    },
    {
      "cell_type": "code",
      "metadata": {
        "id": "iodRM640lBQv",
        "colab_type": "code",
        "colab": {
          "base_uri": "https://localhost:8080/",
          "height": 132
        },
        "outputId": "d7c5ca03-e310-45a9-8de3-21edeffb0a11"
      },
      "source": [
        "fig = plt.figure(figsize = [12, 8])\n",
        "ax = fig.add_subplot(1, 1, 1)\n",
        "\n",
        "colours = ['#CAF270', '#95E681', '#65D794', '#3CC5A3', '#26B1AC', '#359CAC', '#4D86A4', '#607093', '#695B7C']\n",
        "\n",
        "ax = plot_importance(clf, height = 1, color = colours, grid = False, show_values = False, importance_type = 'cover', ax = ax)\n",
        "\n",
        "total = data.shape[0]\n",
        "for p in ax.patches:\n",
        "        percentage = '{:.2f}%'.format(100 * p.get_width()/total)\n",
        "        x = p.get_x() + p.get_width() + 0.2\n",
        "        y = p.get_y() + p.get_height() / 2\n",
        "        ax.annotate(percentage, (x, y))\n",
        "\n",
        "plt.xlabel(xlabel = 'F-Score', size = 14)\n",
        "plt.ylabel(ylabel = 'Features', size = 14)\n",
        "plt.xticks(size = 12)\n",
        "plt.yticks(size = 12)\n",
        "plt.title('Ordering feature importance learned by model', size = 16)\n",
        "plt.show("
      ],
      "execution_count": 133,
      "outputs": [
        {
          "output_type": "error",
          "ename": "SyntaxError",
          "evalue": "ignored",
          "traceback": [
            "\u001b[0;36m  File \u001b[0;32m\"<ipython-input-133-0676f6adfbab>\"\u001b[0;36m, line \u001b[0;32m20\u001b[0m\n\u001b[0;31m    plt.show(\u001b[0m\n\u001b[0m             ^\u001b[0m\n\u001b[0;31mSyntaxError\u001b[0m\u001b[0;31m:\u001b[0m unexpected EOF while parsing\n"
          ]
        }
      ]
    },
    {
      "cell_type": "code",
      "metadata": {
        "id": "5e6xmm5plL57",
        "colab_type": "code",
        "colab": {}
      },
      "source": [
        ""
      ],
      "execution_count": 0,
      "outputs": []
    }
  ]
}