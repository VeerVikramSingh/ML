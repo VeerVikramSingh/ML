{
  "nbformat": 4,
  "nbformat_minor": 0,
  "metadata": {
    "colab": {
      "name": "PrincipalComponentAnalysis .ipynb",
      "provenance": [],
      "authorship_tag": "ABX9TyMN+yJFgJb7PU+gCkTrrM2W",
      "include_colab_link": true
    },
    "kernelspec": {
      "name": "python3",
      "display_name": "Python 3"
    }
  },
  "cells": [
    {
      "cell_type": "markdown",
      "metadata": {
        "id": "view-in-github",
        "colab_type": "text"
      },
      "source": [
        "<a href=\"https://colab.research.google.com/github/VeerVikramSingh/ML/blob/master/PrincipalComponentAnalysis_.ipynb\" target=\"_parent\"><img src=\"https://colab.research.google.com/assets/colab-badge.svg\" alt=\"Open In Colab\"/></a>"
      ]
    },
    {
      "cell_type": "code",
      "metadata": {
        "id": "bDG3WGEdSsLJ",
        "colab_type": "code",
        "colab": {}
      },
      "source": [
        "import sklearn\n",
        "import numpy as np\n",
        "import pandas as pd\n",
        "import matplotlib.pyplot as plt\n",
        "%matplotlib inline\n",
        "import seaborn as sns\n",
        "from collections import Counter"
      ],
      "execution_count": 0,
      "outputs": []
    },
    {
      "cell_type": "code",
      "metadata": {
        "id": "8SWeVgylS7zU",
        "colab_type": "code",
        "colab": {
          "base_uri": "https://localhost:8080/",
          "height": 246
        },
        "outputId": "a20f5956-e937-4dc7-abdf-db25c5820d43"
      },
      "source": [
        "value=pd.read_csv(\"https://raw.githubusercontent.com/insaid2018/pca-file/master/train.csv\")\n",
        "value.head()"
      ],
      "execution_count": 2,
      "outputs": [
        {
          "output_type": "execute_result",
          "data": {
            "text/html": [
              "<div>\n",
              "<style scoped>\n",
              "    .dataframe tbody tr th:only-of-type {\n",
              "        vertical-align: middle;\n",
              "    }\n",
              "\n",
              "    .dataframe tbody tr th {\n",
              "        vertical-align: top;\n",
              "    }\n",
              "\n",
              "    .dataframe thead th {\n",
              "        text-align: right;\n",
              "    }\n",
              "</style>\n",
              "<table border=\"1\" class=\"dataframe\">\n",
              "  <thead>\n",
              "    <tr style=\"text-align: right;\">\n",
              "      <th></th>\n",
              "      <th>ID</th>\n",
              "      <th>target</th>\n",
              "      <th>48df886f9</th>\n",
              "      <th>0deb4b6a8</th>\n",
              "      <th>34b15f335</th>\n",
              "      <th>a8cb14b00</th>\n",
              "      <th>2f0771a37</th>\n",
              "      <th>30347e683</th>\n",
              "      <th>d08d1fbe3</th>\n",
              "      <th>6ee66e115</th>\n",
              "      <th>20aa07010</th>\n",
              "      <th>dc5a8f1d8</th>\n",
              "      <th>11d86fa6a</th>\n",
              "      <th>77c9823f2</th>\n",
              "      <th>8d6c2a0b2</th>\n",
              "      <th>4681de4fd</th>\n",
              "      <th>adf119b9a</th>\n",
              "      <th>cff75dd09</th>\n",
              "      <th>96f83a237</th>\n",
              "      <th>b8a716ebf</th>\n",
              "      <th>6c7a4567c</th>\n",
              "      <th>4fcfd2b4d</th>\n",
              "      <th>f3b9c0b95</th>\n",
              "      <th>71cebf11c</th>\n",
              "      <th>d966ac62c</th>\n",
              "      <th>68b647452</th>\n",
              "      <th>c88d108c9</th>\n",
              "      <th>ff7b471cd</th>\n",
              "      <th>d5308d8bc</th>\n",
              "      <th>0d866c3d7</th>\n",
              "      <th>bc3f77679</th>\n",
              "      <th>bd8f989f1</th>\n",
              "      <th>0eff5bf95</th>\n",
              "      <th>22ed6dba3</th>\n",
              "      <th>92b13ebba</th>\n",
              "      <th>c330f1a67</th>\n",
              "      <th>233c7c17c</th>\n",
              "      <th>2cb4d123e</th>\n",
              "      <th>eeac16933</th>\n",
              "      <th>87ffda550</th>\n",
              "      <th>...</th>\n",
              "      <th>969caa87a</th>\n",
              "      <th>00302fe51</th>\n",
              "      <th>1189ee335</th>\n",
              "      <th>ca04a07ca</th>\n",
              "      <th>f6f15ffa5</th>\n",
              "      <th>841704460</th>\n",
              "      <th>ea5ed6ff7</th>\n",
              "      <th>b1bb8eac3</th>\n",
              "      <th>8132d18b8</th>\n",
              "      <th>c24ea6548</th>\n",
              "      <th>cdfc2b069</th>\n",
              "      <th>2a879b4f7</th>\n",
              "      <th>6b119d8ce</th>\n",
              "      <th>98dea9e42</th>\n",
              "      <th>9f2471031</th>\n",
              "      <th>88458cb21</th>\n",
              "      <th>f40da20f4</th>\n",
              "      <th>7ad6b38bd</th>\n",
              "      <th>c901e7df1</th>\n",
              "      <th>8f55955dc</th>\n",
              "      <th>85dcc913d</th>\n",
              "      <th>5ca0b9b0c</th>\n",
              "      <th>eab8abf7a</th>\n",
              "      <th>8d8bffbae</th>\n",
              "      <th>2a1f6c7f9</th>\n",
              "      <th>9437d8b64</th>\n",
              "      <th>5831f4c76</th>\n",
              "      <th>2e84e09c5</th>\n",
              "      <th>d45fd5508</th>\n",
              "      <th>a165f5761</th>\n",
              "      <th>3ecc09859</th>\n",
              "      <th>9281abeea</th>\n",
              "      <th>8675bec0b</th>\n",
              "      <th>3a13ed79a</th>\n",
              "      <th>f677d4d13</th>\n",
              "      <th>71b203550</th>\n",
              "      <th>137efaa80</th>\n",
              "      <th>fb36b89d9</th>\n",
              "      <th>7e293fbaf</th>\n",
              "      <th>9fc776466</th>\n",
              "    </tr>\n",
              "  </thead>\n",
              "  <tbody>\n",
              "    <tr>\n",
              "      <th>0</th>\n",
              "      <td>000d6aaf2</td>\n",
              "      <td>38000000.0</td>\n",
              "      <td>0.0</td>\n",
              "      <td>0</td>\n",
              "      <td>0.0</td>\n",
              "      <td>0</td>\n",
              "      <td>0</td>\n",
              "      <td>0</td>\n",
              "      <td>0</td>\n",
              "      <td>0</td>\n",
              "      <td>0.0</td>\n",
              "      <td>0.0</td>\n",
              "      <td>0.0</td>\n",
              "      <td>0</td>\n",
              "      <td>0</td>\n",
              "      <td>0</td>\n",
              "      <td>0</td>\n",
              "      <td>0.0</td>\n",
              "      <td>0</td>\n",
              "      <td>0.0</td>\n",
              "      <td>0</td>\n",
              "      <td>0</td>\n",
              "      <td>0.0</td>\n",
              "      <td>0</td>\n",
              "      <td>0</td>\n",
              "      <td>0.0</td>\n",
              "      <td>0</td>\n",
              "      <td>0</td>\n",
              "      <td>0</td>\n",
              "      <td>0.0</td>\n",
              "      <td>0</td>\n",
              "      <td>0.0</td>\n",
              "      <td>0</td>\n",
              "      <td>0.0</td>\n",
              "      <td>0.0</td>\n",
              "      <td>0</td>\n",
              "      <td>0.0</td>\n",
              "      <td>0</td>\n",
              "      <td>0</td>\n",
              "      <td>1300000.0</td>\n",
              "      <td>...</td>\n",
              "      <td>0</td>\n",
              "      <td>0</td>\n",
              "      <td>1100000.0</td>\n",
              "      <td>0</td>\n",
              "      <td>0</td>\n",
              "      <td>0</td>\n",
              "      <td>0.0</td>\n",
              "      <td>0.0</td>\n",
              "      <td>14800000</td>\n",
              "      <td>0.0</td>\n",
              "      <td>1200000.0</td>\n",
              "      <td>0.0</td>\n",
              "      <td>0.0</td>\n",
              "      <td>0</td>\n",
              "      <td>0</td>\n",
              "      <td>0</td>\n",
              "      <td>0</td>\n",
              "      <td>0.0</td>\n",
              "      <td>4000000</td>\n",
              "      <td>0</td>\n",
              "      <td>0.0</td>\n",
              "      <td>0</td>\n",
              "      <td>0</td>\n",
              "      <td>0.0</td>\n",
              "      <td>0</td>\n",
              "      <td>0</td>\n",
              "      <td>0.0</td>\n",
              "      <td>0</td>\n",
              "      <td>0</td>\n",
              "      <td>0.0</td>\n",
              "      <td>0.0</td>\n",
              "      <td>0.0</td>\n",
              "      <td>0.0</td>\n",
              "      <td>0</td>\n",
              "      <td>0</td>\n",
              "      <td>0</td>\n",
              "      <td>0</td>\n",
              "      <td>0</td>\n",
              "      <td>0</td>\n",
              "      <td>0</td>\n",
              "    </tr>\n",
              "    <tr>\n",
              "      <th>1</th>\n",
              "      <td>000fbd867</td>\n",
              "      <td>600000.0</td>\n",
              "      <td>0.0</td>\n",
              "      <td>0</td>\n",
              "      <td>0.0</td>\n",
              "      <td>0</td>\n",
              "      <td>0</td>\n",
              "      <td>0</td>\n",
              "      <td>0</td>\n",
              "      <td>0</td>\n",
              "      <td>2200000.0</td>\n",
              "      <td>0.0</td>\n",
              "      <td>0.0</td>\n",
              "      <td>0</td>\n",
              "      <td>0</td>\n",
              "      <td>0</td>\n",
              "      <td>0</td>\n",
              "      <td>0.0</td>\n",
              "      <td>0</td>\n",
              "      <td>0.0</td>\n",
              "      <td>0</td>\n",
              "      <td>0</td>\n",
              "      <td>0.0</td>\n",
              "      <td>0</td>\n",
              "      <td>0</td>\n",
              "      <td>0.0</td>\n",
              "      <td>0</td>\n",
              "      <td>0</td>\n",
              "      <td>0</td>\n",
              "      <td>0.0</td>\n",
              "      <td>0</td>\n",
              "      <td>0.0</td>\n",
              "      <td>0</td>\n",
              "      <td>0.0</td>\n",
              "      <td>0.0</td>\n",
              "      <td>0</td>\n",
              "      <td>0.0</td>\n",
              "      <td>0</td>\n",
              "      <td>0</td>\n",
              "      <td>0.0</td>\n",
              "      <td>...</td>\n",
              "      <td>0</td>\n",
              "      <td>0</td>\n",
              "      <td>0.0</td>\n",
              "      <td>0</td>\n",
              "      <td>0</td>\n",
              "      <td>0</td>\n",
              "      <td>0.0</td>\n",
              "      <td>0.0</td>\n",
              "      <td>0</td>\n",
              "      <td>0.0</td>\n",
              "      <td>0.0</td>\n",
              "      <td>0.0</td>\n",
              "      <td>0.0</td>\n",
              "      <td>0</td>\n",
              "      <td>0</td>\n",
              "      <td>0</td>\n",
              "      <td>0</td>\n",
              "      <td>0.0</td>\n",
              "      <td>0</td>\n",
              "      <td>0</td>\n",
              "      <td>0.0</td>\n",
              "      <td>0</td>\n",
              "      <td>0</td>\n",
              "      <td>0.0</td>\n",
              "      <td>0</td>\n",
              "      <td>0</td>\n",
              "      <td>0.0</td>\n",
              "      <td>0</td>\n",
              "      <td>0</td>\n",
              "      <td>0.0</td>\n",
              "      <td>0.0</td>\n",
              "      <td>0.0</td>\n",
              "      <td>0.0</td>\n",
              "      <td>0</td>\n",
              "      <td>0</td>\n",
              "      <td>0</td>\n",
              "      <td>0</td>\n",
              "      <td>0</td>\n",
              "      <td>0</td>\n",
              "      <td>0</td>\n",
              "    </tr>\n",
              "    <tr>\n",
              "      <th>2</th>\n",
              "      <td>0027d6b71</td>\n",
              "      <td>10000000.0</td>\n",
              "      <td>0.0</td>\n",
              "      <td>0</td>\n",
              "      <td>0.0</td>\n",
              "      <td>0</td>\n",
              "      <td>0</td>\n",
              "      <td>0</td>\n",
              "      <td>0</td>\n",
              "      <td>0</td>\n",
              "      <td>0.0</td>\n",
              "      <td>0.0</td>\n",
              "      <td>0.0</td>\n",
              "      <td>0</td>\n",
              "      <td>0</td>\n",
              "      <td>0</td>\n",
              "      <td>0</td>\n",
              "      <td>0.0</td>\n",
              "      <td>0</td>\n",
              "      <td>0.0</td>\n",
              "      <td>0</td>\n",
              "      <td>0</td>\n",
              "      <td>0.0</td>\n",
              "      <td>0</td>\n",
              "      <td>0</td>\n",
              "      <td>0.0</td>\n",
              "      <td>0</td>\n",
              "      <td>0</td>\n",
              "      <td>0</td>\n",
              "      <td>0.0</td>\n",
              "      <td>0</td>\n",
              "      <td>0.0</td>\n",
              "      <td>0</td>\n",
              "      <td>0.0</td>\n",
              "      <td>0.0</td>\n",
              "      <td>0</td>\n",
              "      <td>0.0</td>\n",
              "      <td>0</td>\n",
              "      <td>0</td>\n",
              "      <td>0.0</td>\n",
              "      <td>...</td>\n",
              "      <td>0</td>\n",
              "      <td>0</td>\n",
              "      <td>0.0</td>\n",
              "      <td>0</td>\n",
              "      <td>0</td>\n",
              "      <td>0</td>\n",
              "      <td>0.0</td>\n",
              "      <td>0.0</td>\n",
              "      <td>0</td>\n",
              "      <td>0.0</td>\n",
              "      <td>0.0</td>\n",
              "      <td>0.0</td>\n",
              "      <td>0.0</td>\n",
              "      <td>0</td>\n",
              "      <td>0</td>\n",
              "      <td>0</td>\n",
              "      <td>0</td>\n",
              "      <td>0.0</td>\n",
              "      <td>0</td>\n",
              "      <td>0</td>\n",
              "      <td>0.0</td>\n",
              "      <td>0</td>\n",
              "      <td>0</td>\n",
              "      <td>0.0</td>\n",
              "      <td>0</td>\n",
              "      <td>0</td>\n",
              "      <td>0.0</td>\n",
              "      <td>0</td>\n",
              "      <td>0</td>\n",
              "      <td>0.0</td>\n",
              "      <td>0.0</td>\n",
              "      <td>0.0</td>\n",
              "      <td>0.0</td>\n",
              "      <td>0</td>\n",
              "      <td>0</td>\n",
              "      <td>0</td>\n",
              "      <td>0</td>\n",
              "      <td>0</td>\n",
              "      <td>0</td>\n",
              "      <td>0</td>\n",
              "    </tr>\n",
              "    <tr>\n",
              "      <th>3</th>\n",
              "      <td>0028cbf45</td>\n",
              "      <td>2000000.0</td>\n",
              "      <td>0.0</td>\n",
              "      <td>0</td>\n",
              "      <td>0.0</td>\n",
              "      <td>0</td>\n",
              "      <td>0</td>\n",
              "      <td>0</td>\n",
              "      <td>0</td>\n",
              "      <td>0</td>\n",
              "      <td>0.0</td>\n",
              "      <td>0.0</td>\n",
              "      <td>0.0</td>\n",
              "      <td>0</td>\n",
              "      <td>0</td>\n",
              "      <td>0</td>\n",
              "      <td>0</td>\n",
              "      <td>0.0</td>\n",
              "      <td>0</td>\n",
              "      <td>0.0</td>\n",
              "      <td>0</td>\n",
              "      <td>0</td>\n",
              "      <td>0.0</td>\n",
              "      <td>0</td>\n",
              "      <td>0</td>\n",
              "      <td>0.0</td>\n",
              "      <td>0</td>\n",
              "      <td>0</td>\n",
              "      <td>0</td>\n",
              "      <td>0.0</td>\n",
              "      <td>0</td>\n",
              "      <td>0.0</td>\n",
              "      <td>0</td>\n",
              "      <td>0.0</td>\n",
              "      <td>0.0</td>\n",
              "      <td>0</td>\n",
              "      <td>0.0</td>\n",
              "      <td>0</td>\n",
              "      <td>0</td>\n",
              "      <td>0.0</td>\n",
              "      <td>...</td>\n",
              "      <td>0</td>\n",
              "      <td>0</td>\n",
              "      <td>0.0</td>\n",
              "      <td>0</td>\n",
              "      <td>0</td>\n",
              "      <td>0</td>\n",
              "      <td>0.0</td>\n",
              "      <td>0.0</td>\n",
              "      <td>0</td>\n",
              "      <td>0.0</td>\n",
              "      <td>0.0</td>\n",
              "      <td>0.0</td>\n",
              "      <td>0.0</td>\n",
              "      <td>0</td>\n",
              "      <td>0</td>\n",
              "      <td>0</td>\n",
              "      <td>0</td>\n",
              "      <td>0.0</td>\n",
              "      <td>0</td>\n",
              "      <td>0</td>\n",
              "      <td>0.0</td>\n",
              "      <td>0</td>\n",
              "      <td>0</td>\n",
              "      <td>0.0</td>\n",
              "      <td>0</td>\n",
              "      <td>0</td>\n",
              "      <td>0.0</td>\n",
              "      <td>0</td>\n",
              "      <td>0</td>\n",
              "      <td>0.0</td>\n",
              "      <td>0.0</td>\n",
              "      <td>0.0</td>\n",
              "      <td>0.0</td>\n",
              "      <td>0</td>\n",
              "      <td>0</td>\n",
              "      <td>0</td>\n",
              "      <td>0</td>\n",
              "      <td>0</td>\n",
              "      <td>0</td>\n",
              "      <td>0</td>\n",
              "    </tr>\n",
              "    <tr>\n",
              "      <th>4</th>\n",
              "      <td>002a68644</td>\n",
              "      <td>14400000.0</td>\n",
              "      <td>0.0</td>\n",
              "      <td>0</td>\n",
              "      <td>0.0</td>\n",
              "      <td>0</td>\n",
              "      <td>0</td>\n",
              "      <td>0</td>\n",
              "      <td>0</td>\n",
              "      <td>0</td>\n",
              "      <td>2000000.0</td>\n",
              "      <td>0.0</td>\n",
              "      <td>0.0</td>\n",
              "      <td>0</td>\n",
              "      <td>0</td>\n",
              "      <td>0</td>\n",
              "      <td>0</td>\n",
              "      <td>0.0</td>\n",
              "      <td>0</td>\n",
              "      <td>0.0</td>\n",
              "      <td>0</td>\n",
              "      <td>0</td>\n",
              "      <td>0.0</td>\n",
              "      <td>0</td>\n",
              "      <td>0</td>\n",
              "      <td>0.0</td>\n",
              "      <td>0</td>\n",
              "      <td>0</td>\n",
              "      <td>0</td>\n",
              "      <td>0.0</td>\n",
              "      <td>0</td>\n",
              "      <td>0.0</td>\n",
              "      <td>0</td>\n",
              "      <td>0.0</td>\n",
              "      <td>0.0</td>\n",
              "      <td>0</td>\n",
              "      <td>0.0</td>\n",
              "      <td>0</td>\n",
              "      <td>0</td>\n",
              "      <td>0.0</td>\n",
              "      <td>...</td>\n",
              "      <td>0</td>\n",
              "      <td>0</td>\n",
              "      <td>0.0</td>\n",
              "      <td>0</td>\n",
              "      <td>0</td>\n",
              "      <td>0</td>\n",
              "      <td>0.0</td>\n",
              "      <td>0.0</td>\n",
              "      <td>0</td>\n",
              "      <td>0.0</td>\n",
              "      <td>0.0</td>\n",
              "      <td>0.0</td>\n",
              "      <td>0.0</td>\n",
              "      <td>0</td>\n",
              "      <td>0</td>\n",
              "      <td>0</td>\n",
              "      <td>0</td>\n",
              "      <td>0.0</td>\n",
              "      <td>0</td>\n",
              "      <td>0</td>\n",
              "      <td>0.0</td>\n",
              "      <td>0</td>\n",
              "      <td>0</td>\n",
              "      <td>0.0</td>\n",
              "      <td>0</td>\n",
              "      <td>0</td>\n",
              "      <td>0.0</td>\n",
              "      <td>0</td>\n",
              "      <td>0</td>\n",
              "      <td>0.0</td>\n",
              "      <td>0.0</td>\n",
              "      <td>0.0</td>\n",
              "      <td>0.0</td>\n",
              "      <td>0</td>\n",
              "      <td>0</td>\n",
              "      <td>0</td>\n",
              "      <td>0</td>\n",
              "      <td>0</td>\n",
              "      <td>0</td>\n",
              "      <td>0</td>\n",
              "    </tr>\n",
              "  </tbody>\n",
              "</table>\n",
              "<p>5 rows × 4993 columns</p>\n",
              "</div>"
            ],
            "text/plain": [
              "          ID      target  48df886f9  ...  fb36b89d9  7e293fbaf  9fc776466\n",
              "0  000d6aaf2  38000000.0        0.0  ...          0          0          0\n",
              "1  000fbd867    600000.0        0.0  ...          0          0          0\n",
              "2  0027d6b71  10000000.0        0.0  ...          0          0          0\n",
              "3  0028cbf45   2000000.0        0.0  ...          0          0          0\n",
              "4  002a68644  14400000.0        0.0  ...          0          0          0\n",
              "\n",
              "[5 rows x 4993 columns]"
            ]
          },
          "metadata": {
            "tags": []
          },
          "execution_count": 2
        }
      ]
    },
    {
      "cell_type": "code",
      "metadata": {
        "id": "p-s4szoOTIlK",
        "colab_type": "code",
        "colab": {
          "base_uri": "https://localhost:8080/",
          "height": 34
        },
        "outputId": "d7b80d5d-5543-43bd-e58a-887135707801"
      },
      "source": [
        "value.shape"
      ],
      "execution_count": 3,
      "outputs": [
        {
          "output_type": "execute_result",
          "data": {
            "text/plain": [
              "(4459, 4993)"
            ]
          },
          "metadata": {
            "tags": []
          },
          "execution_count": 3
        }
      ]
    },
    {
      "cell_type": "code",
      "metadata": {
        "id": "9hEoi9VJTNj4",
        "colab_type": "code",
        "colab": {
          "base_uri": "https://localhost:8080/",
          "height": 123
        },
        "outputId": "8bac9355-db68-4561-b11c-79c7c16414da"
      },
      "source": [
        "value.columns"
      ],
      "execution_count": 4,
      "outputs": [
        {
          "output_type": "execute_result",
          "data": {
            "text/plain": [
              "Index(['ID', 'target', '48df886f9', '0deb4b6a8', '34b15f335', 'a8cb14b00',\n",
              "       '2f0771a37', '30347e683', 'd08d1fbe3', '6ee66e115',\n",
              "       ...\n",
              "       '3ecc09859', '9281abeea', '8675bec0b', '3a13ed79a', 'f677d4d13',\n",
              "       '71b203550', '137efaa80', 'fb36b89d9', '7e293fbaf', '9fc776466'],\n",
              "      dtype='object', length=4993)"
            ]
          },
          "metadata": {
            "tags": []
          },
          "execution_count": 4
        }
      ]
    },
    {
      "cell_type": "code",
      "metadata": {
        "id": "Ag8NJW9hTVXg",
        "colab_type": "code",
        "colab": {
          "base_uri": "https://localhost:8080/",
          "height": 336
        },
        "outputId": "197e997c-fd17-4257-d00e-8f58b1952bdf"
      },
      "source": [
        "value.describe()"
      ],
      "execution_count": 5,
      "outputs": [
        {
          "output_type": "execute_result",
          "data": {
            "text/html": [
              "<div>\n",
              "<style scoped>\n",
              "    .dataframe tbody tr th:only-of-type {\n",
              "        vertical-align: middle;\n",
              "    }\n",
              "\n",
              "    .dataframe tbody tr th {\n",
              "        vertical-align: top;\n",
              "    }\n",
              "\n",
              "    .dataframe thead th {\n",
              "        text-align: right;\n",
              "    }\n",
              "</style>\n",
              "<table border=\"1\" class=\"dataframe\">\n",
              "  <thead>\n",
              "    <tr style=\"text-align: right;\">\n",
              "      <th></th>\n",
              "      <th>target</th>\n",
              "      <th>48df886f9</th>\n",
              "      <th>0deb4b6a8</th>\n",
              "      <th>34b15f335</th>\n",
              "      <th>a8cb14b00</th>\n",
              "      <th>2f0771a37</th>\n",
              "      <th>30347e683</th>\n",
              "      <th>d08d1fbe3</th>\n",
              "      <th>6ee66e115</th>\n",
              "      <th>20aa07010</th>\n",
              "      <th>dc5a8f1d8</th>\n",
              "      <th>11d86fa6a</th>\n",
              "      <th>77c9823f2</th>\n",
              "      <th>8d6c2a0b2</th>\n",
              "      <th>4681de4fd</th>\n",
              "      <th>adf119b9a</th>\n",
              "      <th>cff75dd09</th>\n",
              "      <th>96f83a237</th>\n",
              "      <th>b8a716ebf</th>\n",
              "      <th>6c7a4567c</th>\n",
              "      <th>4fcfd2b4d</th>\n",
              "      <th>f3b9c0b95</th>\n",
              "      <th>71cebf11c</th>\n",
              "      <th>d966ac62c</th>\n",
              "      <th>68b647452</th>\n",
              "      <th>c88d108c9</th>\n",
              "      <th>ff7b471cd</th>\n",
              "      <th>d5308d8bc</th>\n",
              "      <th>0d866c3d7</th>\n",
              "      <th>bc3f77679</th>\n",
              "      <th>bd8f989f1</th>\n",
              "      <th>0eff5bf95</th>\n",
              "      <th>22ed6dba3</th>\n",
              "      <th>92b13ebba</th>\n",
              "      <th>c330f1a67</th>\n",
              "      <th>233c7c17c</th>\n",
              "      <th>2cb4d123e</th>\n",
              "      <th>eeac16933</th>\n",
              "      <th>87ffda550</th>\n",
              "      <th>822e49b95</th>\n",
              "      <th>...</th>\n",
              "      <th>969caa87a</th>\n",
              "      <th>00302fe51</th>\n",
              "      <th>1189ee335</th>\n",
              "      <th>ca04a07ca</th>\n",
              "      <th>f6f15ffa5</th>\n",
              "      <th>841704460</th>\n",
              "      <th>ea5ed6ff7</th>\n",
              "      <th>b1bb8eac3</th>\n",
              "      <th>8132d18b8</th>\n",
              "      <th>c24ea6548</th>\n",
              "      <th>cdfc2b069</th>\n",
              "      <th>2a879b4f7</th>\n",
              "      <th>6b119d8ce</th>\n",
              "      <th>98dea9e42</th>\n",
              "      <th>9f2471031</th>\n",
              "      <th>88458cb21</th>\n",
              "      <th>f40da20f4</th>\n",
              "      <th>7ad6b38bd</th>\n",
              "      <th>c901e7df1</th>\n",
              "      <th>8f55955dc</th>\n",
              "      <th>85dcc913d</th>\n",
              "      <th>5ca0b9b0c</th>\n",
              "      <th>eab8abf7a</th>\n",
              "      <th>8d8bffbae</th>\n",
              "      <th>2a1f6c7f9</th>\n",
              "      <th>9437d8b64</th>\n",
              "      <th>5831f4c76</th>\n",
              "      <th>2e84e09c5</th>\n",
              "      <th>d45fd5508</th>\n",
              "      <th>a165f5761</th>\n",
              "      <th>3ecc09859</th>\n",
              "      <th>9281abeea</th>\n",
              "      <th>8675bec0b</th>\n",
              "      <th>3a13ed79a</th>\n",
              "      <th>f677d4d13</th>\n",
              "      <th>71b203550</th>\n",
              "      <th>137efaa80</th>\n",
              "      <th>fb36b89d9</th>\n",
              "      <th>7e293fbaf</th>\n",
              "      <th>9fc776466</th>\n",
              "    </tr>\n",
              "  </thead>\n",
              "  <tbody>\n",
              "    <tr>\n",
              "      <th>count</th>\n",
              "      <td>4.459000e+03</td>\n",
              "      <td>4.459000e+03</td>\n",
              "      <td>4.459000e+03</td>\n",
              "      <td>4.459000e+03</td>\n",
              "      <td>4.459000e+03</td>\n",
              "      <td>4.459000e+03</td>\n",
              "      <td>4.459000e+03</td>\n",
              "      <td>4.459000e+03</td>\n",
              "      <td>4.459000e+03</td>\n",
              "      <td>4.459000e+03</td>\n",
              "      <td>4.459000e+03</td>\n",
              "      <td>4.459000e+03</td>\n",
              "      <td>4459.000000</td>\n",
              "      <td>4.459000e+03</td>\n",
              "      <td>4.459000e+03</td>\n",
              "      <td>4.459000e+03</td>\n",
              "      <td>4.459000e+03</td>\n",
              "      <td>4.459000e+03</td>\n",
              "      <td>4.459000e+03</td>\n",
              "      <td>4.459000e+03</td>\n",
              "      <td>4.459000e+03</td>\n",
              "      <td>4.459000e+03</td>\n",
              "      <td>4.459000e+03</td>\n",
              "      <td>4.459000e+03</td>\n",
              "      <td>4.459000e+03</td>\n",
              "      <td>4.459000e+03</td>\n",
              "      <td>4.459000e+03</td>\n",
              "      <td>4459.0</td>\n",
              "      <td>4.459000e+03</td>\n",
              "      <td>4.459000e+03</td>\n",
              "      <td>4.459000e+03</td>\n",
              "      <td>4.459000e+03</td>\n",
              "      <td>4.459000e+03</td>\n",
              "      <td>4.459000e+03</td>\n",
              "      <td>4459.0</td>\n",
              "      <td>4.459000e+03</td>\n",
              "      <td>4.459000e+03</td>\n",
              "      <td>4459.0</td>\n",
              "      <td>4.459000e+03</td>\n",
              "      <td>4.459000e+03</td>\n",
              "      <td>...</td>\n",
              "      <td>4.459000e+03</td>\n",
              "      <td>4.459000e+03</td>\n",
              "      <td>4.459000e+03</td>\n",
              "      <td>4.459000e+03</td>\n",
              "      <td>4459.000000</td>\n",
              "      <td>4.459000e+03</td>\n",
              "      <td>4.459000e+03</td>\n",
              "      <td>4.459000e+03</td>\n",
              "      <td>4.459000e+03</td>\n",
              "      <td>4.459000e+03</td>\n",
              "      <td>4.459000e+03</td>\n",
              "      <td>4.459000e+03</td>\n",
              "      <td>4.459000e+03</td>\n",
              "      <td>4.459000e+03</td>\n",
              "      <td>4.459000e+03</td>\n",
              "      <td>4.459000e+03</td>\n",
              "      <td>4.459000e+03</td>\n",
              "      <td>4.459000e+03</td>\n",
              "      <td>4.459000e+03</td>\n",
              "      <td>4.459000e+03</td>\n",
              "      <td>4.459000e+03</td>\n",
              "      <td>4.459000e+03</td>\n",
              "      <td>4.459000e+03</td>\n",
              "      <td>4.459000e+03</td>\n",
              "      <td>4.459000e+03</td>\n",
              "      <td>4.459000e+03</td>\n",
              "      <td>4.459000e+03</td>\n",
              "      <td>4.459000e+03</td>\n",
              "      <td>4.459000e+03</td>\n",
              "      <td>4.459000e+03</td>\n",
              "      <td>4.459000e+03</td>\n",
              "      <td>4.459000e+03</td>\n",
              "      <td>4.459000e+03</td>\n",
              "      <td>4.459000e+03</td>\n",
              "      <td>4459.000000</td>\n",
              "      <td>4.459000e+03</td>\n",
              "      <td>4.459000e+03</td>\n",
              "      <td>4.459000e+03</td>\n",
              "      <td>4.459000e+03</td>\n",
              "      <td>4.459000e+03</td>\n",
              "    </tr>\n",
              "    <tr>\n",
              "      <th>mean</th>\n",
              "      <td>5.944923e+06</td>\n",
              "      <td>1.465493e+04</td>\n",
              "      <td>1.390895e+03</td>\n",
              "      <td>2.672245e+04</td>\n",
              "      <td>4.530164e+03</td>\n",
              "      <td>2.640996e+04</td>\n",
              "      <td>3.070811e+04</td>\n",
              "      <td>1.686522e+04</td>\n",
              "      <td>4.669208e+03</td>\n",
              "      <td>2.569407e+06</td>\n",
              "      <td>1.552158e+05</td>\n",
              "      <td>1.950500e+05</td>\n",
              "      <td>8.522090</td>\n",
              "      <td>3.595874e+03</td>\n",
              "      <td>2.258015e+06</td>\n",
              "      <td>2.680843e+05</td>\n",
              "      <td>4.588255e+04</td>\n",
              "      <td>4.451478e+04</td>\n",
              "      <td>3.968961e+05</td>\n",
              "      <td>2.883129e+04</td>\n",
              "      <td>1.940794e+03</td>\n",
              "      <td>4.483841e+05</td>\n",
              "      <td>7.989729e+04</td>\n",
              "      <td>1.548394e+05</td>\n",
              "      <td>1.128254e+05</td>\n",
              "      <td>1.148329e+05</td>\n",
              "      <td>3.377439e+03</td>\n",
              "      <td>0.0</td>\n",
              "      <td>3.794130e+05</td>\n",
              "      <td>1.202247e+05</td>\n",
              "      <td>7.426464e+05</td>\n",
              "      <td>4.994842e+03</td>\n",
              "      <td>1.725258e+06</td>\n",
              "      <td>1.941882e+05</td>\n",
              "      <td>0.0</td>\n",
              "      <td>9.338327e+04</td>\n",
              "      <td>6.296896e+05</td>\n",
              "      <td>0.0</td>\n",
              "      <td>1.249545e+06</td>\n",
              "      <td>1.200042e+06</td>\n",
              "      <td>...</td>\n",
              "      <td>2.412200e+03</td>\n",
              "      <td>3.767589e+05</td>\n",
              "      <td>6.669478e+05</td>\n",
              "      <td>4.281949e+04</td>\n",
              "      <td>6.279435</td>\n",
              "      <td>1.409112e+05</td>\n",
              "      <td>2.364780e+05</td>\n",
              "      <td>7.627485e+05</td>\n",
              "      <td>6.752640e+05</td>\n",
              "      <td>5.428654e+05</td>\n",
              "      <td>7.776979e+05</td>\n",
              "      <td>1.004851e+05</td>\n",
              "      <td>3.825025e+05</td>\n",
              "      <td>2.539583e+03</td>\n",
              "      <td>3.767661e+03</td>\n",
              "      <td>4.153891e+04</td>\n",
              "      <td>7.041224e+04</td>\n",
              "      <td>9.648562e+04</td>\n",
              "      <td>9.751240e+05</td>\n",
              "      <td>2.910967e+04</td>\n",
              "      <td>7.599802e+04</td>\n",
              "      <td>3.588248e+03</td>\n",
              "      <td>1.796016e+05</td>\n",
              "      <td>5.302810e+05</td>\n",
              "      <td>2.377396e+05</td>\n",
              "      <td>1.183135e+06</td>\n",
              "      <td>1.247793e+06</td>\n",
              "      <td>9.867683e+02</td>\n",
              "      <td>6.165015e+04</td>\n",
              "      <td>1.289495e+05</td>\n",
              "      <td>4.676057e+05</td>\n",
              "      <td>4.446239e+05</td>\n",
              "      <td>8.056219e+05</td>\n",
              "      <td>7.812966e+05</td>\n",
              "      <td>143.529939</td>\n",
              "      <td>1.213809e+05</td>\n",
              "      <td>3.573451e+04</td>\n",
              "      <td>3.123741e+05</td>\n",
              "      <td>9.219960e+04</td>\n",
              "      <td>2.279100e+05</td>\n",
              "    </tr>\n",
              "    <tr>\n",
              "      <th>std</th>\n",
              "      <td>8.234312e+06</td>\n",
              "      <td>3.893298e+05</td>\n",
              "      <td>6.428302e+04</td>\n",
              "      <td>5.699652e+05</td>\n",
              "      <td>2.359124e+05</td>\n",
              "      <td>1.514730e+06</td>\n",
              "      <td>5.770590e+05</td>\n",
              "      <td>7.512756e+05</td>\n",
              "      <td>1.879449e+05</td>\n",
              "      <td>9.610183e+06</td>\n",
              "      <td>1.587815e+06</td>\n",
              "      <td>2.397372e+06</td>\n",
              "      <td>569.068911</td>\n",
              "      <td>1.245435e+05</td>\n",
              "      <td>1.552298e+07</td>\n",
              "      <td>3.026910e+06</td>\n",
              "      <td>8.140674e+05</td>\n",
              "      <td>1.354504e+06</td>\n",
              "      <td>3.238243e+06</td>\n",
              "      <td>5.705388e+05</td>\n",
              "      <td>2.786022e+04</td>\n",
              "      <td>6.370644e+06</td>\n",
              "      <td>2.846440e+06</td>\n",
              "      <td>2.425794e+06</td>\n",
              "      <td>1.161275e+06</td>\n",
              "      <td>2.747535e+06</td>\n",
              "      <td>1.313839e+05</td>\n",
              "      <td>0.0</td>\n",
              "      <td>3.561409e+06</td>\n",
              "      <td>4.867503e+06</td>\n",
              "      <td>3.799941e+06</td>\n",
              "      <td>1.868664e+05</td>\n",
              "      <td>9.034308e+06</td>\n",
              "      <td>1.481349e+06</td>\n",
              "      <td>0.0</td>\n",
              "      <td>8.547764e+05</td>\n",
              "      <td>6.956380e+06</td>\n",
              "      <td>0.0</td>\n",
              "      <td>7.361173e+06</td>\n",
              "      <td>8.113234e+06</td>\n",
              "      <td>...</td>\n",
              "      <td>1.498586e+05</td>\n",
              "      <td>7.755051e+06</td>\n",
              "      <td>6.261373e+06</td>\n",
              "      <td>5.473370e+05</td>\n",
              "      <td>322.557139</td>\n",
              "      <td>2.052878e+06</td>\n",
              "      <td>1.533062e+06</td>\n",
              "      <td>5.816722e+06</td>\n",
              "      <td>7.444468e+06</td>\n",
              "      <td>4.250172e+06</td>\n",
              "      <td>4.287643e+06</td>\n",
              "      <td>9.150068e+05</td>\n",
              "      <td>2.799848e+06</td>\n",
              "      <td>1.508683e+05</td>\n",
              "      <td>2.515884e+05</td>\n",
              "      <td>1.179500e+06</td>\n",
              "      <td>2.810830e+06</td>\n",
              "      <td>1.114863e+06</td>\n",
              "      <td>9.750283e+06</td>\n",
              "      <td>7.912064e+05</td>\n",
              "      <td>1.206581e+06</td>\n",
              "      <td>2.396080e+05</td>\n",
              "      <td>1.660884e+06</td>\n",
              "      <td>4.497567e+06</td>\n",
              "      <td>4.109065e+06</td>\n",
              "      <td>1.139493e+07</td>\n",
              "      <td>6.878895e+06</td>\n",
              "      <td>6.589219e+04</td>\n",
              "      <td>2.124731e+06</td>\n",
              "      <td>1.335938e+06</td>\n",
              "      <td>4.068038e+06</td>\n",
              "      <td>4.428889e+06</td>\n",
              "      <td>4.513246e+06</td>\n",
              "      <td>6.839451e+06</td>\n",
              "      <td>9584.318507</td>\n",
              "      <td>4.720709e+06</td>\n",
              "      <td>1.614622e+06</td>\n",
              "      <td>4.318501e+06</td>\n",
              "      <td>1.635993e+06</td>\n",
              "      <td>1.811139e+06</td>\n",
              "    </tr>\n",
              "    <tr>\n",
              "      <th>min</th>\n",
              "      <td>3.000000e+04</td>\n",
              "      <td>0.000000e+00</td>\n",
              "      <td>0.000000e+00</td>\n",
              "      <td>0.000000e+00</td>\n",
              "      <td>0.000000e+00</td>\n",
              "      <td>0.000000e+00</td>\n",
              "      <td>0.000000e+00</td>\n",
              "      <td>0.000000e+00</td>\n",
              "      <td>0.000000e+00</td>\n",
              "      <td>0.000000e+00</td>\n",
              "      <td>0.000000e+00</td>\n",
              "      <td>0.000000e+00</td>\n",
              "      <td>0.000000</td>\n",
              "      <td>0.000000e+00</td>\n",
              "      <td>0.000000e+00</td>\n",
              "      <td>0.000000e+00</td>\n",
              "      <td>0.000000e+00</td>\n",
              "      <td>0.000000e+00</td>\n",
              "      <td>0.000000e+00</td>\n",
              "      <td>0.000000e+00</td>\n",
              "      <td>0.000000e+00</td>\n",
              "      <td>0.000000e+00</td>\n",
              "      <td>0.000000e+00</td>\n",
              "      <td>0.000000e+00</td>\n",
              "      <td>0.000000e+00</td>\n",
              "      <td>0.000000e+00</td>\n",
              "      <td>0.000000e+00</td>\n",
              "      <td>0.0</td>\n",
              "      <td>0.000000e+00</td>\n",
              "      <td>0.000000e+00</td>\n",
              "      <td>0.000000e+00</td>\n",
              "      <td>0.000000e+00</td>\n",
              "      <td>0.000000e+00</td>\n",
              "      <td>0.000000e+00</td>\n",
              "      <td>0.0</td>\n",
              "      <td>0.000000e+00</td>\n",
              "      <td>0.000000e+00</td>\n",
              "      <td>0.0</td>\n",
              "      <td>0.000000e+00</td>\n",
              "      <td>0.000000e+00</td>\n",
              "      <td>...</td>\n",
              "      <td>0.000000e+00</td>\n",
              "      <td>0.000000e+00</td>\n",
              "      <td>0.000000e+00</td>\n",
              "      <td>0.000000e+00</td>\n",
              "      <td>0.000000</td>\n",
              "      <td>0.000000e+00</td>\n",
              "      <td>0.000000e+00</td>\n",
              "      <td>0.000000e+00</td>\n",
              "      <td>0.000000e+00</td>\n",
              "      <td>0.000000e+00</td>\n",
              "      <td>0.000000e+00</td>\n",
              "      <td>0.000000e+00</td>\n",
              "      <td>0.000000e+00</td>\n",
              "      <td>0.000000e+00</td>\n",
              "      <td>0.000000e+00</td>\n",
              "      <td>0.000000e+00</td>\n",
              "      <td>0.000000e+00</td>\n",
              "      <td>0.000000e+00</td>\n",
              "      <td>0.000000e+00</td>\n",
              "      <td>0.000000e+00</td>\n",
              "      <td>0.000000e+00</td>\n",
              "      <td>0.000000e+00</td>\n",
              "      <td>0.000000e+00</td>\n",
              "      <td>0.000000e+00</td>\n",
              "      <td>0.000000e+00</td>\n",
              "      <td>0.000000e+00</td>\n",
              "      <td>0.000000e+00</td>\n",
              "      <td>0.000000e+00</td>\n",
              "      <td>0.000000e+00</td>\n",
              "      <td>0.000000e+00</td>\n",
              "      <td>0.000000e+00</td>\n",
              "      <td>0.000000e+00</td>\n",
              "      <td>0.000000e+00</td>\n",
              "      <td>0.000000e+00</td>\n",
              "      <td>0.000000</td>\n",
              "      <td>0.000000e+00</td>\n",
              "      <td>0.000000e+00</td>\n",
              "      <td>0.000000e+00</td>\n",
              "      <td>0.000000e+00</td>\n",
              "      <td>0.000000e+00</td>\n",
              "    </tr>\n",
              "    <tr>\n",
              "      <th>25%</th>\n",
              "      <td>6.000000e+05</td>\n",
              "      <td>0.000000e+00</td>\n",
              "      <td>0.000000e+00</td>\n",
              "      <td>0.000000e+00</td>\n",
              "      <td>0.000000e+00</td>\n",
              "      <td>0.000000e+00</td>\n",
              "      <td>0.000000e+00</td>\n",
              "      <td>0.000000e+00</td>\n",
              "      <td>0.000000e+00</td>\n",
              "      <td>0.000000e+00</td>\n",
              "      <td>0.000000e+00</td>\n",
              "      <td>0.000000e+00</td>\n",
              "      <td>0.000000</td>\n",
              "      <td>0.000000e+00</td>\n",
              "      <td>0.000000e+00</td>\n",
              "      <td>0.000000e+00</td>\n",
              "      <td>0.000000e+00</td>\n",
              "      <td>0.000000e+00</td>\n",
              "      <td>0.000000e+00</td>\n",
              "      <td>0.000000e+00</td>\n",
              "      <td>0.000000e+00</td>\n",
              "      <td>0.000000e+00</td>\n",
              "      <td>0.000000e+00</td>\n",
              "      <td>0.000000e+00</td>\n",
              "      <td>0.000000e+00</td>\n",
              "      <td>0.000000e+00</td>\n",
              "      <td>0.000000e+00</td>\n",
              "      <td>0.0</td>\n",
              "      <td>0.000000e+00</td>\n",
              "      <td>0.000000e+00</td>\n",
              "      <td>0.000000e+00</td>\n",
              "      <td>0.000000e+00</td>\n",
              "      <td>0.000000e+00</td>\n",
              "      <td>0.000000e+00</td>\n",
              "      <td>0.0</td>\n",
              "      <td>0.000000e+00</td>\n",
              "      <td>0.000000e+00</td>\n",
              "      <td>0.0</td>\n",
              "      <td>0.000000e+00</td>\n",
              "      <td>0.000000e+00</td>\n",
              "      <td>...</td>\n",
              "      <td>0.000000e+00</td>\n",
              "      <td>0.000000e+00</td>\n",
              "      <td>0.000000e+00</td>\n",
              "      <td>0.000000e+00</td>\n",
              "      <td>0.000000</td>\n",
              "      <td>0.000000e+00</td>\n",
              "      <td>0.000000e+00</td>\n",
              "      <td>0.000000e+00</td>\n",
              "      <td>0.000000e+00</td>\n",
              "      <td>0.000000e+00</td>\n",
              "      <td>0.000000e+00</td>\n",
              "      <td>0.000000e+00</td>\n",
              "      <td>0.000000e+00</td>\n",
              "      <td>0.000000e+00</td>\n",
              "      <td>0.000000e+00</td>\n",
              "      <td>0.000000e+00</td>\n",
              "      <td>0.000000e+00</td>\n",
              "      <td>0.000000e+00</td>\n",
              "      <td>0.000000e+00</td>\n",
              "      <td>0.000000e+00</td>\n",
              "      <td>0.000000e+00</td>\n",
              "      <td>0.000000e+00</td>\n",
              "      <td>0.000000e+00</td>\n",
              "      <td>0.000000e+00</td>\n",
              "      <td>0.000000e+00</td>\n",
              "      <td>0.000000e+00</td>\n",
              "      <td>0.000000e+00</td>\n",
              "      <td>0.000000e+00</td>\n",
              "      <td>0.000000e+00</td>\n",
              "      <td>0.000000e+00</td>\n",
              "      <td>0.000000e+00</td>\n",
              "      <td>0.000000e+00</td>\n",
              "      <td>0.000000e+00</td>\n",
              "      <td>0.000000e+00</td>\n",
              "      <td>0.000000</td>\n",
              "      <td>0.000000e+00</td>\n",
              "      <td>0.000000e+00</td>\n",
              "      <td>0.000000e+00</td>\n",
              "      <td>0.000000e+00</td>\n",
              "      <td>0.000000e+00</td>\n",
              "    </tr>\n",
              "    <tr>\n",
              "      <th>50%</th>\n",
              "      <td>2.260000e+06</td>\n",
              "      <td>0.000000e+00</td>\n",
              "      <td>0.000000e+00</td>\n",
              "      <td>0.000000e+00</td>\n",
              "      <td>0.000000e+00</td>\n",
              "      <td>0.000000e+00</td>\n",
              "      <td>0.000000e+00</td>\n",
              "      <td>0.000000e+00</td>\n",
              "      <td>0.000000e+00</td>\n",
              "      <td>0.000000e+00</td>\n",
              "      <td>0.000000e+00</td>\n",
              "      <td>0.000000e+00</td>\n",
              "      <td>0.000000</td>\n",
              "      <td>0.000000e+00</td>\n",
              "      <td>0.000000e+00</td>\n",
              "      <td>0.000000e+00</td>\n",
              "      <td>0.000000e+00</td>\n",
              "      <td>0.000000e+00</td>\n",
              "      <td>0.000000e+00</td>\n",
              "      <td>0.000000e+00</td>\n",
              "      <td>0.000000e+00</td>\n",
              "      <td>0.000000e+00</td>\n",
              "      <td>0.000000e+00</td>\n",
              "      <td>0.000000e+00</td>\n",
              "      <td>0.000000e+00</td>\n",
              "      <td>0.000000e+00</td>\n",
              "      <td>0.000000e+00</td>\n",
              "      <td>0.0</td>\n",
              "      <td>0.000000e+00</td>\n",
              "      <td>0.000000e+00</td>\n",
              "      <td>0.000000e+00</td>\n",
              "      <td>0.000000e+00</td>\n",
              "      <td>0.000000e+00</td>\n",
              "      <td>0.000000e+00</td>\n",
              "      <td>0.0</td>\n",
              "      <td>0.000000e+00</td>\n",
              "      <td>0.000000e+00</td>\n",
              "      <td>0.0</td>\n",
              "      <td>0.000000e+00</td>\n",
              "      <td>0.000000e+00</td>\n",
              "      <td>...</td>\n",
              "      <td>0.000000e+00</td>\n",
              "      <td>0.000000e+00</td>\n",
              "      <td>0.000000e+00</td>\n",
              "      <td>0.000000e+00</td>\n",
              "      <td>0.000000</td>\n",
              "      <td>0.000000e+00</td>\n",
              "      <td>0.000000e+00</td>\n",
              "      <td>0.000000e+00</td>\n",
              "      <td>0.000000e+00</td>\n",
              "      <td>0.000000e+00</td>\n",
              "      <td>0.000000e+00</td>\n",
              "      <td>0.000000e+00</td>\n",
              "      <td>0.000000e+00</td>\n",
              "      <td>0.000000e+00</td>\n",
              "      <td>0.000000e+00</td>\n",
              "      <td>0.000000e+00</td>\n",
              "      <td>0.000000e+00</td>\n",
              "      <td>0.000000e+00</td>\n",
              "      <td>0.000000e+00</td>\n",
              "      <td>0.000000e+00</td>\n",
              "      <td>0.000000e+00</td>\n",
              "      <td>0.000000e+00</td>\n",
              "      <td>0.000000e+00</td>\n",
              "      <td>0.000000e+00</td>\n",
              "      <td>0.000000e+00</td>\n",
              "      <td>0.000000e+00</td>\n",
              "      <td>0.000000e+00</td>\n",
              "      <td>0.000000e+00</td>\n",
              "      <td>0.000000e+00</td>\n",
              "      <td>0.000000e+00</td>\n",
              "      <td>0.000000e+00</td>\n",
              "      <td>0.000000e+00</td>\n",
              "      <td>0.000000e+00</td>\n",
              "      <td>0.000000e+00</td>\n",
              "      <td>0.000000</td>\n",
              "      <td>0.000000e+00</td>\n",
              "      <td>0.000000e+00</td>\n",
              "      <td>0.000000e+00</td>\n",
              "      <td>0.000000e+00</td>\n",
              "      <td>0.000000e+00</td>\n",
              "    </tr>\n",
              "    <tr>\n",
              "      <th>75%</th>\n",
              "      <td>8.000000e+06</td>\n",
              "      <td>0.000000e+00</td>\n",
              "      <td>0.000000e+00</td>\n",
              "      <td>0.000000e+00</td>\n",
              "      <td>0.000000e+00</td>\n",
              "      <td>0.000000e+00</td>\n",
              "      <td>0.000000e+00</td>\n",
              "      <td>0.000000e+00</td>\n",
              "      <td>0.000000e+00</td>\n",
              "      <td>6.000000e+05</td>\n",
              "      <td>0.000000e+00</td>\n",
              "      <td>0.000000e+00</td>\n",
              "      <td>0.000000</td>\n",
              "      <td>0.000000e+00</td>\n",
              "      <td>0.000000e+00</td>\n",
              "      <td>0.000000e+00</td>\n",
              "      <td>0.000000e+00</td>\n",
              "      <td>0.000000e+00</td>\n",
              "      <td>0.000000e+00</td>\n",
              "      <td>0.000000e+00</td>\n",
              "      <td>0.000000e+00</td>\n",
              "      <td>0.000000e+00</td>\n",
              "      <td>0.000000e+00</td>\n",
              "      <td>0.000000e+00</td>\n",
              "      <td>0.000000e+00</td>\n",
              "      <td>0.000000e+00</td>\n",
              "      <td>0.000000e+00</td>\n",
              "      <td>0.0</td>\n",
              "      <td>0.000000e+00</td>\n",
              "      <td>0.000000e+00</td>\n",
              "      <td>0.000000e+00</td>\n",
              "      <td>0.000000e+00</td>\n",
              "      <td>0.000000e+00</td>\n",
              "      <td>0.000000e+00</td>\n",
              "      <td>0.0</td>\n",
              "      <td>0.000000e+00</td>\n",
              "      <td>0.000000e+00</td>\n",
              "      <td>0.0</td>\n",
              "      <td>0.000000e+00</td>\n",
              "      <td>0.000000e+00</td>\n",
              "      <td>...</td>\n",
              "      <td>0.000000e+00</td>\n",
              "      <td>0.000000e+00</td>\n",
              "      <td>0.000000e+00</td>\n",
              "      <td>0.000000e+00</td>\n",
              "      <td>0.000000</td>\n",
              "      <td>0.000000e+00</td>\n",
              "      <td>0.000000e+00</td>\n",
              "      <td>0.000000e+00</td>\n",
              "      <td>0.000000e+00</td>\n",
              "      <td>0.000000e+00</td>\n",
              "      <td>0.000000e+00</td>\n",
              "      <td>0.000000e+00</td>\n",
              "      <td>0.000000e+00</td>\n",
              "      <td>0.000000e+00</td>\n",
              "      <td>0.000000e+00</td>\n",
              "      <td>0.000000e+00</td>\n",
              "      <td>0.000000e+00</td>\n",
              "      <td>0.000000e+00</td>\n",
              "      <td>0.000000e+00</td>\n",
              "      <td>0.000000e+00</td>\n",
              "      <td>0.000000e+00</td>\n",
              "      <td>0.000000e+00</td>\n",
              "      <td>0.000000e+00</td>\n",
              "      <td>0.000000e+00</td>\n",
              "      <td>0.000000e+00</td>\n",
              "      <td>0.000000e+00</td>\n",
              "      <td>0.000000e+00</td>\n",
              "      <td>0.000000e+00</td>\n",
              "      <td>0.000000e+00</td>\n",
              "      <td>0.000000e+00</td>\n",
              "      <td>0.000000e+00</td>\n",
              "      <td>0.000000e+00</td>\n",
              "      <td>0.000000e+00</td>\n",
              "      <td>0.000000e+00</td>\n",
              "      <td>0.000000</td>\n",
              "      <td>0.000000e+00</td>\n",
              "      <td>0.000000e+00</td>\n",
              "      <td>0.000000e+00</td>\n",
              "      <td>0.000000e+00</td>\n",
              "      <td>0.000000e+00</td>\n",
              "    </tr>\n",
              "    <tr>\n",
              "      <th>max</th>\n",
              "      <td>4.000000e+07</td>\n",
              "      <td>2.000000e+07</td>\n",
              "      <td>4.000000e+06</td>\n",
              "      <td>2.000000e+07</td>\n",
              "      <td>1.480000e+07</td>\n",
              "      <td>1.000000e+08</td>\n",
              "      <td>2.070800e+07</td>\n",
              "      <td>4.000000e+07</td>\n",
              "      <td>1.040000e+07</td>\n",
              "      <td>3.196120e+08</td>\n",
              "      <td>6.000000e+07</td>\n",
              "      <td>1.000000e+08</td>\n",
              "      <td>38000.000000</td>\n",
              "      <td>6.000000e+06</td>\n",
              "      <td>3.560000e+08</td>\n",
              "      <td>6.600000e+07</td>\n",
              "      <td>3.111000e+07</td>\n",
              "      <td>7.960000e+07</td>\n",
              "      <td>1.000000e+08</td>\n",
              "      <td>2.173000e+07</td>\n",
              "      <td>1.100000e+06</td>\n",
              "      <td>2.000000e+08</td>\n",
              "      <td>1.536720e+08</td>\n",
              "      <td>6.000000e+07</td>\n",
              "      <td>3.720000e+07</td>\n",
              "      <td>1.000000e+08</td>\n",
              "      <td>6.000000e+06</td>\n",
              "      <td>0.0</td>\n",
              "      <td>7.600000e+07</td>\n",
              "      <td>3.167500e+08</td>\n",
              "      <td>7.000000e+07</td>\n",
              "      <td>1.000000e+07</td>\n",
              "      <td>1.500000e+08</td>\n",
              "      <td>6.000000e+07</td>\n",
              "      <td>0.0</td>\n",
              "      <td>2.500000e+07</td>\n",
              "      <td>3.023120e+08</td>\n",
              "      <td>0.0</td>\n",
              "      <td>3.338000e+08</td>\n",
              "      <td>3.196120e+08</td>\n",
              "      <td>...</td>\n",
              "      <td>1.000000e+07</td>\n",
              "      <td>3.600000e+08</td>\n",
              "      <td>2.057560e+08</td>\n",
              "      <td>1.376000e+07</td>\n",
              "      <td>20000.000000</td>\n",
              "      <td>6.000000e+07</td>\n",
              "      <td>3.503000e+07</td>\n",
              "      <td>2.000000e+08</td>\n",
              "      <td>2.744060e+08</td>\n",
              "      <td>1.300000e+08</td>\n",
              "      <td>1.000000e+08</td>\n",
              "      <td>2.400000e+07</td>\n",
              "      <td>5.000000e+07</td>\n",
              "      <td>1.000000e+07</td>\n",
              "      <td>1.680000e+07</td>\n",
              "      <td>5.000000e+07</td>\n",
              "      <td>1.536720e+08</td>\n",
              "      <td>4.000000e+07</td>\n",
              "      <td>3.092000e+08</td>\n",
              "      <td>4.000000e+07</td>\n",
              "      <td>5.000000e+07</td>\n",
              "      <td>1.600000e+07</td>\n",
              "      <td>4.000000e+07</td>\n",
              "      <td>1.500000e+08</td>\n",
              "      <td>1.500000e+08</td>\n",
              "      <td>5.161240e+08</td>\n",
              "      <td>1.601600e+08</td>\n",
              "      <td>4.400000e+06</td>\n",
              "      <td>1.200000e+08</td>\n",
              "      <td>4.528000e+07</td>\n",
              "      <td>7.600000e+07</td>\n",
              "      <td>1.235880e+08</td>\n",
              "      <td>1.300000e+08</td>\n",
              "      <td>1.444000e+08</td>\n",
              "      <td>640000.000000</td>\n",
              "      <td>3.013120e+08</td>\n",
              "      <td>1.064200e+08</td>\n",
              "      <td>1.400000e+08</td>\n",
              "      <td>6.176800e+07</td>\n",
              "      <td>4.320000e+07</td>\n",
              "    </tr>\n",
              "  </tbody>\n",
              "</table>\n",
              "<p>8 rows × 4992 columns</p>\n",
              "</div>"
            ],
            "text/plain": [
              "             target     48df886f9  ...     7e293fbaf     9fc776466\n",
              "count  4.459000e+03  4.459000e+03  ...  4.459000e+03  4.459000e+03\n",
              "mean   5.944923e+06  1.465493e+04  ...  9.219960e+04  2.279100e+05\n",
              "std    8.234312e+06  3.893298e+05  ...  1.635993e+06  1.811139e+06\n",
              "min    3.000000e+04  0.000000e+00  ...  0.000000e+00  0.000000e+00\n",
              "25%    6.000000e+05  0.000000e+00  ...  0.000000e+00  0.000000e+00\n",
              "50%    2.260000e+06  0.000000e+00  ...  0.000000e+00  0.000000e+00\n",
              "75%    8.000000e+06  0.000000e+00  ...  0.000000e+00  0.000000e+00\n",
              "max    4.000000e+07  2.000000e+07  ...  6.176800e+07  4.320000e+07\n",
              "\n",
              "[8 rows x 4992 columns]"
            ]
          },
          "metadata": {
            "tags": []
          },
          "execution_count": 5
        }
      ]
    },
    {
      "cell_type": "code",
      "metadata": {
        "id": "AsdfKFSWTXoG",
        "colab_type": "code",
        "colab": {
          "base_uri": "https://localhost:8080/",
          "height": 105
        },
        "outputId": "786ef48b-50da-4349-8724-e2895816890f"
      },
      "source": [
        "value.info()"
      ],
      "execution_count": 6,
      "outputs": [
        {
          "output_type": "stream",
          "text": [
            "<class 'pandas.core.frame.DataFrame'>\n",
            "RangeIndex: 4459 entries, 0 to 4458\n",
            "Columns: 4993 entries, ID to 9fc776466\n",
            "dtypes: float64(1845), int64(3147), object(1)\n",
            "memory usage: 169.9+ MB\n"
          ],
          "name": "stdout"
        }
      ]
    },
    {
      "cell_type": "code",
      "metadata": {
        "id": "L_9PdOtFW05W",
        "colab_type": "code",
        "colab": {
          "base_uri": "https://localhost:8080/",
          "height": 230
        },
        "outputId": "7fddf4eb-e5d3-4ab0-86a9-8e0e73471460"
      },
      "source": [
        "value.dtypes"
      ],
      "execution_count": 8,
      "outputs": [
        {
          "output_type": "execute_result",
          "data": {
            "text/plain": [
              "ID            object\n",
              "target       float64\n",
              "48df886f9    float64\n",
              "0deb4b6a8      int64\n",
              "34b15f335    float64\n",
              "              ...   \n",
              "71b203550      int64\n",
              "137efaa80      int64\n",
              "fb36b89d9      int64\n",
              "7e293fbaf      int64\n",
              "9fc776466      int64\n",
              "Length: 4993, dtype: object"
            ]
          },
          "metadata": {
            "tags": []
          },
          "execution_count": 8
        }
      ]
    },
    {
      "cell_type": "code",
      "metadata": {
        "id": "KfkeQJtdXSNN",
        "colab_type": "code",
        "colab": {
          "base_uri": "https://localhost:8080/",
          "height": 52
        },
        "outputId": "b6b02e0d-2158-4b44-a3e0-320c09f71af2"
      },
      "source": [
        "value.select_dtypes(include=object).dtypes"
      ],
      "execution_count": 10,
      "outputs": [
        {
          "output_type": "execute_result",
          "data": {
            "text/plain": [
              "ID    object\n",
              "dtype: object"
            ]
          },
          "metadata": {
            "tags": []
          },
          "execution_count": 10
        }
      ]
    },
    {
      "cell_type": "code",
      "metadata": {
        "id": "Iog_tJJPXljo",
        "colab_type": "code",
        "colab": {
          "base_uri": "https://localhost:8080/",
          "height": 52
        },
        "outputId": "7b615fc7-d030-404a-d7a1-e19082ecaa07"
      },
      "source": [
        "value.select_dtypes(include=object).dtypes"
      ],
      "execution_count": 11,
      "outputs": [
        {
          "output_type": "execute_result",
          "data": {
            "text/plain": [
              "ID    object\n",
              "dtype: object"
            ]
          },
          "metadata": {
            "tags": []
          },
          "execution_count": 11
        }
      ]
    },
    {
      "cell_type": "code",
      "metadata": {
        "id": "BQYHqq_JZNUw",
        "colab_type": "code",
        "colab": {
          "base_uri": "https://localhost:8080/",
          "height": 230
        },
        "outputId": "9ccfc3f2-3747-4394-d6b0-80e82e58e7e6"
      },
      "source": [
        "value.isnull().sum()"
      ],
      "execution_count": 12,
      "outputs": [
        {
          "output_type": "execute_result",
          "data": {
            "text/plain": [
              "ID           0\n",
              "target       0\n",
              "48df886f9    0\n",
              "0deb4b6a8    0\n",
              "34b15f335    0\n",
              "            ..\n",
              "71b203550    0\n",
              "137efaa80    0\n",
              "fb36b89d9    0\n",
              "7e293fbaf    0\n",
              "9fc776466    0\n",
              "Length: 4993, dtype: int64"
            ]
          },
          "metadata": {
            "tags": []
          },
          "execution_count": 12
        }
      ]
    },
    {
      "cell_type": "code",
      "metadata": {
        "id": "T7QZuRo_ZVZu",
        "colab_type": "code",
        "colab": {
          "base_uri": "https://localhost:8080/",
          "height": 34
        },
        "outputId": "5825be65-faba-4912-e936-6b2d743a8f5c"
      },
      "source": [
        "value.isnull().sum().any()"
      ],
      "execution_count": 13,
      "outputs": [
        {
          "output_type": "execute_result",
          "data": {
            "text/plain": [
              "False"
            ]
          },
          "metadata": {
            "tags": []
          },
          "execution_count": 13
        }
      ]
    },
    {
      "cell_type": "code",
      "metadata": {
        "id": "MJL_t9C9ZYuR",
        "colab_type": "code",
        "colab": {}
      },
      "source": [
        "value=value.drop(\"ID\",axis=1)"
      ],
      "execution_count": 0,
      "outputs": []
    },
    {
      "cell_type": "code",
      "metadata": {
        "id": "5Y5uCg5WZ4GR",
        "colab_type": "code",
        "colab": {
          "base_uri": "https://localhost:8080/",
          "height": 176
        },
        "outputId": "41119194-7a18-4ea7-e228-e267913d5721"
      },
      "source": [
        "value[\"target\"].describe()"
      ],
      "execution_count": 17,
      "outputs": [
        {
          "output_type": "execute_result",
          "data": {
            "text/plain": [
              "count    4.459000e+03\n",
              "mean     5.944923e+06\n",
              "std      8.234312e+06\n",
              "min      3.000000e+04\n",
              "25%      6.000000e+05\n",
              "50%      2.260000e+06\n",
              "75%      8.000000e+06\n",
              "max      4.000000e+07\n",
              "Name: target, dtype: float64"
            ]
          },
          "metadata": {
            "tags": []
          },
          "execution_count": 17
        }
      ]
    },
    {
      "cell_type": "code",
      "metadata": {
        "id": "ZUl9_mulaL8O",
        "colab_type": "code",
        "colab": {
          "base_uri": "https://localhost:8080/",
          "height": 362
        },
        "outputId": "8b75b6e3-2ad3-4aed-b017-3aaa94070ea4"
      },
      "source": [
        "plt.figure(figsize=(8,5))\n",
        "sns.distplot(value[\"target\"])"
      ],
      "execution_count": 18,
      "outputs": [
        {
          "output_type": "execute_result",
          "data": {
            "text/plain": [
              "<matplotlib.axes._subplots.AxesSubplot at 0x7f864744bcc0>"
            ]
          },
          "metadata": {
            "tags": []
          },
          "execution_count": 18
        },
        {
          "output_type": "display_data",
          "data": {
            "image/png": "[encoded data removed]",
            "text/plain": [
              "<Figure size 576x360 with 1 Axes>"
            ]
          },
          "metadata": {
            "tags": []
          }
        }
      ]
    },
    {
      "cell_type": "code",
      "metadata": {
        "id": "bgQbL1oeabQB",
        "colab_type": "code",
        "colab": {
          "base_uri": "https://localhost:8080/",
          "height": 352
        },
        "outputId": "97b0796e-7020-46e8-e46d-992915ada096"
      },
      "source": [
        "plt.figure(figsize=(8,5))\n",
        "sns.distplot(np.log1p(value[\"target\"]),kde=\"false\")"
      ],
      "execution_count": 23,
      "outputs": [
        {
          "output_type": "execute_result",
          "data": {
            "text/plain": [
              "<matplotlib.axes._subplots.AxesSubplot at 0x7f86485556a0>"
            ]
          },
          "metadata": {
            "tags": []
          },
          "execution_count": 23
        },
        {
          "output_type": "display_data",
          "data": {
            "image/png": "[encoded data removed]",
            "text/plain": [
              "<Figure size 576x360 with 1 Axes>"
            ]
          },
          "metadata": {
            "tags": []
          }
        }
      ]
    },
    {
      "cell_type": "code",
      "metadata": {
        "id": "khR2H3nZbMST",
        "colab_type": "code",
        "colab": {
          "base_uri": "https://localhost:8080/",
          "height": 176
        },
        "outputId": "d448d877-c439-4889-86ec-6cacc2c078ad"
      },
      "source": [
        "np.log1p(value[\"target\"]).describe()"
      ],
      "execution_count": 24,
      "outputs": [
        {
          "output_type": "execute_result",
          "data": {
            "text/plain": [
              "count    4459.000000\n",
              "mean       14.490239\n",
              "std         1.750947\n",
              "min        10.308986\n",
              "25%        13.304687\n",
              "50%        14.630876\n",
              "75%        15.894952\n",
              "max        17.504390\n",
              "Name: target, dtype: float64"
            ]
          },
          "metadata": {
            "tags": []
          },
          "execution_count": 24
        }
      ]
    },
    {
      "cell_type": "code",
      "metadata": {
        "id": "efRI0rrvcOvN",
        "colab_type": "code",
        "colab": {
          "base_uri": "https://localhost:8080/",
          "height": 387
        },
        "outputId": "0e41c193-4972-4806-b074-0096ef5e8670"
      },
      "source": [
        "plt.figure(figsize=(5,5))\n",
        "sns.scatterplot(x=np.log(value[\"48df886f9\"]),y=np.log(value[\"target\"]))\n",
        "plt.xlabel(\"target\")\n",
        "plt.ylabel(\"48df886f9\")"
      ],
      "execution_count": 26,
      "outputs": [
        {
          "output_type": "stream",
          "text": [
            "/usr/local/lib/python3.6/dist-packages/pandas/core/series.py:856: RuntimeWarning: divide by zero encountered in log\n",
            "  result = getattr(ufunc, method)(*inputs, **kwargs)\n"
          ],
          "name": "stderr"
        },
        {
          "output_type": "execute_result",
          "data": {
            "text/plain": [
              "Text(0, 0.5, '48df886f9')"
            ]
          },
          "metadata": {
            "tags": []
          },
          "execution_count": 26
        },
        {
          "output_type": "display_data",
          "data": {
            "image/png": "[encoded data removed]",
            "text/plain": [
              "<Figure size 360x360 with 1 Axes>"
            ]
          },
          "metadata": {
            "tags": []
          }
        }
      ]
    },
    {
      "cell_type": "code",
      "metadata": {
        "id": "zCYWClHRdTI0",
        "colab_type": "code",
        "colab": {
          "base_uri": "https://localhost:8080/",
          "height": 230
        },
        "outputId": "930b83ac-4908-4166-f2ae-55f315d9f6ec"
      },
      "source": [
        "value[\"target\"].sort_values(ascending=False)"
      ],
      "execution_count": 28,
      "outputs": [
        {
          "output_type": "execute_result",
          "data": {
            "text/plain": [
              "713     40000000.0\n",
              "1968    40000000.0\n",
              "3662    40000000.0\n",
              "730     40000000.0\n",
              "3591    40000000.0\n",
              "           ...    \n",
              "2974       30000.0\n",
              "2828       30000.0\n",
              "3715       30000.0\n",
              "2749       30000.0\n",
              "2583       30000.0\n",
              "Name: target, Length: 4459, dtype: float64"
            ]
          },
          "metadata": {
            "tags": []
          },
          "execution_count": 28
        }
      ]
    },
    {
      "cell_type": "code",
      "metadata": {
        "id": "md4hisWdeJjF",
        "colab_type": "code",
        "colab": {
          "base_uri": "https://localhost:8080/",
          "height": 105
        },
        "outputId": "4ae2cf63-42ff-4253-b004-2774f2ebdf42"
      },
      "source": [
        "Counter(value[\"target\"]).most_common()[:5]"
      ],
      "execution_count": 31,
      "outputs": [
        {
          "output_type": "execute_result",
          "data": {
            "text/plain": [
              "[(2000000.0, 207),\n",
              " (10000000.0, 199),\n",
              " (20000000.0, 156),\n",
              " (4000000.0, 148),\n",
              " (1000000.0, 129)]"
            ]
          },
          "metadata": {
            "tags": []
          },
          "execution_count": 31
        }
      ]
    },
    {
      "cell_type": "code",
      "metadata": {
        "id": "frAV3ncffZUq",
        "colab_type": "code",
        "colab": {
          "base_uri": "https://localhost:8080/",
          "height": 486
        },
        "outputId": "0bff6d22-7643-439b-d2ba-c9559696e713"
      },
      "source": [
        "plt.figure(figsize=(8,8))\n",
        "sns.boxplot(np.log(value[\"target\"]),orient=\"v\")"
      ],
      "execution_count": 34,
      "outputs": [
        {
          "output_type": "execute_result",
          "data": {
            "text/plain": [
              "<matplotlib.axes._subplots.AxesSubplot at 0x7f8647615dd8>"
            ]
          },
          "metadata": {
            "tags": []
          },
          "execution_count": 34
        },
        {
          "output_type": "display_data",
          "data": {
            "image/png": "[encoded data removed]",
            "text/plain": [
              "<Figure size 576x576 with 1 Axes>"
            ]
          },
          "metadata": {
            "tags": []
          }
        }
      ]
    },
    {
      "cell_type": "code",
      "metadata": {
        "id": "66NfAByzgttI",
        "colab_type": "code",
        "colab": {
          "base_uri": "https://localhost:8080/",
          "height": 246
        },
        "outputId": "352bdb99-9f47-4784-d75d-8d8faae2140c"
      },
      "source": [
        "value.head()"
      ],
      "execution_count": 35,
      "outputs": [
        {
          "output_type": "execute_result",
          "data": {
            "text/html": [
              "<div>\n",
              "<style scoped>\n",
              "    .dataframe tbody tr th:only-of-type {\n",
              "        vertical-align: middle;\n",
              "    }\n",
              "\n",
              "    .dataframe tbody tr th {\n",
              "        vertical-align: top;\n",
              "    }\n",
              "\n",
              "    .dataframe thead th {\n",
              "        text-align: right;\n",
              "    }\n",
              "</style>\n",
              "<table border=\"1\" class=\"dataframe\">\n",
              "  <thead>\n",
              "    <tr style=\"text-align: right;\">\n",
              "      <th></th>\n",
              "      <th>target</th>\n",
              "      <th>48df886f9</th>\n",
              "      <th>0deb4b6a8</th>\n",
              "      <th>34b15f335</th>\n",
              "      <th>a8cb14b00</th>\n",
              "      <th>2f0771a37</th>\n",
              "      <th>30347e683</th>\n",
              "      <th>d08d1fbe3</th>\n",
              "      <th>6ee66e115</th>\n",
              "      <th>20aa07010</th>\n",
              "      <th>dc5a8f1d8</th>\n",
              "      <th>11d86fa6a</th>\n",
              "      <th>77c9823f2</th>\n",
              "      <th>8d6c2a0b2</th>\n",
              "      <th>4681de4fd</th>\n",
              "      <th>adf119b9a</th>\n",
              "      <th>cff75dd09</th>\n",
              "      <th>96f83a237</th>\n",
              "      <th>b8a716ebf</th>\n",
              "      <th>6c7a4567c</th>\n",
              "      <th>4fcfd2b4d</th>\n",
              "      <th>f3b9c0b95</th>\n",
              "      <th>71cebf11c</th>\n",
              "      <th>d966ac62c</th>\n",
              "      <th>68b647452</th>\n",
              "      <th>c88d108c9</th>\n",
              "      <th>ff7b471cd</th>\n",
              "      <th>d5308d8bc</th>\n",
              "      <th>0d866c3d7</th>\n",
              "      <th>bc3f77679</th>\n",
              "      <th>bd8f989f1</th>\n",
              "      <th>0eff5bf95</th>\n",
              "      <th>22ed6dba3</th>\n",
              "      <th>92b13ebba</th>\n",
              "      <th>c330f1a67</th>\n",
              "      <th>233c7c17c</th>\n",
              "      <th>2cb4d123e</th>\n",
              "      <th>eeac16933</th>\n",
              "      <th>87ffda550</th>\n",
              "      <th>822e49b95</th>\n",
              "      <th>...</th>\n",
              "      <th>969caa87a</th>\n",
              "      <th>00302fe51</th>\n",
              "      <th>1189ee335</th>\n",
              "      <th>ca04a07ca</th>\n",
              "      <th>f6f15ffa5</th>\n",
              "      <th>841704460</th>\n",
              "      <th>ea5ed6ff7</th>\n",
              "      <th>b1bb8eac3</th>\n",
              "      <th>8132d18b8</th>\n",
              "      <th>c24ea6548</th>\n",
              "      <th>cdfc2b069</th>\n",
              "      <th>2a879b4f7</th>\n",
              "      <th>6b119d8ce</th>\n",
              "      <th>98dea9e42</th>\n",
              "      <th>9f2471031</th>\n",
              "      <th>88458cb21</th>\n",
              "      <th>f40da20f4</th>\n",
              "      <th>7ad6b38bd</th>\n",
              "      <th>c901e7df1</th>\n",
              "      <th>8f55955dc</th>\n",
              "      <th>85dcc913d</th>\n",
              "      <th>5ca0b9b0c</th>\n",
              "      <th>eab8abf7a</th>\n",
              "      <th>8d8bffbae</th>\n",
              "      <th>2a1f6c7f9</th>\n",
              "      <th>9437d8b64</th>\n",
              "      <th>5831f4c76</th>\n",
              "      <th>2e84e09c5</th>\n",
              "      <th>d45fd5508</th>\n",
              "      <th>a165f5761</th>\n",
              "      <th>3ecc09859</th>\n",
              "      <th>9281abeea</th>\n",
              "      <th>8675bec0b</th>\n",
              "      <th>3a13ed79a</th>\n",
              "      <th>f677d4d13</th>\n",
              "      <th>71b203550</th>\n",
              "      <th>137efaa80</th>\n",
              "      <th>fb36b89d9</th>\n",
              "      <th>7e293fbaf</th>\n",
              "      <th>9fc776466</th>\n",
              "    </tr>\n",
              "  </thead>\n",
              "  <tbody>\n",
              "    <tr>\n",
              "      <th>0</th>\n",
              "      <td>38000000.0</td>\n",
              "      <td>0.0</td>\n",
              "      <td>0</td>\n",
              "      <td>0.0</td>\n",
              "      <td>0</td>\n",
              "      <td>0</td>\n",
              "      <td>0</td>\n",
              "      <td>0</td>\n",
              "      <td>0</td>\n",
              "      <td>0.0</td>\n",
              "      <td>0.0</td>\n",
              "      <td>0.0</td>\n",
              "      <td>0</td>\n",
              "      <td>0</td>\n",
              "      <td>0</td>\n",
              "      <td>0</td>\n",
              "      <td>0.0</td>\n",
              "      <td>0</td>\n",
              "      <td>0.0</td>\n",
              "      <td>0</td>\n",
              "      <td>0</td>\n",
              "      <td>0.0</td>\n",
              "      <td>0</td>\n",
              "      <td>0</td>\n",
              "      <td>0.0</td>\n",
              "      <td>0</td>\n",
              "      <td>0</td>\n",
              "      <td>0</td>\n",
              "      <td>0.0</td>\n",
              "      <td>0</td>\n",
              "      <td>0.0</td>\n",
              "      <td>0</td>\n",
              "      <td>0.0</td>\n",
              "      <td>0.0</td>\n",
              "      <td>0</td>\n",
              "      <td>0.0</td>\n",
              "      <td>0</td>\n",
              "      <td>0</td>\n",
              "      <td>1300000.0</td>\n",
              "      <td>0.0</td>\n",
              "      <td>...</td>\n",
              "      <td>0</td>\n",
              "      <td>0</td>\n",
              "      <td>1100000.0</td>\n",
              "      <td>0</td>\n",
              "      <td>0</td>\n",
              "      <td>0</td>\n",
              "      <td>0.0</td>\n",
              "      <td>0.0</td>\n",
              "      <td>14800000</td>\n",
              "      <td>0.0</td>\n",
              "      <td>1200000.0</td>\n",
              "      <td>0.0</td>\n",
              "      <td>0.0</td>\n",
              "      <td>0</td>\n",
              "      <td>0</td>\n",
              "      <td>0</td>\n",
              "      <td>0</td>\n",
              "      <td>0.0</td>\n",
              "      <td>4000000</td>\n",
              "      <td>0</td>\n",
              "      <td>0.0</td>\n",
              "      <td>0</td>\n",
              "      <td>0</td>\n",
              "      <td>0.0</td>\n",
              "      <td>0</td>\n",
              "      <td>0</td>\n",
              "      <td>0.0</td>\n",
              "      <td>0</td>\n",
              "      <td>0</td>\n",
              "      <td>0.0</td>\n",
              "      <td>0.0</td>\n",
              "      <td>0.0</td>\n",
              "      <td>0.0</td>\n",
              "      <td>0</td>\n",
              "      <td>0</td>\n",
              "      <td>0</td>\n",
              "      <td>0</td>\n",
              "      <td>0</td>\n",
              "      <td>0</td>\n",
              "      <td>0</td>\n",
              "    </tr>\n",
              "    <tr>\n",
              "      <th>1</th>\n",
              "      <td>600000.0</td>\n",
              "      <td>0.0</td>\n",
              "      <td>0</td>\n",
              "      <td>0.0</td>\n",
              "      <td>0</td>\n",
              "      <td>0</td>\n",
              "      <td>0</td>\n",
              "      <td>0</td>\n",
              "      <td>0</td>\n",
              "      <td>2200000.0</td>\n",
              "      <td>0.0</td>\n",
              "      <td>0.0</td>\n",
              "      <td>0</td>\n",
              "      <td>0</td>\n",
              "      <td>0</td>\n",
              "      <td>0</td>\n",
              "      <td>0.0</td>\n",
              "      <td>0</td>\n",
              "      <td>0.0</td>\n",
              "      <td>0</td>\n",
              "      <td>0</td>\n",
              "      <td>0.0</td>\n",
              "      <td>0</td>\n",
              "      <td>0</td>\n",
              "      <td>0.0</td>\n",
              "      <td>0</td>\n",
              "      <td>0</td>\n",
              "      <td>0</td>\n",
              "      <td>0.0</td>\n",
              "      <td>0</td>\n",
              "      <td>0.0</td>\n",
              "      <td>0</td>\n",
              "      <td>0.0</td>\n",
              "      <td>0.0</td>\n",
              "      <td>0</td>\n",
              "      <td>0.0</td>\n",
              "      <td>0</td>\n",
              "      <td>0</td>\n",
              "      <td>0.0</td>\n",
              "      <td>0.0</td>\n",
              "      <td>...</td>\n",
              "      <td>0</td>\n",
              "      <td>0</td>\n",
              "      <td>0.0</td>\n",
              "      <td>0</td>\n",
              "      <td>0</td>\n",
              "      <td>0</td>\n",
              "      <td>0.0</td>\n",
              "      <td>0.0</td>\n",
              "      <td>0</td>\n",
              "      <td>0.0</td>\n",
              "      <td>0.0</td>\n",
              "      <td>0.0</td>\n",
              "      <td>0.0</td>\n",
              "      <td>0</td>\n",
              "      <td>0</td>\n",
              "      <td>0</td>\n",
              "      <td>0</td>\n",
              "      <td>0.0</td>\n",
              "      <td>0</td>\n",
              "      <td>0</td>\n",
              "      <td>0.0</td>\n",
              "      <td>0</td>\n",
              "      <td>0</td>\n",
              "      <td>0.0</td>\n",
              "      <td>0</td>\n",
              "      <td>0</td>\n",
              "      <td>0.0</td>\n",
              "      <td>0</td>\n",
              "      <td>0</td>\n",
              "      <td>0.0</td>\n",
              "      <td>0.0</td>\n",
              "      <td>0.0</td>\n",
              "      <td>0.0</td>\n",
              "      <td>0</td>\n",
              "      <td>0</td>\n",
              "      <td>0</td>\n",
              "      <td>0</td>\n",
              "      <td>0</td>\n",
              "      <td>0</td>\n",
              "      <td>0</td>\n",
              "    </tr>\n",
              "    <tr>\n",
              "      <th>2</th>\n",
              "      <td>10000000.0</td>\n",
              "      <td>0.0</td>\n",
              "      <td>0</td>\n",
              "      <td>0.0</td>\n",
              "      <td>0</td>\n",
              "      <td>0</td>\n",
              "      <td>0</td>\n",
              "      <td>0</td>\n",
              "      <td>0</td>\n",
              "      <td>0.0</td>\n",
              "      <td>0.0</td>\n",
              "      <td>0.0</td>\n",
              "      <td>0</td>\n",
              "      <td>0</td>\n",
              "      <td>0</td>\n",
              "      <td>0</td>\n",
              "      <td>0.0</td>\n",
              "      <td>0</td>\n",
              "      <td>0.0</td>\n",
              "      <td>0</td>\n",
              "      <td>0</td>\n",
              "      <td>0.0</td>\n",
              "      <td>0</td>\n",
              "      <td>0</td>\n",
              "      <td>0.0</td>\n",
              "      <td>0</td>\n",
              "      <td>0</td>\n",
              "      <td>0</td>\n",
              "      <td>0.0</td>\n",
              "      <td>0</td>\n",
              "      <td>0.0</td>\n",
              "      <td>0</td>\n",
              "      <td>0.0</td>\n",
              "      <td>0.0</td>\n",
              "      <td>0</td>\n",
              "      <td>0.0</td>\n",
              "      <td>0</td>\n",
              "      <td>0</td>\n",
              "      <td>0.0</td>\n",
              "      <td>0.0</td>\n",
              "      <td>...</td>\n",
              "      <td>0</td>\n",
              "      <td>0</td>\n",
              "      <td>0.0</td>\n",
              "      <td>0</td>\n",
              "      <td>0</td>\n",
              "      <td>0</td>\n",
              "      <td>0.0</td>\n",
              "      <td>0.0</td>\n",
              "      <td>0</td>\n",
              "      <td>0.0</td>\n",
              "      <td>0.0</td>\n",
              "      <td>0.0</td>\n",
              "      <td>0.0</td>\n",
              "      <td>0</td>\n",
              "      <td>0</td>\n",
              "      <td>0</td>\n",
              "      <td>0</td>\n",
              "      <td>0.0</td>\n",
              "      <td>0</td>\n",
              "      <td>0</td>\n",
              "      <td>0.0</td>\n",
              "      <td>0</td>\n",
              "      <td>0</td>\n",
              "      <td>0.0</td>\n",
              "      <td>0</td>\n",
              "      <td>0</td>\n",
              "      <td>0.0</td>\n",
              "      <td>0</td>\n",
              "      <td>0</td>\n",
              "      <td>0.0</td>\n",
              "      <td>0.0</td>\n",
              "      <td>0.0</td>\n",
              "      <td>0.0</td>\n",
              "      <td>0</td>\n",
              "      <td>0</td>\n",
              "      <td>0</td>\n",
              "      <td>0</td>\n",
              "      <td>0</td>\n",
              "      <td>0</td>\n",
              "      <td>0</td>\n",
              "    </tr>\n",
              "    <tr>\n",
              "      <th>3</th>\n",
              "      <td>2000000.0</td>\n",
              "      <td>0.0</td>\n",
              "      <td>0</td>\n",
              "      <td>0.0</td>\n",
              "      <td>0</td>\n",
              "      <td>0</td>\n",
              "      <td>0</td>\n",
              "      <td>0</td>\n",
              "      <td>0</td>\n",
              "      <td>0.0</td>\n",
              "      <td>0.0</td>\n",
              "      <td>0.0</td>\n",
              "      <td>0</td>\n",
              "      <td>0</td>\n",
              "      <td>0</td>\n",
              "      <td>0</td>\n",
              "      <td>0.0</td>\n",
              "      <td>0</td>\n",
              "      <td>0.0</td>\n",
              "      <td>0</td>\n",
              "      <td>0</td>\n",
              "      <td>0.0</td>\n",
              "      <td>0</td>\n",
              "      <td>0</td>\n",
              "      <td>0.0</td>\n",
              "      <td>0</td>\n",
              "      <td>0</td>\n",
              "      <td>0</td>\n",
              "      <td>0.0</td>\n",
              "      <td>0</td>\n",
              "      <td>0.0</td>\n",
              "      <td>0</td>\n",
              "      <td>0.0</td>\n",
              "      <td>0.0</td>\n",
              "      <td>0</td>\n",
              "      <td>0.0</td>\n",
              "      <td>0</td>\n",
              "      <td>0</td>\n",
              "      <td>0.0</td>\n",
              "      <td>0.0</td>\n",
              "      <td>...</td>\n",
              "      <td>0</td>\n",
              "      <td>0</td>\n",
              "      <td>0.0</td>\n",
              "      <td>0</td>\n",
              "      <td>0</td>\n",
              "      <td>0</td>\n",
              "      <td>0.0</td>\n",
              "      <td>0.0</td>\n",
              "      <td>0</td>\n",
              "      <td>0.0</td>\n",
              "      <td>0.0</td>\n",
              "      <td>0.0</td>\n",
              "      <td>0.0</td>\n",
              "      <td>0</td>\n",
              "      <td>0</td>\n",
              "      <td>0</td>\n",
              "      <td>0</td>\n",
              "      <td>0.0</td>\n",
              "      <td>0</td>\n",
              "      <td>0</td>\n",
              "      <td>0.0</td>\n",
              "      <td>0</td>\n",
              "      <td>0</td>\n",
              "      <td>0.0</td>\n",
              "      <td>0</td>\n",
              "      <td>0</td>\n",
              "      <td>0.0</td>\n",
              "      <td>0</td>\n",
              "      <td>0</td>\n",
              "      <td>0.0</td>\n",
              "      <td>0.0</td>\n",
              "      <td>0.0</td>\n",
              "      <td>0.0</td>\n",
              "      <td>0</td>\n",
              "      <td>0</td>\n",
              "      <td>0</td>\n",
              "      <td>0</td>\n",
              "      <td>0</td>\n",
              "      <td>0</td>\n",
              "      <td>0</td>\n",
              "    </tr>\n",
              "    <tr>\n",
              "      <th>4</th>\n",
              "      <td>14400000.0</td>\n",
              "      <td>0.0</td>\n",
              "      <td>0</td>\n",
              "      <td>0.0</td>\n",
              "      <td>0</td>\n",
              "      <td>0</td>\n",
              "      <td>0</td>\n",
              "      <td>0</td>\n",
              "      <td>0</td>\n",
              "      <td>2000000.0</td>\n",
              "      <td>0.0</td>\n",
              "      <td>0.0</td>\n",
              "      <td>0</td>\n",
              "      <td>0</td>\n",
              "      <td>0</td>\n",
              "      <td>0</td>\n",
              "      <td>0.0</td>\n",
              "      <td>0</td>\n",
              "      <td>0.0</td>\n",
              "      <td>0</td>\n",
              "      <td>0</td>\n",
              "      <td>0.0</td>\n",
              "      <td>0</td>\n",
              "      <td>0</td>\n",
              "      <td>0.0</td>\n",
              "      <td>0</td>\n",
              "      <td>0</td>\n",
              "      <td>0</td>\n",
              "      <td>0.0</td>\n",
              "      <td>0</td>\n",
              "      <td>0.0</td>\n",
              "      <td>0</td>\n",
              "      <td>0.0</td>\n",
              "      <td>0.0</td>\n",
              "      <td>0</td>\n",
              "      <td>0.0</td>\n",
              "      <td>0</td>\n",
              "      <td>0</td>\n",
              "      <td>0.0</td>\n",
              "      <td>0.0</td>\n",
              "      <td>...</td>\n",
              "      <td>0</td>\n",
              "      <td>0</td>\n",
              "      <td>0.0</td>\n",
              "      <td>0</td>\n",
              "      <td>0</td>\n",
              "      <td>0</td>\n",
              "      <td>0.0</td>\n",
              "      <td>0.0</td>\n",
              "      <td>0</td>\n",
              "      <td>0.0</td>\n",
              "      <td>0.0</td>\n",
              "      <td>0.0</td>\n",
              "      <td>0.0</td>\n",
              "      <td>0</td>\n",
              "      <td>0</td>\n",
              "      <td>0</td>\n",
              "      <td>0</td>\n",
              "      <td>0.0</td>\n",
              "      <td>0</td>\n",
              "      <td>0</td>\n",
              "      <td>0.0</td>\n",
              "      <td>0</td>\n",
              "      <td>0</td>\n",
              "      <td>0.0</td>\n",
              "      <td>0</td>\n",
              "      <td>0</td>\n",
              "      <td>0.0</td>\n",
              "      <td>0</td>\n",
              "      <td>0</td>\n",
              "      <td>0.0</td>\n",
              "      <td>0.0</td>\n",
              "      <td>0.0</td>\n",
              "      <td>0.0</td>\n",
              "      <td>0</td>\n",
              "      <td>0</td>\n",
              "      <td>0</td>\n",
              "      <td>0</td>\n",
              "      <td>0</td>\n",
              "      <td>0</td>\n",
              "      <td>0</td>\n",
              "    </tr>\n",
              "  </tbody>\n",
              "</table>\n",
              "<p>5 rows × 4992 columns</p>\n",
              "</div>"
            ],
            "text/plain": [
              "       target  48df886f9  0deb4b6a8  ...  fb36b89d9  7e293fbaf  9fc776466\n",
              "0  38000000.0        0.0          0  ...          0          0          0\n",
              "1    600000.0        0.0          0  ...          0          0          0\n",
              "2  10000000.0        0.0          0  ...          0          0          0\n",
              "3   2000000.0        0.0          0  ...          0          0          0\n",
              "4  14400000.0        0.0          0  ...          0          0          0\n",
              "\n",
              "[5 rows x 4992 columns]"
            ]
          },
          "metadata": {
            "tags": []
          },
          "execution_count": 35
        }
      ]
    },
    {
      "cell_type": "code",
      "metadata": {
        "id": "AyXNiVbyhBSy",
        "colab_type": "code",
        "colab": {
          "base_uri": "https://localhost:8080/",
          "height": 123
        },
        "outputId": "79e8bcca-cce5-4803-9310-3e1324bb0982"
      },
      "source": [
        "value.columns"
      ],
      "execution_count": 36,
      "outputs": [
        {
          "output_type": "execute_result",
          "data": {
            "text/plain": [
              "Index(['target', '48df886f9', '0deb4b6a8', '34b15f335', 'a8cb14b00',\n",
              "       '2f0771a37', '30347e683', 'd08d1fbe3', '6ee66e115', '20aa07010',\n",
              "       ...\n",
              "       '3ecc09859', '9281abeea', '8675bec0b', '3a13ed79a', 'f677d4d13',\n",
              "       '71b203550', '137efaa80', 'fb36b89d9', '7e293fbaf', '9fc776466'],\n",
              "      dtype='object', length=4992)"
            ]
          },
          "metadata": {
            "tags": []
          },
          "execution_count": 36
        }
      ]
    },
    {
      "cell_type": "code",
      "metadata": {
        "id": "Lp0Hr0MtlI8t",
        "colab_type": "code",
        "colab": {
          "base_uri": "https://localhost:8080/",
          "height": 34
        },
        "outputId": "4d6985b4-98ba-431d-f63c-29121a774d06"
      },
      "source": [
        "drop_col=[]\n",
        "for cols in value.columns:\n",
        "  if np.std(value[cols])==0:\n",
        "    drop_col.append(cols)\n",
        "print(len(drop_col))"
      ],
      "execution_count": 39,
      "outputs": [
        {
          "output_type": "stream",
          "text": [
            "256\n"
          ],
          "name": "stdout"
        }
      ]
    },
    {
      "cell_type": "code",
      "metadata": {
        "id": "EWi-qVxglfB_",
        "colab_type": "code",
        "colab": {}
      },
      "source": [
        "value.drop(drop_col,axis=1,inplace=True)"
      ],
      "execution_count": 0,
      "outputs": []
    },
    {
      "cell_type": "code",
      "metadata": {
        "id": "Xk2bT2Jem4gT",
        "colab_type": "code",
        "colab": {
          "base_uri": "https://localhost:8080/",
          "height": 123
        },
        "outputId": "9c68b2dc-a1ae-46b8-ccd4-cfff73aa1d94"
      },
      "source": [
        "value.columns"
      ],
      "execution_count": 41,
      "outputs": [
        {
          "output_type": "execute_result",
          "data": {
            "text/plain": [
              "Index(['target', '48df886f9', '0deb4b6a8', '34b15f335', 'a8cb14b00',\n",
              "       '2f0771a37', '30347e683', 'd08d1fbe3', '6ee66e115', '20aa07010',\n",
              "       ...\n",
              "       '3ecc09859', '9281abeea', '8675bec0b', '3a13ed79a', 'f677d4d13',\n",
              "       '71b203550', '137efaa80', 'fb36b89d9', '7e293fbaf', '9fc776466'],\n",
              "      dtype='object', length=4736)"
            ]
          },
          "metadata": {
            "tags": []
          },
          "execution_count": 41
        }
      ]
    },
    {
      "cell_type": "code",
      "metadata": {
        "id": "ZFh5j7K8nGhM",
        "colab_type": "code",
        "colab": {}
      },
      "source": [
        "x=value.loc[:,value.columns!=\"target\"]\n",
        "y=np.log(value.loc[:,value.columns==\"target\"])"
      ],
      "execution_count": 0,
      "outputs": []
    },
    {
      "cell_type": "code",
      "metadata": {
        "id": "EKAnC2K3ndd7",
        "colab_type": "code",
        "colab": {
          "base_uri": "https://localhost:8080/",
          "height": 246
        },
        "outputId": "8d071a55-b363-4827-fbc6-016616eae2a6"
      },
      "source": [
        "x.head()"
      ],
      "execution_count": 43,
      "outputs": [
        {
          "output_type": "execute_result",
          "data": {
            "text/html": [
              "<div>\n",
              "<style scoped>\n",
              "    .dataframe tbody tr th:only-of-type {\n",
              "        vertical-align: middle;\n",
              "    }\n",
              "\n",
              "    .dataframe tbody tr th {\n",
              "        vertical-align: top;\n",
              "    }\n",
              "\n",
              "    .dataframe thead th {\n",
              "        text-align: right;\n",
              "    }\n",
              "</style>\n",
              "<table border=\"1\" class=\"dataframe\">\n",
              "  <thead>\n",
              "    <tr style=\"text-align: right;\">\n",
              "      <th></th>\n",
              "      <th>48df886f9</th>\n",
              "      <th>0deb4b6a8</th>\n",
              "      <th>34b15f335</th>\n",
              "      <th>a8cb14b00</th>\n",
              "      <th>2f0771a37</th>\n",
              "      <th>30347e683</th>\n",
              "      <th>d08d1fbe3</th>\n",
              "      <th>6ee66e115</th>\n",
              "      <th>20aa07010</th>\n",
              "      <th>dc5a8f1d8</th>\n",
              "      <th>11d86fa6a</th>\n",
              "      <th>77c9823f2</th>\n",
              "      <th>8d6c2a0b2</th>\n",
              "      <th>4681de4fd</th>\n",
              "      <th>adf119b9a</th>\n",
              "      <th>cff75dd09</th>\n",
              "      <th>96f83a237</th>\n",
              "      <th>b8a716ebf</th>\n",
              "      <th>6c7a4567c</th>\n",
              "      <th>4fcfd2b4d</th>\n",
              "      <th>f3b9c0b95</th>\n",
              "      <th>71cebf11c</th>\n",
              "      <th>d966ac62c</th>\n",
              "      <th>68b647452</th>\n",
              "      <th>c88d108c9</th>\n",
              "      <th>ff7b471cd</th>\n",
              "      <th>0d866c3d7</th>\n",
              "      <th>bc3f77679</th>\n",
              "      <th>bd8f989f1</th>\n",
              "      <th>0eff5bf95</th>\n",
              "      <th>22ed6dba3</th>\n",
              "      <th>92b13ebba</th>\n",
              "      <th>233c7c17c</th>\n",
              "      <th>2cb4d123e</th>\n",
              "      <th>87ffda550</th>\n",
              "      <th>822e49b95</th>\n",
              "      <th>316b978cd</th>\n",
              "      <th>d04e16aed</th>\n",
              "      <th>5d5c5ce6d</th>\n",
              "      <th>ec863cb52</th>\n",
              "      <th>...</th>\n",
              "      <th>969caa87a</th>\n",
              "      <th>00302fe51</th>\n",
              "      <th>1189ee335</th>\n",
              "      <th>ca04a07ca</th>\n",
              "      <th>f6f15ffa5</th>\n",
              "      <th>841704460</th>\n",
              "      <th>ea5ed6ff7</th>\n",
              "      <th>b1bb8eac3</th>\n",
              "      <th>8132d18b8</th>\n",
              "      <th>c24ea6548</th>\n",
              "      <th>cdfc2b069</th>\n",
              "      <th>2a879b4f7</th>\n",
              "      <th>6b119d8ce</th>\n",
              "      <th>98dea9e42</th>\n",
              "      <th>9f2471031</th>\n",
              "      <th>88458cb21</th>\n",
              "      <th>f40da20f4</th>\n",
              "      <th>7ad6b38bd</th>\n",
              "      <th>c901e7df1</th>\n",
              "      <th>8f55955dc</th>\n",
              "      <th>85dcc913d</th>\n",
              "      <th>5ca0b9b0c</th>\n",
              "      <th>eab8abf7a</th>\n",
              "      <th>8d8bffbae</th>\n",
              "      <th>2a1f6c7f9</th>\n",
              "      <th>9437d8b64</th>\n",
              "      <th>5831f4c76</th>\n",
              "      <th>2e84e09c5</th>\n",
              "      <th>d45fd5508</th>\n",
              "      <th>a165f5761</th>\n",
              "      <th>3ecc09859</th>\n",
              "      <th>9281abeea</th>\n",
              "      <th>8675bec0b</th>\n",
              "      <th>3a13ed79a</th>\n",
              "      <th>f677d4d13</th>\n",
              "      <th>71b203550</th>\n",
              "      <th>137efaa80</th>\n",
              "      <th>fb36b89d9</th>\n",
              "      <th>7e293fbaf</th>\n",
              "      <th>9fc776466</th>\n",
              "    </tr>\n",
              "  </thead>\n",
              "  <tbody>\n",
              "    <tr>\n",
              "      <th>0</th>\n",
              "      <td>0.0</td>\n",
              "      <td>0</td>\n",
              "      <td>0.0</td>\n",
              "      <td>0</td>\n",
              "      <td>0</td>\n",
              "      <td>0</td>\n",
              "      <td>0</td>\n",
              "      <td>0</td>\n",
              "      <td>0.0</td>\n",
              "      <td>0.0</td>\n",
              "      <td>0.0</td>\n",
              "      <td>0</td>\n",
              "      <td>0</td>\n",
              "      <td>0</td>\n",
              "      <td>0</td>\n",
              "      <td>0.0</td>\n",
              "      <td>0</td>\n",
              "      <td>0.0</td>\n",
              "      <td>0</td>\n",
              "      <td>0</td>\n",
              "      <td>0.0</td>\n",
              "      <td>0</td>\n",
              "      <td>0</td>\n",
              "      <td>0.0</td>\n",
              "      <td>0</td>\n",
              "      <td>0</td>\n",
              "      <td>0.0</td>\n",
              "      <td>0</td>\n",
              "      <td>0.0</td>\n",
              "      <td>0</td>\n",
              "      <td>0.0</td>\n",
              "      <td>0.0</td>\n",
              "      <td>0.0</td>\n",
              "      <td>0</td>\n",
              "      <td>1300000.0</td>\n",
              "      <td>0.0</td>\n",
              "      <td>0</td>\n",
              "      <td>0.0</td>\n",
              "      <td>0</td>\n",
              "      <td>0</td>\n",
              "      <td>...</td>\n",
              "      <td>0</td>\n",
              "      <td>0</td>\n",
              "      <td>1100000.0</td>\n",
              "      <td>0</td>\n",
              "      <td>0</td>\n",
              "      <td>0</td>\n",
              "      <td>0.0</td>\n",
              "      <td>0.0</td>\n",
              "      <td>14800000</td>\n",
              "      <td>0.0</td>\n",
              "      <td>1200000.0</td>\n",
              "      <td>0.0</td>\n",
              "      <td>0.0</td>\n",
              "      <td>0</td>\n",
              "      <td>0</td>\n",
              "      <td>0</td>\n",
              "      <td>0</td>\n",
              "      <td>0.0</td>\n",
              "      <td>4000000</td>\n",
              "      <td>0</td>\n",
              "      <td>0.0</td>\n",
              "      <td>0</td>\n",
              "      <td>0</td>\n",
              "      <td>0.0</td>\n",
              "      <td>0</td>\n",
              "      <td>0</td>\n",
              "      <td>0.0</td>\n",
              "      <td>0</td>\n",
              "      <td>0</td>\n",
              "      <td>0.0</td>\n",
              "      <td>0.0</td>\n",
              "      <td>0.0</td>\n",
              "      <td>0.0</td>\n",
              "      <td>0</td>\n",
              "      <td>0</td>\n",
              "      <td>0</td>\n",
              "      <td>0</td>\n",
              "      <td>0</td>\n",
              "      <td>0</td>\n",
              "      <td>0</td>\n",
              "    </tr>\n",
              "    <tr>\n",
              "      <th>1</th>\n",
              "      <td>0.0</td>\n",
              "      <td>0</td>\n",
              "      <td>0.0</td>\n",
              "      <td>0</td>\n",
              "      <td>0</td>\n",
              "      <td>0</td>\n",
              "      <td>0</td>\n",
              "      <td>0</td>\n",
              "      <td>2200000.0</td>\n",
              "      <td>0.0</td>\n",
              "      <td>0.0</td>\n",
              "      <td>0</td>\n",
              "      <td>0</td>\n",
              "      <td>0</td>\n",
              "      <td>0</td>\n",
              "      <td>0.0</td>\n",
              "      <td>0</td>\n",
              "      <td>0.0</td>\n",
              "      <td>0</td>\n",
              "      <td>0</td>\n",
              "      <td>0.0</td>\n",
              "      <td>0</td>\n",
              "      <td>0</td>\n",
              "      <td>0.0</td>\n",
              "      <td>0</td>\n",
              "      <td>0</td>\n",
              "      <td>0.0</td>\n",
              "      <td>0</td>\n",
              "      <td>0.0</td>\n",
              "      <td>0</td>\n",
              "      <td>0.0</td>\n",
              "      <td>0.0</td>\n",
              "      <td>0.0</td>\n",
              "      <td>0</td>\n",
              "      <td>0.0</td>\n",
              "      <td>0.0</td>\n",
              "      <td>0</td>\n",
              "      <td>0.0</td>\n",
              "      <td>0</td>\n",
              "      <td>0</td>\n",
              "      <td>...</td>\n",
              "      <td>0</td>\n",
              "      <td>0</td>\n",
              "      <td>0.0</td>\n",
              "      <td>0</td>\n",
              "      <td>0</td>\n",
              "      <td>0</td>\n",
              "      <td>0.0</td>\n",
              "      <td>0.0</td>\n",
              "      <td>0</td>\n",
              "      <td>0.0</td>\n",
              "      <td>0.0</td>\n",
              "      <td>0.0</td>\n",
              "      <td>0.0</td>\n",
              "      <td>0</td>\n",
              "      <td>0</td>\n",
              "      <td>0</td>\n",
              "      <td>0</td>\n",
              "      <td>0.0</td>\n",
              "      <td>0</td>\n",
              "      <td>0</td>\n",
              "      <td>0.0</td>\n",
              "      <td>0</td>\n",
              "      <td>0</td>\n",
              "      <td>0.0</td>\n",
              "      <td>0</td>\n",
              "      <td>0</td>\n",
              "      <td>0.0</td>\n",
              "      <td>0</td>\n",
              "      <td>0</td>\n",
              "      <td>0.0</td>\n",
              "      <td>0.0</td>\n",
              "      <td>0.0</td>\n",
              "      <td>0.0</td>\n",
              "      <td>0</td>\n",
              "      <td>0</td>\n",
              "      <td>0</td>\n",
              "      <td>0</td>\n",
              "      <td>0</td>\n",
              "      <td>0</td>\n",
              "      <td>0</td>\n",
              "    </tr>\n",
              "    <tr>\n",
              "      <th>2</th>\n",
              "      <td>0.0</td>\n",
              "      <td>0</td>\n",
              "      <td>0.0</td>\n",
              "      <td>0</td>\n",
              "      <td>0</td>\n",
              "      <td>0</td>\n",
              "      <td>0</td>\n",
              "      <td>0</td>\n",
              "      <td>0.0</td>\n",
              "      <td>0.0</td>\n",
              "      <td>0.0</td>\n",
              "      <td>0</td>\n",
              "      <td>0</td>\n",
              "      <td>0</td>\n",
              "      <td>0</td>\n",
              "      <td>0.0</td>\n",
              "      <td>0</td>\n",
              "      <td>0.0</td>\n",
              "      <td>0</td>\n",
              "      <td>0</td>\n",
              "      <td>0.0</td>\n",
              "      <td>0</td>\n",
              "      <td>0</td>\n",
              "      <td>0.0</td>\n",
              "      <td>0</td>\n",
              "      <td>0</td>\n",
              "      <td>0.0</td>\n",
              "      <td>0</td>\n",
              "      <td>0.0</td>\n",
              "      <td>0</td>\n",
              "      <td>0.0</td>\n",
              "      <td>0.0</td>\n",
              "      <td>0.0</td>\n",
              "      <td>0</td>\n",
              "      <td>0.0</td>\n",
              "      <td>0.0</td>\n",
              "      <td>0</td>\n",
              "      <td>0.0</td>\n",
              "      <td>0</td>\n",
              "      <td>0</td>\n",
              "      <td>...</td>\n",
              "      <td>0</td>\n",
              "      <td>0</td>\n",
              "      <td>0.0</td>\n",
              "      <td>0</td>\n",
              "      <td>0</td>\n",
              "      <td>0</td>\n",
              "      <td>0.0</td>\n",
              "      <td>0.0</td>\n",
              "      <td>0</td>\n",
              "      <td>0.0</td>\n",
              "      <td>0.0</td>\n",
              "      <td>0.0</td>\n",
              "      <td>0.0</td>\n",
              "      <td>0</td>\n",
              "      <td>0</td>\n",
              "      <td>0</td>\n",
              "      <td>0</td>\n",
              "      <td>0.0</td>\n",
              "      <td>0</td>\n",
              "      <td>0</td>\n",
              "      <td>0.0</td>\n",
              "      <td>0</td>\n",
              "      <td>0</td>\n",
              "      <td>0.0</td>\n",
              "      <td>0</td>\n",
              "      <td>0</td>\n",
              "      <td>0.0</td>\n",
              "      <td>0</td>\n",
              "      <td>0</td>\n",
              "      <td>0.0</td>\n",
              "      <td>0.0</td>\n",
              "      <td>0.0</td>\n",
              "      <td>0.0</td>\n",
              "      <td>0</td>\n",
              "      <td>0</td>\n",
              "      <td>0</td>\n",
              "      <td>0</td>\n",
              "      <td>0</td>\n",
              "      <td>0</td>\n",
              "      <td>0</td>\n",
              "    </tr>\n",
              "    <tr>\n",
              "      <th>3</th>\n",
              "      <td>0.0</td>\n",
              "      <td>0</td>\n",
              "      <td>0.0</td>\n",
              "      <td>0</td>\n",
              "      <td>0</td>\n",
              "      <td>0</td>\n",
              "      <td>0</td>\n",
              "      <td>0</td>\n",
              "      <td>0.0</td>\n",
              "      <td>0.0</td>\n",
              "      <td>0.0</td>\n",
              "      <td>0</td>\n",
              "      <td>0</td>\n",
              "      <td>0</td>\n",
              "      <td>0</td>\n",
              "      <td>0.0</td>\n",
              "      <td>0</td>\n",
              "      <td>0.0</td>\n",
              "      <td>0</td>\n",
              "      <td>0</td>\n",
              "      <td>0.0</td>\n",
              "      <td>0</td>\n",
              "      <td>0</td>\n",
              "      <td>0.0</td>\n",
              "      <td>0</td>\n",
              "      <td>0</td>\n",
              "      <td>0.0</td>\n",
              "      <td>0</td>\n",
              "      <td>0.0</td>\n",
              "      <td>0</td>\n",
              "      <td>0.0</td>\n",
              "      <td>0.0</td>\n",
              "      <td>0.0</td>\n",
              "      <td>0</td>\n",
              "      <td>0.0</td>\n",
              "      <td>0.0</td>\n",
              "      <td>0</td>\n",
              "      <td>0.0</td>\n",
              "      <td>0</td>\n",
              "      <td>0</td>\n",
              "      <td>...</td>\n",
              "      <td>0</td>\n",
              "      <td>0</td>\n",
              "      <td>0.0</td>\n",
              "      <td>0</td>\n",
              "      <td>0</td>\n",
              "      <td>0</td>\n",
              "      <td>0.0</td>\n",
              "      <td>0.0</td>\n",
              "      <td>0</td>\n",
              "      <td>0.0</td>\n",
              "      <td>0.0</td>\n",
              "      <td>0.0</td>\n",
              "      <td>0.0</td>\n",
              "      <td>0</td>\n",
              "      <td>0</td>\n",
              "      <td>0</td>\n",
              "      <td>0</td>\n",
              "      <td>0.0</td>\n",
              "      <td>0</td>\n",
              "      <td>0</td>\n",
              "      <td>0.0</td>\n",
              "      <td>0</td>\n",
              "      <td>0</td>\n",
              "      <td>0.0</td>\n",
              "      <td>0</td>\n",
              "      <td>0</td>\n",
              "      <td>0.0</td>\n",
              "      <td>0</td>\n",
              "      <td>0</td>\n",
              "      <td>0.0</td>\n",
              "      <td>0.0</td>\n",
              "      <td>0.0</td>\n",
              "      <td>0.0</td>\n",
              "      <td>0</td>\n",
              "      <td>0</td>\n",
              "      <td>0</td>\n",
              "      <td>0</td>\n",
              "      <td>0</td>\n",
              "      <td>0</td>\n",
              "      <td>0</td>\n",
              "    </tr>\n",
              "    <tr>\n",
              "      <th>4</th>\n",
              "      <td>0.0</td>\n",
              "      <td>0</td>\n",
              "      <td>0.0</td>\n",
              "      <td>0</td>\n",
              "      <td>0</td>\n",
              "      <td>0</td>\n",
              "      <td>0</td>\n",
              "      <td>0</td>\n",
              "      <td>2000000.0</td>\n",
              "      <td>0.0</td>\n",
              "      <td>0.0</td>\n",
              "      <td>0</td>\n",
              "      <td>0</td>\n",
              "      <td>0</td>\n",
              "      <td>0</td>\n",
              "      <td>0.0</td>\n",
              "      <td>0</td>\n",
              "      <td>0.0</td>\n",
              "      <td>0</td>\n",
              "      <td>0</td>\n",
              "      <td>0.0</td>\n",
              "      <td>0</td>\n",
              "      <td>0</td>\n",
              "      <td>0.0</td>\n",
              "      <td>0</td>\n",
              "      <td>0</td>\n",
              "      <td>0.0</td>\n",
              "      <td>0</td>\n",
              "      <td>0.0</td>\n",
              "      <td>0</td>\n",
              "      <td>0.0</td>\n",
              "      <td>0.0</td>\n",
              "      <td>0.0</td>\n",
              "      <td>0</td>\n",
              "      <td>0.0</td>\n",
              "      <td>0.0</td>\n",
              "      <td>0</td>\n",
              "      <td>0.0</td>\n",
              "      <td>0</td>\n",
              "      <td>0</td>\n",
              "      <td>...</td>\n",
              "      <td>0</td>\n",
              "      <td>0</td>\n",
              "      <td>0.0</td>\n",
              "      <td>0</td>\n",
              "      <td>0</td>\n",
              "      <td>0</td>\n",
              "      <td>0.0</td>\n",
              "      <td>0.0</td>\n",
              "      <td>0</td>\n",
              "      <td>0.0</td>\n",
              "      <td>0.0</td>\n",
              "      <td>0.0</td>\n",
              "      <td>0.0</td>\n",
              "      <td>0</td>\n",
              "      <td>0</td>\n",
              "      <td>0</td>\n",
              "      <td>0</td>\n",
              "      <td>0.0</td>\n",
              "      <td>0</td>\n",
              "      <td>0</td>\n",
              "      <td>0.0</td>\n",
              "      <td>0</td>\n",
              "      <td>0</td>\n",
              "      <td>0.0</td>\n",
              "      <td>0</td>\n",
              "      <td>0</td>\n",
              "      <td>0.0</td>\n",
              "      <td>0</td>\n",
              "      <td>0</td>\n",
              "      <td>0.0</td>\n",
              "      <td>0.0</td>\n",
              "      <td>0.0</td>\n",
              "      <td>0.0</td>\n",
              "      <td>0</td>\n",
              "      <td>0</td>\n",
              "      <td>0</td>\n",
              "      <td>0</td>\n",
              "      <td>0</td>\n",
              "      <td>0</td>\n",
              "      <td>0</td>\n",
              "    </tr>\n",
              "  </tbody>\n",
              "</table>\n",
              "<p>5 rows × 4735 columns</p>\n",
              "</div>"
            ],
            "text/plain": [
              "   48df886f9  0deb4b6a8  34b15f335  ...  fb36b89d9  7e293fbaf  9fc776466\n",
              "0        0.0          0        0.0  ...          0          0          0\n",
              "1        0.0          0        0.0  ...          0          0          0\n",
              "2        0.0          0        0.0  ...          0          0          0\n",
              "3        0.0          0        0.0  ...          0          0          0\n",
              "4        0.0          0        0.0  ...          0          0          0\n",
              "\n",
              "[5 rows x 4735 columns]"
            ]
          },
          "metadata": {
            "tags": []
          },
          "execution_count": 43
        }
      ]
    },
    {
      "cell_type": "code",
      "metadata": {
        "id": "QfiIJXbonfdV",
        "colab_type": "code",
        "colab": {
          "base_uri": "https://localhost:8080/",
          "height": 197
        },
        "outputId": "a21bd43c-a723-43ce-cf58-56b28f60a4a2"
      },
      "source": [
        "y.head()"
      ],
      "execution_count": 44,
      "outputs": [
        {
          "output_type": "execute_result",
          "data": {
            "text/html": [
              "<div>\n",
              "<style scoped>\n",
              "    .dataframe tbody tr th:only-of-type {\n",
              "        vertical-align: middle;\n",
              "    }\n",
              "\n",
              "    .dataframe tbody tr th {\n",
              "        vertical-align: top;\n",
              "    }\n",
              "\n",
              "    .dataframe thead th {\n",
              "        text-align: right;\n",
              "    }\n",
              "</style>\n",
              "<table border=\"1\" class=\"dataframe\">\n",
              "  <thead>\n",
              "    <tr style=\"text-align: right;\">\n",
              "      <th></th>\n",
              "      <th>target</th>\n",
              "    </tr>\n",
              "  </thead>\n",
              "  <tbody>\n",
              "    <tr>\n",
              "      <th>0</th>\n",
              "      <td>17.453097</td>\n",
              "    </tr>\n",
              "    <tr>\n",
              "      <th>1</th>\n",
              "      <td>13.304685</td>\n",
              "    </tr>\n",
              "    <tr>\n",
              "      <th>2</th>\n",
              "      <td>16.118096</td>\n",
              "    </tr>\n",
              "    <tr>\n",
              "      <th>3</th>\n",
              "      <td>14.508658</td>\n",
              "    </tr>\n",
              "    <tr>\n",
              "      <th>4</th>\n",
              "      <td>16.482739</td>\n",
              "    </tr>\n",
              "  </tbody>\n",
              "</table>\n",
              "</div>"
            ],
            "text/plain": [
              "      target\n",
              "0  17.453097\n",
              "1  13.304685\n",
              "2  16.118096\n",
              "3  14.508658\n",
              "4  16.482739"
            ]
          },
          "metadata": {
            "tags": []
          },
          "execution_count": 44
        }
      ]
    },
    {
      "cell_type": "code",
      "metadata": {
        "id": "YgabNv4Cng_6",
        "colab_type": "code",
        "colab": {}
      },
      "source": [
        "from sklearn.preprocessing import StandardScaler\n"
      ],
      "execution_count": 0,
      "outputs": []
    },
    {
      "cell_type": "code",
      "metadata": {
        "id": "ViBnBL5to0P-",
        "colab_type": "code",
        "colab": {}
      },
      "source": [
        "x_sc=StandardScaler().fit_transform(x)"
      ],
      "execution_count": 0,
      "outputs": []
    },
    {
      "cell_type": "code",
      "metadata": {
        "id": "PySCOO95o-11",
        "colab_type": "code",
        "colab": {
          "base_uri": "https://localhost:8080/",
          "height": 194
        },
        "outputId": "00ef3956-46ca-496b-99e7-2d27900fae3e"
      },
      "source": [
        "x_sc[:5]"
      ],
      "execution_count": 48,
      "outputs": [
        {
          "output_type": "execute_result",
          "data": {
            "text/plain": [
              "array([[-0.03764565, -0.02163947, -0.04688961, ..., -0.07234203,\n",
              "        -0.05636327, -0.12585201],\n",
              "       [-0.03764565, -0.02163947, -0.04688961, ..., -0.07234203,\n",
              "        -0.05636327, -0.12585201],\n",
              "       [-0.03764565, -0.02163947, -0.04688961, ..., -0.07234203,\n",
              "        -0.05636327, -0.12585201],\n",
              "       [-0.03764565, -0.02163947, -0.04688961, ..., -0.07234203,\n",
              "        -0.05636327, -0.12585201],\n",
              "       [-0.03764565, -0.02163947, -0.04688961, ..., -0.07234203,\n",
              "        -0.05636327, -0.12585201]])"
            ]
          },
          "metadata": {
            "tags": []
          },
          "execution_count": 48
        }
      ]
    },
    {
      "cell_type": "code",
      "metadata": {
        "id": "6bi2S57kpCEl",
        "colab_type": "code",
        "colab": {}
      },
      "source": [
        "from sklearn.model_selection import train_test_split\n",
        "x_train,x_test,y_train,y_test=train_test_split(x,y,test_size=0.20,random_state=1)"
      ],
      "execution_count": 0,
      "outputs": []
    },
    {
      "cell_type": "code",
      "metadata": {
        "id": "uhZxTxO6raSQ",
        "colab_type": "code",
        "colab": {
          "base_uri": "https://localhost:8080/",
          "height": 52
        },
        "outputId": "09a20947-4732-49e4-9910-fb84341101c7"
      },
      "source": [
        "print(x_train.shape)\n",
        "print(y_train.shape)"
      ],
      "execution_count": 51,
      "outputs": [
        {
          "output_type": "stream",
          "text": [
            "(3567, 4735)\n",
            "(3567, 1)\n"
          ],
          "name": "stdout"
        }
      ]
    },
    {
      "cell_type": "code",
      "metadata": {
        "id": "2Uus3quPreX7",
        "colab_type": "code",
        "colab": {
          "base_uri": "https://localhost:8080/",
          "height": 34
        },
        "outputId": "baf4e657-bc72-4058-feff-1d98a14032bb"
      },
      "source": [
        "x.shape"
      ],
      "execution_count": 52,
      "outputs": [
        {
          "output_type": "execute_result",
          "data": {
            "text/plain": [
              "(4459, 4735)"
            ]
          },
          "metadata": {
            "tags": []
          },
          "execution_count": 52
        }
      ]
    },
    {
      "cell_type": "code",
      "metadata": {
        "id": "Rob2bV3G69tP",
        "colab_type": "code",
        "colab": {}
      },
      "source": [
        "import time\n",
        "from sklearn.ensemble import RandomForestRegressor"
      ],
      "execution_count": 0,
      "outputs": []
    },
    {
      "cell_type": "code",
      "metadata": {
        "id": "7_HIp6Qk8e-X",
        "colab_type": "code",
        "colab": {
          "base_uri": "https://localhost:8080/",
          "height": 90
        },
        "outputId": "b899c13e-907c-4a0a-dbc1-4c8807bc89d6"
      },
      "source": [
        "import time\n",
        "from sklearn.ensemble import RandomForestRegressor\n",
        "# base model - no parameters \n",
        "rfc = RandomForestRegressor(random_state =0)\n",
        "start_time = time.time()\n",
        "rfc.fit(x_train,y_train)\n",
        "end_time = time.time()\n",
        "time1 = end_time-start_time\n",
        "print(time1)"
      ],
      "execution_count": 57,
      "outputs": [
        {
          "output_type": "stream",
          "text": [
            "/usr/local/lib/python3.6/dist-packages/ipykernel_launcher.py:6: DataConversionWarning: A column-vector y was passed when a 1d array was expected. Please change the shape of y to (n_samples,), for example using ravel().\n",
            "  \n"
          ],
          "name": "stderr"
        },
        {
          "output_type": "stream",
          "text": [
            "246.7430522441864\n"
          ],
          "name": "stdout"
        }
      ]
    },
    {
      "cell_type": "code",
      "metadata": {
        "id": "rdvNgHwx8rHT",
        "colab_type": "code",
        "colab": {}
      },
      "source": [
        "predictions=rfc.predict(x_test)"
      ],
      "execution_count": 0,
      "outputs": []
    },
    {
      "cell_type": "code",
      "metadata": {
        "id": "szbOwGoT-O4c",
        "colab_type": "code",
        "colab": {}
      },
      "source": [
        "from sklearn import metrics"
      ],
      "execution_count": 0,
      "outputs": []
    },
    {
      "cell_type": "code",
      "metadata": {
        "id": "2w6R2DeX-bg4",
        "colab_type": "code",
        "colab": {}
      },
      "source": [
        "rmse=np.sqrt(metrics.mean_squared_error(y_test,predictions))"
      ],
      "execution_count": 0,
      "outputs": []
    },
    {
      "cell_type": "code",
      "metadata": {
        "id": "t7FiIIiE-yYN",
        "colab_type": "code",
        "colab": {
          "base_uri": "https://localhost:8080/",
          "height": 34
        },
        "outputId": "6a715eb6-1de2-4f65-c036-7d9ea4db2e6c"
      },
      "source": [
        "print(rmse)"
      ],
      "execution_count": 61,
      "outputs": [
        {
          "output_type": "stream",
          "text": [
            "1.396045630298015\n"
          ],
          "name": "stdout"
        }
      ]
    },
    {
      "cell_type": "code",
      "metadata": {
        "id": "v0PhZU8u-07l",
        "colab_type": "code",
        "colab": {
          "base_uri": "https://localhost:8080/",
          "height": 34
        },
        "outputId": "abd47dbd-10bc-428e-ec96-6f829aa45d56"
      },
      "source": [
        "rmse=np.sqrt(metrics.mean_squared_error(y_test,predictions))\n",
        "print(rmse)"
      ],
      "execution_count": 62,
      "outputs": [
        {
          "output_type": "stream",
          "text": [
            "1.396045630298015\n"
          ],
          "name": "stdout"
        }
      ]
    },
    {
      "cell_type": "code",
      "metadata": {
        "id": "7Zne4sb9_Ogb",
        "colab_type": "code",
        "colab": {}
      },
      "source": [
        "from sklearn.decomposition import PCA"
      ],
      "execution_count": 0,
      "outputs": []
    },
    {
      "cell_type": "code",
      "metadata": {
        "id": "6pR94fTE_gbR",
        "colab_type": "code",
        "colab": {
          "base_uri": "https://localhost:8080/",
          "height": 34
        },
        "outputId": "523ce575-04a9-4fc5-cedd-1ef9ee427e39"
      },
      "source": [
        "pca=PCA(0.95).fit(x)\n",
        "x.shape"
      ],
      "execution_count": 66,
      "outputs": [
        {
          "output_type": "execute_result",
          "data": {
            "text/plain": [
              "(4459, 4735)"
            ]
          },
          "metadata": {
            "tags": []
          },
          "execution_count": 66
        }
      ]
    },
    {
      "cell_type": "code",
      "metadata": {
        "id": "gRxiDiQW_mRY",
        "colab_type": "code",
        "colab": {
          "base_uri": "https://localhost:8080/",
          "height": 312
        },
        "outputId": "e1516455-efe7-4b9e-e247-26ef2403b4f1"
      },
      "source": [
        "# use this code block as a standard template to decide n_component value or the valu of N which is the number you want to reduce to! \n",
        "var=np.cumsum(np.round(pca.explained_variance_ratio_, decimals=3)*100)\n",
        "plt.ylabel('% Variance Explained')\n",
        "plt.xlabel('Number of Features')\n",
        "plt.title('PCA Analysis')\n",
        "plt.ylim(30,100.5)\n",
        "plt.style.context('seaborn-whitegrid')\n",
        "plt.plot(var)"
      ],
      "execution_count": 67,
      "outputs": [
        {
          "output_type": "execute_result",
          "data": {
            "text/plain": [
              "[<matplotlib.lines.Line2D at 0x7f8648141f98>]"
            ]
          },
          "metadata": {
            "tags": []
          },
          "execution_count": 67
        },
        {
          "output_type": "display_data",
          "data": {
            "image/png": "[encoded data removed]",
            "text/plain": [
              "<Figure size 432x288 with 1 Axes>"
            ]
          },
          "metadata": {
            "tags": []
          }
        }
      ]
    },
    {
      "cell_type": "code",
      "metadata": {
        "id": "K8KFqoOaAD88",
        "colab_type": "code",
        "colab": {}
      },
      "source": [
        "pca1=PCA(0.95).fit(x_sc)"
      ],
      "execution_count": 0,
      "outputs": []
    },
    {
      "cell_type": "code",
      "metadata": {
        "id": "ZHf5-3uWAgsy",
        "colab_type": "code",
        "colab": {
          "base_uri": "https://localhost:8080/",
          "height": 34
        },
        "outputId": "e9cce388-72f7-44e4-9632-538eefc85007"
      },
      "source": [
        "x_sc.shape"
      ],
      "execution_count": 69,
      "outputs": [
        {
          "output_type": "execute_result",
          "data": {
            "text/plain": [
              "(4459, 4735)"
            ]
          },
          "metadata": {
            "tags": []
          },
          "execution_count": 69
        }
      ]
    },
    {
      "cell_type": "code",
      "metadata": {
        "id": "j7-7AXrfA2QT",
        "colab_type": "code",
        "colab": {
          "base_uri": "https://localhost:8080/",
          "height": 34
        },
        "outputId": "3e8931c3-a145-4c68-ac86-6f81f5de7ff1"
      },
      "source": [
        "pca=PCA(n_components=180,random_state=0)\n",
        "x_pca=pca.fit_transform(x)\n",
        "x_pca.shape"
      ],
      "execution_count": 70,
      "outputs": [
        {
          "output_type": "execute_result",
          "data": {
            "text/plain": [
              "(4459, 180)"
            ]
          },
          "metadata": {
            "tags": []
          },
          "execution_count": 70
        }
      ]
    },
    {
      "cell_type": "code",
      "metadata": {
        "id": "nv-swnwWU7XQ",
        "colab_type": "code",
        "colab": {
          "base_uri": "https://localhost:8080/",
          "height": 90
        },
        "outputId": "ba246657-302b-482f-d94b-65771e288ee3"
      },
      "source": [
        "x_train,x_test,y_train,y_test=train_test_split(x,y,test_size=0.25,random_state=1)\n",
        "rf=RandomForestRegressor()\n",
        "TIME=time.time()\n",
        "rf.fit(x_train,y_train)\n",
        "TIME1=time.time()\n",
        "print(TIME1-TIME)"
      ],
      "execution_count": 105,
      "outputs": [
        {
          "output_type": "stream",
          "text": [
            "/usr/local/lib/python3.6/dist-packages/ipykernel_launcher.py:4: DataConversionWarning: A column-vector y was passed when a 1d array was expected. Please change the shape of y to (n_samples,), for example using ravel().\n",
            "  after removing the cwd from sys.path.\n"
          ],
          "name": "stderr"
        },
        {
          "output_type": "stream",
          "text": [
            "228.68815302848816\n"
          ],
          "name": "stdout"
        }
      ]
    },
    {
      "cell_type": "code",
      "metadata": {
        "id": "H_NQ7FBBBbK-",
        "colab_type": "code",
        "colab": {
          "base_uri": "https://localhost:8080/",
          "height": 246
        },
        "outputId": "a1094578-6d6a-4d10-e0a3-e51100c512a9"
      },
      "source": [
        "pd.DataFrame(x_pca).head()"
      ],
      "execution_count": 73,
      "outputs": [
        {
          "output_type": "execute_result",
          "data": {
            "text/html": [
              "<div>\n",
              "<style scoped>\n",
              "    .dataframe tbody tr th:only-of-type {\n",
              "        vertical-align: middle;\n",
              "    }\n",
              "\n",
              "    .dataframe tbody tr th {\n",
              "        vertical-align: top;\n",
              "    }\n",
              "\n",
              "    .dataframe thead th {\n",
              "        text-align: right;\n",
              "    }\n",
              "</style>\n",
              "<table border=\"1\" class=\"dataframe\">\n",
              "  <thead>\n",
              "    <tr style=\"text-align: right;\">\n",
              "      <th></th>\n",
              "      <th>0</th>\n",
              "      <th>1</th>\n",
              "      <th>2</th>\n",
              "      <th>3</th>\n",
              "      <th>4</th>\n",
              "      <th>5</th>\n",
              "      <th>6</th>\n",
              "      <th>7</th>\n",
              "      <th>8</th>\n",
              "      <th>9</th>\n",
              "      <th>10</th>\n",
              "      <th>11</th>\n",
              "      <th>12</th>\n",
              "      <th>13</th>\n",
              "      <th>14</th>\n",
              "      <th>15</th>\n",
              "      <th>16</th>\n",
              "      <th>17</th>\n",
              "      <th>18</th>\n",
              "      <th>19</th>\n",
              "      <th>20</th>\n",
              "      <th>21</th>\n",
              "      <th>22</th>\n",
              "      <th>23</th>\n",
              "      <th>24</th>\n",
              "      <th>25</th>\n",
              "      <th>26</th>\n",
              "      <th>27</th>\n",
              "      <th>28</th>\n",
              "      <th>29</th>\n",
              "      <th>30</th>\n",
              "      <th>31</th>\n",
              "      <th>32</th>\n",
              "      <th>33</th>\n",
              "      <th>34</th>\n",
              "      <th>35</th>\n",
              "      <th>36</th>\n",
              "      <th>37</th>\n",
              "      <th>38</th>\n",
              "      <th>39</th>\n",
              "      <th>...</th>\n",
              "      <th>140</th>\n",
              "      <th>141</th>\n",
              "      <th>142</th>\n",
              "      <th>143</th>\n",
              "      <th>144</th>\n",
              "      <th>145</th>\n",
              "      <th>146</th>\n",
              "      <th>147</th>\n",
              "      <th>148</th>\n",
              "      <th>149</th>\n",
              "      <th>150</th>\n",
              "      <th>151</th>\n",
              "      <th>152</th>\n",
              "      <th>153</th>\n",
              "      <th>154</th>\n",
              "      <th>155</th>\n",
              "      <th>156</th>\n",
              "      <th>157</th>\n",
              "      <th>158</th>\n",
              "      <th>159</th>\n",
              "      <th>160</th>\n",
              "      <th>161</th>\n",
              "      <th>162</th>\n",
              "      <th>163</th>\n",
              "      <th>164</th>\n",
              "      <th>165</th>\n",
              "      <th>166</th>\n",
              "      <th>167</th>\n",
              "      <th>168</th>\n",
              "      <th>169</th>\n",
              "      <th>170</th>\n",
              "      <th>171</th>\n",
              "      <th>172</th>\n",
              "      <th>173</th>\n",
              "      <th>174</th>\n",
              "      <th>175</th>\n",
              "      <th>176</th>\n",
              "      <th>177</th>\n",
              "      <th>178</th>\n",
              "      <th>179</th>\n",
              "    </tr>\n",
              "  </thead>\n",
              "  <tbody>\n",
              "    <tr>\n",
              "      <th>0</th>\n",
              "      <td>-1.524574e+07</td>\n",
              "      <td>-550024.310821</td>\n",
              "      <td>-363752.280803</td>\n",
              "      <td>-808058.588111</td>\n",
              "      <td>-447139.428099</td>\n",
              "      <td>-340990.474666</td>\n",
              "      <td>-208256.611225</td>\n",
              "      <td>-9.850567e+05</td>\n",
              "      <td>604864.609297</td>\n",
              "      <td>-3.935411e+06</td>\n",
              "      <td>3.330420e+06</td>\n",
              "      <td>-8.059733e+06</td>\n",
              "      <td>-4.376727e+05</td>\n",
              "      <td>1.779573e+06</td>\n",
              "      <td>3.089052e+06</td>\n",
              "      <td>2.574393e+06</td>\n",
              "      <td>5.870157e+05</td>\n",
              "      <td>-2.322175e+06</td>\n",
              "      <td>3.850139e+06</td>\n",
              "      <td>-315229.112515</td>\n",
              "      <td>7.120736e+06</td>\n",
              "      <td>2.523487e+05</td>\n",
              "      <td>-2.562943e+06</td>\n",
              "      <td>-2.535946e+06</td>\n",
              "      <td>-1.131235e+07</td>\n",
              "      <td>-5.633786e+06</td>\n",
              "      <td>-5.725702e+06</td>\n",
              "      <td>4.388835e+06</td>\n",
              "      <td>5.281661e+05</td>\n",
              "      <td>-305608.721677</td>\n",
              "      <td>-123356.403267</td>\n",
              "      <td>-2.664411e+06</td>\n",
              "      <td>7.791309e+06</td>\n",
              "      <td>-4.957170e+06</td>\n",
              "      <td>2.122923e+06</td>\n",
              "      <td>-1.645010e+06</td>\n",
              "      <td>172092.541045</td>\n",
              "      <td>7.082843e+06</td>\n",
              "      <td>-2.611536e+06</td>\n",
              "      <td>-7.866065e+06</td>\n",
              "      <td>...</td>\n",
              "      <td>-3.693938e+06</td>\n",
              "      <td>-3.526317e+06</td>\n",
              "      <td>-8.063416e+06</td>\n",
              "      <td>-6.083399e+06</td>\n",
              "      <td>6.471279e+05</td>\n",
              "      <td>-4.465296e+05</td>\n",
              "      <td>-8.564644e+06</td>\n",
              "      <td>-7.809469e+06</td>\n",
              "      <td>-5.128298e+06</td>\n",
              "      <td>-6.788521e+06</td>\n",
              "      <td>1.670872e+06</td>\n",
              "      <td>-4.057525e+06</td>\n",
              "      <td>1.296452e+06</td>\n",
              "      <td>-8.466078e+06</td>\n",
              "      <td>-4.174846e+06</td>\n",
              "      <td>-429911.102837</td>\n",
              "      <td>8.902344e+05</td>\n",
              "      <td>-3.577220e+06</td>\n",
              "      <td>4.799073e+06</td>\n",
              "      <td>1.982665e+06</td>\n",
              "      <td>-7.106367e+05</td>\n",
              "      <td>-1.789740e+06</td>\n",
              "      <td>-8.195583e+05</td>\n",
              "      <td>-1.889801e+06</td>\n",
              "      <td>-3.859457e+06</td>\n",
              "      <td>1.770965e+06</td>\n",
              "      <td>7.118136e+05</td>\n",
              "      <td>1.234424e+06</td>\n",
              "      <td>3.058522e+06</td>\n",
              "      <td>6.984369e+05</td>\n",
              "      <td>3.696304e+06</td>\n",
              "      <td>1.869748e+06</td>\n",
              "      <td>-1.464907e+06</td>\n",
              "      <td>3.965894e+06</td>\n",
              "      <td>2.921681e+06</td>\n",
              "      <td>5.359785e+06</td>\n",
              "      <td>-1.758888e+06</td>\n",
              "      <td>6.171688e+06</td>\n",
              "      <td>-2.241762e+06</td>\n",
              "      <td>-2.114920e+05</td>\n",
              "    </tr>\n",
              "    <tr>\n",
              "      <th>1</th>\n",
              "      <td>-2.147430e+07</td>\n",
              "      <td>-701423.011808</td>\n",
              "      <td>-399388.078518</td>\n",
              "      <td>-856116.011324</td>\n",
              "      <td>-483373.766698</td>\n",
              "      <td>-302694.767291</td>\n",
              "      <td>-271832.664971</td>\n",
              "      <td>-1.014654e+06</td>\n",
              "      <td>586355.275384</td>\n",
              "      <td>-3.676124e+06</td>\n",
              "      <td>-1.020773e+07</td>\n",
              "      <td>-9.389358e+06</td>\n",
              "      <td>-6.042137e+05</td>\n",
              "      <td>1.083884e+06</td>\n",
              "      <td>2.849359e+05</td>\n",
              "      <td>-8.811374e+05</td>\n",
              "      <td>-1.227677e+06</td>\n",
              "      <td>-3.884800e+05</td>\n",
              "      <td>-6.933153e+05</td>\n",
              "      <td>340359.297209</td>\n",
              "      <td>7.788640e+06</td>\n",
              "      <td>6.834683e+06</td>\n",
              "      <td>-2.657261e+06</td>\n",
              "      <td>-2.099293e+06</td>\n",
              "      <td>-6.569235e+06</td>\n",
              "      <td>2.597870e+06</td>\n",
              "      <td>-3.427620e+06</td>\n",
              "      <td>3.622710e+06</td>\n",
              "      <td>4.887316e+06</td>\n",
              "      <td>-968055.363396</td>\n",
              "      <td>836532.175690</td>\n",
              "      <td>-1.263976e+06</td>\n",
              "      <td>4.394668e+06</td>\n",
              "      <td>3.608923e+05</td>\n",
              "      <td>-1.787436e+06</td>\n",
              "      <td>1.252760e+06</td>\n",
              "      <td>167753.577489</td>\n",
              "      <td>-4.979863e+06</td>\n",
              "      <td>-1.512519e+06</td>\n",
              "      <td>-5.260537e+06</td>\n",
              "      <td>...</td>\n",
              "      <td>-4.312721e+06</td>\n",
              "      <td>-3.723823e+06</td>\n",
              "      <td>3.226702e+06</td>\n",
              "      <td>4.202515e+06</td>\n",
              "      <td>5.200653e+05</td>\n",
              "      <td>-5.673819e+05</td>\n",
              "      <td>-2.953829e+06</td>\n",
              "      <td>-3.503363e+05</td>\n",
              "      <td>2.938534e+06</td>\n",
              "      <td>1.676212e+05</td>\n",
              "      <td>-1.596129e+06</td>\n",
              "      <td>3.887556e+06</td>\n",
              "      <td>-2.417955e+06</td>\n",
              "      <td>1.291786e+06</td>\n",
              "      <td>6.860411e+05</td>\n",
              "      <td>277677.690459</td>\n",
              "      <td>2.083631e+06</td>\n",
              "      <td>-3.919517e+06</td>\n",
              "      <td>-3.484130e+06</td>\n",
              "      <td>-6.261976e+05</td>\n",
              "      <td>2.792337e+05</td>\n",
              "      <td>7.091760e+05</td>\n",
              "      <td>-1.403525e+05</td>\n",
              "      <td>-1.141618e+06</td>\n",
              "      <td>-2.542625e+06</td>\n",
              "      <td>9.356218e+05</td>\n",
              "      <td>-2.636217e+06</td>\n",
              "      <td>1.185633e+06</td>\n",
              "      <td>2.445132e+06</td>\n",
              "      <td>-2.486531e+06</td>\n",
              "      <td>3.269728e+06</td>\n",
              "      <td>8.467628e+04</td>\n",
              "      <td>-2.228443e+05</td>\n",
              "      <td>1.716841e+06</td>\n",
              "      <td>-1.178359e+06</td>\n",
              "      <td>-1.349852e+06</td>\n",
              "      <td>3.993761e+05</td>\n",
              "      <td>-4.521069e+06</td>\n",
              "      <td>3.673255e+05</td>\n",
              "      <td>4.237596e+05</td>\n",
              "    </tr>\n",
              "    <tr>\n",
              "      <th>2</th>\n",
              "      <td>-2.907118e+07</td>\n",
              "      <td>-749183.600782</td>\n",
              "      <td>-471247.688954</td>\n",
              "      <td>-936492.885157</td>\n",
              "      <td>-487558.330377</td>\n",
              "      <td>-330420.156054</td>\n",
              "      <td>-208507.863612</td>\n",
              "      <td>-1.015635e+06</td>\n",
              "      <td>595208.570102</td>\n",
              "      <td>-3.767340e+06</td>\n",
              "      <td>-7.994092e+06</td>\n",
              "      <td>-1.157841e+07</td>\n",
              "      <td>-1.445128e+06</td>\n",
              "      <td>4.049109e+06</td>\n",
              "      <td>1.804778e+05</td>\n",
              "      <td>-4.243886e+05</td>\n",
              "      <td>2.744069e+05</td>\n",
              "      <td>-7.603099e+03</td>\n",
              "      <td>-1.097599e+05</td>\n",
              "      <td>-75781.045910</td>\n",
              "      <td>9.494579e+05</td>\n",
              "      <td>2.226326e+06</td>\n",
              "      <td>2.746317e+06</td>\n",
              "      <td>1.863375e+06</td>\n",
              "      <td>-1.822192e+06</td>\n",
              "      <td>-6.202262e+05</td>\n",
              "      <td>-5.855336e+05</td>\n",
              "      <td>-5.472958e+04</td>\n",
              "      <td>-1.121243e+06</td>\n",
              "      <td>21150.172620</td>\n",
              "      <td>-593415.847205</td>\n",
              "      <td>-2.236334e+06</td>\n",
              "      <td>2.762416e+06</td>\n",
              "      <td>7.924669e+05</td>\n",
              "      <td>-1.822795e+06</td>\n",
              "      <td>6.740312e+04</td>\n",
              "      <td>449020.305388</td>\n",
              "      <td>-1.054903e+06</td>\n",
              "      <td>6.941813e+05</td>\n",
              "      <td>5.230581e+05</td>\n",
              "      <td>...</td>\n",
              "      <td>1.615943e+03</td>\n",
              "      <td>-1.475461e+06</td>\n",
              "      <td>-1.150377e+06</td>\n",
              "      <td>-9.476803e+05</td>\n",
              "      <td>6.594742e+05</td>\n",
              "      <td>1.591899e+05</td>\n",
              "      <td>5.292553e+05</td>\n",
              "      <td>1.292577e+06</td>\n",
              "      <td>8.322107e+05</td>\n",
              "      <td>2.395600e+05</td>\n",
              "      <td>-1.974604e+06</td>\n",
              "      <td>-1.874382e+05</td>\n",
              "      <td>-1.131950e+05</td>\n",
              "      <td>-1.771605e+06</td>\n",
              "      <td>1.848990e+06</td>\n",
              "      <td>-738584.834910</td>\n",
              "      <td>2.460941e+05</td>\n",
              "      <td>-1.428548e+06</td>\n",
              "      <td>1.175866e+06</td>\n",
              "      <td>1.281353e+06</td>\n",
              "      <td>1.561788e+05</td>\n",
              "      <td>1.900567e+06</td>\n",
              "      <td>-1.251601e+06</td>\n",
              "      <td>1.259840e+06</td>\n",
              "      <td>5.418253e+05</td>\n",
              "      <td>5.253088e+04</td>\n",
              "      <td>-4.731176e+05</td>\n",
              "      <td>-5.025148e+05</td>\n",
              "      <td>6.263863e+05</td>\n",
              "      <td>-4.019783e+05</td>\n",
              "      <td>3.234877e+05</td>\n",
              "      <td>5.134662e+05</td>\n",
              "      <td>-2.295671e+05</td>\n",
              "      <td>8.163975e+05</td>\n",
              "      <td>1.225097e+06</td>\n",
              "      <td>7.983030e+05</td>\n",
              "      <td>-2.110360e+06</td>\n",
              "      <td>5.161035e+05</td>\n",
              "      <td>7.868534e+05</td>\n",
              "      <td>8.757032e+04</td>\n",
              "    </tr>\n",
              "    <tr>\n",
              "      <th>3</th>\n",
              "      <td>-3.082332e+07</td>\n",
              "      <td>-742949.915819</td>\n",
              "      <td>-465265.611660</td>\n",
              "      <td>-943556.947262</td>\n",
              "      <td>-502140.464435</td>\n",
              "      <td>-309660.850659</td>\n",
              "      <td>-257718.933196</td>\n",
              "      <td>-1.079581e+06</td>\n",
              "      <td>543047.499819</td>\n",
              "      <td>-3.655459e+06</td>\n",
              "      <td>-1.047843e+07</td>\n",
              "      <td>-1.136635e+07</td>\n",
              "      <td>-1.816229e+06</td>\n",
              "      <td>5.613847e+06</td>\n",
              "      <td>4.435469e+05</td>\n",
              "      <td>-7.894906e+04</td>\n",
              "      <td>3.280779e+05</td>\n",
              "      <td>-2.233330e+05</td>\n",
              "      <td>-3.184764e+05</td>\n",
              "      <td>309352.791834</td>\n",
              "      <td>1.718196e+06</td>\n",
              "      <td>2.231905e+06</td>\n",
              "      <td>2.698199e+06</td>\n",
              "      <td>2.006287e+06</td>\n",
              "      <td>-1.648134e+06</td>\n",
              "      <td>-5.800438e+05</td>\n",
              "      <td>-4.663170e+05</td>\n",
              "      <td>-4.932980e+05</td>\n",
              "      <td>-9.956642e+05</td>\n",
              "      <td>22705.247556</td>\n",
              "      <td>-432969.242907</td>\n",
              "      <td>-2.568601e+06</td>\n",
              "      <td>2.498447e+06</td>\n",
              "      <td>1.039252e+06</td>\n",
              "      <td>-1.340839e+06</td>\n",
              "      <td>-2.704681e+05</td>\n",
              "      <td>139293.360845</td>\n",
              "      <td>-9.892176e+05</td>\n",
              "      <td>5.099500e+05</td>\n",
              "      <td>2.799133e+05</td>\n",
              "      <td>...</td>\n",
              "      <td>-7.519486e+05</td>\n",
              "      <td>-3.633151e+05</td>\n",
              "      <td>7.136095e+05</td>\n",
              "      <td>-5.100827e+05</td>\n",
              "      <td>3.071346e+05</td>\n",
              "      <td>-3.510741e+05</td>\n",
              "      <td>4.463664e+05</td>\n",
              "      <td>3.439739e+05</td>\n",
              "      <td>-2.468989e+05</td>\n",
              "      <td>-6.725246e+05</td>\n",
              "      <td>4.135435e+05</td>\n",
              "      <td>1.044815e+05</td>\n",
              "      <td>3.600158e+05</td>\n",
              "      <td>-2.568648e+05</td>\n",
              "      <td>2.085643e+05</td>\n",
              "      <td>121401.737754</td>\n",
              "      <td>5.228335e+05</td>\n",
              "      <td>-4.873576e+05</td>\n",
              "      <td>-6.570688e+04</td>\n",
              "      <td>3.848453e+05</td>\n",
              "      <td>2.361801e+05</td>\n",
              "      <td>2.310247e+05</td>\n",
              "      <td>-1.761508e+05</td>\n",
              "      <td>5.905754e+05</td>\n",
              "      <td>-9.521959e+04</td>\n",
              "      <td>-5.963276e+04</td>\n",
              "      <td>7.773976e+04</td>\n",
              "      <td>-3.318855e+05</td>\n",
              "      <td>-9.321769e+04</td>\n",
              "      <td>-5.921146e+04</td>\n",
              "      <td>2.563989e+05</td>\n",
              "      <td>1.934774e+05</td>\n",
              "      <td>-3.065187e+05</td>\n",
              "      <td>4.939626e+05</td>\n",
              "      <td>3.520897e+05</td>\n",
              "      <td>3.173513e+05</td>\n",
              "      <td>-5.230636e+05</td>\n",
              "      <td>-7.750259e+05</td>\n",
              "      <td>-1.158411e+06</td>\n",
              "      <td>5.900894e+04</td>\n",
              "    </tr>\n",
              "    <tr>\n",
              "      <th>4</th>\n",
              "      <td>-2.621677e+07</td>\n",
              "      <td>-724906.324054</td>\n",
              "      <td>-474149.600127</td>\n",
              "      <td>-932438.979699</td>\n",
              "      <td>-517691.476123</td>\n",
              "      <td>-312200.550107</td>\n",
              "      <td>-261543.620270</td>\n",
              "      <td>-1.034131e+06</td>\n",
              "      <td>611335.388277</td>\n",
              "      <td>-3.859120e+06</td>\n",
              "      <td>-7.110599e+06</td>\n",
              "      <td>-1.299612e+07</td>\n",
              "      <td>-3.499329e+05</td>\n",
              "      <td>7.087500e+05</td>\n",
              "      <td>-1.377801e+05</td>\n",
              "      <td>-2.554066e+05</td>\n",
              "      <td>-6.737811e+05</td>\n",
              "      <td>-4.160182e+05</td>\n",
              "      <td>-5.238397e+05</td>\n",
              "      <td>-558831.184020</td>\n",
              "      <td>4.826323e+05</td>\n",
              "      <td>1.826275e+06</td>\n",
              "      <td>3.303598e+06</td>\n",
              "      <td>8.790994e+05</td>\n",
              "      <td>-2.189315e+06</td>\n",
              "      <td>-5.283133e+05</td>\n",
              "      <td>-1.565032e+06</td>\n",
              "      <td>-2.617379e+05</td>\n",
              "      <td>-4.523356e+05</td>\n",
              "      <td>100463.864656</td>\n",
              "      <td>-899621.601621</td>\n",
              "      <td>-2.145743e+06</td>\n",
              "      <td>3.188750e+06</td>\n",
              "      <td>1.367236e+06</td>\n",
              "      <td>-1.220544e+06</td>\n",
              "      <td>-7.271563e+05</td>\n",
              "      <td>-561069.068079</td>\n",
              "      <td>-1.017256e+06</td>\n",
              "      <td>-6.557873e+05</td>\n",
              "      <td>3.007328e+05</td>\n",
              "      <td>...</td>\n",
              "      <td>-3.673368e+05</td>\n",
              "      <td>-2.760117e+06</td>\n",
              "      <td>-1.118077e+04</td>\n",
              "      <td>3.355963e+06</td>\n",
              "      <td>1.893281e+06</td>\n",
              "      <td>3.718094e+06</td>\n",
              "      <td>3.697309e+06</td>\n",
              "      <td>5.443180e+06</td>\n",
              "      <td>5.678862e+05</td>\n",
              "      <td>-1.955298e+06</td>\n",
              "      <td>-1.721950e+06</td>\n",
              "      <td>-3.190837e+06</td>\n",
              "      <td>-1.223149e+06</td>\n",
              "      <td>2.439577e+06</td>\n",
              "      <td>3.173764e+06</td>\n",
              "      <td>-420276.332334</td>\n",
              "      <td>2.163933e+06</td>\n",
              "      <td>9.734668e+05</td>\n",
              "      <td>-3.301275e+05</td>\n",
              "      <td>-3.562508e+05</td>\n",
              "      <td>5.323626e+06</td>\n",
              "      <td>2.795704e+06</td>\n",
              "      <td>-4.443170e+06</td>\n",
              "      <td>-2.820382e+06</td>\n",
              "      <td>5.911205e+06</td>\n",
              "      <td>-2.157918e+06</td>\n",
              "      <td>-4.693659e+06</td>\n",
              "      <td>6.352339e+04</td>\n",
              "      <td>-4.529020e+06</td>\n",
              "      <td>-4.695996e+06</td>\n",
              "      <td>2.405159e+06</td>\n",
              "      <td>2.469449e+06</td>\n",
              "      <td>3.608669e+06</td>\n",
              "      <td>-2.845816e+05</td>\n",
              "      <td>-5.325875e+05</td>\n",
              "      <td>-3.377473e+06</td>\n",
              "      <td>-4.726797e+06</td>\n",
              "      <td>2.259030e+06</td>\n",
              "      <td>-1.560094e+06</td>\n",
              "      <td>2.077090e+06</td>\n",
              "    </tr>\n",
              "  </tbody>\n",
              "</table>\n",
              "<p>5 rows × 180 columns</p>\n",
              "</div>"
            ],
            "text/plain": [
              "            0              1    ...           178           179\n",
              "0 -1.524574e+07 -550024.310821  ... -2.241762e+06 -2.114920e+05\n",
              "1 -2.147430e+07 -701423.011808  ...  3.673255e+05  4.237596e+05\n",
              "2 -2.907118e+07 -749183.600782  ...  7.868534e+05  8.757032e+04\n",
              "3 -3.082332e+07 -742949.915819  ... -1.158411e+06  5.900894e+04\n",
              "4 -2.621677e+07 -724906.324054  ... -1.560094e+06  2.077090e+06\n",
              "\n",
              "[5 rows x 180 columns]"
            ]
          },
          "metadata": {
            "tags": []
          },
          "execution_count": 73
        }
      ]
    },
    {
      "cell_type": "code",
      "metadata": {
        "id": "0japWvfxCYqi",
        "colab_type": "code",
        "colab": {
          "base_uri": "https://localhost:8080/",
          "height": 90
        },
        "outputId": "af7012e3-bd59-40d1-bac9-0c7d118cc49d"
      },
      "source": [
        "from sklearn.model_selection import train_test_split\n",
        "from sklearn.ensemble import RandomForestRegressor\n",
        "from sklearn.tree import DecisionTreeRegressor\n",
        "from sklearn.linear_model import LinearRegression\n",
        "from sklearn.decomposition import KernelPCA\n",
        "from sklearn import metrics\n",
        "reduction_n = [180, 220, 300]\n",
        "classifier = [LinearRegression(), DecisionTreeRegressor(), RandomForestRegressor()] # base model \n",
        "result = {}\n",
        "for eachValue in reduction_n:\n",
        "  #k_pca = kernalPCA(n_components=eachValue, kernel='poly')\n",
        "  pca = PCA(n_components=eachValue, random_state = 0)\n",
        "  pca.fit(x)\n",
        "  x_PCA = pca.transform(x)\n",
        "  x_train, x_test, y_train, y_test = train_test_split(x_PCA, y, test_size=0.25, random_state=1)\n",
        "  result[eachValue ] = {} \n",
        "  for eachClassifier in classifier: \n",
        "    model = eachClassifier\n",
        "    start_time = time.time()\n",
        "    model.fit(x_train, y_train)\n",
        "    end_time = time.time()\n",
        "    time2 = end_time-start_time\n",
        "    #print(time2)\n",
        "\n",
        "    predictions = model.predict(x_test)\n",
        "    RMSE_test = np.sqrt(metrics.mean_squared_error(y_test, predictions))\n",
        "    # print('RMSE for test set is {}'.format(RMSE_test))\n",
        "    \n",
        "    result[eachValue ][eachClassifier.__class__.__name__] = [RMSE_test, time2]"
      ],
      "execution_count": 88,
      "outputs": [
        {
          "output_type": "stream",
          "text": [
            "/usr/local/lib/python3.6/dist-packages/ipykernel_launcher.py:21: DataConversionWarning: A column-vector y was passed when a 1d array was expected. Please change the shape of y to (n_samples,), for example using ravel().\n",
            "/usr/local/lib/python3.6/dist-packages/ipykernel_launcher.py:21: DataConversionWarning: A column-vector y was passed when a 1d array was expected. Please change the shape of y to (n_samples,), for example using ravel().\n",
            "/usr/local/lib/python3.6/dist-packages/ipykernel_launcher.py:21: DataConversionWarning: A column-vector y was passed when a 1d array was expected. Please change the shape of y to (n_samples,), for example using ravel().\n"
          ],
          "name": "stderr"
        }
      ]
    },
    {
      "cell_type": "code",
      "metadata": {
        "id": "qB_dbldsHj4W",
        "colab_type": "code",
        "colab": {
          "base_uri": "https://localhost:8080/",
          "height": 137
        },
        "outputId": "b65f567b-673f-4ceb-803e-ee23c7527552"
      },
      "source": [
        "pd.DataFrame(result)"
      ],
      "execution_count": 84,
      "outputs": [
        {
          "output_type": "execute_result",
          "data": {
            "text/html": [
              "<div>\n",
              "<style scoped>\n",
              "    .dataframe tbody tr th:only-of-type {\n",
              "        vertical-align: middle;\n",
              "    }\n",
              "\n",
              "    .dataframe tbody tr th {\n",
              "        vertical-align: top;\n",
              "    }\n",
              "\n",
              "    .dataframe thead th {\n",
              "        text-align: right;\n",
              "    }\n",
              "</style>\n",
              "<table border=\"1\" class=\"dataframe\">\n",
              "  <thead>\n",
              "    <tr style=\"text-align: right;\">\n",
              "      <th></th>\n",
              "      <th>180</th>\n",
              "      <th>220</th>\n",
              "      <th>300</th>\n",
              "    </tr>\n",
              "  </thead>\n",
              "  <tbody>\n",
              "    <tr>\n",
              "      <th>LinearRegression</th>\n",
              "      <td>[2.6222865350092035, 0.04862380027770996]</td>\n",
              "      <td>[3.150151172337426, 0.06115365028381348]</td>\n",
              "      <td>[3.451750929545185, 0.09455013275146484]</td>\n",
              "    </tr>\n",
              "    <tr>\n",
              "      <th>DecisionTreeRegressor</th>\n",
              "      <td>[2.1650446217751234, 0.8440194129943848]</td>\n",
              "      <td>[2.158248935769624, 1.0786290168762207]</td>\n",
              "      <td>[2.1842358199330456, 1.385103702545166]</td>\n",
              "    </tr>\n",
              "    <tr>\n",
              "      <th>RandomForestRegressor</th>\n",
              "      <td>[1.5150413727095084, 42.1770761013031]</td>\n",
              "      <td>[1.5253401615814026, 51.644062995910645]</td>\n",
              "      <td>[1.5261757431685288, 70.91293382644653]</td>\n",
              "    </tr>\n",
              "  </tbody>\n",
              "</table>\n",
              "</div>"
            ],
            "text/plain": [
              "                                                             180  ...                                       300\n",
              "LinearRegression       [2.6222865350092035, 0.04862380027770996]  ...  [3.451750929545185, 0.09455013275146484]\n",
              "DecisionTreeRegressor   [2.1650446217751234, 0.8440194129943848]  ...   [2.1842358199330456, 1.385103702545166]\n",
              "RandomForestRegressor     [1.5150413727095084, 42.1770761013031]  ...   [1.5261757431685288, 70.91293382644653]\n",
              "\n",
              "[3 rows x 3 columns]"
            ]
          },
          "metadata": {
            "tags": []
          },
          "execution_count": 84
        }
      ]
    },
    {
      "cell_type": "code",
      "metadata": {
        "id": "zEahDBw1MhDe",
        "colab_type": "code",
        "colab": {
          "base_uri": "https://localhost:8080/",
          "height": 137
        },
        "outputId": "37a45ec9-0224-41af-9ec7-32667012f75e"
      },
      "source": [
        "pd.DataFrame(result)"
      ],
      "execution_count": 85,
      "outputs": [
        {
          "output_type": "execute_result",
          "data": {
            "text/html": [
              "<div>\n",
              "<style scoped>\n",
              "    .dataframe tbody tr th:only-of-type {\n",
              "        vertical-align: middle;\n",
              "    }\n",
              "\n",
              "    .dataframe tbody tr th {\n",
              "        vertical-align: top;\n",
              "    }\n",
              "\n",
              "    .dataframe thead th {\n",
              "        text-align: right;\n",
              "    }\n",
              "</style>\n",
              "<table border=\"1\" class=\"dataframe\">\n",
              "  <thead>\n",
              "    <tr style=\"text-align: right;\">\n",
              "      <th></th>\n",
              "      <th>180</th>\n",
              "      <th>220</th>\n",
              "      <th>300</th>\n",
              "    </tr>\n",
              "  </thead>\n",
              "  <tbody>\n",
              "    <tr>\n",
              "      <th>LinearRegression</th>\n",
              "      <td>[2.6222865350092035, 0.04862380027770996]</td>\n",
              "      <td>[3.150151172337426, 0.06115365028381348]</td>\n",
              "      <td>[3.451750929545185, 0.09455013275146484]</td>\n",
              "    </tr>\n",
              "    <tr>\n",
              "      <th>DecisionTreeRegressor</th>\n",
              "      <td>[2.1650446217751234, 0.8440194129943848]</td>\n",
              "      <td>[2.158248935769624, 1.0786290168762207]</td>\n",
              "      <td>[2.1842358199330456, 1.385103702545166]</td>\n",
              "    </tr>\n",
              "    <tr>\n",
              "      <th>RandomForestRegressor</th>\n",
              "      <td>[1.5150413727095084, 42.1770761013031]</td>\n",
              "      <td>[1.5253401615814026, 51.644062995910645]</td>\n",
              "      <td>[1.5261757431685288, 70.91293382644653]</td>\n",
              "    </tr>\n",
              "  </tbody>\n",
              "</table>\n",
              "</div>"
            ],
            "text/plain": [
              "                                                             180  ...                                       300\n",
              "LinearRegression       [2.6222865350092035, 0.04862380027770996]  ...  [3.451750929545185, 0.09455013275146484]\n",
              "DecisionTreeRegressor   [2.1650446217751234, 0.8440194129943848]  ...   [2.1842358199330456, 1.385103702545166]\n",
              "RandomForestRegressor     [1.5150413727095084, 42.1770761013031]  ...   [1.5261757431685288, 70.91293382644653]\n",
              "\n",
              "[3 rows x 3 columns]"
            ]
          },
          "metadata": {
            "tags": []
          },
          "execution_count": 85
        }
      ]
    },
    {
      "cell_type": "code",
      "metadata": {
        "id": "IDivmv7ZM_KM",
        "colab_type": "code",
        "colab": {
          "base_uri": "https://localhost:8080/",
          "height": 52
        },
        "outputId": "0cd93afb-ed0b-46b8-8a54-33e6ecf2a8cb"
      },
      "source": [
        "print(x_train.shape)\n",
        "print(x_test.shape)"
      ],
      "execution_count": 86,
      "outputs": [
        {
          "output_type": "stream",
          "text": [
            "(3344, 300)\n",
            "(1115, 300)\n"
          ],
          "name": "stdout"
        }
      ]
    },
    {
      "cell_type": "code",
      "metadata": {
        "id": "72u_uezfNJZT",
        "colab_type": "code",
        "colab": {
          "base_uri": "https://localhost:8080/",
          "height": 72
        },
        "outputId": "8e80373d-5605-4a6c-9b71-2fdfbc3f9c9f"
      },
      "source": [
        "from sklearn.ensemble import RandomForestRegressor\n",
        "rf=RandomForestRegressor()\n",
        "time_now=time.time()\n",
        "rf.fit(x_train,y_train)\n",
        "time3=time.time()-time_now"
      ],
      "execution_count": 91,
      "outputs": [
        {
          "output_type": "stream",
          "text": [
            "/usr/local/lib/python3.6/dist-packages/ipykernel_launcher.py:4: DataConversionWarning: A column-vector y was passed when a 1d array was expected. Please change the shape of y to (n_samples,), for example using ravel().\n",
            "  after removing the cwd from sys.path.\n"
          ],
          "name": "stderr"
        }
      ]
    },
    {
      "cell_type": "code",
      "metadata": {
        "id": "tORPRXqZP4lQ",
        "colab_type": "code",
        "colab": {
          "base_uri": "https://localhost:8080/",
          "height": 34
        },
        "outputId": "389c5836-d9b3-4de1-9137-7cd7ce3d4f17"
      },
      "source": [
        "time3"
      ],
      "execution_count": 92,
      "outputs": [
        {
          "output_type": "execute_result",
          "data": {
            "text/plain": [
              "69.86154294013977"
            ]
          },
          "metadata": {
            "tags": []
          },
          "execution_count": 92
        }
      ]
    },
    {
      "cell_type": "code",
      "metadata": {
        "id": "aXLGHf2IQLB8",
        "colab_type": "code",
        "colab": {}
      },
      "source": [
        "pred_pca=rf.predict(x_test)\n"
      ],
      "execution_count": 0,
      "outputs": []
    },
    {
      "cell_type": "code",
      "metadata": {
        "id": "p2BG80IfRzb2",
        "colab_type": "code",
        "colab": {}
      },
      "source": [
        "pred_pca_exp=np.expm1(pred_pca)"
      ],
      "execution_count": 0,
      "outputs": []
    },
    {
      "cell_type": "code",
      "metadata": {
        "id": "NF0MGEK_R5XJ",
        "colab_type": "code",
        "colab": {
          "base_uri": "https://localhost:8080/",
          "height": 34
        },
        "outputId": "56e5b11f-5d03-4f82-88cd-3ed8a0159579"
      },
      "source": [
        "len(pred_pca)"
      ],
      "execution_count": 95,
      "outputs": [
        {
          "output_type": "execute_result",
          "data": {
            "text/plain": [
              "1115"
            ]
          },
          "metadata": {
            "tags": []
          },
          "execution_count": 95
        }
      ]
    },
    {
      "cell_type": "code",
      "metadata": {
        "id": "Vjfvl_wUR7gg",
        "colab_type": "code",
        "colab": {
          "base_uri": "https://localhost:8080/",
          "height": 141
        },
        "outputId": "4bc2f63b-fb83-4acb-a4e7-3c76d11821f2"
      },
      "source": [
        "pred_pca_exp[:20]"
      ],
      "execution_count": 97,
      "outputs": [
        {
          "output_type": "execute_result",
          "data": {
            "text/plain": [
              "array([2571255.22998414, 2026954.25086164, 1475017.85527685,\n",
              "       2592362.58828733, 1687619.51136142,  730590.85003117,\n",
              "       1509028.38245466, 5910682.4042665 , 1031984.40639459,\n",
              "       3695713.52735898, 3412750.97593316, 2860669.54566817,\n",
              "       3229322.66398943, 2965236.50914208, 3357647.19965939,\n",
              "       1845911.71928901, 2176106.66399674, 4344814.52085752,\n",
              "       1743710.56419232, 5277210.02051752])"
            ]
          },
          "metadata": {
            "tags": []
          },
          "execution_count": 97
        }
      ]
    },
    {
      "cell_type": "code",
      "metadata": {
        "id": "XuEUKtn7R-Gs",
        "colab_type": "code",
        "colab": {
          "base_uri": "https://localhost:8080/",
          "height": 70
        },
        "outputId": "ad2d5e58-5a90-4207-b8de-4e3ffca2c236"
      },
      "source": [
        "mae=metrics.mean_absolute_error(y_test,pred_pca_exp)\n",
        "mse=metrics.mean_squared_error(y_test,pred_pca_exp)\n",
        "rmse=np.sqrt(metrics.mean_squared_error(y_test,pred_pca_exp))\n",
        "print(mae)\n",
        "print(mse)\n",
        "print(rmse)"
      ],
      "execution_count": 98,
      "outputs": [
        {
          "output_type": "stream",
          "text": [
            "2543243.549964745\n",
            "15187664815370.451\n",
            "3897135.4627944934\n"
          ],
          "name": "stdout"
        }
      ]
    },
    {
      "cell_type": "code",
      "metadata": {
        "id": "EZ62MBuRSpIB",
        "colab_type": "code",
        "colab": {
          "base_uri": "https://localhost:8080/",
          "height": 34
        },
        "outputId": "f096685f-9082-4b3e-e1a3-99b36268dc2d"
      },
      "source": [
        "time2/time1"
      ],
      "execution_count": 99,
      "outputs": [
        {
          "output_type": "execute_result",
          "data": {
            "text/plain": [
              "0.28240679594660306"
            ]
          },
          "metadata": {
            "tags": []
          },
          "execution_count": 99
        }
      ]
    },
    {
      "cell_type": "code",
      "metadata": {
        "id": "rcOuAQ_XS5Gq",
        "colab_type": "code",
        "colab": {
          "base_uri": "https://localhost:8080/",
          "height": 34
        },
        "outputId": "91071787-20ca-40d1-9237-f1eed76388f7"
      },
      "source": [
        "time3/time1"
      ],
      "execution_count": 100,
      "outputs": [
        {
          "output_type": "execute_result",
          "data": {
            "text/plain": [
              "0.28313479267088787"
            ]
          },
          "metadata": {
            "tags": []
          },
          "execution_count": 100
        }
      ]
    },
    {
      "cell_type": "code",
      "metadata": {
        "id": "MTwP-Z4cS8Y4",
        "colab_type": "code",
        "colab": {
          "base_uri": "https://localhost:8080/",
          "height": 70
        },
        "outputId": "2bc47cfc-daa1-411b-f173-5a9508442f1a"
      },
      "source": [
        "print(time1)\n",
        "print(time2)\n",
        "print(time3)"
      ],
      "execution_count": 101,
      "outputs": [
        {
          "output_type": "stream",
          "text": [
            "246.7430522441864\n",
            "69.68191480636597\n",
            "69.86154294013977\n"
          ],
          "name": "stdout"
        }
      ]
    },
    {
      "cell_type": "code",
      "metadata": {
        "id": "eiUE_bWjTDnZ",
        "colab_type": "code",
        "colab": {
          "base_uri": "https://localhost:8080/",
          "height": 34
        },
        "outputId": "c77dbd51-5fb4-448f-a919-bf3e4d9499fd"
      },
      "source": [
        "(time2/time1)*100"
      ],
      "execution_count": 102,
      "outputs": [
        {
          "output_type": "execute_result",
          "data": {
            "text/plain": [
              "28.240679594660307"
            ]
          },
          "metadata": {
            "tags": []
          },
          "execution_count": 102
        }
      ]
    },
    {
      "cell_type": "code",
      "metadata": {
        "id": "_Wm4ieGxTQj_",
        "colab_type": "code",
        "colab": {}
      },
      "source": [
        ""
      ],
      "execution_count": 0,
      "outputs": []
    }
  ]
}