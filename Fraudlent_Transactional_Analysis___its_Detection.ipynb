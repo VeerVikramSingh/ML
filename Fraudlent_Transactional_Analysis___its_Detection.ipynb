{
  "nbformat": 4,
  "nbformat_minor": 0,
  "metadata": {
    "colab": {
      "name": "Fraudlent Transactional Analysis _ its Detection.ipynb",
      "provenance": [],
      "toc_visible": true,
      "authorship_tag": "ABX9TyMBgyPtMVJIrs1WKGkkfvni",
      "include_colab_link": true
    },
    "kernelspec": {
      "name": "python3",
      "display_name": "Python 3"
    }
  },
  "cells": [
    {
      "cell_type": "markdown",
      "metadata": {
        "id": "view-in-github",
        "colab_type": "text"
      },
      "source": [
        "<a href=\"https://colab.research.google.com/github/VeerVikramSingh/ML/blob/master/Fraudlent_Transactional_Analysis___its_Detection.ipynb\" target=\"_parent\"><img src=\"https://colab.research.google.com/assets/colab-badge.svg\" alt=\"Open In Colab\"/></a>"
      ]
    },
    {
      "cell_type": "code",
      "metadata": {
        "id": "wp-kWBQ2MZdi",
        "colab_type": "code",
        "colab": {}
      },
      "source": [
        ""
      ],
      "execution_count": 0,
      "outputs": []
    },
    {
      "cell_type": "markdown",
      "metadata": {
        "id": "WqUaB1vVPgK9",
        "colab_type": "text"
      },
      "source": [
        "**Introduction**"
      ]
    },
    {
      "cell_type": "markdown",
      "metadata": {
        "id": "vBm2fIghPjS4",
        "colab_type": "text"
      },
      "source": [
        "In this technological era, society is becoming more cashless. According to the World Payment Report 2019, global non-cash transaction volumes grew a 12% during 2016-17 to reach 539 billion - the highest in past two decades:\n",
        "\n",
        "Emerging markets led the growth charge. Emerging Asia (32%) and CEMEA (19%) were highest in global non-cash transaction volumes. CEMEA is an acronym for Central and Eastern Europe, Middle East and Africa.\n",
        "Mature markets, including mature APAC, Europe and North America maintained a growth rate of nearly 7% which aligns with predictions for these markets."
      ]
    },
    {
      "cell_type": "markdown",
      "metadata": {
        "id": "FXv9C2SiPnKG",
        "colab_type": "text"
      },
      "source": [
        "**Problem Statement**"
      ]
    },
    {
      "cell_type": "markdown",
      "metadata": {
        "id": "-QDwpnpEPqDI",
        "colab_type": "text"
      },
      "source": [
        "Mobile money transactions are emerging rapidly in the era of Intelligent Machines, while on the flip side fraudulent transactions are on the rise as well. Even with the updated security measures, we are still facing an issue of very high amount of money loss\n",
        "\n",
        "** Scenario**\n",
        "\n",
        "Scenario:\n",
        "Let's say a company named as IPAYU has been providing it's financial services to the variety of users in a country. But at the same time there are loopholes in security measures (in the meanwhile company is upgrading it's security). Fraudster might try to crack inside the company's interface and can commit fraudulent transactions. It may harm people trust towards the company. To tackle this situation of crisis, they have consulted a team of data scientists.\n",
        "\n",
        "Now the question is how this problem could be solved using data science? While there are many ways to prevent the fraud and loss occur. Let's walk through a simple pave how this team handled problem of fraudulent transaction to identify and automate model for future transactions.\n",
        "\n",
        "The target feature in the acquired data set is check_fraud over the customer transactions.\n",
        "\n",
        "Target Feature\tPotential Values\n",
        "check_fraud\t0: Not Fraud\n",
        "1: Fraud"
      ]
    },
    {
      "cell_type": "markdown",
      "metadata": {
        "id": "YSErIsbAUhOt",
        "colab_type": "text"
      },
      "source": [
        "**Import Libraries**"
      ]
    },
    {
      "cell_type": "code",
      "metadata": {
        "id": "Va4Ya6XBPibd",
        "colab_type": "code",
        "colab": {
          "base_uri": "https://localhost:8080/",
          "height": 52
        },
        "outputId": "3a312cfc-09e1-4ab0-ecb4-e2ffe3cba031"
      },
      "source": [
        "!pip install -q datascience                   # Package that is required by pandas profiling\n",
        "!pip install -q pandas-profiling              # Library to generate basic statistics about data\n",
        "!pip install -q yellowbrick                   # A visualization library for Machine Learning"
      ],
      "execution_count": 1,
      "outputs": [
        {
          "output_type": "stream",
          "text": [
            "\u001b[?25l\r\u001b[K     |████▊                           | 10kB 25.6MB/s eta 0:00:01\r\u001b[K     |█████████▍                      | 20kB 1.8MB/s eta 0:00:01\r\u001b[K     |██████████████                  | 30kB 2.3MB/s eta 0:00:01\r\u001b[K     |██████████████████▊             | 40kB 1.7MB/s eta 0:00:01\r\u001b[K     |███████████████████████▍        | 51kB 1.9MB/s eta 0:00:01\r\u001b[K     |████████████████████████████    | 61kB 2.2MB/s eta 0:00:01\r\u001b[K     |████████████████████████████████| 71kB 2.1MB/s \n",
            "\u001b[?25h  Building wheel for folium (setup.py) ... \u001b[?25l\u001b[?25hdone\n"
          ],
          "name": "stdout"
        }
      ]
    },
    {
      "cell_type": "code",
      "metadata": {
        "id": "gHDVmRn1UnLS",
        "colab_type": "code",
        "colab": {
          "base_uri": "https://localhost:8080/",
          "height": 247
        },
        "outputId": "22656f56-43e9-42a5-9af7-e20ecc95bdd2"
      },
      "source": [
        "!pip install -q --upgrade pandas-profiling "
      ],
      "execution_count": 2,
      "outputs": [
        {
          "output_type": "stream",
          "text": [
            "\u001b[?25l\r\u001b[K     |█▍                              | 10kB 22.0MB/s eta 0:00:01\r\u001b[K     |██▊                             | 20kB 1.8MB/s eta 0:00:01\r\u001b[K     |████                            | 30kB 2.1MB/s eta 0:00:01\r\u001b[K     |█████▍                          | 40kB 1.7MB/s eta 0:00:01\r\u001b[K     |██████▉                         | 51kB 1.9MB/s eta 0:00:01\r\u001b[K     |████████▏                       | 61kB 2.3MB/s eta 0:00:01\r\u001b[K     |█████████▌                      | 71kB 2.4MB/s eta 0:00:01\r\u001b[K     |██████████▉                     | 81kB 2.6MB/s eta 0:00:01\r\u001b[K     |████████████▏                   | 92kB 2.9MB/s eta 0:00:01\r\u001b[K     |█████████████▋                  | 102kB 2.9MB/s eta 0:00:01\r\u001b[K     |███████████████                 | 112kB 2.9MB/s eta 0:00:01\r\u001b[K     |████████████████▎               | 122kB 2.9MB/s eta 0:00:01\r\u001b[K     |█████████████████▋              | 133kB 2.9MB/s eta 0:00:01\r\u001b[K     |███████████████████             | 143kB 2.9MB/s eta 0:00:01\r\u001b[K     |████████████████████▍           | 153kB 2.9MB/s eta 0:00:01\r\u001b[K     |█████████████████████▊          | 163kB 2.9MB/s eta 0:00:01\r\u001b[K     |███████████████████████         | 174kB 2.9MB/s eta 0:00:01\r\u001b[K     |████████████████████████▍       | 184kB 2.9MB/s eta 0:00:01\r\u001b[K     |█████████████████████████▊      | 194kB 2.9MB/s eta 0:00:01\r\u001b[K     |███████████████████████████▏    | 204kB 2.9MB/s eta 0:00:01\r\u001b[K     |████████████████████████████▌   | 215kB 2.9MB/s eta 0:00:01\r\u001b[K     |█████████████████████████████▉  | 225kB 2.9MB/s eta 0:00:01\r\u001b[K     |███████████████████████████████▏| 235kB 2.9MB/s eta 0:00:01\r\u001b[K     |████████████████████████████████| 245kB 2.9MB/s \n",
            "\u001b[?25h\u001b[?25l\r\u001b[K     |▏                               | 10kB 27.5MB/s eta 0:00:01\r\u001b[K     |▍                               | 20kB 28.9MB/s eta 0:00:01\r\u001b[K     |▋                               | 30kB 34.7MB/s eta 0:00:01\r\u001b[K     |▉                               | 40kB 16.4MB/s eta 0:00:01\r\u001b[K     |█                               | 51kB 12.3MB/s eta 0:00:01\r\u001b[K     |█▎                              | 61kB 14.1MB/s eta 0:00:01\r\u001b[K     |█▌                              | 71kB 12.1MB/s eta 0:00:01\r\u001b[K     |█▊                              | 81kB 10.5MB/s eta 0:00:01\r\u001b[K     |██                              | 92kB 11.6MB/s eta 0:00:01\r\u001b[K     |██▏                             | 102kB 8.7MB/s eta 0:00:01\r\u001b[K     |██▍                             | 112kB 8.7MB/s eta 0:00:01\r\u001b[K     |██▋                             | 122kB 8.7MB/s eta 0:00:01\r\u001b[K     |██▉                             | 133kB 8.7MB/s eta 0:00:01\r\u001b[K     |███                             | 143kB 8.7MB/s eta 0:00:01\r\u001b[K     |███▎                            | 153kB 8.7MB/s eta 0:00:01\r\u001b[K     |███▌                            | 163kB 8.7MB/s eta 0:00:01\r\u001b[K     |███▊                            | 174kB 8.7MB/s eta 0:00:01\r\u001b[K     |████                            | 184kB 8.7MB/s eta 0:00:01\r\u001b[K     |████▏                           | 194kB 8.7MB/s eta 0:00:01\r\u001b[K     |████▍                           | 204kB 8.7MB/s eta 0:00:01\r\u001b[K     |████▌                           | 215kB 8.7MB/s eta 0:00:01\r\u001b[K     |████▊                           | 225kB 8.7MB/s eta 0:00:01\r\u001b[K     |█████                           | 235kB 8.7MB/s eta 0:00:01\r\u001b[K     |█████▏                          | 245kB 8.7MB/s eta 0:00:01\r\u001b[K     |█████▍                          | 256kB 8.7MB/s eta 0:00:01\r\u001b[K     |█████▋                          | 266kB 8.7MB/s eta 0:00:01\r\u001b[K     |█████▉                          | 276kB 8.7MB/s eta 0:00:01\r\u001b[K     |██████                          | 286kB 8.7MB/s eta 0:00:01\r\u001b[K     |██████▎                         | 296kB 8.7MB/s eta 0:00:01\r\u001b[K     |██████▌                         | 307kB 8.7MB/s eta 0:00:01\r\u001b[K     |██████▊                         | 317kB 8.7MB/s eta 0:00:01\r\u001b[K     |███████                         | 327kB 8.7MB/s eta 0:00:01\r\u001b[K     |███████▏                        | 337kB 8.7MB/s eta 0:00:01\r\u001b[K     |███████▍                        | 348kB 8.7MB/s eta 0:00:01\r\u001b[K     |███████▋                        | 358kB 8.7MB/s eta 0:00:01\r\u001b[K     |███████▉                        | 368kB 8.7MB/s eta 0:00:01\r\u001b[K     |████████                        | 378kB 8.7MB/s eta 0:00:01\r\u001b[K     |████████▎                       | 389kB 8.7MB/s eta 0:00:01\r\u001b[K     |████████▌                       | 399kB 8.7MB/s eta 0:00:01\r\u001b[K     |████████▊                       | 409kB 8.7MB/s eta 0:00:01\r\u001b[K     |█████████                       | 419kB 8.7MB/s eta 0:00:01\r\u001b[K     |█████████                       | 430kB 8.7MB/s eta 0:00:01\r\u001b[K     |█████████▎                      | 440kB 8.7MB/s eta 0:00:01\r\u001b[K     |█████████▌                      | 450kB 8.7MB/s eta 0:00:01\r\u001b[K     |█████████▊                      | 460kB 8.7MB/s eta 0:00:01\r\u001b[K     |██████████                      | 471kB 8.7MB/s eta 0:00:01\r\u001b[K     |██████████▏                     | 481kB 8.7MB/s eta 0:00:01\r\u001b[K     |██████████▍                     | 491kB 8.7MB/s eta 0:00:01\r\u001b[K     |██████████▋                     | 501kB 8.7MB/s eta 0:00:01\r\u001b[K     |██████████▉                     | 512kB 8.7MB/s eta 0:00:01\r\u001b[K     |███████████                     | 522kB 8.7MB/s eta 0:00:01\r\u001b[K     |███████████▎                    | 532kB 8.7MB/s eta 0:00:01\r\u001b[K     |███████████▌                    | 542kB 8.7MB/s eta 0:00:01\r\u001b[K     |███████████▊                    | 552kB 8.7MB/s eta 0:00:01\r\u001b[K     |████████████                    | 563kB 8.7MB/s eta 0:00:01\r\u001b[K     |████████████▏                   | 573kB 8.7MB/s eta 0:00:01\r\u001b[K     |████████████▍                   | 583kB 8.7MB/s eta 0:00:01\r\u001b[K     |████████████▋                   | 593kB 8.7MB/s eta 0:00:01\r\u001b[K     |████████████▉                   | 604kB 8.7MB/s eta 0:00:01\r\u001b[K     |█████████████                   | 614kB 8.7MB/s eta 0:00:01\r\u001b[K     |█████████████▎                  | 624kB 8.7MB/s eta 0:00:01\r\u001b[K     |█████████████▌                  | 634kB 8.7MB/s eta 0:00:01\r\u001b[K     |█████████████▋                  | 645kB 8.7MB/s eta 0:00:01\r\u001b[K     |█████████████▉                  | 655kB 8.7MB/s eta 0:00:01\r\u001b[K     |██████████████                  | 665kB 8.7MB/s eta 0:00:01\r\u001b[K     |██████████████▎                 | 675kB 8.7MB/s eta 0:00:01\r\u001b[K     |██████████████▌                 | 686kB 8.7MB/s eta 0:00:01\r\u001b[K     |██████████████▊                 | 696kB 8.7MB/s eta 0:00:01\r\u001b[K     |███████████████                 | 706kB 8.7MB/s eta 0:00:01\r\u001b[K     |███████████████▏                | 716kB 8.7MB/s eta 0:00:01\r\u001b[K     |███████████████▍                | 727kB 8.7MB/s eta 0:00:01\r\u001b[K     |███████████████▋                | 737kB 8.7MB/s eta 0:00:01\r\u001b[K     |███████████████▉                | 747kB 8.7MB/s eta 0:00:01\r\u001b[K     |████████████████                | 757kB 8.7MB/s eta 0:00:01\r\u001b[K     |████████████████▎               | 768kB 8.7MB/s eta 0:00:01\r\u001b[K     |████████████████▌               | 778kB 8.7MB/s eta 0:00:01\r\u001b[K     |████████████████▊               | 788kB 8.7MB/s eta 0:00:01\r\u001b[K     |█████████████████               | 798kB 8.7MB/s eta 0:00:01\r\u001b[K     |█████████████████▏              | 808kB 8.7MB/s eta 0:00:01\r\u001b[K     |█████████████████▍              | 819kB 8.7MB/s eta 0:00:01\r\u001b[K     |█████████████████▋              | 829kB 8.7MB/s eta 0:00:01\r\u001b[K     |█████████████████▉              | 839kB 8.7MB/s eta 0:00:01\r\u001b[K     |██████████████████              | 849kB 8.7MB/s eta 0:00:01\r\u001b[K     |██████████████████▏             | 860kB 8.7MB/s eta 0:00:01\r\u001b[K     |██████████████████▍             | 870kB 8.7MB/s eta 0:00:01\r\u001b[K     |██████████████████▋             | 880kB 8.7MB/s eta 0:00:01\r\u001b[K     |██████████████████▉             | 890kB 8.7MB/s eta 0:00:01\r\u001b[K     |███████████████████             | 901kB 8.7MB/s eta 0:00:01\r\u001b[K     |███████████████████▎            | 911kB 8.7MB/s eta 0:00:01\r\u001b[K     |███████████████████▌            | 921kB 8.7MB/s eta 0:00:01\r\u001b[K     |███████████████████▊            | 931kB 8.7MB/s eta 0:00:01\r\u001b[K     |████████████████████            | 942kB 8.7MB/s eta 0:00:01\r\u001b[K     |████████████████████▏           | 952kB 8.7MB/s eta 0:00:01\r\u001b[K     |████████████████████▍           | 962kB 8.7MB/s eta 0:00:01\r\u001b[K     |████████████████████▋           | 972kB 8.7MB/s eta 0:00:01\r\u001b[K     |████████████████████▉           | 983kB 8.7MB/s eta 0:00:01\r\u001b[K     |█████████████████████           | 993kB 8.7MB/s eta 0:00:01\r\u001b[K     |█████████████████████▎          | 1.0MB 8.7MB/s eta 0:00:01\r\u001b[K     |█████████████████████▌          | 1.0MB 8.7MB/s eta 0:00:01\r\u001b[K     |█████████████████████▊          | 1.0MB 8.7MB/s eta 0:00:01\r\u001b[K     |██████████████████████          | 1.0MB 8.7MB/s eta 0:00:01\r\u001b[K     |██████████████████████▏         | 1.0MB 8.7MB/s eta 0:00:01\r\u001b[K     |██████████████████████▍         | 1.1MB 8.7MB/s eta 0:00:01\r\u001b[K     |██████████████████████▋         | 1.1MB 8.7MB/s eta 0:00:01\r\u001b[K     |██████████████████████▊         | 1.1MB 8.7MB/s eta 0:00:01\r\u001b[K     |███████████████████████         | 1.1MB 8.7MB/s eta 0:00:01\r\u001b[K     |███████████████████████▏        | 1.1MB 8.7MB/s eta 0:00:01\r\u001b[K     |███████████████████████▍        | 1.1MB 8.7MB/s eta 0:00:01\r\u001b[K     |███████████████████████▋        | 1.1MB 8.7MB/s eta 0:00:01\r\u001b[K     |███████████████████████▉        | 1.1MB 8.7MB/s eta 0:00:01\r\u001b[K     |████████████████████████        | 1.1MB 8.7MB/s eta 0:00:01\r\u001b[K     |████████████████████████▎       | 1.1MB 8.7MB/s eta 0:00:01\r\u001b[K     |████████████████████████▌       | 1.2MB 8.7MB/s eta 0:00:01\r\u001b[K     |████████████████████████▊       | 1.2MB 8.7MB/s eta 0:00:01\r\u001b[K     |█████████████████████████       | 1.2MB 8.7MB/s eta 0:00:01\r\u001b[K     |█████████████████████████▏      | 1.2MB 8.7MB/s eta 0:00:01\r\u001b[K     |█████████████████████████▍      | 1.2MB 8.7MB/s eta 0:00:01\r\u001b[K     |█████████████████████████▋      | 1.2MB 8.7MB/s eta 0:00:01\r\u001b[K     |█████████████████████████▉      | 1.2MB 8.7MB/s eta 0:00:01\r\u001b[K     |██████████████████████████      | 1.2MB 8.7MB/s eta 0:00:01\r\u001b[K     |██████████████████████████▎     | 1.2MB 8.7MB/s eta 0:00:01\r\u001b[K     |██████████████████████████▌     | 1.2MB 8.7MB/s eta 0:00:01\r\u001b[K     |██████████████████████████▊     | 1.3MB 8.7MB/s eta 0:00:01\r\u001b[K     |███████████████████████████     | 1.3MB 8.7MB/s eta 0:00:01\r\u001b[K     |███████████████████████████     | 1.3MB 8.7MB/s eta 0:00:01\r\u001b[K     |███████████████████████████▎    | 1.3MB 8.7MB/s eta 0:00:01\r\u001b[K     |███████████████████████████▌    | 1.3MB 8.7MB/s eta 0:00:01\r\u001b[K     |███████████████████████████▊    | 1.3MB 8.7MB/s eta 0:00:01\r\u001b[K     |████████████████████████████    | 1.3MB 8.7MB/s eta 0:00:01\r\u001b[K     |████████████████████████████▏   | 1.3MB 8.7MB/s eta 0:00:01\r\u001b[K     |████████████████████████████▍   | 1.3MB 8.7MB/s eta 0:00:01\r\u001b[K     |████████████████████████████▋   | 1.4MB 8.7MB/s eta 0:00:01\r\u001b[K     |████████████████████████████▉   | 1.4MB 8.7MB/s eta 0:00:01\r\u001b[K     |█████████████████████████████   | 1.4MB 8.7MB/s eta 0:00:01\r\u001b[K     |█████████████████████████████▎  | 1.4MB 8.7MB/s eta 0:00:01\r\u001b[K     |█████████████████████████████▌  | 1.4MB 8.7MB/s eta 0:00:01\r\u001b[K     |█████████████████████████████▊  | 1.4MB 8.7MB/s eta 0:00:01\r\u001b[K     |██████████████████████████████  | 1.4MB 8.7MB/s eta 0:00:01\r\u001b[K     |██████████████████████████████▏ | 1.4MB 8.7MB/s eta 0:00:01\r\u001b[K     |██████████████████████████████▍ | 1.4MB 8.7MB/s eta 0:00:01\r\u001b[K     |██████████████████████████████▋ | 1.4MB 8.7MB/s eta 0:00:01\r\u001b[K     |██████████████████████████████▉ | 1.5MB 8.7MB/s eta 0:00:01\r\u001b[K     |███████████████████████████████ | 1.5MB 8.7MB/s eta 0:00:01\r\u001b[K     |███████████████████████████████▎| 1.5MB 8.7MB/s eta 0:00:01\r\u001b[K     |███████████████████████████████▌| 1.5MB 8.7MB/s eta 0:00:01\r\u001b[K     |███████████████████████████████▋| 1.5MB 8.7MB/s eta 0:00:01\r\u001b[K     |███████████████████████████████▉| 1.5MB 8.7MB/s eta 0:00:01\r\u001b[K     |████████████████████████████████| 1.5MB 8.7MB/s \n",
            "\u001b[K     |████████████████████████████████| 61kB 181kB/s \n",
            "\u001b[K     |████████████████████████████████| 61kB 8.5MB/s \n",
            "\u001b[K     |████████████████████████████████| 61kB 8.2MB/s \n",
            "\u001b[K     |████████████████████████████████| 8.7MB 17.2MB/s \n",
            "\u001b[K     |████████████████████████████████| 614kB 49.9MB/s \n",
            "\u001b[K     |████████████████████████████████| 296kB 50.8MB/s \n",
            "\u001b[?25h  Building wheel for tangled-up-in-unicode (setup.py) ... \u001b[?25l\u001b[?25hdone\n",
            "  Building wheel for confuse (setup.py) ... \u001b[?25l\u001b[?25hdone\n",
            "  Building wheel for htmlmin (setup.py) ... \u001b[?25l\u001b[?25hdone\n",
            "  Building wheel for imagehash (setup.py) ... \u001b[?25l\u001b[?25hdone\n",
            "\u001b[31mERROR: google-colab 1.0.0 has requirement requests~=2.21.0, but you'll have requests 2.23.0 which is incompatible.\u001b[0m\n"
          ],
          "name": "stdout"
        }
      ]
    },
    {
      "cell_type": "markdown",
      "metadata": {
        "id": "m0vd3sLcVHKt",
        "colab_type": "text"
      },
      "source": [
        "**Importing Libraries**"
      ]
    },
    {
      "cell_type": "code",
      "metadata": {
        "id": "0Wf2GRfHU3_7",
        "colab_type": "code",
        "colab": {
          "base_uri": "https://localhost:8080/",
          "height": 143
        },
        "outputId": "246627be-3843-41fd-e8af-7d5662367dae"
      },
      "source": [
        "# For Panel Data Analysis\n",
        "import pandas as pd\n",
        "from pandas_profiling import ProfileReport\n",
        "pd.set_option('display.max_columns', None)\n",
        "pd.set_option('display.max_rows', None)\n",
        "\n",
        "# For Numerical Python\n",
        "import numpy as np\n",
        "\n",
        "# For Random Data\n",
        "from random import randint\n",
        "\n",
        "# For Data Visualization\n",
        "import matplotlib.pyplot as plt\n",
        "%matplotlib inline\n",
        "import seaborn as sns\n",
        "\n",
        "# For scientific calculations\n",
        "from scipy import stats\n",
        "\n",
        "# For Data Model Development\n",
        "from sklearn.model_selection import train_test_split\n",
        "from sklearn.linear_model import LogisticRegression\n",
        "from sklearn.tree import DecisionTreeClassifier\n",
        "from sklearn.ensemble import RandomForestClassifier\n",
        "from xgboost.sklearn import XGBClassifier\n",
        "\n",
        "# To handle class imbalance problem\n",
        "from imblearn.over_sampling import SMOTE\n",
        "\n",
        "# For Machine Learning Model Evaluation\n",
        "from xgboost import plot_importance, to_graphviz\n",
        "from sklearn.metrics import classification_report\n",
        "from yellowbrick.classifier import PrecisionRecallCurve\n",
        "\n",
        "# To Disable Warnings\n",
        "import warnings\n",
        "warnings.filterwarnings(\"ignore\")"
      ],
      "execution_count": 3,
      "outputs": [
        {
          "output_type": "stream",
          "text": [
            "/usr/local/lib/python3.6/dist-packages/sklearn/externals/six.py:31: FutureWarning: The module is deprecated in version 0.21 and will be removed in version 0.23 since we've dropped support for Python 2.7. Please rely on the official version of six (https://pypi.org/project/six/).\n",
            "  \"(https://pypi.org/project/six/).\", FutureWarning)\n",
            "/usr/local/lib/python3.6/dist-packages/sklearn/utils/deprecation.py:144: FutureWarning: The sklearn.neighbors.base module is  deprecated in version 0.22 and will be removed in version 0.24. The corresponding classes / functions should instead be imported from sklearn.neighbors. Anything that cannot be imported from sklearn.neighbors is now part of the private API.\n",
            "  warnings.warn(message, FutureWarning)\n",
            "/usr/local/lib/python3.6/dist-packages/sklearn/utils/deprecation.py:144: FutureWarning: The sklearn.metrics.classification module is  deprecated in version 0.22 and will be removed in version 0.24. The corresponding classes / functions should instead be imported from sklearn.metrics. Anything that cannot be imported from sklearn.metrics is now part of the private API.\n",
            "  warnings.warn(message, FutureWarning)\n"
          ],
          "name": "stderr"
        }
      ]
    },
    {
      "cell_type": "markdown",
      "metadata": {
        "id": "bgRPIyWKWzph",
        "colab_type": "text"
      },
      "source": [
        "**Data Acquisition & Description**"
      ]
    },
    {
      "cell_type": "code",
      "metadata": {
        "id": "c7wBu_U8VLwQ",
        "colab_type": "code",
        "colab": {}
      },
      "source": [
        "LINK = 'https://storage.googleapis.com/industryanalytics/trans_fraud_data.csv'\n",
        "\n",
        "def load_fraud_data(link = LINK):\n",
        "  return pd.read_csv(filepath_or_buffer = link)"
      ],
      "execution_count": 0,
      "outputs": []
    },
    {
      "cell_type": "code",
      "metadata": {
        "id": "JZPgmi_OW-jB",
        "colab_type": "code",
        "colab": {
          "base_uri": "https://localhost:8080/",
          "height": 215
        },
        "outputId": "e7cc8cbc-7345-4b27-b845-e8a9a6fb79ed"
      },
      "source": [
        "data = load_fraud_data(LINK)\n",
        "print('Data Shape:', data.shape)\n",
        "data.head()"
      ],
      "execution_count": 7,
      "outputs": [
        {
          "output_type": "stream",
          "text": [
            "Data Shape: (6362620, 10)\n"
          ],
          "name": "stdout"
        },
        {
          "output_type": "execute_result",
          "data": {
            "text/html": [
              "<div>\n",
              "<style scoped>\n",
              "    .dataframe tbody tr th:only-of-type {\n",
              "        vertical-align: middle;\n",
              "    }\n",
              "\n",
              "    .dataframe tbody tr th {\n",
              "        vertical-align: top;\n",
              "    }\n",
              "\n",
              "    .dataframe thead th {\n",
              "        text-align: right;\n",
              "    }\n",
              "</style>\n",
              "<table border=\"1\" class=\"dataframe\">\n",
              "  <thead>\n",
              "    <tr style=\"text-align: right;\">\n",
              "      <th></th>\n",
              "      <th>step</th>\n",
              "      <th>trans_type</th>\n",
              "      <th>trans_amount</th>\n",
              "      <th>sender_name</th>\n",
              "      <th>sender_old_bal</th>\n",
              "      <th>sender_new_bal</th>\n",
              "      <th>receiver</th>\n",
              "      <th>receiver_old_bal</th>\n",
              "      <th>receiver_new_bal</th>\n",
              "      <th>check_fraud</th>\n",
              "    </tr>\n",
              "  </thead>\n",
              "  <tbody>\n",
              "    <tr>\n",
              "      <th>0</th>\n",
              "      <td>1</td>\n",
              "      <td>PAYMENT</td>\n",
              "      <td>9839.64</td>\n",
              "      <td>C1231006815</td>\n",
              "      <td>170136.0</td>\n",
              "      <td>160296.36</td>\n",
              "      <td>M1979787155</td>\n",
              "      <td>0.0</td>\n",
              "      <td>0.0</td>\n",
              "      <td>0</td>\n",
              "    </tr>\n",
              "    <tr>\n",
              "      <th>1</th>\n",
              "      <td>1</td>\n",
              "      <td>PAYMENT</td>\n",
              "      <td>1864.28</td>\n",
              "      <td>C1666544295</td>\n",
              "      <td>21249.0</td>\n",
              "      <td>19384.72</td>\n",
              "      <td>M2044282225</td>\n",
              "      <td>0.0</td>\n",
              "      <td>0.0</td>\n",
              "      <td>0</td>\n",
              "    </tr>\n",
              "    <tr>\n",
              "      <th>2</th>\n",
              "      <td>1</td>\n",
              "      <td>TRANSFER</td>\n",
              "      <td>181.00</td>\n",
              "      <td>C1305486145</td>\n",
              "      <td>181.0</td>\n",
              "      <td>0.00</td>\n",
              "      <td>C553264065</td>\n",
              "      <td>0.0</td>\n",
              "      <td>0.0</td>\n",
              "      <td>1</td>\n",
              "    </tr>\n",
              "    <tr>\n",
              "      <th>3</th>\n",
              "      <td>1</td>\n",
              "      <td>CASH_OUT</td>\n",
              "      <td>181.00</td>\n",
              "      <td>C840083671</td>\n",
              "      <td>181.0</td>\n",
              "      <td>0.00</td>\n",
              "      <td>C38997010</td>\n",
              "      <td>21182.0</td>\n",
              "      <td>0.0</td>\n",
              "      <td>1</td>\n",
              "    </tr>\n",
              "    <tr>\n",
              "      <th>4</th>\n",
              "      <td>1</td>\n",
              "      <td>PAYMENT</td>\n",
              "      <td>11668.14</td>\n",
              "      <td>C2048537720</td>\n",
              "      <td>41554.0</td>\n",
              "      <td>29885.86</td>\n",
              "      <td>M1230701703</td>\n",
              "      <td>0.0</td>\n",
              "      <td>0.0</td>\n",
              "      <td>0</td>\n",
              "    </tr>\n",
              "  </tbody>\n",
              "</table>\n",
              "</div>"
            ],
            "text/plain": [
              "   step trans_type  trans_amount  sender_name  sender_old_bal  sender_new_bal  \\\n",
              "0     1    PAYMENT       9839.64  C1231006815        170136.0       160296.36   \n",
              "1     1    PAYMENT       1864.28  C1666544295         21249.0        19384.72   \n",
              "2     1   TRANSFER        181.00  C1305486145           181.0            0.00   \n",
              "3     1   CASH_OUT        181.00   C840083671           181.0            0.00   \n",
              "4     1    PAYMENT      11668.14  C2048537720         41554.0        29885.86   \n",
              "\n",
              "      receiver  receiver_old_bal  receiver_new_bal  check_fraud  \n",
              "0  M1979787155               0.0               0.0            0  \n",
              "1  M2044282225               0.0               0.0            0  \n",
              "2   C553264065               0.0               0.0            1  \n",
              "3    C38997010           21182.0               0.0            1  \n",
              "4  M1230701703               0.0               0.0            0  "
            ]
          },
          "metadata": {
            "tags": []
          },
          "execution_count": 7
        }
      ]
    },
    {
      "cell_type": "code",
      "metadata": {
        "id": "8WnwmP3oXKrT",
        "colab_type": "code",
        "colab": {
          "base_uri": "https://localhost:8080/",
          "height": 287
        },
        "outputId": "41aae7d1-a806-42c7-992b-066ac6c1d212"
      },
      "source": [
        "data.describe()"
      ],
      "execution_count": 8,
      "outputs": [
        {
          "output_type": "execute_result",
          "data": {
            "text/html": [
              "<div>\n",
              "<style scoped>\n",
              "    .dataframe tbody tr th:only-of-type {\n",
              "        vertical-align: middle;\n",
              "    }\n",
              "\n",
              "    .dataframe tbody tr th {\n",
              "        vertical-align: top;\n",
              "    }\n",
              "\n",
              "    .dataframe thead th {\n",
              "        text-align: right;\n",
              "    }\n",
              "</style>\n",
              "<table border=\"1\" class=\"dataframe\">\n",
              "  <thead>\n",
              "    <tr style=\"text-align: right;\">\n",
              "      <th></th>\n",
              "      <th>step</th>\n",
              "      <th>trans_amount</th>\n",
              "      <th>sender_old_bal</th>\n",
              "      <th>sender_new_bal</th>\n",
              "      <th>receiver_old_bal</th>\n",
              "      <th>receiver_new_bal</th>\n",
              "      <th>check_fraud</th>\n",
              "    </tr>\n",
              "  </thead>\n",
              "  <tbody>\n",
              "    <tr>\n",
              "      <th>count</th>\n",
              "      <td>6.362620e+06</td>\n",
              "      <td>6.362620e+06</td>\n",
              "      <td>6.362620e+06</td>\n",
              "      <td>6.362620e+06</td>\n",
              "      <td>6.362620e+06</td>\n",
              "      <td>6.362620e+06</td>\n",
              "      <td>6.362620e+06</td>\n",
              "    </tr>\n",
              "    <tr>\n",
              "      <th>mean</th>\n",
              "      <td>2.433972e+02</td>\n",
              "      <td>1.798619e+05</td>\n",
              "      <td>8.338831e+05</td>\n",
              "      <td>8.551137e+05</td>\n",
              "      <td>1.100702e+06</td>\n",
              "      <td>1.224996e+06</td>\n",
              "      <td>1.290820e-03</td>\n",
              "    </tr>\n",
              "    <tr>\n",
              "      <th>std</th>\n",
              "      <td>1.423320e+02</td>\n",
              "      <td>6.038582e+05</td>\n",
              "      <td>2.888243e+06</td>\n",
              "      <td>2.924049e+06</td>\n",
              "      <td>3.399180e+06</td>\n",
              "      <td>3.674129e+06</td>\n",
              "      <td>3.590480e-02</td>\n",
              "    </tr>\n",
              "    <tr>\n",
              "      <th>min</th>\n",
              "      <td>1.000000e+00</td>\n",
              "      <td>0.000000e+00</td>\n",
              "      <td>0.000000e+00</td>\n",
              "      <td>0.000000e+00</td>\n",
              "      <td>0.000000e+00</td>\n",
              "      <td>0.000000e+00</td>\n",
              "      <td>0.000000e+00</td>\n",
              "    </tr>\n",
              "    <tr>\n",
              "      <th>25%</th>\n",
              "      <td>1.560000e+02</td>\n",
              "      <td>1.338957e+04</td>\n",
              "      <td>0.000000e+00</td>\n",
              "      <td>0.000000e+00</td>\n",
              "      <td>0.000000e+00</td>\n",
              "      <td>0.000000e+00</td>\n",
              "      <td>0.000000e+00</td>\n",
              "    </tr>\n",
              "    <tr>\n",
              "      <th>50%</th>\n",
              "      <td>2.390000e+02</td>\n",
              "      <td>7.487194e+04</td>\n",
              "      <td>1.420800e+04</td>\n",
              "      <td>0.000000e+00</td>\n",
              "      <td>1.327057e+05</td>\n",
              "      <td>2.146614e+05</td>\n",
              "      <td>0.000000e+00</td>\n",
              "    </tr>\n",
              "    <tr>\n",
              "      <th>75%</th>\n",
              "      <td>3.350000e+02</td>\n",
              "      <td>2.087215e+05</td>\n",
              "      <td>1.073152e+05</td>\n",
              "      <td>1.442584e+05</td>\n",
              "      <td>9.430367e+05</td>\n",
              "      <td>1.111909e+06</td>\n",
              "      <td>0.000000e+00</td>\n",
              "    </tr>\n",
              "    <tr>\n",
              "      <th>max</th>\n",
              "      <td>7.430000e+02</td>\n",
              "      <td>9.244552e+07</td>\n",
              "      <td>5.958504e+07</td>\n",
              "      <td>4.958504e+07</td>\n",
              "      <td>3.560159e+08</td>\n",
              "      <td>3.561793e+08</td>\n",
              "      <td>1.000000e+00</td>\n",
              "    </tr>\n",
              "  </tbody>\n",
              "</table>\n",
              "</div>"
            ],
            "text/plain": [
              "               step  trans_amount  sender_old_bal  sender_new_bal  \\\n",
              "count  6.362620e+06  6.362620e+06    6.362620e+06    6.362620e+06   \n",
              "mean   2.433972e+02  1.798619e+05    8.338831e+05    8.551137e+05   \n",
              "std    1.423320e+02  6.038582e+05    2.888243e+06    2.924049e+06   \n",
              "min    1.000000e+00  0.000000e+00    0.000000e+00    0.000000e+00   \n",
              "25%    1.560000e+02  1.338957e+04    0.000000e+00    0.000000e+00   \n",
              "50%    2.390000e+02  7.487194e+04    1.420800e+04    0.000000e+00   \n",
              "75%    3.350000e+02  2.087215e+05    1.073152e+05    1.442584e+05   \n",
              "max    7.430000e+02  9.244552e+07    5.958504e+07    4.958504e+07   \n",
              "\n",
              "       receiver_old_bal  receiver_new_bal   check_fraud  \n",
              "count      6.362620e+06      6.362620e+06  6.362620e+06  \n",
              "mean       1.100702e+06      1.224996e+06  1.290820e-03  \n",
              "std        3.399180e+06      3.674129e+06  3.590480e-02  \n",
              "min        0.000000e+00      0.000000e+00  0.000000e+00  \n",
              "25%        0.000000e+00      0.000000e+00  0.000000e+00  \n",
              "50%        1.327057e+05      2.146614e+05  0.000000e+00  \n",
              "75%        9.430367e+05      1.111909e+06  0.000000e+00  \n",
              "max        3.560159e+08      3.561793e+08  1.000000e+00  "
            ]
          },
          "metadata": {
            "tags": []
          },
          "execution_count": 8
        }
      ]
    },
    {
      "cell_type": "markdown",
      "metadata": {
        "id": "Oilq_vzNXvev",
        "colab_type": "text"
      },
      "source": [
        "**OBSERVATION**"
      ]
    },
    {
      "cell_type": "markdown",
      "metadata": {
        "id": "EKJMWJsaX0rI",
        "colab_type": "text"
      },
      "source": [
        "The numbers are pretty large for description.\n",
        "\n",
        "25% of data is zero for sender_old_bal, receiver_old_bal & receiver_new_bal.\n",
        "\n",
        "50% of data is zero for sender_new_bal.\n",
        "\n",
        "On average, transaction amount of ~ $ 179861.9 dollars have been seen moving to and fro over the accumulated data.\n",
        "\n",
        "25% of transactions have happened with amount <=  $ 13389.57 dollars.\n",
        "\n",
        "50% of transactions have happened with amount <=  $ 74871.94 dollars.\n",
        "\n",
        "75% of transactions have happened with amount <=  $ 208721.5 dollars"
      ]
    },
    {
      "cell_type": "code",
      "metadata": {
        "id": "njer1_ZnXrAj",
        "colab_type": "code",
        "colab": {
          "base_uri": "https://localhost:8080/",
          "height": 318
        },
        "outputId": "c02efcb6-ce3d-42af-a512-c9ea96623b5e"
      },
      "source": [
        "data.info()"
      ],
      "execution_count": 9,
      "outputs": [
        {
          "output_type": "stream",
          "text": [
            "<class 'pandas.core.frame.DataFrame'>\n",
            "RangeIndex: 6362620 entries, 0 to 6362619\n",
            "Data columns (total 10 columns):\n",
            " #   Column            Dtype  \n",
            "---  ------            -----  \n",
            " 0   step              int64  \n",
            " 1   trans_type        object \n",
            " 2   trans_amount      float64\n",
            " 3   sender_name       object \n",
            " 4   sender_old_bal    float64\n",
            " 5   sender_new_bal    float64\n",
            " 6   receiver          object \n",
            " 7   receiver_old_bal  float64\n",
            " 8   receiver_new_bal  float64\n",
            " 9   check_fraud       int64  \n",
            "dtypes: float64(5), int64(2), object(3)\n",
            "memory usage: 485.4+ MB\n"
          ],
          "name": "stdout"
        }
      ]
    },
    {
      "cell_type": "markdown",
      "metadata": {
        "id": "bkAKumCXgLRQ",
        "colab_type": "text"
      },
      "source": [
        "**We can see that all the check_fraud has been identified as incorrect data type i.e. integer. But it should be boolean instead.**"
      ]
    },
    {
      "cell_type": "markdown",
      "metadata": {
        "id": "8Fhp5bYChPz3",
        "colab_type": "text"
      },
      "source": [
        "**Observation:\n",
        "\n",
        "There were no missing cells.\n",
        "There were no duplicate rows.\n",
        "There are 6 numerical, 3 categorical and 1 bool features.\n",
        "trans_amount is found to be highy skewed.\n",
        "sender_name & receiver is found to be cardinal in nature i.e. containing distinct values.\n",
        "sender_old_bal is found to have 33% of zeros and sender_new_bal 56.7% of zeros.\n",
        "receiver_old_bal is found to have 42.5% of zeros and receiver_new_bal 38.3% of zeros.\n",
        "trans_type feature contains imbalanced classes, DEBIT type contains frequency of 41432 with respect to whole data.\n",
        "Fraudulent transctions are 8213 with respect to whole data which defines the class imbalance.**"
      ]
    },
    {
      "cell_type": "markdown",
      "metadata": {
        "id": "4HdL_PG9jc7T",
        "colab_type": "text"
      },
      "source": [
        "Identification & Handling of Missing Values"
      ]
    },
    {
      "cell_type": "code",
      "metadata": {
        "id": "yzgLQmpUhUMR",
        "colab_type": "code",
        "colab": {
          "base_uri": "https://localhost:8080/",
          "height": 97
        },
        "outputId": "499cedd5-f904-4008-9593-42fc928e34a4"
      },
      "source": [
        "null_frame=pd.DataFrame(data.isnull().sum(),columns=[\"frequency\"])\n",
        "null_frame.T"
      ],
      "execution_count": 11,
      "outputs": [
        {
          "output_type": "execute_result",
          "data": {
            "text/html": [
              "<div>\n",
              "<style scoped>\n",
              "    .dataframe tbody tr th:only-of-type {\n",
              "        vertical-align: middle;\n",
              "    }\n",
              "\n",
              "    .dataframe tbody tr th {\n",
              "        vertical-align: top;\n",
              "    }\n",
              "\n",
              "    .dataframe thead th {\n",
              "        text-align: right;\n",
              "    }\n",
              "</style>\n",
              "<table border=\"1\" class=\"dataframe\">\n",
              "  <thead>\n",
              "    <tr style=\"text-align: right;\">\n",
              "      <th></th>\n",
              "      <th>step</th>\n",
              "      <th>trans_type</th>\n",
              "      <th>trans_amount</th>\n",
              "      <th>sender_name</th>\n",
              "      <th>sender_old_bal</th>\n",
              "      <th>sender_new_bal</th>\n",
              "      <th>receiver</th>\n",
              "      <th>receiver_old_bal</th>\n",
              "      <th>receiver_new_bal</th>\n",
              "      <th>check_fraud</th>\n",
              "    </tr>\n",
              "  </thead>\n",
              "  <tbody>\n",
              "    <tr>\n",
              "      <th>frequency</th>\n",
              "      <td>0</td>\n",
              "      <td>0</td>\n",
              "      <td>0</td>\n",
              "      <td>0</td>\n",
              "      <td>0</td>\n",
              "      <td>0</td>\n",
              "      <td>0</td>\n",
              "      <td>0</td>\n",
              "      <td>0</td>\n",
              "      <td>0</td>\n",
              "    </tr>\n",
              "  </tbody>\n",
              "</table>\n",
              "</div>"
            ],
            "text/plain": [
              "           step  trans_type  trans_amount  sender_name  sender_old_bal  \\\n",
              "frequency     0           0             0            0               0   \n",
              "\n",
              "           sender_new_bal  receiver  receiver_old_bal  receiver_new_bal  \\\n",
              "frequency               0         0                 0                 0   \n",
              "\n",
              "           check_fraud  \n",
              "frequency            0  "
            ]
          },
          "metadata": {
            "tags": []
          },
          "execution_count": 11
        }
      ]
    },
    {
      "cell_type": "markdown",
      "metadata": {
        "id": "eV4m8U-Jj-SM",
        "colab_type": "text"
      },
      "source": [
        "**Numerical Data Distribution**"
      ]
    },
    {
      "cell_type": "code",
      "metadata": {
        "id": "OnH50ZiHjyLA",
        "colab_type": "code",
        "colab": {
          "base_uri": "https://localhost:8080/",
          "height": 52
        },
        "outputId": "ae6f946e-0149-4f36-fe6d-76a075218b52"
      },
      "source": [
        "num_features=[]\n",
        "for i in data.columns:\n",
        "  if (data[i].dtypes==int) | (data[i].dtypes==float):\n",
        "    num_features.append(i)\n",
        "print(len(num_features))\n",
        "print(num_features)"
      ],
      "execution_count": 19,
      "outputs": [
        {
          "output_type": "stream",
          "text": [
            "7\n",
            "['step', 'trans_amount', 'sender_old_bal', 'sender_new_bal', 'receiver_old_bal', 'receiver_new_bal', 'check_fraud']\n"
          ],
          "name": "stdout"
        }
      ]
    },
    {
      "cell_type": "code",
      "metadata": {
        "id": "hJPrqzBtkja2",
        "colab_type": "code",
        "colab": {
          "base_uri": "https://localhost:8080/",
          "height": 1000
        },
        "outputId": "f67d8ab4-3497-4d19-b3cc-b2a540ab3061"
      },
      "source": [
        "fig, axes = plt.subplots(nrows = 4, ncols = 2, sharex = False, figsize=(10, 15))\n",
        "\n",
        "colors = []\n",
        "for i in range(7):\n",
        "  colors.append('#%06X' % randint(0, 0xFFFFFF))\n",
        "\n",
        "for ax, col, color in zip(axes.flat, num_features, colors):\n",
        "  sns.distplot(a = data[col], bins = 50, ax = ax, color = color)\n",
        "  ax.set_title(col)\n",
        "  plt.setp(axes, yticks=[])\n",
        "  ax.set_xlabel(' ')\n",
        "  ax.grid(False)\n",
        "plt.tight_layout()\n",
        "plt.show()"
      ],
      "execution_count": 20,
      "outputs": [
        {
          "output_type": "error",
          "ename": "RuntimeError",
          "evalue": "ignored",
          "traceback": [
            "\u001b[0;31m---------------------------------------------------------------------------\u001b[0m",
            "\u001b[0;31mValueError\u001b[0m                                Traceback (most recent call last)",
            "\u001b[0;32m/usr/local/lib/python3.6/dist-packages/statsmodels/nonparametric/kde.py\u001b[0m in \u001b[0;36mkdensityfft\u001b[0;34m(X, kernel, bw, weights, gridsize, adjust, clip, cut, retgrid)\u001b[0m\n\u001b[1;32m    450\u001b[0m     \u001b[0;32mtry\u001b[0m\u001b[0;34m:\u001b[0m\u001b[0;34m\u001b[0m\u001b[0;34m\u001b[0m\u001b[0m\n\u001b[0;32m--> 451\u001b[0;31m         \u001b[0mbw\u001b[0m \u001b[0;34m=\u001b[0m \u001b[0mfloat\u001b[0m\u001b[0;34m(\u001b[0m\u001b[0mbw\u001b[0m\u001b[0;34m)\u001b[0m\u001b[0;34m\u001b[0m\u001b[0;34m\u001b[0m\u001b[0m\n\u001b[0m\u001b[1;32m    452\u001b[0m     \u001b[0;32mexcept\u001b[0m\u001b[0;34m:\u001b[0m\u001b[0;34m\u001b[0m\u001b[0;34m\u001b[0m\u001b[0m\n",
            "\u001b[0;31mValueError\u001b[0m: could not convert string to float: 'scott'",
            "\nDuring handling of the above exception, another exception occurred:\n",
            "\u001b[0;31mRuntimeError\u001b[0m                              Traceback (most recent call last)",
            "\u001b[0;32m<ipython-input-20-14b925d1d438>\u001b[0m in \u001b[0;36m<module>\u001b[0;34m()\u001b[0m\n\u001b[1;32m      6\u001b[0m \u001b[0;34m\u001b[0m\u001b[0m\n\u001b[1;32m      7\u001b[0m \u001b[0;32mfor\u001b[0m \u001b[0max\u001b[0m\u001b[0;34m,\u001b[0m \u001b[0mcol\u001b[0m\u001b[0;34m,\u001b[0m \u001b[0mcolor\u001b[0m \u001b[0;32min\u001b[0m \u001b[0mzip\u001b[0m\u001b[0;34m(\u001b[0m\u001b[0maxes\u001b[0m\u001b[0;34m.\u001b[0m\u001b[0mflat\u001b[0m\u001b[0;34m,\u001b[0m \u001b[0mnum_features\u001b[0m\u001b[0;34m,\u001b[0m \u001b[0mcolors\u001b[0m\u001b[0;34m)\u001b[0m\u001b[0;34m:\u001b[0m\u001b[0;34m\u001b[0m\u001b[0;34m\u001b[0m\u001b[0m\n\u001b[0;32m----> 8\u001b[0;31m   \u001b[0msns\u001b[0m\u001b[0;34m.\u001b[0m\u001b[0mdistplot\u001b[0m\u001b[0;34m(\u001b[0m\u001b[0ma\u001b[0m \u001b[0;34m=\u001b[0m \u001b[0mdata\u001b[0m\u001b[0;34m[\u001b[0m\u001b[0mcol\u001b[0m\u001b[0;34m]\u001b[0m\u001b[0;34m,\u001b[0m \u001b[0mbins\u001b[0m \u001b[0;34m=\u001b[0m \u001b[0;36m50\u001b[0m\u001b[0;34m,\u001b[0m \u001b[0max\u001b[0m \u001b[0;34m=\u001b[0m \u001b[0max\u001b[0m\u001b[0;34m,\u001b[0m \u001b[0mcolor\u001b[0m \u001b[0;34m=\u001b[0m \u001b[0mcolor\u001b[0m\u001b[0;34m)\u001b[0m\u001b[0;34m\u001b[0m\u001b[0;34m\u001b[0m\u001b[0m\n\u001b[0m\u001b[1;32m      9\u001b[0m   \u001b[0max\u001b[0m\u001b[0;34m.\u001b[0m\u001b[0mset_title\u001b[0m\u001b[0;34m(\u001b[0m\u001b[0mcol\u001b[0m\u001b[0;34m)\u001b[0m\u001b[0;34m\u001b[0m\u001b[0;34m\u001b[0m\u001b[0m\n\u001b[1;32m     10\u001b[0m   \u001b[0mplt\u001b[0m\u001b[0;34m.\u001b[0m\u001b[0msetp\u001b[0m\u001b[0;34m(\u001b[0m\u001b[0maxes\u001b[0m\u001b[0;34m,\u001b[0m \u001b[0myticks\u001b[0m\u001b[0;34m=\u001b[0m\u001b[0;34m[\u001b[0m\u001b[0;34m]\u001b[0m\u001b[0;34m)\u001b[0m\u001b[0;34m\u001b[0m\u001b[0;34m\u001b[0m\u001b[0m\n",
            "\u001b[0;32m/usr/local/lib/python3.6/dist-packages/seaborn/distributions.py\u001b[0m in \u001b[0;36mdistplot\u001b[0;34m(a, bins, hist, kde, rug, fit, hist_kws, kde_kws, rug_kws, fit_kws, color, vertical, norm_hist, axlabel, label, ax)\u001b[0m\n\u001b[1;32m    231\u001b[0m     \u001b[0;32mif\u001b[0m \u001b[0mkde\u001b[0m\u001b[0;34m:\u001b[0m\u001b[0;34m\u001b[0m\u001b[0;34m\u001b[0m\u001b[0m\n\u001b[1;32m    232\u001b[0m         \u001b[0mkde_color\u001b[0m \u001b[0;34m=\u001b[0m \u001b[0mkde_kws\u001b[0m\u001b[0;34m.\u001b[0m\u001b[0mpop\u001b[0m\u001b[0;34m(\u001b[0m\u001b[0;34m\"color\"\u001b[0m\u001b[0;34m,\u001b[0m \u001b[0mcolor\u001b[0m\u001b[0;34m)\u001b[0m\u001b[0;34m\u001b[0m\u001b[0;34m\u001b[0m\u001b[0m\n\u001b[0;32m--> 233\u001b[0;31m         \u001b[0mkdeplot\u001b[0m\u001b[0;34m(\u001b[0m\u001b[0ma\u001b[0m\u001b[0;34m,\u001b[0m \u001b[0mvertical\u001b[0m\u001b[0;34m=\u001b[0m\u001b[0mvertical\u001b[0m\u001b[0;34m,\u001b[0m \u001b[0max\u001b[0m\u001b[0;34m=\u001b[0m\u001b[0max\u001b[0m\u001b[0;34m,\u001b[0m \u001b[0mcolor\u001b[0m\u001b[0;34m=\u001b[0m\u001b[0mkde_color\u001b[0m\u001b[0;34m,\u001b[0m \u001b[0;34m**\u001b[0m\u001b[0mkde_kws\u001b[0m\u001b[0;34m)\u001b[0m\u001b[0;34m\u001b[0m\u001b[0;34m\u001b[0m\u001b[0m\n\u001b[0m\u001b[1;32m    234\u001b[0m         \u001b[0;32mif\u001b[0m \u001b[0mkde_color\u001b[0m \u001b[0;34m!=\u001b[0m \u001b[0mcolor\u001b[0m\u001b[0;34m:\u001b[0m\u001b[0;34m\u001b[0m\u001b[0;34m\u001b[0m\u001b[0m\n\u001b[1;32m    235\u001b[0m             \u001b[0mkde_kws\u001b[0m\u001b[0;34m[\u001b[0m\u001b[0;34m\"color\"\u001b[0m\u001b[0;34m]\u001b[0m \u001b[0;34m=\u001b[0m \u001b[0mkde_color\u001b[0m\u001b[0;34m\u001b[0m\u001b[0;34m\u001b[0m\u001b[0m\n",
            "\u001b[0;32m/usr/local/lib/python3.6/dist-packages/seaborn/distributions.py\u001b[0m in \u001b[0;36mkdeplot\u001b[0;34m(data, data2, shade, vertical, kernel, bw, gridsize, cut, clip, legend, cumulative, shade_lowest, cbar, cbar_ax, cbar_kws, ax, **kwargs)\u001b[0m\n\u001b[1;32m    703\u001b[0m         ax = _univariate_kdeplot(data, shade, vertical, kernel, bw,\n\u001b[1;32m    704\u001b[0m                                  \u001b[0mgridsize\u001b[0m\u001b[0;34m,\u001b[0m \u001b[0mcut\u001b[0m\u001b[0;34m,\u001b[0m \u001b[0mclip\u001b[0m\u001b[0;34m,\u001b[0m \u001b[0mlegend\u001b[0m\u001b[0;34m,\u001b[0m \u001b[0max\u001b[0m\u001b[0;34m,\u001b[0m\u001b[0;34m\u001b[0m\u001b[0;34m\u001b[0m\u001b[0m\n\u001b[0;32m--> 705\u001b[0;31m                                  cumulative=cumulative, **kwargs)\n\u001b[0m\u001b[1;32m    706\u001b[0m \u001b[0;34m\u001b[0m\u001b[0m\n\u001b[1;32m    707\u001b[0m     \u001b[0;32mreturn\u001b[0m \u001b[0max\u001b[0m\u001b[0;34m\u001b[0m\u001b[0;34m\u001b[0m\u001b[0m\n",
            "\u001b[0;32m/usr/local/lib/python3.6/dist-packages/seaborn/distributions.py\u001b[0m in \u001b[0;36m_univariate_kdeplot\u001b[0;34m(data, shade, vertical, kernel, bw, gridsize, cut, clip, legend, ax, cumulative, **kwargs)\u001b[0m\n\u001b[1;32m    293\u001b[0m         x, y = _statsmodels_univariate_kde(data, kernel, bw,\n\u001b[1;32m    294\u001b[0m                                            \u001b[0mgridsize\u001b[0m\u001b[0;34m,\u001b[0m \u001b[0mcut\u001b[0m\u001b[0;34m,\u001b[0m \u001b[0mclip\u001b[0m\u001b[0;34m,\u001b[0m\u001b[0;34m\u001b[0m\u001b[0;34m\u001b[0m\u001b[0m\n\u001b[0;32m--> 295\u001b[0;31m                                            cumulative=cumulative)\n\u001b[0m\u001b[1;32m    296\u001b[0m     \u001b[0;32melse\u001b[0m\u001b[0;34m:\u001b[0m\u001b[0;34m\u001b[0m\u001b[0;34m\u001b[0m\u001b[0m\n\u001b[1;32m    297\u001b[0m         \u001b[0;31m# Fall back to scipy if missing statsmodels\u001b[0m\u001b[0;34m\u001b[0m\u001b[0;34m\u001b[0m\u001b[0;34m\u001b[0m\u001b[0m\n",
            "\u001b[0;32m/usr/local/lib/python3.6/dist-packages/seaborn/distributions.py\u001b[0m in \u001b[0;36m_statsmodels_univariate_kde\u001b[0;34m(data, kernel, bw, gridsize, cut, clip, cumulative)\u001b[0m\n\u001b[1;32m    365\u001b[0m     \u001b[0mfft\u001b[0m \u001b[0;34m=\u001b[0m \u001b[0mkernel\u001b[0m \u001b[0;34m==\u001b[0m \u001b[0;34m\"gau\"\u001b[0m\u001b[0;34m\u001b[0m\u001b[0;34m\u001b[0m\u001b[0m\n\u001b[1;32m    366\u001b[0m     \u001b[0mkde\u001b[0m \u001b[0;34m=\u001b[0m \u001b[0msmnp\u001b[0m\u001b[0;34m.\u001b[0m\u001b[0mKDEUnivariate\u001b[0m\u001b[0;34m(\u001b[0m\u001b[0mdata\u001b[0m\u001b[0;34m)\u001b[0m\u001b[0;34m\u001b[0m\u001b[0;34m\u001b[0m\u001b[0m\n\u001b[0;32m--> 367\u001b[0;31m     \u001b[0mkde\u001b[0m\u001b[0;34m.\u001b[0m\u001b[0mfit\u001b[0m\u001b[0;34m(\u001b[0m\u001b[0mkernel\u001b[0m\u001b[0;34m,\u001b[0m \u001b[0mbw\u001b[0m\u001b[0;34m,\u001b[0m \u001b[0mfft\u001b[0m\u001b[0;34m,\u001b[0m \u001b[0mgridsize\u001b[0m\u001b[0;34m=\u001b[0m\u001b[0mgridsize\u001b[0m\u001b[0;34m,\u001b[0m \u001b[0mcut\u001b[0m\u001b[0;34m=\u001b[0m\u001b[0mcut\u001b[0m\u001b[0;34m,\u001b[0m \u001b[0mclip\u001b[0m\u001b[0;34m=\u001b[0m\u001b[0mclip\u001b[0m\u001b[0;34m)\u001b[0m\u001b[0;34m\u001b[0m\u001b[0;34m\u001b[0m\u001b[0m\n\u001b[0m\u001b[1;32m    368\u001b[0m     \u001b[0;32mif\u001b[0m \u001b[0mcumulative\u001b[0m\u001b[0;34m:\u001b[0m\u001b[0;34m\u001b[0m\u001b[0;34m\u001b[0m\u001b[0m\n\u001b[1;32m    369\u001b[0m         \u001b[0mgrid\u001b[0m\u001b[0;34m,\u001b[0m \u001b[0my\u001b[0m \u001b[0;34m=\u001b[0m \u001b[0mkde\u001b[0m\u001b[0;34m.\u001b[0m\u001b[0msupport\u001b[0m\u001b[0;34m,\u001b[0m \u001b[0mkde\u001b[0m\u001b[0;34m.\u001b[0m\u001b[0mcdf\u001b[0m\u001b[0;34m\u001b[0m\u001b[0;34m\u001b[0m\u001b[0m\n",
            "\u001b[0;32m/usr/local/lib/python3.6/dist-packages/statsmodels/nonparametric/kde.py\u001b[0m in \u001b[0;36mfit\u001b[0;34m(self, kernel, bw, fft, weights, gridsize, adjust, cut, clip)\u001b[0m\n\u001b[1;32m    138\u001b[0m             density, grid, bw = kdensityfft(endog, kernel=kernel, bw=bw,\n\u001b[1;32m    139\u001b[0m                     \u001b[0madjust\u001b[0m\u001b[0;34m=\u001b[0m\u001b[0madjust\u001b[0m\u001b[0;34m,\u001b[0m \u001b[0mweights\u001b[0m\u001b[0;34m=\u001b[0m\u001b[0mweights\u001b[0m\u001b[0;34m,\u001b[0m \u001b[0mgridsize\u001b[0m\u001b[0;34m=\u001b[0m\u001b[0mgridsize\u001b[0m\u001b[0;34m,\u001b[0m\u001b[0;34m\u001b[0m\u001b[0;34m\u001b[0m\u001b[0m\n\u001b[0;32m--> 140\u001b[0;31m                     clip=clip, cut=cut)\n\u001b[0m\u001b[1;32m    141\u001b[0m         \u001b[0;32melse\u001b[0m\u001b[0;34m:\u001b[0m\u001b[0;34m\u001b[0m\u001b[0;34m\u001b[0m\u001b[0m\n\u001b[1;32m    142\u001b[0m             density, grid, bw = kdensity(endog, kernel=kernel, bw=bw,\n",
            "\u001b[0;32m/usr/local/lib/python3.6/dist-packages/statsmodels/nonparametric/kde.py\u001b[0m in \u001b[0;36mkdensityfft\u001b[0;34m(X, kernel, bw, weights, gridsize, adjust, clip, cut, retgrid)\u001b[0m\n\u001b[1;32m    451\u001b[0m         \u001b[0mbw\u001b[0m \u001b[0;34m=\u001b[0m \u001b[0mfloat\u001b[0m\u001b[0;34m(\u001b[0m\u001b[0mbw\u001b[0m\u001b[0;34m)\u001b[0m\u001b[0;34m\u001b[0m\u001b[0;34m\u001b[0m\u001b[0m\n\u001b[1;32m    452\u001b[0m     \u001b[0;32mexcept\u001b[0m\u001b[0;34m:\u001b[0m\u001b[0;34m\u001b[0m\u001b[0;34m\u001b[0m\u001b[0m\n\u001b[0;32m--> 453\u001b[0;31m         \u001b[0mbw\u001b[0m \u001b[0;34m=\u001b[0m \u001b[0mbandwidths\u001b[0m\u001b[0;34m.\u001b[0m\u001b[0mselect_bandwidth\u001b[0m\u001b[0;34m(\u001b[0m\u001b[0mX\u001b[0m\u001b[0;34m,\u001b[0m \u001b[0mbw\u001b[0m\u001b[0;34m,\u001b[0m \u001b[0mkern\u001b[0m\u001b[0;34m)\u001b[0m \u001b[0;31m# will cross-val fit this pattern?\u001b[0m\u001b[0;34m\u001b[0m\u001b[0;34m\u001b[0m\u001b[0m\n\u001b[0m\u001b[1;32m    454\u001b[0m     \u001b[0mbw\u001b[0m \u001b[0;34m*=\u001b[0m \u001b[0madjust\u001b[0m\u001b[0;34m\u001b[0m\u001b[0;34m\u001b[0m\u001b[0m\n\u001b[1;32m    455\u001b[0m \u001b[0;34m\u001b[0m\u001b[0m\n",
            "\u001b[0;32m/usr/local/lib/python3.6/dist-packages/statsmodels/nonparametric/bandwidths.py\u001b[0m in \u001b[0;36mselect_bandwidth\u001b[0;34m(x, bw, kernel)\u001b[0m\n\u001b[1;32m    172\u001b[0m         \u001b[0;31m# eventually this can fall back on another selection criterion.\u001b[0m\u001b[0;34m\u001b[0m\u001b[0;34m\u001b[0m\u001b[0;34m\u001b[0m\u001b[0m\n\u001b[1;32m    173\u001b[0m         \u001b[0merr\u001b[0m \u001b[0;34m=\u001b[0m \u001b[0;34m\"Selected KDE bandwidth is 0. Cannot estimate density.\"\u001b[0m\u001b[0;34m\u001b[0m\u001b[0;34m\u001b[0m\u001b[0m\n\u001b[0;32m--> 174\u001b[0;31m         \u001b[0;32mraise\u001b[0m \u001b[0mRuntimeError\u001b[0m\u001b[0;34m(\u001b[0m\u001b[0merr\u001b[0m\u001b[0;34m)\u001b[0m\u001b[0;34m\u001b[0m\u001b[0;34m\u001b[0m\u001b[0m\n\u001b[0m\u001b[1;32m    175\u001b[0m     \u001b[0;32melse\u001b[0m\u001b[0;34m:\u001b[0m\u001b[0;34m\u001b[0m\u001b[0;34m\u001b[0m\u001b[0m\n\u001b[1;32m    176\u001b[0m         \u001b[0;32mreturn\u001b[0m \u001b[0mbandwidth\u001b[0m\u001b[0;34m\u001b[0m\u001b[0;34m\u001b[0m\u001b[0m\n",
            "\u001b[0;31mRuntimeError\u001b[0m: Selected KDE bandwidth is 0. Cannot estimate density."
          ]
        },
        {
          "output_type": "display_data",
          "data": {
            "image/png": "[encoded data removed]",
            "text/plain": [
              "<Figure size 720x1080 with 8 Axes>"
            ]
          },
          "metadata": {
            "tags": []
          }
        }
      ]
    },
    {
      "cell_type": "markdown",
      "metadata": {
        "id": "8JqmWLd8l17l",
        "colab_type": "text"
      },
      "source": [
        "**Observation:\n",
        "\n",
        "All numerical features are found to positively skewed except step feature.\n",
        "step feature contains random distribution of data**"
      ]
    },
    {
      "cell_type": "code",
      "metadata": {
        "id": "8Y5wuwbclmlu",
        "colab_type": "code",
        "colab": {
          "base_uri": "https://localhost:8080/",
          "height": 34
        },
        "outputId": "d4f8c3ff-95a5-4955-8f3e-971ff7f41a94"
      },
      "source": [
        "print('Contains Duplicate Rows?', data.duplicated().any())"
      ],
      "execution_count": 21,
      "outputs": [
        {
          "output_type": "stream",
          "text": [
            "Contains Duplicate Rows? False\n"
          ],
          "name": "stdout"
        }
      ]
    },
    {
      "cell_type": "code",
      "metadata": {
        "id": "CFccDvAkmIeC",
        "colab_type": "code",
        "colab": {}
      },
      "source": [
        "#Observation:\n",
        "\n",
        "#It turns out that there are no duplicate rows present in our data."
      ],
      "execution_count": 0,
      "outputs": []
    },
    {
      "cell_type": "code",
      "metadata": {
        "id": "hYknfQwjmXGA",
        "colab_type": "code",
        "colab": {
          "base_uri": "https://localhost:8080/",
          "height": 34
        },
        "outputId": "dac3390c-3241-4358-b198-0dd9c46cc8d2"
      },
      "source": [
        "def duplicateCols(dataframe):\n",
        "  '''Get a list of Duplicate valued Columns'''\n",
        "  names = set()\n",
        "  for i in range(dataframe.shape[1]):\n",
        "    col1 = dataframe.iloc[:, i]\n",
        "    for j in range(i+1, dataframe.shape[1]):\n",
        "      col2 = dataframe.iloc[:, j]\n",
        "      if col1.equals(col2):\n",
        "        names.add(dataframe.columns.values[j])\n",
        "\n",
        "  if (len(names) == 0):\n",
        "    return None\n",
        "  else:\n",
        "    return list(names)\n",
        "\n",
        "is_duplicate_cols = duplicateCols(data)\n",
        "print('Contains Duplicate Columns?', is_duplicate_cols)"
      ],
      "execution_count": 22,
      "outputs": [
        {
          "output_type": "stream",
          "text": [
            "Contains Duplicate Columns? None\n"
          ],
          "name": "stdout"
        }
      ]
    },
    {
      "cell_type": "markdown",
      "metadata": {
        "id": "o1SUdxv-muXm",
        "colab_type": "text"
      },
      "source": [
        "Observation:\n",
        "\n",
        "It turns out that there are no duplicate columns present in our data"
      ]
    },
    {
      "cell_type": "code",
      "metadata": {
        "id": "vE9Tz4klml_o",
        "colab_type": "code",
        "colab": {
          "base_uri": "https://localhost:8080/",
          "height": 77
        },
        "outputId": "45f9d358-879f-4c19-b7af-2c1afc5372d4"
      },
      "source": [
        "type_frame = pd.DataFrame(data = data.dtypes, columns = ['Type'])\n",
        "type_frame.transpose()"
      ],
      "execution_count": 23,
      "outputs": [
        {
          "output_type": "execute_result",
          "data": {
            "text/html": [
              "<div>\n",
              "<style scoped>\n",
              "    .dataframe tbody tr th:only-of-type {\n",
              "        vertical-align: middle;\n",
              "    }\n",
              "\n",
              "    .dataframe tbody tr th {\n",
              "        vertical-align: top;\n",
              "    }\n",
              "\n",
              "    .dataframe thead th {\n",
              "        text-align: right;\n",
              "    }\n",
              "</style>\n",
              "<table border=\"1\" class=\"dataframe\">\n",
              "  <thead>\n",
              "    <tr style=\"text-align: right;\">\n",
              "      <th></th>\n",
              "      <th>step</th>\n",
              "      <th>trans_type</th>\n",
              "      <th>trans_amount</th>\n",
              "      <th>sender_name</th>\n",
              "      <th>sender_old_bal</th>\n",
              "      <th>sender_new_bal</th>\n",
              "      <th>receiver</th>\n",
              "      <th>receiver_old_bal</th>\n",
              "      <th>receiver_new_bal</th>\n",
              "      <th>check_fraud</th>\n",
              "    </tr>\n",
              "  </thead>\n",
              "  <tbody>\n",
              "    <tr>\n",
              "      <th>Type</th>\n",
              "      <td>int64</td>\n",
              "      <td>object</td>\n",
              "      <td>float64</td>\n",
              "      <td>object</td>\n",
              "      <td>float64</td>\n",
              "      <td>float64</td>\n",
              "      <td>object</td>\n",
              "      <td>float64</td>\n",
              "      <td>float64</td>\n",
              "      <td>int64</td>\n",
              "    </tr>\n",
              "  </tbody>\n",
              "</table>\n",
              "</div>"
            ],
            "text/plain": [
              "       step trans_type trans_amount sender_name sender_old_bal sender_new_bal  \\\n",
              "Type  int64     object      float64      object        float64        float64   \n",
              "\n",
              "     receiver receiver_old_bal receiver_new_bal check_fraud  \n",
              "Type   object          float64          float64       int64  "
            ]
          },
          "metadata": {
            "tags": []
          },
          "execution_count": 23
        }
      ]
    },
    {
      "cell_type": "markdown",
      "metadata": {
        "id": "ILmj30cAncKk",
        "colab_type": "text"
      },
      "source": [
        "Observation:\n",
        "\n",
        "Following features contain inconsitent data type. A symbol → represents will be changed to:\n",
        "Feature [ Current Type → Desired Type ]\n",
        "check_fraud [ Integer → Boolean"
      ]
    },
    {
      "cell_type": "code",
      "metadata": {
        "id": "lssOMncim6UK",
        "colab_type": "code",
        "colab": {}
      },
      "source": [
        "data['check_fraud'] = data['check_fraud'].astype(bool)"
      ],
      "execution_count": 0,
      "outputs": []
    },
    {
      "cell_type": "code",
      "metadata": {
        "id": "Mmn_U55RnifI",
        "colab_type": "code",
        "colab": {
          "base_uri": "https://localhost:8080/",
          "height": 77
        },
        "outputId": "e5134399-af45-477f-f681-0293f0b102e5"
      },
      "source": [
        "type_frame = pd.DataFrame(data = data.dtypes, columns = ['Type'])\n",
        "type_frame.transpose()"
      ],
      "execution_count": 25,
      "outputs": [
        {
          "output_type": "execute_result",
          "data": {
            "text/html": [
              "<div>\n",
              "<style scoped>\n",
              "    .dataframe tbody tr th:only-of-type {\n",
              "        vertical-align: middle;\n",
              "    }\n",
              "\n",
              "    .dataframe tbody tr th {\n",
              "        vertical-align: top;\n",
              "    }\n",
              "\n",
              "    .dataframe thead th {\n",
              "        text-align: right;\n",
              "    }\n",
              "</style>\n",
              "<table border=\"1\" class=\"dataframe\">\n",
              "  <thead>\n",
              "    <tr style=\"text-align: right;\">\n",
              "      <th></th>\n",
              "      <th>step</th>\n",
              "      <th>trans_type</th>\n",
              "      <th>trans_amount</th>\n",
              "      <th>sender_name</th>\n",
              "      <th>sender_old_bal</th>\n",
              "      <th>sender_new_bal</th>\n",
              "      <th>receiver</th>\n",
              "      <th>receiver_old_bal</th>\n",
              "      <th>receiver_new_bal</th>\n",
              "      <th>check_fraud</th>\n",
              "    </tr>\n",
              "  </thead>\n",
              "  <tbody>\n",
              "    <tr>\n",
              "      <th>Type</th>\n",
              "      <td>int64</td>\n",
              "      <td>object</td>\n",
              "      <td>float64</td>\n",
              "      <td>object</td>\n",
              "      <td>float64</td>\n",
              "      <td>float64</td>\n",
              "      <td>object</td>\n",
              "      <td>float64</td>\n",
              "      <td>float64</td>\n",
              "      <td>bool</td>\n",
              "    </tr>\n",
              "  </tbody>\n",
              "</table>\n",
              "</div>"
            ],
            "text/plain": [
              "       step trans_type trans_amount sender_name sender_old_bal sender_new_bal  \\\n",
              "Type  int64     object      float64      object        float64        float64   \n",
              "\n",
              "     receiver receiver_old_bal receiver_new_bal check_fraud  \n",
              "Type   object          float64          float64        bool  "
            ]
          },
          "metadata": {
            "tags": []
          },
          "execution_count": 25
        }
      ]
    },
    {
      "cell_type": "markdown",
      "metadata": {
        "id": "BQxo_A8QnpUc",
        "colab_type": "text"
      },
      "source": [
        "** General Transactional Analysis**"
      ]
    },
    {
      "cell_type": "markdown",
      "metadata": {
        "id": "bkbpLd58nwb3",
        "colab_type": "text"
      },
      "source": [
        "**Question 1: What is the frequency & proportion of each transaction type that has occured?**"
      ]
    },
    {
      "cell_type": "code",
      "metadata": {
        "id": "94BGVmJfnknZ",
        "colab_type": "code",
        "colab": {
          "base_uri": "https://localhost:8080/",
          "height": 197
        },
        "outputId": "ddf455a9-d388-490b-982a-93b78c5aa599"
      },
      "source": [
        "trans_type_frame=pd.DataFrame(data=data[\"trans_type\"].value_counts())\n",
        "trans_type_frame"
      ],
      "execution_count": 29,
      "outputs": [
        {
          "output_type": "execute_result",
          "data": {
            "text/html": [
              "<div>\n",
              "<style scoped>\n",
              "    .dataframe tbody tr th:only-of-type {\n",
              "        vertical-align: middle;\n",
              "    }\n",
              "\n",
              "    .dataframe tbody tr th {\n",
              "        vertical-align: top;\n",
              "    }\n",
              "\n",
              "    .dataframe thead th {\n",
              "        text-align: right;\n",
              "    }\n",
              "</style>\n",
              "<table border=\"1\" class=\"dataframe\">\n",
              "  <thead>\n",
              "    <tr style=\"text-align: right;\">\n",
              "      <th></th>\n",
              "      <th>trans_type</th>\n",
              "    </tr>\n",
              "  </thead>\n",
              "  <tbody>\n",
              "    <tr>\n",
              "      <th>CASH_OUT</th>\n",
              "      <td>2237500</td>\n",
              "    </tr>\n",
              "    <tr>\n",
              "      <th>PAYMENT</th>\n",
              "      <td>2151495</td>\n",
              "    </tr>\n",
              "    <tr>\n",
              "      <th>CASH_IN</th>\n",
              "      <td>1399284</td>\n",
              "    </tr>\n",
              "    <tr>\n",
              "      <th>TRANSFER</th>\n",
              "      <td>532909</td>\n",
              "    </tr>\n",
              "    <tr>\n",
              "      <th>DEBIT</th>\n",
              "      <td>41432</td>\n",
              "    </tr>\n",
              "  </tbody>\n",
              "</table>\n",
              "</div>"
            ],
            "text/plain": [
              "          trans_type\n",
              "CASH_OUT     2237500\n",
              "PAYMENT      2151495\n",
              "CASH_IN      1399284\n",
              "TRANSFER      532909\n",
              "DEBIT          41432"
            ]
          },
          "metadata": {
            "tags": []
          },
          "execution_count": 29
        }
      ]
    },
    {
      "cell_type": "code",
      "metadata": {
        "id": "NQZK_WjNohy0",
        "colab_type": "code",
        "colab": {
          "base_uri": "https://localhost:8080/",
          "height": 77
        },
        "outputId": "937d3ce7-cb13-4d0d-8ee3-69d38f00957f"
      },
      "source": [
        "trans_type_frame.columns=[\"frequency\"]\n",
        "trans_type_frame.T"
      ],
      "execution_count": 30,
      "outputs": [
        {
          "output_type": "execute_result",
          "data": {
            "text/html": [
              "<div>\n",
              "<style scoped>\n",
              "    .dataframe tbody tr th:only-of-type {\n",
              "        vertical-align: middle;\n",
              "    }\n",
              "\n",
              "    .dataframe tbody tr th {\n",
              "        vertical-align: top;\n",
              "    }\n",
              "\n",
              "    .dataframe thead th {\n",
              "        text-align: right;\n",
              "    }\n",
              "</style>\n",
              "<table border=\"1\" class=\"dataframe\">\n",
              "  <thead>\n",
              "    <tr style=\"text-align: right;\">\n",
              "      <th></th>\n",
              "      <th>CASH_OUT</th>\n",
              "      <th>PAYMENT</th>\n",
              "      <th>CASH_IN</th>\n",
              "      <th>TRANSFER</th>\n",
              "      <th>DEBIT</th>\n",
              "    </tr>\n",
              "  </thead>\n",
              "  <tbody>\n",
              "    <tr>\n",
              "      <th>frequency</th>\n",
              "      <td>2237500</td>\n",
              "      <td>2151495</td>\n",
              "      <td>1399284</td>\n",
              "      <td>532909</td>\n",
              "      <td>41432</td>\n",
              "    </tr>\n",
              "  </tbody>\n",
              "</table>\n",
              "</div>"
            ],
            "text/plain": [
              "           CASH_OUT  PAYMENT  CASH_IN  TRANSFER  DEBIT\n",
              "frequency   2237500  2151495  1399284    532909  41432"
            ]
          },
          "metadata": {
            "tags": []
          },
          "execution_count": 30
        }
      ]
    },
    {
      "cell_type": "code",
      "metadata": {
        "id": "Gb18UiF_pYmB",
        "colab_type": "code",
        "colab": {
          "base_uri": "https://localhost:8080/",
          "height": 508
        },
        "outputId": "90798b82-88df-4980-da45-5d2c1fe7e993"
      },
      "source": [
        "colors_list = ['gold', 'yellowgreen', 'lightcoral', 'lightskyblue', 'lightgreen']\n",
        "figure = plt.figure(figsize = [13.66, 7.3])\n",
        "plt.subplot(1, 2, 1)\n",
        "sns.barplot(data['trans_type'].value_counts().index, data['trans_type'].value_counts(), palette  = colors_list)\n",
        "plt.yticks(range(0, 2300000, 100000))\n",
        "plt.xlabel('Transaction Type', size = 14)\n",
        "plt.ylabel('Frequency', size = 14)\n",
        "plt.title('Frequency occurence of each transaction type', y=1.05, size = 16)\n",
        "\n",
        "explode_list = [0.1, 0, 0, 0, 0.1]\n",
        "\n",
        "plt.subplot(1, 2, 2)\n",
        "data['trans_type'].value_counts().plot(kind='pie', figsize=[13.66, 7.3], autopct='%1.1f%%', \n",
        "                                       startangle=90, shadow=True, labels=None, pctdistance=1.12, colors=colors_list, explode=explode_list)\n",
        "plt.title('Proportion of each transaction type', y=1.05, size = 16)\n",
        "plt.ylabel('')\n",
        "plt.axis('equal')\n",
        "plt.legend(labels = data['trans_type'].value_counts().index, loc = 'upper left', frameon=False)\n",
        "plt.tight_layout(pad=2.0)\n",
        "plt.show()"
      ],
      "execution_count": 31,
      "outputs": [
        {
          "output_type": "display_data",
          "data": {
            "image/png": "[encoded data removed]",
            "text/plain": [
              "<Figure size 983.52x525.6 with 2 Axes>"
            ]
          },
          "metadata": {
            "tags": []
          }
        }
      ]
    },
    {
      "cell_type": "markdown",
      "metadata": {
        "id": "u-8ry_4pplwt",
        "colab_type": "text"
      },
      "source": [
        "Observation:\n",
        "\n",
        "We can see that CASH_OUT transactions occured more than any other type of transaction in i.e. around 35%."
      ]
    },
    {
      "cell_type": "markdown",
      "metadata": {
        "id": "61AZLGyUrcWp",
        "colab_type": "text"
      },
      "source": [
        "**Question 2: What is the average amount that has been transfered using each transaction type?**"
      ]
    },
    {
      "cell_type": "code",
      "metadata": {
        "id": "w5zuJqBTtW85",
        "colab_type": "code",
        "colab": {
          "base_uri": "https://localhost:8080/",
          "height": 167
        },
        "outputId": "0a0c7160-47d2-4442-ccb3-51243736e95d"
      },
      "source": [
        "frame = data[['trans_type', 'trans_amount']].groupby('trans_type').mean().reset_index()\n",
        "trans_amount_frame = pd.DataFrame(frame)\n",
        "frame.columns = ['Transaction Type', 'Average Transacted Amount']\n",
        "trans_amount_frame['Total Sum Amount'] = data[['trans_type', 'trans_amount']].groupby('trans_type').agg('sum').values\n",
        "trans_amount_frame['Total Transactions'] = data[['trans_type', 'trans_amount']].groupby('trans_type').count().values\n",
        "trans_amount_frame.transpose()"
      ],
      "execution_count": 36,
      "outputs": [
        {
          "output_type": "execute_result",
          "data": {
            "text/html": [
              "<div>\n",
              "<style scoped>\n",
              "    .dataframe tbody tr th:only-of-type {\n",
              "        vertical-align: middle;\n",
              "    }\n",
              "\n",
              "    .dataframe tbody tr th {\n",
              "        vertical-align: top;\n",
              "    }\n",
              "\n",
              "    .dataframe thead th {\n",
              "        text-align: right;\n",
              "    }\n",
              "</style>\n",
              "<table border=\"1\" class=\"dataframe\">\n",
              "  <thead>\n",
              "    <tr style=\"text-align: right;\">\n",
              "      <th></th>\n",
              "      <th>0</th>\n",
              "      <th>1</th>\n",
              "      <th>2</th>\n",
              "      <th>3</th>\n",
              "      <th>4</th>\n",
              "    </tr>\n",
              "  </thead>\n",
              "  <tbody>\n",
              "    <tr>\n",
              "      <th>Transaction Type</th>\n",
              "      <td>CASH_IN</td>\n",
              "      <td>CASH_OUT</td>\n",
              "      <td>DEBIT</td>\n",
              "      <td>PAYMENT</td>\n",
              "      <td>TRANSFER</td>\n",
              "    </tr>\n",
              "    <tr>\n",
              "      <th>Average Transacted Amount</th>\n",
              "      <td>168920</td>\n",
              "      <td>176274</td>\n",
              "      <td>5483.67</td>\n",
              "      <td>13057.6</td>\n",
              "      <td>910647</td>\n",
              "    </tr>\n",
              "    <tr>\n",
              "      <th>Total Sum Amount</th>\n",
              "      <td>2.36367e+11</td>\n",
              "      <td>3.94413e+11</td>\n",
              "      <td>2.27199e+08</td>\n",
              "      <td>2.80934e+10</td>\n",
              "      <td>4.85292e+11</td>\n",
              "    </tr>\n",
              "    <tr>\n",
              "      <th>Total Transactions</th>\n",
              "      <td>1399284</td>\n",
              "      <td>2237500</td>\n",
              "      <td>41432</td>\n",
              "      <td>2151495</td>\n",
              "      <td>532909</td>\n",
              "    </tr>\n",
              "  </tbody>\n",
              "</table>\n",
              "</div>"
            ],
            "text/plain": [
              "                                     0            1            2            3  \\\n",
              "Transaction Type               CASH_IN     CASH_OUT        DEBIT      PAYMENT   \n",
              "Average Transacted Amount       168920       176274      5483.67      13057.6   \n",
              "Total Sum Amount           2.36367e+11  3.94413e+11  2.27199e+08  2.80934e+10   \n",
              "Total Transactions             1399284      2237500        41432      2151495   \n",
              "\n",
              "                                     4  \n",
              "Transaction Type              TRANSFER  \n",
              "Average Transacted Amount       910647  \n",
              "Total Sum Amount           4.85292e+11  \n",
              "Total Transactions              532909  "
            ]
          },
          "metadata": {
            "tags": []
          },
          "execution_count": 36
        }
      ]
    },
    {
      "cell_type": "code",
      "metadata": {
        "id": "NEfrrmegtqN3",
        "colab_type": "code",
        "colab": {
          "base_uri": "https://localhost:8080/",
          "height": 518
        },
        "outputId": "b3462c19-85dd-431f-affa-03e20d01a09b"
      },
      "source": [
        "figure = plt.figure(figsize = [12, 8])\n",
        "ax = sns.barplot(x = 'Transaction Type', y = 'Average Transacted Amount', data = trans_amount_frame)\n",
        "\n",
        "plt.xlabel('Transaction Type', size = 14)\n",
        "plt.ylabel('Transaction Amount', size = 14)\n",
        "plt.yticks(range(0, 1000000, 50000))\n",
        "plt.title('Average Transaction Amount per Type', size = 16)\n",
        "plt.show()"
      ],
      "execution_count": 37,
      "outputs": [
        {
          "output_type": "display_data",
          "data": {
            "image/png": "[encoded data removed]",
            "text/plain": [
              "<Figure size 864x576 with 1 Axes>"
            ]
          },
          "metadata": {
            "tags": []
          }
        }
      ]
    },
    {
      "cell_type": "markdown",
      "metadata": {
        "id": "r8Ce8pbct16a",
        "colab_type": "text"
      },
      "source": [
        "Observation:\n",
        "\n",
        "From above it is clearly visible that on average most of the money has moved to and fro on TRANSFER type of transactions i.e.  $ 910647 dollars."
      ]
    },
    {
      "cell_type": "markdown",
      "metadata": {
        "id": "OkEQ6wxRt6mN",
        "colab_type": "text"
      },
      "source": [
        "**Question 3: What is the proportion of customers who are fraud and who are not?**"
      ]
    },
    {
      "cell_type": "code",
      "metadata": {
        "id": "9sRFi71ktu-K",
        "colab_type": "code",
        "colab": {
          "base_uri": "https://localhost:8080/",
          "height": 501
        },
        "outputId": "e9d16136-2958-4fa5-a6c4-c3c8e3d3d6c3"
      },
      "source": [
        "print('Customers who are not fraud:', data['check_fraud'].value_counts()[0])\n",
        "print('Customers who are fraud:', data['check_fraud'].value_counts()[1])\n",
        "\n",
        "space = np.ones(2)/10\n",
        "data['check_fraud'].value_counts().plot(kind = 'pie', explode = space, fontsize = 14, autopct = '%3.1f%%', wedgeprops = dict(width=0.15), \n",
        "                                    shadow = True, startangle = 160, figsize = [13.66, 7.68], legend = True)\n",
        "plt.legend(['Not Fraud', 'Fraud'])\n",
        "plt.ylabel('Category', size = 14)\n",
        "plt.title('Proportion of fraudulent customers', size = 16)\n",
        "plt.show()"
      ],
      "execution_count": 38,
      "outputs": [
        {
          "output_type": "stream",
          "text": [
            "Customers who are not fraud: 6354407\n",
            "Customers who are fraud: 8213\n"
          ],
          "name": "stdout"
        },
        {
          "output_type": "display_data",
          "data": {
            "image/png": "[encoded data removed]",
            "text/plain": [
              "<Figure size 983.52x552.96 with 1 Axes>"
            ]
          },
          "metadata": {
            "tags": []
          }
        }
      ]
    },
    {
      "cell_type": "markdown",
      "metadata": {
        "id": "ZYTPx9Z5uJoZ",
        "colab_type": "text"
      },
      "source": [
        "Observation:\n",
        "\n",
        "As it can be seen that there is high imbalance in clases.\n",
        "Only 0.1% of transactions are fraudulent with respect to all other transactions."
      ]
    },
    {
      "cell_type": "markdown",
      "metadata": {
        "id": "ZOf4aGBluaDl",
        "colab_type": "text"
      },
      "source": [
        "**Question 4: What is the frequency distribution of transactions types happened with respect to customer being fraud?**"
      ]
    },
    {
      "cell_type": "code",
      "metadata": {
        "id": "-T9cloQiuffN",
        "colab_type": "code",
        "colab": {
          "base_uri": "https://localhost:8080/",
          "height": 525
        },
        "outputId": "bcbb600c-2e5e-4aa6-f48e-a1f979816b2b"
      },
      "source": [
        "plt.figure(figsize = [12, 8])\n",
        "\n",
        "sns.countplot(x = 'trans_type', hue = 'check_fraud', data = data, palette = ['#42f56c', '#f54242'])"
      ],
      "execution_count": 40,
      "outputs": [
        {
          "output_type": "execute_result",
          "data": {
            "text/plain": [
              "<matplotlib.axes._subplots.AxesSubplot at 0x7fa9e334eda0>"
            ]
          },
          "metadata": {
            "tags": []
          },
          "execution_count": 40
        },
        {
          "output_type": "display_data",
          "data": {
            "image/png": "[encoded data removed]",
            "text/plain": [
              "<Figure size 864x576 with 1 Axes>"
            ]
          },
          "metadata": {
            "tags": []
          }
        }
      ]
    },
    {
      "cell_type": "markdown",
      "metadata": {
        "id": "DkmmZGBa0aH1",
        "colab_type": "text"
      },
      "source": [
        "From the above visual it can be easily interpreted that fruaudulent transactions happened only in CASH_OUT and TRANSFER type of transactions. So we will focus more deeply on these type of transactions."
      ]
    },
    {
      "cell_type": "code",
      "metadata": {
        "id": "emtIFhtlvEtm",
        "colab_type": "code",
        "colab": {
          "base_uri": "https://localhost:8080/",
          "height": 107
        },
        "outputId": "ef6adbf9-ade5-4576-9868-62eb18f3d504"
      },
      "source": [
        "data.head(2)"
      ],
      "execution_count": 41,
      "outputs": [
        {
          "output_type": "execute_result",
          "data": {
            "text/html": [
              "<div>\n",
              "<style scoped>\n",
              "    .dataframe tbody tr th:only-of-type {\n",
              "        vertical-align: middle;\n",
              "    }\n",
              "\n",
              "    .dataframe tbody tr th {\n",
              "        vertical-align: top;\n",
              "    }\n",
              "\n",
              "    .dataframe thead th {\n",
              "        text-align: right;\n",
              "    }\n",
              "</style>\n",
              "<table border=\"1\" class=\"dataframe\">\n",
              "  <thead>\n",
              "    <tr style=\"text-align: right;\">\n",
              "      <th></th>\n",
              "      <th>step</th>\n",
              "      <th>trans_type</th>\n",
              "      <th>trans_amount</th>\n",
              "      <th>sender_name</th>\n",
              "      <th>sender_old_bal</th>\n",
              "      <th>sender_new_bal</th>\n",
              "      <th>receiver</th>\n",
              "      <th>receiver_old_bal</th>\n",
              "      <th>receiver_new_bal</th>\n",
              "      <th>check_fraud</th>\n",
              "    </tr>\n",
              "  </thead>\n",
              "  <tbody>\n",
              "    <tr>\n",
              "      <th>0</th>\n",
              "      <td>1</td>\n",
              "      <td>PAYMENT</td>\n",
              "      <td>9839.64</td>\n",
              "      <td>C1231006815</td>\n",
              "      <td>170136.0</td>\n",
              "      <td>160296.36</td>\n",
              "      <td>M1979787155</td>\n",
              "      <td>0.0</td>\n",
              "      <td>0.0</td>\n",
              "      <td>False</td>\n",
              "    </tr>\n",
              "    <tr>\n",
              "      <th>1</th>\n",
              "      <td>1</td>\n",
              "      <td>PAYMENT</td>\n",
              "      <td>1864.28</td>\n",
              "      <td>C1666544295</td>\n",
              "      <td>21249.0</td>\n",
              "      <td>19384.72</td>\n",
              "      <td>M2044282225</td>\n",
              "      <td>0.0</td>\n",
              "      <td>0.0</td>\n",
              "      <td>False</td>\n",
              "    </tr>\n",
              "  </tbody>\n",
              "</table>\n",
              "</div>"
            ],
            "text/plain": [
              "   step trans_type  trans_amount  sender_name  sender_old_bal  sender_new_bal  \\\n",
              "0     1    PAYMENT       9839.64  C1231006815        170136.0       160296.36   \n",
              "1     1    PAYMENT       1864.28  C1666544295         21249.0        19384.72   \n",
              "\n",
              "      receiver  receiver_old_bal  receiver_new_bal  check_fraud  \n",
              "0  M1979787155               0.0               0.0        False  \n",
              "1  M2044282225               0.0               0.0        False  "
            ]
          },
          "metadata": {
            "tags": []
          },
          "execution_count": 41
        }
      ]
    },
    {
      "cell_type": "code",
      "metadata": {
        "id": "uudZsGCp14dN",
        "colab_type": "code",
        "colab": {
          "base_uri": "https://localhost:8080/",
          "height": 52
        },
        "outputId": "6f5d7924-c7ed-47cd-ae21-082e351c74c8"
      },
      "source": [
        "min_amount = data.loc[data['check_fraud'] == 1]['trans_amount'].min()\n",
        "max_amount = data.loc[data['check_fraud'] == 1]['trans_amount'].max()\n",
        "print('Minimum amount transacted as fraudulent =', min_amount)\n",
        "print('Maximum amount transacted as fraudulent =', max_amount)"
      ],
      "execution_count": 46,
      "outputs": [
        {
          "output_type": "stream",
          "text": [
            "Minimum amount transacted as fraudulent = 0.0\n",
            "Maximum amount transacted as fraudulent = 10000000.0\n"
          ],
          "name": "stdout"
        }
      ]
    },
    {
      "cell_type": "markdown",
      "metadata": {
        "id": "-2ClDd1H25EL",
        "colab_type": "text"
      },
      "source": [
        "**Question 6: What is the minimumn & maximum transaction amount identified as non-fraudulent transaction?**"
      ]
    },
    {
      "cell_type": "code",
      "metadata": {
        "id": "WfgzsNCZ2DzL",
        "colab_type": "code",
        "colab": {
          "base_uri": "https://localhost:8080/",
          "height": 52
        },
        "outputId": "37b943a2-c353-4ae3-fba2-73596e562b7f"
      },
      "source": [
        "min_amount = data.loc[data['check_fraud'] == 0]['trans_amount'].min()\n",
        "max_amount = data.loc[data['check_fraud'] == 0]['trans_amount'].max()\n",
        "print('Minimum amount transacted fails to identify as fraudulent =', min_amount)\n",
        "print('Maximum amount transacted fails to identify as fraudulent =', max_amount)"
      ],
      "execution_count": 47,
      "outputs": [
        {
          "output_type": "stream",
          "text": [
            "Minimum amount transacted fails to identify as fraudulent = 0.01\n",
            "Maximum amount transacted fails to identify as fraudulent = 92445516.64\n"
          ],
          "name": "stdout"
        }
      ]
    },
    {
      "cell_type": "markdown",
      "metadata": {
        "id": "MgqfnCbC3p3k",
        "colab_type": "text"
      },
      "source": [
        "We can see that most of the fraudulent transactions happened in TRANSFER & CASH_OUT type. So let's analyze TRANSFER type of transactions."
      ]
    },
    {
      "cell_type": "code",
      "metadata": {
        "id": "0zIztHXY292-",
        "colab_type": "code",
        "colab": {
          "base_uri": "https://localhost:8080/",
          "height": 271
        },
        "outputId": "c5a5242a-2fe7-492c-87e4-bc0f5ae4e757"
      },
      "source": [
        "data_transfer = data[data['trans_type'] == 'TRANSFER']\n",
        "data_flagged = data[data['check_fraud'] == 1]\n",
        "data_notflagged = data[data['check_fraud'] == 0]\n",
        "print('TRANSFER Data Shape:', data_transfer.shape)\n",
        "print('Flagged data Shape:', data_flagged.shape)\n",
        "print('Not Flagged data Shape:', data_notflagged.shape)\n",
        "data_transfer.head()"
      ],
      "execution_count": 48,
      "outputs": [
        {
          "output_type": "stream",
          "text": [
            "TRANSFER Data Shape: (532909, 10)\n",
            "Flagged data Shape: (8213, 10)\n",
            "Not Flagged data Shape: (6354407, 10)\n"
          ],
          "name": "stdout"
        },
        {
          "output_type": "execute_result",
          "data": {
            "text/html": [
              "<div>\n",
              "<style scoped>\n",
              "    .dataframe tbody tr th:only-of-type {\n",
              "        vertical-align: middle;\n",
              "    }\n",
              "\n",
              "    .dataframe tbody tr th {\n",
              "        vertical-align: top;\n",
              "    }\n",
              "\n",
              "    .dataframe thead th {\n",
              "        text-align: right;\n",
              "    }\n",
              "</style>\n",
              "<table border=\"1\" class=\"dataframe\">\n",
              "  <thead>\n",
              "    <tr style=\"text-align: right;\">\n",
              "      <th></th>\n",
              "      <th>step</th>\n",
              "      <th>trans_type</th>\n",
              "      <th>trans_amount</th>\n",
              "      <th>sender_name</th>\n",
              "      <th>sender_old_bal</th>\n",
              "      <th>sender_new_bal</th>\n",
              "      <th>receiver</th>\n",
              "      <th>receiver_old_bal</th>\n",
              "      <th>receiver_new_bal</th>\n",
              "      <th>check_fraud</th>\n",
              "    </tr>\n",
              "  </thead>\n",
              "  <tbody>\n",
              "    <tr>\n",
              "      <th>2</th>\n",
              "      <td>1</td>\n",
              "      <td>TRANSFER</td>\n",
              "      <td>181.00</td>\n",
              "      <td>C1305486145</td>\n",
              "      <td>181.00</td>\n",
              "      <td>0.0</td>\n",
              "      <td>C553264065</td>\n",
              "      <td>0.00</td>\n",
              "      <td>0.00</td>\n",
              "      <td>True</td>\n",
              "    </tr>\n",
              "    <tr>\n",
              "      <th>19</th>\n",
              "      <td>1</td>\n",
              "      <td>TRANSFER</td>\n",
              "      <td>215310.30</td>\n",
              "      <td>C1670993182</td>\n",
              "      <td>705.00</td>\n",
              "      <td>0.0</td>\n",
              "      <td>C1100439041</td>\n",
              "      <td>22425.00</td>\n",
              "      <td>0.00</td>\n",
              "      <td>False</td>\n",
              "    </tr>\n",
              "    <tr>\n",
              "      <th>24</th>\n",
              "      <td>1</td>\n",
              "      <td>TRANSFER</td>\n",
              "      <td>311685.89</td>\n",
              "      <td>C1984094095</td>\n",
              "      <td>10835.00</td>\n",
              "      <td>0.0</td>\n",
              "      <td>C932583850</td>\n",
              "      <td>6267.00</td>\n",
              "      <td>2719172.89</td>\n",
              "      <td>False</td>\n",
              "    </tr>\n",
              "    <tr>\n",
              "      <th>58</th>\n",
              "      <td>1</td>\n",
              "      <td>TRANSFER</td>\n",
              "      <td>62610.80</td>\n",
              "      <td>C1976401987</td>\n",
              "      <td>79114.00</td>\n",
              "      <td>16503.2</td>\n",
              "      <td>C1937962514</td>\n",
              "      <td>517.00</td>\n",
              "      <td>8383.29</td>\n",
              "      <td>False</td>\n",
              "    </tr>\n",
              "    <tr>\n",
              "      <th>78</th>\n",
              "      <td>1</td>\n",
              "      <td>TRANSFER</td>\n",
              "      <td>42712.39</td>\n",
              "      <td>C283039401</td>\n",
              "      <td>10363.39</td>\n",
              "      <td>0.0</td>\n",
              "      <td>C1330106945</td>\n",
              "      <td>57901.66</td>\n",
              "      <td>24044.18</td>\n",
              "      <td>False</td>\n",
              "    </tr>\n",
              "  </tbody>\n",
              "</table>\n",
              "</div>"
            ],
            "text/plain": [
              "    step trans_type  trans_amount  sender_name  sender_old_bal  \\\n",
              "2      1   TRANSFER        181.00  C1305486145          181.00   \n",
              "19     1   TRANSFER     215310.30  C1670993182          705.00   \n",
              "24     1   TRANSFER     311685.89  C1984094095        10835.00   \n",
              "58     1   TRANSFER      62610.80  C1976401987        79114.00   \n",
              "78     1   TRANSFER      42712.39   C283039401        10363.39   \n",
              "\n",
              "    sender_new_bal     receiver  receiver_old_bal  receiver_new_bal  \\\n",
              "2              0.0   C553264065              0.00              0.00   \n",
              "19             0.0  C1100439041          22425.00              0.00   \n",
              "24             0.0   C932583850           6267.00        2719172.89   \n",
              "58         16503.2  C1937962514            517.00           8383.29   \n",
              "78             0.0  C1330106945          57901.66          24044.18   \n",
              "\n",
              "    check_fraud  \n",
              "2          True  \n",
              "19        False  \n",
              "24        False  \n",
              "58        False  \n",
              "78        False  "
            ]
          },
          "metadata": {
            "tags": []
          },
          "execution_count": 48
        }
      ]
    },
    {
      "cell_type": "code",
      "metadata": {
        "id": "4lbvZdyT3suk",
        "colab_type": "code",
        "colab": {}
      },
      "source": [
        ""
      ],
      "execution_count": 0,
      "outputs": []
    },
    {
      "cell_type": "markdown",
      "metadata": {
        "id": "nCi1m-9331tg",
        "colab_type": "text"
      },
      "source": [
        "Let's analyze the features assocation in TRANSFER type of transaction."
      ]
    },
    {
      "cell_type": "code",
      "metadata": {
        "id": "_IWaBNIK32Vy",
        "colab_type": "code",
        "colab": {
          "base_uri": "https://localhost:8080/",
          "height": 501
        },
        "outputId": "e52588bb-acb0-4440-8809-8a42a6752c5a"
      },
      "source": [
        "figure = plt.figure(figsize = [12, 8])\n",
        "sns.heatmap(data = data_transfer.corr(), annot = True, cmap = 'YlGnBu')\n",
        "plt.title('Correlation between Features', size = 16)\n",
        "plt.show()"
      ],
      "execution_count": 49,
      "outputs": [
        {
          "output_type": "display_data",
          "data": {
            "image/png": "[encoded data removed]",
            "text/plain": [
              "<Figure size 864x576 with 2 Axes>"
            ]
          },
          "metadata": {
            "tags": []
          }
        }
      ]
    },
    {
      "cell_type": "markdown",
      "metadata": {
        "id": "ucRJT2ws37nE",
        "colab_type": "text"
      },
      "source": [
        "Observation:\n",
        "\n",
        "trans_amount and receiver_new_bal feature seems to be moderately correlated.\n",
        "sender_old_bal and sender_new_bal feature seems to be highly correlated.\n",
        "receiver_old_bal and receiver_new_bal feature seems to be highly correlated as well."
      ]
    },
    {
      "cell_type": "markdown",
      "metadata": {
        "id": "duXBkJX04kBb",
        "colab_type": "text"
      },
      "source": [
        "**Question 7: How much money has been laundered at different amounts of chunks?**"
      ]
    },
    {
      "cell_type": "code",
      "metadata": {
        "id": "363iIOOI34WH",
        "colab_type": "code",
        "colab": {
          "base_uri": "https://localhost:8080/",
          "height": 582
        },
        "outputId": "abfb5554-25b8-46d9-e000-06cb280e09a0"
      },
      "source": [
        "figure = plt.figure(figsize = [12, 8])\n",
        "plt.subplot(2, 2, 1)\n",
        "sns.boxplot(x = 'check_fraud', y = 'trans_amount', data = data[data['trans_amount'] < 2e5])\n",
        "plt.xlabel('check_fraud', size = 14)\n",
        "plt.ylabel('trans_amount', size = 14)\n",
        "plt.title('Laundered Amount < 2e5', size = 16)\n",
        "\n",
        "plt.subplot(2, 2, 2)\n",
        "sns.boxplot(x = 'check_fraud', y = 'trans_amount', data = data[(data['trans_amount'] > 2e5) & (data['trans_amount'] < 10e5)])\n",
        "plt.xlabel('check_fraud', size = 14)\n",
        "plt.ylabel('trans_amount', size = 14)\n",
        "plt.title('2e5 < Laundered Amount < 10e5', size = 16)\n",
        "\n",
        "plt.subplot(2, 2, 3)\n",
        "sns.boxplot(x = 'check_fraud', y = 'trans_amount', data = data[(data['trans_amount'] > 10e5) & (data['trans_amount'] < 20e5)])\n",
        "plt.xlabel('check_fraud', size = 14)\n",
        "plt.ylabel('trans_amount', size = 14)\n",
        "plt.title('10e5 < Laundered Amount < 20e5', size = 16)\n",
        "\n",
        "plt.subplot(2, 2, 4)\n",
        "sns.boxplot(x = 'check_fraud', y = 'trans_amount', data = data[(data['trans_amount'] > 20e5) & (data['trans_amount'] < 40e5)])\n",
        "plt.xlabel('check_fraud', size = 14)\n",
        "plt.ylabel('trans_amount', size = 14)\n",
        "plt.title('20e5 < Laundered Amount < 40e5', size = 16)\n",
        "\n",
        "plt.suptitle('Transacted Amount at different chunk sizes', size = 18, y = 1.02)\n",
        "plt.tight_layout(pad = 3.0)\n",
        "plt.show()"
      ],
      "execution_count": 50,
      "outputs": [
        {
          "output_type": "display_data",
          "data": {
            "image/png": "[encoded data removed]",
            "text/plain": [
              "<Figure size 864x576 with 4 Axes>"
            ]
          },
          "metadata": {
            "tags": []
          }
        }
      ]
    },
    {
      "cell_type": "markdown",
      "metadata": {
        "id": "qG66bj_wJJJZ",
        "colab_type": "text"
      },
      "source": [
        "Observation:\n",
        "\n",
        "We can see that the median values of being fraud are high than the median values of not fraud.\n",
        "But we're not able to make any much inference so let's explore further."
      ]
    },
    {
      "cell_type": "code",
      "metadata": {
        "id": "h90UYXbk4o_u",
        "colab_type": "code",
        "colab": {
          "base_uri": "https://localhost:8080/",
          "height": 87
        },
        "outputId": "b295968e-bff3-405f-9431-f778aa6959de"
      },
      "source": [
        "print('(check_fraud = 1, Min):', data_transfer[data_transfer['check_fraud'] == 1]['sender_old_bal'].min())\n",
        "print('(check_fraud = 1, Max):', data_transfer[data_transfer['check_fraud'] == 1]['sender_old_bal'].max())\n",
        "print('(check_fraud = 0, Min):', data_transfer[data_transfer['check_fraud'] == 0]['sender_old_bal'].min())\n",
        "print('(check_fraud = 0, Max):', data_transfer[data_transfer['check_fraud'] == 0]['sender_old_bal'].max())"
      ],
      "execution_count": 51,
      "outputs": [
        {
          "output_type": "stream",
          "text": [
            "(check_fraud = 1, Min): 0.0\n",
            "(check_fraud = 1, Max): 59585040.37\n",
            "(check_fraud = 0, Min): 0.0\n",
            "(check_fraud = 0, Max): 25908675.06\n"
          ],
          "name": "stdout"
        }
      ]
    },
    {
      "cell_type": "markdown",
      "metadata": {
        "id": "_19ztRblLp97",
        "colab_type": "text"
      },
      "source": [
        "Observation:\n",
        "\n",
        "We saw that in TRANSFER type of data -\n",
        "\n",
        "(Non-Fraudulent): The minimum amount of sender side was 0 while maximum amount was ~26 million dollars.\n",
        "(Fraudulent): The minimum amount of sender side was 0 while maximum amount was ~59 million dollars.\n",
        "In the next section we will analyze the data around merchant and customer & how fraudster commited fruad."
      ]
    },
    {
      "cell_type": "markdown",
      "metadata": {
        "id": "ciUCJUvMLt2l",
        "colab_type": "text"
      },
      "source": [
        "**Customer & Merchant Transactional Analysis**"
      ]
    },
    {
      "cell_type": "markdown",
      "metadata": {
        "id": "Ef0R9QekL2W0",
        "colab_type": "text"
      },
      "source": [
        "**Question 1: Have the receiver side of transactions been flagged as fraud inititated by other transactions?**"
      ]
    },
    {
      "cell_type": "code",
      "metadata": {
        "id": "0BzYMEnBKPZT",
        "colab_type": "code",
        "colab": {
          "base_uri": "https://localhost:8080/",
          "height": 34
        },
        "outputId": "61a40a52-4412-48a3-9977-f9983b0cde5e"
      },
      "source": [
        "print(data_flagged[\"receiver\"].isin (data_notflagged[\"sender_name\"]).any())"
      ],
      "execution_count": 58,
      "outputs": [
        {
          "output_type": "stream",
          "text": [
            "True\n"
          ],
          "name": "stdout"
        }
      ]
    },
    {
      "cell_type": "code",
      "metadata": {
        "id": "kDZM-qvoNSPk",
        "colab_type": "code",
        "colab": {
          "base_uri": "https://localhost:8080/",
          "height": 34
        },
        "outputId": "00f58a3c-9c4a-4180-f005-f49c13fea202"
      },
      "source": [
        "print(data_flagged[\"receiver\"].isin(data_notflagged[\"sender_name\"]).sum())"
      ],
      "execution_count": 59,
      "outputs": [
        {
          "output_type": "stream",
          "text": [
            "18\n"
          ],
          "name": "stdout"
        }
      ]
    },
    {
      "cell_type": "markdown",
      "metadata": {
        "id": "0TLN6qnjOfRw",
        "colab_type": "text"
      },
      "source": [
        "Observation:\n",
        "\n",
        "It turns out that there are 18 such transactions that have been marked fraudulent initiated by other transactions."
      ]
    },
    {
      "cell_type": "markdown",
      "metadata": {
        "id": "DtyfI8zZQFO7",
        "colab_type": "text"
      },
      "source": [
        "**Question 2: How many receiver side of transactions have been flagged as fraud more than once?**"
      ]
    },
    {
      "cell_type": "code",
      "metadata": {
        "id": "cVLrvfpPOb86",
        "colab_type": "code",
        "colab": {}
      },
      "source": [
        "frequency=data_flagged[\"receiver\"].isin(data_notflagged[\"receiver\"]).sum()"
      ],
      "execution_count": 0,
      "outputs": []
    },
    {
      "cell_type": "code",
      "metadata": {
        "id": "GWMn12ROQw69",
        "colab_type": "code",
        "colab": {
          "base_uri": "https://localhost:8080/",
          "height": 52
        },
        "outputId": "48b2d935-2f32-458f-b020-fe62ebc8bb67"
      },
      "source": [
        "percent=np.round(frequency/len(data_flagged),decimals=2)*100\n",
        "print(frequency)\n",
        "print(percent)"
      ],
      "execution_count": 63,
      "outputs": [
        {
          "output_type": "stream",
          "text": [
            "5532\n",
            "67.0\n"
          ],
          "name": "stdout"
        }
      ]
    },
    {
      "cell_type": "markdown",
      "metadata": {
        "id": "18ekT9ODRfmy",
        "colab_type": "text"
      },
      "source": [
        "Observation:\n",
        "\n",
        "Around 67.4% of flagged transactions are in not flagged data on the receiver side of the transactions."
      ]
    },
    {
      "cell_type": "markdown",
      "metadata": {
        "id": "BUBXsLAQSEEz",
        "colab_type": "text"
      },
      "source": [
        "**Question 3: Are there any merchants among sender accounts for CASH_IN transactions?**"
      ]
    },
    {
      "cell_type": "code",
      "metadata": {
        "id": "COB6Ol8RST1R",
        "colab_type": "code",
        "colab": {
          "base_uri": "https://localhost:8080/",
          "height": 197
        },
        "outputId": "84f0acf6-68f2-408a-c64d-eb90624dfbca"
      },
      "source": [
        "data.head()"
      ],
      "execution_count": 66,
      "outputs": [
        {
          "output_type": "execute_result",
          "data": {
            "text/html": [
              "<div>\n",
              "<style scoped>\n",
              "    .dataframe tbody tr th:only-of-type {\n",
              "        vertical-align: middle;\n",
              "    }\n",
              "\n",
              "    .dataframe tbody tr th {\n",
              "        vertical-align: top;\n",
              "    }\n",
              "\n",
              "    .dataframe thead th {\n",
              "        text-align: right;\n",
              "    }\n",
              "</style>\n",
              "<table border=\"1\" class=\"dataframe\">\n",
              "  <thead>\n",
              "    <tr style=\"text-align: right;\">\n",
              "      <th></th>\n",
              "      <th>step</th>\n",
              "      <th>trans_type</th>\n",
              "      <th>trans_amount</th>\n",
              "      <th>sender_name</th>\n",
              "      <th>sender_old_bal</th>\n",
              "      <th>sender_new_bal</th>\n",
              "      <th>receiver</th>\n",
              "      <th>receiver_old_bal</th>\n",
              "      <th>receiver_new_bal</th>\n",
              "      <th>check_fraud</th>\n",
              "    </tr>\n",
              "  </thead>\n",
              "  <tbody>\n",
              "    <tr>\n",
              "      <th>0</th>\n",
              "      <td>1</td>\n",
              "      <td>PAYMENT</td>\n",
              "      <td>9839.64</td>\n",
              "      <td>C1231006815</td>\n",
              "      <td>170136.0</td>\n",
              "      <td>160296.36</td>\n",
              "      <td>M1979787155</td>\n",
              "      <td>0.0</td>\n",
              "      <td>0.0</td>\n",
              "      <td>False</td>\n",
              "    </tr>\n",
              "    <tr>\n",
              "      <th>1</th>\n",
              "      <td>1</td>\n",
              "      <td>PAYMENT</td>\n",
              "      <td>1864.28</td>\n",
              "      <td>C1666544295</td>\n",
              "      <td>21249.0</td>\n",
              "      <td>19384.72</td>\n",
              "      <td>M2044282225</td>\n",
              "      <td>0.0</td>\n",
              "      <td>0.0</td>\n",
              "      <td>False</td>\n",
              "    </tr>\n",
              "    <tr>\n",
              "      <th>2</th>\n",
              "      <td>1</td>\n",
              "      <td>TRANSFER</td>\n",
              "      <td>181.00</td>\n",
              "      <td>C1305486145</td>\n",
              "      <td>181.0</td>\n",
              "      <td>0.00</td>\n",
              "      <td>C553264065</td>\n",
              "      <td>0.0</td>\n",
              "      <td>0.0</td>\n",
              "      <td>True</td>\n",
              "    </tr>\n",
              "    <tr>\n",
              "      <th>3</th>\n",
              "      <td>1</td>\n",
              "      <td>CASH_OUT</td>\n",
              "      <td>181.00</td>\n",
              "      <td>C840083671</td>\n",
              "      <td>181.0</td>\n",
              "      <td>0.00</td>\n",
              "      <td>C38997010</td>\n",
              "      <td>21182.0</td>\n",
              "      <td>0.0</td>\n",
              "      <td>True</td>\n",
              "    </tr>\n",
              "    <tr>\n",
              "      <th>4</th>\n",
              "      <td>1</td>\n",
              "      <td>PAYMENT</td>\n",
              "      <td>11668.14</td>\n",
              "      <td>C2048537720</td>\n",
              "      <td>41554.0</td>\n",
              "      <td>29885.86</td>\n",
              "      <td>M1230701703</td>\n",
              "      <td>0.0</td>\n",
              "      <td>0.0</td>\n",
              "      <td>False</td>\n",
              "    </tr>\n",
              "  </tbody>\n",
              "</table>\n",
              "</div>"
            ],
            "text/plain": [
              "   step trans_type  trans_amount  sender_name  sender_old_bal  sender_new_bal  \\\n",
              "0     1    PAYMENT       9839.64  C1231006815        170136.0       160296.36   \n",
              "1     1    PAYMENT       1864.28  C1666544295         21249.0        19384.72   \n",
              "2     1   TRANSFER        181.00  C1305486145           181.0            0.00   \n",
              "3     1   CASH_OUT        181.00   C840083671           181.0            0.00   \n",
              "4     1    PAYMENT      11668.14  C2048537720         41554.0        29885.86   \n",
              "\n",
              "      receiver  receiver_old_bal  receiver_new_bal  check_fraud  \n",
              "0  M1979787155               0.0               0.0        False  \n",
              "1  M2044282225               0.0               0.0        False  \n",
              "2   C553264065               0.0               0.0         True  \n",
              "3    C38997010           21182.0               0.0         True  \n",
              "4  M1230701703               0.0               0.0        False  "
            ]
          },
          "metadata": {
            "tags": []
          },
          "execution_count": 66
        }
      ]
    },
    {
      "cell_type": "code",
      "metadata": {
        "id": "cmMlHaXMQ9gg",
        "colab_type": "code",
        "colab": {
          "base_uri": "https://localhost:8080/",
          "height": 34
        },
        "outputId": "15b27db6-e4b1-49fc-ea57-072b0c0b8c3d"
      },
      "source": [
        "print(data[data[\"trans_type\"]==\"CASH_IN\"][\"sender_name\"].str.contains(\"M\").any())"
      ],
      "execution_count": 67,
      "outputs": [
        {
          "output_type": "stream",
          "text": [
            "False\n"
          ],
          "name": "stdout"
        }
      ]
    },
    {
      "cell_type": "code",
      "metadata": {
        "id": "BTZtviCjS-8F",
        "colab_type": "code",
        "colab": {
          "base_uri": "https://localhost:8080/",
          "height": 34
        },
        "outputId": "c776c1c7-7d40-40b4-d557-b0db39848a64"
      },
      "source": [
        "print(data[data[\"trans_type\"]==\"CASH_IN\"][\"sender_name\"].str.contains(\"M\").any())"
      ],
      "execution_count": 68,
      "outputs": [
        {
          "output_type": "stream",
          "text": [
            "False\n"
          ],
          "name": "stdout"
        }
      ]
    },
    {
      "cell_type": "markdown",
      "metadata": {
        "id": "qKCiyWiAT1gI",
        "colab_type": "text"
      },
      "source": [
        "Observation:\n",
        "\n",
        "It turns out that there aren't any transactions with merchant with CASH_IN type on sender side."
      ]
    },
    {
      "cell_type": "markdown",
      "metadata": {
        "id": "pOJn6qNkT6aI",
        "colab_type": "text"
      },
      "source": [
        "**Question 4: Are there any sender & receiver accounts among merchants for each type of transaction?**"
      ]
    },
    {
      "cell_type": "code",
      "metadata": {
        "id": "RVvGI0_9Tt38",
        "colab_type": "code",
        "colab": {
          "base_uri": "https://localhost:8080/",
          "height": 283
        },
        "outputId": "f75c6583-91db-4afa-9284-57a2b561cba6"
      },
      "source": [
        "print('-----CASH_OUT-----')\n",
        "print('Sender side?', data[data['trans_type'] == 'CASH_OUT']['sender_name'].str.contains('M').any())\n",
        "print('Receiver side?', data[data['trans_type'] == 'CASH_OUT']['receiver'].str.contains('M').any())\n",
        "\n",
        "print('-----CASH_IN-----')\n",
        "print('Sender side?', data[data['trans_type'] == 'CASH_IN']['sender_name'].str.contains('M').any())\n",
        "print('Receiver side?', data[data['trans_type'] == 'CASH_IN']['receiver'].str.contains('M').any())\n",
        "\n",
        "print('-----DEBIT-----')\n",
        "print('Sender side?', data[data['trans_type'] == 'DEBIT']['sender_name'].str.contains('M').any())\n",
        "print('Receiver side?', data[data['trans_type'] == 'DEBIT']['receiver'].str.contains('M').any())\n",
        "\n",
        "print('-----TRANSFER-----')\n",
        "print('Sender side?', data[data['trans_type'] == 'TRANSFER']['sender_name'].str.contains('M').any())\n",
        "print('Receiver side?', data[data['trans_type'] == 'TRANSFER']['receiver'].str.contains('M').any())\n",
        "\n",
        "print('-----PAYMENT-----')\n",
        "print('Sender side?', data[data['trans_type'] == 'PAYMENT']['sender_name'].str.contains('M').any())\n",
        "print('Receiver side?', data[data['trans_type'] == 'PAYMENT']['receiver'].str.contains('M').any())\n",
        "\n"
      ],
      "execution_count": 69,
      "outputs": [
        {
          "output_type": "stream",
          "text": [
            "-----CASH_OUT-----\n",
            "Sender side? False\n",
            "Receiver side? False\n",
            "-----CASH_IN-----\n",
            "Sender side? False\n",
            "Receiver side? False\n",
            "-----DEBIT-----\n",
            "Sender side? False\n",
            "Receiver side? False\n",
            "-----TRANSFER-----\n",
            "Sender side? False\n",
            "Receiver side? False\n",
            "-----PAYMENT-----\n",
            "Sender side? False\n",
            "Receiver side? True\n"
          ],
          "name": "stdout"
        }
      ]
    },
    {
      "cell_type": "markdown",
      "metadata": {
        "id": "hZ171kckUbc1",
        "colab_type": "text"
      },
      "source": [
        "Observation:\n",
        "\n",
        "There are no merchants present among sender & receiver accounts for each type of transactions.\n",
        "Merchants are only present in destination accounts for all PAYMENTS."
      ]
    },
    {
      "cell_type": "markdown",
      "metadata": {
        "id": "nFMgD6tEVPUh",
        "colab_type": "text"
      },
      "source": [
        "**Question 5: Is there any merchant present in the receiver account except the PAYMENT type?**"
      ]
    },
    {
      "cell_type": "code",
      "metadata": {
        "id": "ituyTpUjULbW",
        "colab_type": "code",
        "colab": {
          "base_uri": "https://localhost:8080/",
          "height": 141
        },
        "outputId": "29dde0ae-0723-40a0-8a9c-e0146d27dcba"
      },
      "source": [
        "print('-----CASH_OUT (Fruad = 1)-----')\n",
        "print('Sender side?', data[(data['trans_type'] == 'CASH_OUT') & data['check_fraud'] == 1]['sender_name'].str.contains('M').any())\n",
        "print('Receiver side?', data[(data['trans_type'] == 'CASH_OUT') & data['check_fraud'] == 1]['receiver'].str.contains('M').any())\n",
        "\n",
        "print('\\n-----CASH_OUT (Fraud = 0)-----')\n",
        "print('Sender side?', data[(data['trans_type'] == 'CASH_OUT') & data['check_fraud'] == 0]['sender_name'].str.contains('M').any())\n",
        "print('Receiver side?', data[(data['trans_type'] == 'CASH_OUT') & data['check_fraud'] == 0]['receiver'].str.contains('M').any())"
      ],
      "execution_count": 70,
      "outputs": [
        {
          "output_type": "stream",
          "text": [
            "-----CASH_OUT (Fruad = 1)-----\n",
            "Sender side? False\n",
            "Receiver side? False\n",
            "\n",
            "-----CASH_OUT (Fraud = 0)-----\n",
            "Sender side? False\n",
            "Receiver side? True\n"
          ],
          "name": "stdout"
        }
      ]
    },
    {
      "cell_type": "code",
      "metadata": {
        "id": "sNEXPcs2V3Ue",
        "colab_type": "code",
        "colab": {
          "base_uri": "https://localhost:8080/",
          "height": 107
        },
        "outputId": "886019dc-dd77-4be1-8c88-ac431c59e8ee"
      },
      "source": [
        "data.head(2)"
      ],
      "execution_count": 71,
      "outputs": [
        {
          "output_type": "execute_result",
          "data": {
            "text/html": [
              "<div>\n",
              "<style scoped>\n",
              "    .dataframe tbody tr th:only-of-type {\n",
              "        vertical-align: middle;\n",
              "    }\n",
              "\n",
              "    .dataframe tbody tr th {\n",
              "        vertical-align: top;\n",
              "    }\n",
              "\n",
              "    .dataframe thead th {\n",
              "        text-align: right;\n",
              "    }\n",
              "</style>\n",
              "<table border=\"1\" class=\"dataframe\">\n",
              "  <thead>\n",
              "    <tr style=\"text-align: right;\">\n",
              "      <th></th>\n",
              "      <th>step</th>\n",
              "      <th>trans_type</th>\n",
              "      <th>trans_amount</th>\n",
              "      <th>sender_name</th>\n",
              "      <th>sender_old_bal</th>\n",
              "      <th>sender_new_bal</th>\n",
              "      <th>receiver</th>\n",
              "      <th>receiver_old_bal</th>\n",
              "      <th>receiver_new_bal</th>\n",
              "      <th>check_fraud</th>\n",
              "    </tr>\n",
              "  </thead>\n",
              "  <tbody>\n",
              "    <tr>\n",
              "      <th>0</th>\n",
              "      <td>1</td>\n",
              "      <td>PAYMENT</td>\n",
              "      <td>9839.64</td>\n",
              "      <td>C1231006815</td>\n",
              "      <td>170136.0</td>\n",
              "      <td>160296.36</td>\n",
              "      <td>M1979787155</td>\n",
              "      <td>0.0</td>\n",
              "      <td>0.0</td>\n",
              "      <td>False</td>\n",
              "    </tr>\n",
              "    <tr>\n",
              "      <th>1</th>\n",
              "      <td>1</td>\n",
              "      <td>PAYMENT</td>\n",
              "      <td>1864.28</td>\n",
              "      <td>C1666544295</td>\n",
              "      <td>21249.0</td>\n",
              "      <td>19384.72</td>\n",
              "      <td>M2044282225</td>\n",
              "      <td>0.0</td>\n",
              "      <td>0.0</td>\n",
              "      <td>False</td>\n",
              "    </tr>\n",
              "  </tbody>\n",
              "</table>\n",
              "</div>"
            ],
            "text/plain": [
              "   step trans_type  trans_amount  sender_name  sender_old_bal  sender_new_bal  \\\n",
              "0     1    PAYMENT       9839.64  C1231006815        170136.0       160296.36   \n",
              "1     1    PAYMENT       1864.28  C1666544295         21249.0        19384.72   \n",
              "\n",
              "      receiver  receiver_old_bal  receiver_new_bal  check_fraud  \n",
              "0  M1979787155               0.0               0.0        False  \n",
              "1  M2044282225               0.0               0.0        False  "
            ]
          },
          "metadata": {
            "tags": []
          },
          "execution_count": 71
        }
      ]
    },
    {
      "cell_type": "code",
      "metadata": {
        "id": "w5IkD9ARWddt",
        "colab_type": "code",
        "colab": {
          "base_uri": "https://localhost:8080/",
          "height": 217
        },
        "outputId": "d96fa233-580d-4a2b-ec38-88992051e356"
      },
      "source": [
        "data[(data[\"trans_type\"]==\"TRANSFER\")&(data[\"check_fraud\"]==1)].head()"
      ],
      "execution_count": 72,
      "outputs": [
        {
          "output_type": "execute_result",
          "data": {
            "text/html": [
              "<div>\n",
              "<style scoped>\n",
              "    .dataframe tbody tr th:only-of-type {\n",
              "        vertical-align: middle;\n",
              "    }\n",
              "\n",
              "    .dataframe tbody tr th {\n",
              "        vertical-align: top;\n",
              "    }\n",
              "\n",
              "    .dataframe thead th {\n",
              "        text-align: right;\n",
              "    }\n",
              "</style>\n",
              "<table border=\"1\" class=\"dataframe\">\n",
              "  <thead>\n",
              "    <tr style=\"text-align: right;\">\n",
              "      <th></th>\n",
              "      <th>step</th>\n",
              "      <th>trans_type</th>\n",
              "      <th>trans_amount</th>\n",
              "      <th>sender_name</th>\n",
              "      <th>sender_old_bal</th>\n",
              "      <th>sender_new_bal</th>\n",
              "      <th>receiver</th>\n",
              "      <th>receiver_old_bal</th>\n",
              "      <th>receiver_new_bal</th>\n",
              "      <th>check_fraud</th>\n",
              "    </tr>\n",
              "  </thead>\n",
              "  <tbody>\n",
              "    <tr>\n",
              "      <th>2</th>\n",
              "      <td>1</td>\n",
              "      <td>TRANSFER</td>\n",
              "      <td>181.00</td>\n",
              "      <td>C1305486145</td>\n",
              "      <td>181.00</td>\n",
              "      <td>0.0</td>\n",
              "      <td>C553264065</td>\n",
              "      <td>0.0</td>\n",
              "      <td>0.0</td>\n",
              "      <td>True</td>\n",
              "    </tr>\n",
              "    <tr>\n",
              "      <th>251</th>\n",
              "      <td>1</td>\n",
              "      <td>TRANSFER</td>\n",
              "      <td>2806.00</td>\n",
              "      <td>C1420196421</td>\n",
              "      <td>2806.00</td>\n",
              "      <td>0.0</td>\n",
              "      <td>C972765878</td>\n",
              "      <td>0.0</td>\n",
              "      <td>0.0</td>\n",
              "      <td>True</td>\n",
              "    </tr>\n",
              "    <tr>\n",
              "      <th>680</th>\n",
              "      <td>1</td>\n",
              "      <td>TRANSFER</td>\n",
              "      <td>20128.00</td>\n",
              "      <td>C137533655</td>\n",
              "      <td>20128.00</td>\n",
              "      <td>0.0</td>\n",
              "      <td>C1848415041</td>\n",
              "      <td>0.0</td>\n",
              "      <td>0.0</td>\n",
              "      <td>True</td>\n",
              "    </tr>\n",
              "    <tr>\n",
              "      <th>969</th>\n",
              "      <td>1</td>\n",
              "      <td>TRANSFER</td>\n",
              "      <td>1277212.77</td>\n",
              "      <td>C1334405552</td>\n",
              "      <td>1277212.77</td>\n",
              "      <td>0.0</td>\n",
              "      <td>C431687661</td>\n",
              "      <td>0.0</td>\n",
              "      <td>0.0</td>\n",
              "      <td>True</td>\n",
              "    </tr>\n",
              "    <tr>\n",
              "      <th>1115</th>\n",
              "      <td>1</td>\n",
              "      <td>TRANSFER</td>\n",
              "      <td>35063.63</td>\n",
              "      <td>C1364127192</td>\n",
              "      <td>35063.63</td>\n",
              "      <td>0.0</td>\n",
              "      <td>C1136419747</td>\n",
              "      <td>0.0</td>\n",
              "      <td>0.0</td>\n",
              "      <td>True</td>\n",
              "    </tr>\n",
              "  </tbody>\n",
              "</table>\n",
              "</div>"
            ],
            "text/plain": [
              "      step trans_type  trans_amount  sender_name  sender_old_bal  \\\n",
              "2        1   TRANSFER        181.00  C1305486145          181.00   \n",
              "251      1   TRANSFER       2806.00  C1420196421         2806.00   \n",
              "680      1   TRANSFER      20128.00   C137533655        20128.00   \n",
              "969      1   TRANSFER    1277212.77  C1334405552      1277212.77   \n",
              "1115     1   TRANSFER      35063.63  C1364127192        35063.63   \n",
              "\n",
              "      sender_new_bal     receiver  receiver_old_bal  receiver_new_bal  \\\n",
              "2                0.0   C553264065               0.0               0.0   \n",
              "251              0.0   C972765878               0.0               0.0   \n",
              "680              0.0  C1848415041               0.0               0.0   \n",
              "969              0.0   C431687661               0.0               0.0   \n",
              "1115             0.0  C1136419747               0.0               0.0   \n",
              "\n",
              "      check_fraud  \n",
              "2            True  \n",
              "251          True  \n",
              "680          True  \n",
              "969          True  \n",
              "1115         True  "
            ]
          },
          "metadata": {
            "tags": []
          },
          "execution_count": 72
        }
      ]
    },
    {
      "cell_type": "code",
      "metadata": {
        "id": "ekNMQ-upXJa6",
        "colab_type": "code",
        "colab": {
          "base_uri": "https://localhost:8080/",
          "height": 217
        },
        "outputId": "1dbd15be-7dc2-4065-f187-3c250e1a7d68"
      },
      "source": [
        "data[(data[\"trans_type\"]==\"CASH_OUT\")&(data[\"check_fraud\"]==1)].head()"
      ],
      "execution_count": 73,
      "outputs": [
        {
          "output_type": "execute_result",
          "data": {
            "text/html": [
              "<div>\n",
              "<style scoped>\n",
              "    .dataframe tbody tr th:only-of-type {\n",
              "        vertical-align: middle;\n",
              "    }\n",
              "\n",
              "    .dataframe tbody tr th {\n",
              "        vertical-align: top;\n",
              "    }\n",
              "\n",
              "    .dataframe thead th {\n",
              "        text-align: right;\n",
              "    }\n",
              "</style>\n",
              "<table border=\"1\" class=\"dataframe\">\n",
              "  <thead>\n",
              "    <tr style=\"text-align: right;\">\n",
              "      <th></th>\n",
              "      <th>step</th>\n",
              "      <th>trans_type</th>\n",
              "      <th>trans_amount</th>\n",
              "      <th>sender_name</th>\n",
              "      <th>sender_old_bal</th>\n",
              "      <th>sender_new_bal</th>\n",
              "      <th>receiver</th>\n",
              "      <th>receiver_old_bal</th>\n",
              "      <th>receiver_new_bal</th>\n",
              "      <th>check_fraud</th>\n",
              "    </tr>\n",
              "  </thead>\n",
              "  <tbody>\n",
              "    <tr>\n",
              "      <th>3</th>\n",
              "      <td>1</td>\n",
              "      <td>CASH_OUT</td>\n",
              "      <td>181.00</td>\n",
              "      <td>C840083671</td>\n",
              "      <td>181.00</td>\n",
              "      <td>0.0</td>\n",
              "      <td>C38997010</td>\n",
              "      <td>21182.0</td>\n",
              "      <td>0.00</td>\n",
              "      <td>True</td>\n",
              "    </tr>\n",
              "    <tr>\n",
              "      <th>252</th>\n",
              "      <td>1</td>\n",
              "      <td>CASH_OUT</td>\n",
              "      <td>2806.00</td>\n",
              "      <td>C2101527076</td>\n",
              "      <td>2806.00</td>\n",
              "      <td>0.0</td>\n",
              "      <td>C1007251739</td>\n",
              "      <td>26202.0</td>\n",
              "      <td>0.00</td>\n",
              "      <td>True</td>\n",
              "    </tr>\n",
              "    <tr>\n",
              "      <th>681</th>\n",
              "      <td>1</td>\n",
              "      <td>CASH_OUT</td>\n",
              "      <td>20128.00</td>\n",
              "      <td>C1118430673</td>\n",
              "      <td>20128.00</td>\n",
              "      <td>0.0</td>\n",
              "      <td>C339924917</td>\n",
              "      <td>6268.0</td>\n",
              "      <td>12145.85</td>\n",
              "      <td>True</td>\n",
              "    </tr>\n",
              "    <tr>\n",
              "      <th>724</th>\n",
              "      <td>1</td>\n",
              "      <td>CASH_OUT</td>\n",
              "      <td>416001.33</td>\n",
              "      <td>C749981943</td>\n",
              "      <td>0.00</td>\n",
              "      <td>0.0</td>\n",
              "      <td>C667346055</td>\n",
              "      <td>102.0</td>\n",
              "      <td>9291619.62</td>\n",
              "      <td>True</td>\n",
              "    </tr>\n",
              "    <tr>\n",
              "      <th>970</th>\n",
              "      <td>1</td>\n",
              "      <td>CASH_OUT</td>\n",
              "      <td>1277212.77</td>\n",
              "      <td>C467632528</td>\n",
              "      <td>1277212.77</td>\n",
              "      <td>0.0</td>\n",
              "      <td>C716083600</td>\n",
              "      <td>0.0</td>\n",
              "      <td>2444985.19</td>\n",
              "      <td>True</td>\n",
              "    </tr>\n",
              "  </tbody>\n",
              "</table>\n",
              "</div>"
            ],
            "text/plain": [
              "     step trans_type  trans_amount  sender_name  sender_old_bal  \\\n",
              "3       1   CASH_OUT        181.00   C840083671          181.00   \n",
              "252     1   CASH_OUT       2806.00  C2101527076         2806.00   \n",
              "681     1   CASH_OUT      20128.00  C1118430673        20128.00   \n",
              "724     1   CASH_OUT     416001.33   C749981943            0.00   \n",
              "970     1   CASH_OUT    1277212.77   C467632528      1277212.77   \n",
              "\n",
              "     sender_new_bal     receiver  receiver_old_bal  receiver_new_bal  \\\n",
              "3               0.0    C38997010           21182.0              0.00   \n",
              "252             0.0  C1007251739           26202.0              0.00   \n",
              "681             0.0   C339924917            6268.0          12145.85   \n",
              "724             0.0   C667346055             102.0        9291619.62   \n",
              "970             0.0   C716083600               0.0        2444985.19   \n",
              "\n",
              "     check_fraud  \n",
              "3           True  \n",
              "252         True  \n",
              "681         True  \n",
              "724         True  \n",
              "970         True  "
            ]
          },
          "metadata": {
            "tags": []
          },
          "execution_count": 73
        }
      ]
    },
    {
      "cell_type": "code",
      "metadata": {
        "id": "h2pgI5NfXaaV",
        "colab_type": "code",
        "colab": {
          "base_uri": "https://localhost:8080/",
          "height": 34
        },
        "outputId": "58975b24-fd16-4f76-d062-0bdab3a49008"
      },
      "source": [
        "data_trans_fraud = data[(data['trans_type'] == 'TRANSFER') & (data['check_fraud'] == 1)]\n",
        "data_cashout_fraud = data[(data['trans_type'] == 'CASH_OUT') & (data['check_fraud'] == 1)]\n",
        "print(data_trans_fraud['receiver'].isin(data_cashout_fraud['sender_name']).any())"
      ],
      "execution_count": 74,
      "outputs": [
        {
          "output_type": "stream",
          "text": [
            "False\n"
          ],
          "name": "stdout"
        }
      ]
    },
    {
      "cell_type": "code",
      "metadata": {
        "id": "-5jhSt-0Xi3U",
        "colab_type": "code",
        "colab": {
          "base_uri": "https://localhost:8080/",
          "height": 157
        },
        "outputId": "274b3ffb-ce80-4e97-9ab3-5c34f5632ac5"
      },
      "source": [
        "notFraud = data.loc[data['check_fraud'] == 0]\n",
        "isFraud = data.loc[data['check_fraud'] == 1]\n",
        "data_trans_fraud.loc[data_trans_fraud['receiver'].isin(notFraud.loc[notFraud['trans_type'] == 'CASH_OUT']['sender_name'])]"
      ],
      "execution_count": 75,
      "outputs": [
        {
          "output_type": "execute_result",
          "data": {
            "text/html": [
              "<div>\n",
              "<style scoped>\n",
              "    .dataframe tbody tr th:only-of-type {\n",
              "        vertical-align: middle;\n",
              "    }\n",
              "\n",
              "    .dataframe tbody tr th {\n",
              "        vertical-align: top;\n",
              "    }\n",
              "\n",
              "    .dataframe thead th {\n",
              "        text-align: right;\n",
              "    }\n",
              "</style>\n",
              "<table border=\"1\" class=\"dataframe\">\n",
              "  <thead>\n",
              "    <tr style=\"text-align: right;\">\n",
              "      <th></th>\n",
              "      <th>step</th>\n",
              "      <th>trans_type</th>\n",
              "      <th>trans_amount</th>\n",
              "      <th>sender_name</th>\n",
              "      <th>sender_old_bal</th>\n",
              "      <th>sender_new_bal</th>\n",
              "      <th>receiver</th>\n",
              "      <th>receiver_old_bal</th>\n",
              "      <th>receiver_new_bal</th>\n",
              "      <th>check_fraud</th>\n",
              "    </tr>\n",
              "  </thead>\n",
              "  <tbody>\n",
              "    <tr>\n",
              "      <th>1030443</th>\n",
              "      <td>65</td>\n",
              "      <td>TRANSFER</td>\n",
              "      <td>1282971.57</td>\n",
              "      <td>C1175896731</td>\n",
              "      <td>1282971.57</td>\n",
              "      <td>0.0</td>\n",
              "      <td>C1714931087</td>\n",
              "      <td>0.0</td>\n",
              "      <td>0.0</td>\n",
              "      <td>True</td>\n",
              "    </tr>\n",
              "    <tr>\n",
              "      <th>6039814</th>\n",
              "      <td>486</td>\n",
              "      <td>TRANSFER</td>\n",
              "      <td>214793.32</td>\n",
              "      <td>C2140495649</td>\n",
              "      <td>214793.32</td>\n",
              "      <td>0.0</td>\n",
              "      <td>C423543548</td>\n",
              "      <td>0.0</td>\n",
              "      <td>0.0</td>\n",
              "      <td>True</td>\n",
              "    </tr>\n",
              "    <tr>\n",
              "      <th>6362556</th>\n",
              "      <td>738</td>\n",
              "      <td>TRANSFER</td>\n",
              "      <td>814689.88</td>\n",
              "      <td>C2029041842</td>\n",
              "      <td>814689.88</td>\n",
              "      <td>0.0</td>\n",
              "      <td>C1023330867</td>\n",
              "      <td>0.0</td>\n",
              "      <td>0.0</td>\n",
              "      <td>True</td>\n",
              "    </tr>\n",
              "  </tbody>\n",
              "</table>\n",
              "</div>"
            ],
            "text/plain": [
              "         step trans_type  trans_amount  sender_name  sender_old_bal  \\\n",
              "1030443    65   TRANSFER    1282971.57  C1175896731      1282971.57   \n",
              "6039814   486   TRANSFER     214793.32  C2140495649       214793.32   \n",
              "6362556   738   TRANSFER     814689.88  C2029041842       814689.88   \n",
              "\n",
              "         sender_new_bal     receiver  receiver_old_bal  receiver_new_bal  \\\n",
              "1030443             0.0  C1714931087               0.0               0.0   \n",
              "6039814             0.0   C423543548               0.0               0.0   \n",
              "6362556             0.0  C1023330867               0.0               0.0   \n",
              "\n",
              "         check_fraud  \n",
              "1030443         True  \n",
              "6039814         True  \n",
              "6362556         True  "
            ]
          },
          "metadata": {
            "tags": []
          },
          "execution_count": 75
        }
      ]
    },
    {
      "cell_type": "code",
      "metadata": {
        "id": "LJBoW7y2YCob",
        "colab_type": "code",
        "colab": {
          "base_uri": "https://localhost:8080/",
          "height": 233
        },
        "outputId": "ec62030b-3869-4d60-fc10-6269596f0f6d"
      },
      "source": [
        "data_1 = data.loc[(data['trans_type'] == 'TRANSFER') | (data['trans_type'] == 'CASH_OUT')].drop(['sender_name', 'receiver'], axis = 1)\n",
        "print('Old Data Shape:', data.shape)\n",
        "print('New Data Shape:', data_1.shape)\n",
        "data_1.head()"
      ],
      "execution_count": 76,
      "outputs": [
        {
          "output_type": "stream",
          "text": [
            "Old Data Shape: (6362620, 10)\n",
            "New Data Shape: (2770409, 8)\n"
          ],
          "name": "stdout"
        },
        {
          "output_type": "execute_result",
          "data": {
            "text/html": [
              "<div>\n",
              "<style scoped>\n",
              "    .dataframe tbody tr th:only-of-type {\n",
              "        vertical-align: middle;\n",
              "    }\n",
              "\n",
              "    .dataframe tbody tr th {\n",
              "        vertical-align: top;\n",
              "    }\n",
              "\n",
              "    .dataframe thead th {\n",
              "        text-align: right;\n",
              "    }\n",
              "</style>\n",
              "<table border=\"1\" class=\"dataframe\">\n",
              "  <thead>\n",
              "    <tr style=\"text-align: right;\">\n",
              "      <th></th>\n",
              "      <th>step</th>\n",
              "      <th>trans_type</th>\n",
              "      <th>trans_amount</th>\n",
              "      <th>sender_old_bal</th>\n",
              "      <th>sender_new_bal</th>\n",
              "      <th>receiver_old_bal</th>\n",
              "      <th>receiver_new_bal</th>\n",
              "      <th>check_fraud</th>\n",
              "    </tr>\n",
              "  </thead>\n",
              "  <tbody>\n",
              "    <tr>\n",
              "      <th>2</th>\n",
              "      <td>1</td>\n",
              "      <td>TRANSFER</td>\n",
              "      <td>181.00</td>\n",
              "      <td>181.0</td>\n",
              "      <td>0.0</td>\n",
              "      <td>0.0</td>\n",
              "      <td>0.00</td>\n",
              "      <td>True</td>\n",
              "    </tr>\n",
              "    <tr>\n",
              "      <th>3</th>\n",
              "      <td>1</td>\n",
              "      <td>CASH_OUT</td>\n",
              "      <td>181.00</td>\n",
              "      <td>181.0</td>\n",
              "      <td>0.0</td>\n",
              "      <td>21182.0</td>\n",
              "      <td>0.00</td>\n",
              "      <td>True</td>\n",
              "    </tr>\n",
              "    <tr>\n",
              "      <th>15</th>\n",
              "      <td>1</td>\n",
              "      <td>CASH_OUT</td>\n",
              "      <td>229133.94</td>\n",
              "      <td>15325.0</td>\n",
              "      <td>0.0</td>\n",
              "      <td>5083.0</td>\n",
              "      <td>51513.44</td>\n",
              "      <td>False</td>\n",
              "    </tr>\n",
              "    <tr>\n",
              "      <th>19</th>\n",
              "      <td>1</td>\n",
              "      <td>TRANSFER</td>\n",
              "      <td>215310.30</td>\n",
              "      <td>705.0</td>\n",
              "      <td>0.0</td>\n",
              "      <td>22425.0</td>\n",
              "      <td>0.00</td>\n",
              "      <td>False</td>\n",
              "    </tr>\n",
              "    <tr>\n",
              "      <th>24</th>\n",
              "      <td>1</td>\n",
              "      <td>TRANSFER</td>\n",
              "      <td>311685.89</td>\n",
              "      <td>10835.0</td>\n",
              "      <td>0.0</td>\n",
              "      <td>6267.0</td>\n",
              "      <td>2719172.89</td>\n",
              "      <td>False</td>\n",
              "    </tr>\n",
              "  </tbody>\n",
              "</table>\n",
              "</div>"
            ],
            "text/plain": [
              "    step trans_type  trans_amount  sender_old_bal  sender_new_bal  \\\n",
              "2      1   TRANSFER        181.00           181.0             0.0   \n",
              "3      1   CASH_OUT        181.00           181.0             0.0   \n",
              "15     1   CASH_OUT     229133.94         15325.0             0.0   \n",
              "19     1   TRANSFER     215310.30           705.0             0.0   \n",
              "24     1   TRANSFER     311685.89         10835.0             0.0   \n",
              "\n",
              "    receiver_old_bal  receiver_new_bal  check_fraud  \n",
              "2                0.0              0.00         True  \n",
              "3            21182.0              0.00         True  \n",
              "15            5083.0          51513.44        False  \n",
              "19           22425.0              0.00        False  \n",
              "24            6267.0        2719172.89        False  "
            ]
          },
          "metadata": {
            "tags": []
          },
          "execution_count": 76
        }
      ]
    },
    {
      "cell_type": "code",
      "metadata": {
        "id": "ObTwWst-YSRT",
        "colab_type": "code",
        "colab": {
          "base_uri": "https://localhost:8080/",
          "height": 52
        },
        "outputId": "14a1b801-1bcf-417e-e16b-19b63c869ded"
      },
      "source": [
        "# Let's create two dataframe that contains fraudulent as well as non-fraudulent transactions\n",
        "dataFraud = data_1[data_1['check_fraud'] == 1]\n",
        "dataNotFraud = data_1[data_1['check_fraud'] == 0]\n",
        "print('Fraud Data Shape:', dataFraud.shape)\n",
        "print('Non-Fraud Data Shape:', dataNotFraud.shape)"
      ],
      "execution_count": 77,
      "outputs": [
        {
          "output_type": "stream",
          "text": [
            "Fraud Data Shape: (8213, 8)\n",
            "Non-Fraud Data Shape: (2762196, 8)\n"
          ],
          "name": "stdout"
        }
      ]
    },
    {
      "cell_type": "code",
      "metadata": {
        "id": "1fRZvif9ZCqK",
        "colab_type": "code",
        "colab": {
          "base_uri": "https://localhost:8080/",
          "height": 70
        },
        "outputId": "6497e8d0-8905-4b1b-cad5-4465f01fea1f"
      },
      "source": [
        "value1 = len(dataFraud.loc[(dataFraud['sender_old_bal'] == 0) & (dataFraud['sender_new_bal'] == 0) & (dataFraud['trans_amount'])]) / (1.0 * len(dataFraud))\n",
        "print('The fraction of fraudulent transactions with sender_old_bal = sender_new_bal = 0 although the transacted amount is non-zero is:', np.round(value1, 4))\n",
        "\n",
        "value2 = len(dataNotFraud.loc[(dataNotFraud['sender_old_bal'] == 0) & (dataNotFraud['sender_new_bal'] == 0) & (dataNotFraud['trans_amount'])]) / (1.0 * len(dataNotFraud))\n",
        "print('\\nThe fraction of genuine transactions with sender_old_bal = sender_new_bal = 0 although the transacted amount is non-zero is:', np.round(value2, 4))"
      ],
      "execution_count": 78,
      "outputs": [
        {
          "output_type": "stream",
          "text": [
            "The fraction of fraudulent transactions with sender_old_bal = sender_new_bal = 0 although the transacted amount is non-zero is: 0.003\n",
            "\n",
            "The fraction of genuine transactions with sender_old_bal = sender_new_bal = 0 although the transacted amount is non-zero is: 0.4737\n"
          ],
          "name": "stdout"
        }
      ]
    },
    {
      "cell_type": "markdown",
      "metadata": {
        "id": "uiI59IC-ZNkm",
        "colab_type": "text"
      },
      "source": [
        "**Observation:\n",
        "\n",
        "Genuine Data (sender_old_bal = sender_new_bal = 0):\n",
        "We can see that genuine transactions contains ~47% of zeros.\n",
        "As our data is already oversampled with genuine majority class, we can drop these records by first replacing 0s with null.\n",
        "Fraudulent Data (sender_old_bal = sender_new_bal = 0):\n",
        "We can see that the fraudulent transactions contain only 0.3% of zeros.\n",
        "We shall also replace this value with null and later on drop these records and analyze how much data we lost for fraudulent data.**"
      ]
    },
    {
      "cell_type": "code",
      "metadata": {
        "id": "qkrw2KlrZJHW",
        "colab_type": "code",
        "colab": {}
      },
      "source": [
        "# Replacing 0s with NaN values\n",
        "data_1.loc[(data_1['sender_old_bal'] == 0) & (data_1['sender_new_bal'] == 0) & (data_1['trans_amount'] != 0), ['sender_old_bal', 'sender_new_bal']] = np.nan"
      ],
      "execution_count": 0,
      "outputs": []
    },
    {
      "cell_type": "code",
      "metadata": {
        "id": "SokXF76_Zc_l",
        "colab_type": "code",
        "colab": {
          "base_uri": "https://localhost:8080/",
          "height": 70
        },
        "outputId": "eee2a925-d011-4f9d-fce9-afeeaec51976"
      },
      "source": [
        "value1 = len(dataFraud.loc[(dataFraud['receiver_old_bal'] == 0) & (dataFraud['receiver_new_bal'] == 0) & (dataFraud['trans_amount'])]) / (1.0 * len(dataFraud))\n",
        "print('The fraction of fraudulent transactions with receiver_old_bal = receiver_new_bal = 0 although the transacted amount is non-zero is:', np.round(value1, 4))\n",
        "\n",
        "value2 = len(dataNotFraud.loc[(dataNotFraud['receiver_old_bal'] == 0) & (dataNotFraud['receiver_new_bal'] == 0) & (dataNotFraud['trans_amount'])]) / (1.0 * len(dataNotFraud))\n",
        "print('\\nThe fraction of genuine transactions with receiver_old_bal = receiver_new_bal = 0 although the transacted amount is non-zero is:', np.round(value2, 4))"
      ],
      "execution_count": 80,
      "outputs": [
        {
          "output_type": "stream",
          "text": [
            "The fraction of fraudulent transactions with receiver_old_bal = receiver_new_bal = 0 although the transacted amount is non-zero is: 0.4956\n",
            "\n",
            "The fraction of genuine transactions with receiver_old_bal = receiver_new_bal = 0 although the transacted amount is non-zero is: 0.0006\n"
          ],
          "name": "stdout"
        }
      ]
    },
    {
      "cell_type": "code",
      "metadata": {
        "id": "1sQY0-LhaMhL",
        "colab_type": "code",
        "colab": {
          "base_uri": "https://localhost:8080/",
          "height": 77
        },
        "outputId": "9a262aad-e204-4349-e77b-f75d43abb588"
      },
      "source": [
        "null_frame = pd.DataFrame(data_1.isnull().sum(), columns = ['Frequency'])\n",
        "null_frame.transpose()"
      ],
      "execution_count": 81,
      "outputs": [
        {
          "output_type": "execute_result",
          "data": {
            "text/html": [
              "<div>\n",
              "<style scoped>\n",
              "    .dataframe tbody tr th:only-of-type {\n",
              "        vertical-align: middle;\n",
              "    }\n",
              "\n",
              "    .dataframe tbody tr th {\n",
              "        vertical-align: top;\n",
              "    }\n",
              "\n",
              "    .dataframe thead th {\n",
              "        text-align: right;\n",
              "    }\n",
              "</style>\n",
              "<table border=\"1\" class=\"dataframe\">\n",
              "  <thead>\n",
              "    <tr style=\"text-align: right;\">\n",
              "      <th></th>\n",
              "      <th>step</th>\n",
              "      <th>trans_type</th>\n",
              "      <th>trans_amount</th>\n",
              "      <th>sender_old_bal</th>\n",
              "      <th>sender_new_bal</th>\n",
              "      <th>receiver_old_bal</th>\n",
              "      <th>receiver_new_bal</th>\n",
              "      <th>check_fraud</th>\n",
              "    </tr>\n",
              "  </thead>\n",
              "  <tbody>\n",
              "    <tr>\n",
              "      <th>Frequency</th>\n",
              "      <td>0</td>\n",
              "      <td>0</td>\n",
              "      <td>0</td>\n",
              "      <td>1308566</td>\n",
              "      <td>1308566</td>\n",
              "      <td>0</td>\n",
              "      <td>0</td>\n",
              "      <td>0</td>\n",
              "    </tr>\n",
              "  </tbody>\n",
              "</table>\n",
              "</div>"
            ],
            "text/plain": [
              "           step  trans_type  trans_amount  sender_old_bal  sender_new_bal  \\\n",
              "Frequency     0           0             0         1308566         1308566   \n",
              "\n",
              "           receiver_old_bal  receiver_new_bal  check_fraud  \n",
              "Frequency                 0                 0            0  "
            ]
          },
          "metadata": {
            "tags": []
          },
          "execution_count": 81
        }
      ]
    },
    {
      "cell_type": "code",
      "metadata": {
        "id": "n4x-Tu5OaQ-k",
        "colab_type": "code",
        "colab": {
          "base_uri": "https://localhost:8080/",
          "height": 113
        },
        "outputId": "0c33a797-a633-4804-a92f-bf808d1cf976"
      },
      "source": [
        "print('Old Data Shape:', data_1.shape)\n",
        "data_1.dropna(axis = 0, inplace = True)\n",
        "print('New Data Shape: ', data_1.shape)\n",
        "null_frame = pd.DataFrame(data_1.isnull().sum(), columns = ['Frequency'])\n",
        "null_frame.transpose()"
      ],
      "execution_count": 82,
      "outputs": [
        {
          "output_type": "stream",
          "text": [
            "Old Data Shape: (2770409, 8)\n",
            "New Data Shape:  (1461843, 8)\n"
          ],
          "name": "stdout"
        },
        {
          "output_type": "execute_result",
          "data": {
            "text/html": [
              "<div>\n",
              "<style scoped>\n",
              "    .dataframe tbody tr th:only-of-type {\n",
              "        vertical-align: middle;\n",
              "    }\n",
              "\n",
              "    .dataframe tbody tr th {\n",
              "        vertical-align: top;\n",
              "    }\n",
              "\n",
              "    .dataframe thead th {\n",
              "        text-align: right;\n",
              "    }\n",
              "</style>\n",
              "<table border=\"1\" class=\"dataframe\">\n",
              "  <thead>\n",
              "    <tr style=\"text-align: right;\">\n",
              "      <th></th>\n",
              "      <th>step</th>\n",
              "      <th>trans_type</th>\n",
              "      <th>trans_amount</th>\n",
              "      <th>sender_old_bal</th>\n",
              "      <th>sender_new_bal</th>\n",
              "      <th>receiver_old_bal</th>\n",
              "      <th>receiver_new_bal</th>\n",
              "      <th>check_fraud</th>\n",
              "    </tr>\n",
              "  </thead>\n",
              "  <tbody>\n",
              "    <tr>\n",
              "      <th>Frequency</th>\n",
              "      <td>0</td>\n",
              "      <td>0</td>\n",
              "      <td>0</td>\n",
              "      <td>0</td>\n",
              "      <td>0</td>\n",
              "      <td>0</td>\n",
              "      <td>0</td>\n",
              "      <td>0</td>\n",
              "    </tr>\n",
              "  </tbody>\n",
              "</table>\n",
              "</div>"
            ],
            "text/plain": [
              "           step  trans_type  trans_amount  sender_old_bal  sender_new_bal  \\\n",
              "Frequency     0           0             0               0               0   \n",
              "\n",
              "           receiver_old_bal  receiver_new_bal  check_fraud  \n",
              "Frequency                 0                 0            0  "
            ]
          },
          "metadata": {
            "tags": []
          },
          "execution_count": 82
        }
      ]
    },
    {
      "cell_type": "code",
      "metadata": {
        "id": "KOIkUjazaVFf",
        "colab_type": "code",
        "colab": {
          "base_uri": "https://localhost:8080/",
          "height": 34
        },
        "outputId": "e0f847a7-ab8b-4927-9558-1d15544253a9"
      },
      "source": [
        "data_1['errorBalanceSender'] = data_1['sender_new_bal'] + data_1['trans_amount'] - data_1['sender_old_bal']\n",
        "data_1['errorBalanceReceiver'] = data_1['receiver_old_bal'] + data_1['trans_amount'] - data_1['receiver_new_bal']\n",
        "print('New Data Shape:', data_1.shape)"
      ],
      "execution_count": 83,
      "outputs": [
        {
          "output_type": "stream",
          "text": [
            "New Data Shape: (1461843, 10)\n"
          ],
          "name": "stdout"
        }
      ]
    },
    {
      "cell_type": "code",
      "metadata": {
        "id": "QdhZRJ22fM5L",
        "colab_type": "code",
        "colab": {
          "base_uri": "https://localhost:8080/",
          "height": 52
        },
        "outputId": "4b0c4d62-c155-429d-98d3-ce17bec99a6c"
      },
      "source": [
        "# Data Split for Predictors and Target\n",
        "X = data_1.drop('check_fraud', axis = 1)\n",
        "y = data_1['check_fraud']\n",
        "\n",
        "print('X Shape:', X.shape)\n",
        "print('y Shape:', y.shape)\n",
        "\n",
        "# Encoding transaction type to 0 and 1\n",
        "X.loc[X['trans_type'] == 'TRANSFER', 'trans_type'] = 0\n",
        "X.loc[X['trans_type'] == 'CASH_OUT', 'trans_type'] = 1\n",
        "X.trans_type = X.trans_type.astype('int')"
      ],
      "execution_count": 90,
      "outputs": [
        {
          "output_type": "stream",
          "text": [
            "X Shape: (1461843, 9)\n",
            "y Shape: (1461843,)\n"
          ],
          "name": "stdout"
        }
      ]
    },
    {
      "cell_type": "code",
      "metadata": {
        "id": "r3hiv8Soab7o",
        "colab_type": "code",
        "colab": {
          "base_uri": "https://localhost:8080/",
          "height": 715
        },
        "outputId": "450a8f51-3d59-428c-cbf1-38cd1065e6eb"
      },
      "source": [
        "# Update Xfraud & XnonFraud with cleansed data\n",
        "Xfraud = X.loc[y == 1] \n",
        "XnonFraud = X.loc[y == 0]\n",
        "\n",
        "correlationNonFraud = XnonFraud.loc[:, X.columns != 'step'].corr()\n",
        "correlationFraud = Xfraud.loc[:, X.columns != 'step'].corr()\n",
        "\n",
        "grid_kws = {\"width_ratios\": (.9, .9, .05), \"wspace\": 0.2}\n",
        "fig, (ax1, ax2, cbar_ax) = plt.subplots(1, 3, gridspec_kw = grid_kws, figsize = [15, 10])\n",
        "cmap = sns.diverging_palette(220, 8, as_cmap=True)\n",
        "                             \n",
        "ax1 = sns.heatmap(correlationNonFraud, ax = ax1, vmin = -1, vmax = 1, cmap = cmap, square = False, linewidths = 0.5, cbar = False, annot = True)\n",
        "ax1.set_xticklabels(ax1.get_xticklabels(), size = 12)\n",
        "ax1.set_yticklabels(ax1.get_yticklabels(), size = 12)\n",
        "ax1.set_title('Genuine transactions', size = 16)\n",
        "\n",
        "ax2 = sns.heatmap(correlationFraud, ax = ax2, vmin = -1, vmax = 1, cmap = cmap, square = False, linewidths = 0.5, annot = True, \n",
        "                  yticklabels = False,  cbar_ax = cbar_ax, cbar_kws={'orientation': 'vertical',  'ticks': [-1, -0.5, 0, 0.5, 1]})\n",
        "ax2.set_xticklabels(ax2.get_xticklabels(), size = 12) \n",
        "ax2.set_title('Fraudulent transactions', size = 16)\n",
        "\n",
        "cbar_ax.set_yticklabels(cbar_ax.get_yticklabels(), size = 12)\n",
        "plt.show()"
      ],
      "execution_count": 91,
      "outputs": [
        {
          "output_type": "display_data",
          "data": {
            "image/png": "[encoded data removed]",
            "text/plain": [
              "<Figure size 1080x720 with 3 Axes>"
            ]
          },
          "metadata": {
            "tags": []
          }
        }
      ]
    },
    {
      "cell_type": "markdown",
      "metadata": {
        "id": "H6xraRMCavxm",
        "colab_type": "text"
      },
      "source": [
        "Observation:\n",
        "\n",
        "Genuine Data:\n",
        "\n",
        "trans_amount is highly correlated with errorBalanceSender.\n",
        "\n",
        "sender_old_bal is highly correlated with sender_new_bal.\n",
        "\n",
        "receiver_old_bal is highly correlated with receiver_new_bal.\n",
        "\n",
        "Fraudulent Data:\n",
        "\n",
        "trans_amount is highly correlated with sender_old_bal.\n",
        "\n",
        "sender_old_bal is moderately correlated with sender_new_bal.\n",
        "\n",
        "receiver_old_bal is moderately correlated with receiver_new_bal.\n",
        "\n",
        "errorBalanceReceiver is moderately correalted with sender_old_bal and trans_amount."
      ]
    },
    {
      "cell_type": "code",
      "metadata": {
        "id": "CqIlAV3xawya",
        "colab_type": "code",
        "colab": {
          "base_uri": "https://localhost:8080/",
          "height": 52
        },
        "outputId": "d47352b4-9199-4627-a133-83c22a17e4c2"
      },
      "source": [
        "# Data splitting\n",
        "X_train, X_test, y_train, y_test = train_test_split(X, y, test_size = 0.2, random_state = 42, stratify = y)\n",
        "\n",
        "print('Training Data Shape:', X_train.shape, y_train.shape)\n",
        "print('Testing Data Shape:', X_test.shape, y_test.shape)"
      ],
      "execution_count": 92,
      "outputs": [
        {
          "output_type": "stream",
          "text": [
            "Training Data Shape: (1169474, 9) (1169474,)\n",
            "Testing Data Shape: (292369, 9) (292369,)\n"
          ],
          "name": "stdout"
        }
      ]
    },
    {
      "cell_type": "markdown",
      "metadata": {
        "id": "5jnsAbvUa4sH",
        "colab_type": "text"
      },
      "source": [
        "As our data is highly imbalanced, a common approach of discarding the minority class data would be good but along with that our potential information will also get lost.\n",
        "\n",
        "An alternative would be oversampling the minority class using SMOTE (Synthetic Minority Oversampling Technique) present in python library known as imbalanced-learn.\n",
        "\n",
        "\n",
        "\n",
        "We will create a function that will plot precision-recall curve to evaluate our model performance."
      ]
    },
    {
      "cell_type": "code",
      "metadata": {
        "id": "NMTAGVW_a02d",
        "colab_type": "code",
        "colab": {}
      },
      "source": [
        "def PRCurve(model):\n",
        "  '''\n",
        "  A function to compute Precision Recall Curve\n",
        "  Data to fit must be training i.e. X_train, y_train\n",
        "  Data score will be estimated on X_test, y_test\n",
        "  '''\n",
        "  viz = PrecisionRecallCurve(model)\n",
        "  viz.fit(X_train, y_train)\n",
        "  avg_prec = viz.score(X_test, y_test)\n",
        "  plt.legend(labels = ['Binary PR Curve',\"AP=%.3f\"%avg_prec], loc = 'lower right', prop={'size': 14})\n",
        "  plt.xlabel(xlabel = 'Recall', size = 14)\n",
        "  plt.ylabel(ylabel = 'Precision', size = 14)\n",
        "  plt.title(label = 'Precision Recall Curve', size = 16)"
      ],
      "execution_count": 0,
      "outputs": []
    },
    {
      "cell_type": "code",
      "metadata": {
        "id": "oQ1xrBjQbKLN",
        "colab_type": "code",
        "colab": {
          "base_uri": "https://localhost:8080/",
          "height": 714
        },
        "outputId": "a9b78929-0301-457e-daa0-622013a5251e"
      },
      "source": [
        "# Have some patience, might take some time :)\n",
        "log  = LogisticRegression(random_state = 42)\n",
        "log.fit(X_train, y_train)\n",
        "y_pred = log.predict(X_test)\n",
        "\n",
        "print('Accuracy Score (Train Data):', np.round(log.score(X_train, y_train), decimals = 3))\n",
        "print('Accuracy Score (Test Data):', np.round(log.score(X_test, y_test), decimals = 3))\n",
        "\n",
        "base_logistic_report = classification_report(y_test, y_pred)\n",
        "print(base_logistic_report)\n",
        "\n",
        "plt.figure(figsize = [10, 8])\n",
        "PRCurve(model = log)\n",
        "plt.show()"
      ],
      "execution_count": 94,
      "outputs": [
        {
          "output_type": "stream",
          "text": [
            "Accuracy Score (Train Data): 0.994\n",
            "Accuracy Score (Test Data): 0.994\n",
            "              precision    recall  f1-score   support\n",
            "\n",
            "       False       1.00      1.00      1.00    290731\n",
            "        True       0.48      0.41      0.44      1638\n",
            "\n",
            "    accuracy                           0.99    292369\n",
            "   macro avg       0.74      0.70      0.72    292369\n",
            "weighted avg       0.99      0.99      0.99    292369\n",
            "\n"
          ],
          "name": "stdout"
        },
        {
          "output_type": "display_data",
          "data": {
            "image/png": "[encoded data removed]",
            "text/plain": [
              "<Figure size 720x576 with 1 Axes>"
            ]
          },
          "metadata": {
            "tags": []
          }
        }
      ]
    },
    {
      "cell_type": "code",
      "metadata": {
        "id": "tcXqftj8bNfo",
        "colab_type": "code",
        "colab": {
          "base_uri": "https://localhost:8080/",
          "height": 714
        },
        "outputId": "044788fd-2b3e-4bdf-bb84-f4763003e425"
      },
      "source": [
        "# Have some patience, might take some time :)\n",
        "dtc = DecisionTreeClassifier(random_state = 42, max_depth = 5)\n",
        "dtc.fit(X_train, y_train)\n",
        "y_pred = dtc.predict(X_test)\n",
        "\n",
        "print('Accuracy Score (Train Data):', np.round(dtc.score(X_train, y_train), decimals = 3))\n",
        "print('Accuracy Score (Test Data):', np.round(dtc.score(X_test, y_test), decimals = 3))\n",
        "\n",
        "base_decision_tree_report = classification_report(y_test, y_pred)\n",
        "print(base_decision_tree_report)\n",
        "\n",
        "plt.figure(figsize = [10, 8])\n",
        "PRCurve(model = dtc)\n",
        "plt.show()"
      ],
      "execution_count": 95,
      "outputs": [
        {
          "output_type": "stream",
          "text": [
            "Accuracy Score (Train Data): 0.998\n",
            "Accuracy Score (Test Data): 0.998\n",
            "              precision    recall  f1-score   support\n",
            "\n",
            "       False       1.00      1.00      1.00    290731\n",
            "        True       0.99      0.67      0.80      1638\n",
            "\n",
            "    accuracy                           1.00    292369\n",
            "   macro avg       0.99      0.84      0.90    292369\n",
            "weighted avg       1.00      1.00      1.00    292369\n",
            "\n"
          ],
          "name": "stdout"
        },
        {
          "output_type": "display_data",
          "data": {
            "image/png": "[encoded data removed]",
            "text/plain": [
              "<Figure size 720x576 with 1 Axes>"
            ]
          },
          "metadata": {
            "tags": []
          }
        }
      ]
    },
    {
      "cell_type": "code",
      "metadata": {
        "id": "9zh0d5JSbTZb",
        "colab_type": "code",
        "colab": {
          "base_uri": "https://localhost:8080/",
          "height": 714
        },
        "outputId": "c0072022-be92-4301-f63c-752e33fe264b"
      },
      "source": [
        "# Have some patience, might take some time :)\n",
        "rfc = RandomForestClassifier(n_estimators = 100, max_depth = 5, random_state = 42, n_jobs = -1)\n",
        "rfc.fit(X_train, y_train)\n",
        "y_pred = rfc.predict(X_test)\n",
        "\n",
        "print('Accuracy Score (Train Data):', np.round(rfc.score(X_train, y_train), decimals = 3))\n",
        "print('Accuracy Score (Test Data):', np.round(rfc.score(X_test, y_test), decimals = 3))\n",
        "\n",
        "base_random_forest_report = classification_report(y_test, y_pred)\n",
        "print(base_random_forest_report)\n",
        "\n",
        "plt.figure(figsize = [10, 8])\n",
        "PRCurve(model = rfc)\n",
        "plt.show()"
      ],
      "execution_count": 96,
      "outputs": [
        {
          "output_type": "stream",
          "text": [
            "Accuracy Score (Train Data): 0.998\n",
            "Accuracy Score (Test Data): 0.998\n",
            "              precision    recall  f1-score   support\n",
            "\n",
            "       False       1.00      1.00      1.00    290731\n",
            "        True       1.00      0.68      0.81      1638\n",
            "\n",
            "    accuracy                           1.00    292369\n",
            "   macro avg       1.00      0.84      0.90    292369\n",
            "weighted avg       1.00      1.00      1.00    292369\n",
            "\n"
          ],
          "name": "stdout"
        },
        {
          "output_type": "display_data",
          "data": {
            "image/png": "[encoded data removed]",
            "text/plain": [
              "<Figure size 720x576 with 1 Axes>"
            ]
          },
          "metadata": {
            "tags": []
          }
        }
      ]
    },
    {
      "cell_type": "markdown",
      "metadata": {
        "id": "WQfYZmKpjJx_",
        "colab_type": "text"
      },
      "source": [
        "**Observation:\n",
        "\n",
        "Precision for minority class has improved but the recall is still low.\n",
        "F1 score for minority class has also improved but still not good.\n",
        "Average precision has imporoved significantly to 100%.\n",
        "But we will see if we can further improve this development.\n",
        "In next part we shall observe how XGBoost will work.**"
      ]
    },
    {
      "cell_type": "code",
      "metadata": {
        "id": "yGbxqPb0glTn",
        "colab_type": "code",
        "colab": {
          "base_uri": "https://localhost:8080/",
          "height": 714
        },
        "outputId": "e77d6cf5-b84c-467c-9122-96040288b138"
      },
      "source": [
        "\n",
        "base_clf = XGBClassifier(max_depth = 5, n_jobs = -1, random_state = 42)\n",
        "base_clf.fit(X_train, y_train)\n",
        "y_pred = base_clf.predict(X_test)\n",
        "\n",
        "print('Accuracy Score (Train Data):', np.round(base_clf.score(X_train, y_train), decimals = 3))\n",
        "print('Accuracy Score (Test Data):', np.round(base_clf.score(X_test, y_test), decimals = 3))\n",
        "\n",
        "base_XGB_report = classification_report(y_test, y_pred)\n",
        "print(base_XGB_report)\n",
        "\n",
        "plt.figure(figsize = [10, 8])\n",
        "PRCurve(model = base_clf)\n",
        "plt.show()"
      ],
      "execution_count": 97,
      "outputs": [
        {
          "output_type": "stream",
          "text": [
            "Accuracy Score (Train Data): 1.0\n",
            "Accuracy Score (Test Data): 1.0\n",
            "              precision    recall  f1-score   support\n",
            "\n",
            "       False       1.00      1.00      1.00    290731\n",
            "        True       1.00      1.00      1.00      1638\n",
            "\n",
            "    accuracy                           1.00    292369\n",
            "   macro avg       1.00      1.00      1.00    292369\n",
            "weighted avg       1.00      1.00      1.00    292369\n",
            "\n"
          ],
          "name": "stdout"
        },
        {
          "output_type": "display_data",
          "data": {
            "image/png": "[encoded data removed]",
            "text/plain": [
              "<Figure size 720x576 with 1 Axes>"
            ]
          },
          "metadata": {
            "tags": []
          }
        }
      ]
    }
  ]
}